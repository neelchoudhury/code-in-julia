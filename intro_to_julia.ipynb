{
 "cells": [
  {
   "cell_type": "markdown",
   "metadata": {},
   "source": [
    "# Julia\n",
    "\n",
    "Julia is a high-level, high-performance, dynamic programming language. While is it a general purpose language and can be used to write any application, many of its features are well-suited for numerical analysis and computational science.\n",
    "\n",
    "This Notebook follows the Julia tutorial by Jane Herriman on [YouTube](https://www.youtube.com/watch?v=4igzy3bGVkQ&ab_channel=TheJuliaProgrammingLanguage)\n",
    "\n",
    "Visit [JuliaLang](http://julialang.org/) to download Julia."
   ]
  },
  {
   "cell_type": "markdown",
   "metadata": {},
   "source": [
    "## Getting Started\n",
    "\n",
    "Let us start with printing `Hello World!` to the console."
   ]
  },
  {
   "cell_type": "code",
   "execution_count": 1,
   "metadata": {},
   "outputs": [
    {
     "name": "stdout",
     "output_type": "stream",
     "text": [
      "Hello World!\n"
     ]
    }
   ],
   "source": [
    "println(\"Hello World!\")"
   ]
  },
  {
   "cell_type": "markdown",
   "metadata": {},
   "source": [
    "### Variables\n",
    "\n",
    "Variables are dynamically typed.\n",
    "\n",
    "The `typeof` function can be used to check for the varibale types."
   ]
  },
  {
   "cell_type": "code",
   "execution_count": 3,
   "metadata": {},
   "outputs": [
    {
     "data": {
      "text/plain": [
       "Int64"
      ]
     },
     "execution_count": 3,
     "metadata": {},
     "output_type": "execute_result"
    }
   ],
   "source": [
    "my_ans = 42\n",
    "typeof(my_ans)"
   ]
  },
  {
   "cell_type": "code",
   "execution_count": 7,
   "metadata": {},
   "outputs": [
    {
     "data": {
      "text/plain": [
       "Float64"
      ]
     },
     "execution_count": 7,
     "metadata": {},
     "output_type": "execute_result"
    }
   ],
   "source": [
    "my_pi = 3.14\n",
    "typeof(my_pi)"
   ]
  },
  {
   "cell_type": "markdown",
   "metadata": {},
   "source": [
    "### Comments\n",
    "\n",
    "Single & Multi-line comments can be declared as follows"
   ]
  },
  {
   "cell_type": "code",
   "execution_count": 4,
   "metadata": {},
   "outputs": [],
   "source": [
    "# Single line comment"
   ]
  },
  {
   "cell_type": "code",
   "execution_count": 5,
   "metadata": {},
   "outputs": [],
   "source": [
    "#=\n",
    "    Multi-line comment\n",
    "=#"
   ]
  },
  {
   "cell_type": "markdown",
   "metadata": {},
   "source": [
    "### Mathematical Operations\n",
    "\n",
    "Common mathematical operations are defined below. Notice the difference in the `^` (power) operator from Python where `**` is used."
   ]
  },
  {
   "cell_type": "code",
   "execution_count": 8,
   "metadata": {},
   "outputs": [
    {
     "data": {
      "text/plain": [
       "5"
      ]
     },
     "execution_count": 8,
     "metadata": {},
     "output_type": "execute_result"
    }
   ],
   "source": [
    "sum = 2+3"
   ]
  },
  {
   "cell_type": "code",
   "execution_count": 9,
   "metadata": {},
   "outputs": [
    {
     "data": {
      "text/plain": [
       "6"
      ]
     },
     "execution_count": 9,
     "metadata": {},
     "output_type": "execute_result"
    }
   ],
   "source": [
    "prod = 2*3"
   ]
  },
  {
   "cell_type": "code",
   "execution_count": 10,
   "metadata": {},
   "outputs": [
    {
     "data": {
      "text/plain": [
       "-1"
      ]
     },
     "execution_count": 10,
     "metadata": {},
     "output_type": "execute_result"
    }
   ],
   "source": [
    "subs = 2-3"
   ]
  },
  {
   "cell_type": "code",
   "execution_count": 11,
   "metadata": {},
   "outputs": [
    {
     "data": {
      "text/plain": [
       "8"
      ]
     },
     "execution_count": 11,
     "metadata": {},
     "output_type": "execute_result"
    }
   ],
   "source": [
    "pow = 2^3"
   ]
  },
  {
   "cell_type": "code",
   "execution_count": 12,
   "metadata": {},
   "outputs": [
    {
     "data": {
      "text/plain": [
       "0.6666666666666666"
      ]
     },
     "execution_count": 12,
     "metadata": {},
     "output_type": "execute_result"
    }
   ],
   "source": [
    "div = 2/3"
   ]
  },
  {
   "cell_type": "code",
   "execution_count": 13,
   "metadata": {},
   "outputs": [
    {
     "data": {
      "text/plain": [
       "2"
      ]
     },
     "execution_count": 13,
     "metadata": {},
     "output_type": "execute_result"
    }
   ],
   "source": [
    "mod = 2%3"
   ]
  },
  {
   "cell_type": "markdown",
   "metadata": {},
   "source": [
    "## Strings\n",
    "\n",
    "Strings are declared with `\" \"` (double quotes). Like in Java, C/C++ and unlike Python `' '` (single quotes) are used to declare characters in Julia."
   ]
  },
  {
   "cell_type": "code",
   "execution_count": 17,
   "metadata": {},
   "outputs": [
    {
     "data": {
      "text/plain": [
       "\"This is a string\""
      ]
     },
     "execution_count": 17,
     "metadata": {},
     "output_type": "execute_result"
    }
   ],
   "source": [
    "s1 = \"This is a string\""
   ]
  },
  {
   "cell_type": "code",
   "execution_count": 16,
   "metadata": {},
   "outputs": [
    {
     "data": {
      "text/plain": [
       "\"This is also a string\""
      ]
     },
     "execution_count": 16,
     "metadata": {},
     "output_type": "execute_result"
    }
   ],
   "source": [
    "s2 = \"\"\"This is also a string\"\"\""
   ]
  },
  {
   "cell_type": "code",
   "execution_count": 19,
   "metadata": {},
   "outputs": [
    {
     "data": {
      "text/plain": [
       "Char"
      ]
     },
     "execution_count": 19,
     "metadata": {},
     "output_type": "execute_result"
    }
   ],
   "source": [
    "typeof('a')"
   ]
  },
  {
   "cell_type": "code",
   "execution_count": 20,
   "metadata": {},
   "outputs": [
    {
     "data": {
      "text/plain": [
       "String"
      ]
     },
     "execution_count": 20,
     "metadata": {},
     "output_type": "execute_result"
    }
   ],
   "source": [
    "typeof(\"A string\")"
   ]
  },
  {
   "cell_type": "markdown",
   "metadata": {},
   "source": [
    "### String Interpolation"
   ]
  },
  {
   "cell_type": "code",
   "execution_count": 22,
   "metadata": {},
   "outputs": [
    {
     "name": "stdout",
     "output_type": "stream",
     "text": [
      "Hello, I am Neel\n",
      "I have 10 fingers & 10 toes. The total number of finegrs & toes is 20.\n"
     ]
    }
   ],
   "source": [
    "name = \"Neel\"\n",
    "\n",
    "num_fingers = 10\n",
    "num_toes = 10\n",
    "\n",
    "println(\"Hello, I am $name\")\n",
    "println(\"I have $num_fingers fingers & $num_toes toes. The total number of finegrs & toes is $(num_fingers + num_toes).\")"
   ]
  },
  {
   "cell_type": "code",
   "execution_count": 23,
   "metadata": {},
   "outputs": [
    {
     "data": {
      "text/plain": [
       "\"Sum thisup\""
      ]
     },
     "execution_count": 23,
     "metadata": {},
     "output_type": "execute_result"
    }
   ],
   "source": [
    "string(\"Sum this\", \"up\")"
   ]
  },
  {
   "cell_type": "code",
   "execution_count": 24,
   "metadata": {},
   "outputs": [
    {
     "data": {
      "text/plain": [
       "\"This are 8 planets in the sky\""
      ]
     },
     "execution_count": 24,
     "metadata": {},
     "output_type": "execute_result"
    }
   ],
   "source": [
    "string(\"This are \", 8, \" planets in the sky\")"
   ]
  },
  {
   "cell_type": "code",
   "execution_count": 25,
   "metadata": {},
   "outputs": [
    {
     "name": "stdout",
     "output_type": "stream",
     "text": [
      "there are 8 planets\n"
     ]
    }
   ],
   "source": [
    "println(\"there are \", 8, \" planets\")"
   ]
  },
  {
   "cell_type": "code",
   "execution_count": 26,
   "metadata": {},
   "outputs": [
    {
     "data": {
      "text/plain": [
       "\"sum this up\""
      ]
     },
     "execution_count": 26,
     "metadata": {},
     "output_type": "execute_result"
    }
   ],
   "source": [
    "\"sum \"*\"this up\""
   ]
  },
  {
   "cell_type": "markdown",
   "metadata": {},
   "source": [
    "## Data Structures\n",
    "\n",
    "The following Data Structures are explored here - \n",
    "* Dictionaries\n",
    "* Tuples\n",
    "* Arrays\n"
   ]
  },
  {
   "cell_type": "markdown",
   "metadata": {},
   "source": [
    "### Dictionaries\n",
    "\n",
    "Dictionaries are unordered, mutable Key-Value stores."
   ]
  },
  {
   "cell_type": "code",
   "execution_count": 27,
   "metadata": {},
   "outputs": [
    {
     "data": {
      "text/plain": [
       "Dict{String,Int64} with 2 entries:\n",
       "  \"b\" => 2\n",
       "  \"a\" => 1"
      ]
     },
     "execution_count": 27,
     "metadata": {},
     "output_type": "execute_result"
    }
   ],
   "source": [
    "dict = Dict(\"a\" => 1, \"b\" => 2)"
   ]
  },
  {
   "cell_type": "code",
   "execution_count": 28,
   "metadata": {},
   "outputs": [
    {
     "data": {
      "text/plain": [
       "3"
      ]
     },
     "execution_count": 28,
     "metadata": {},
     "output_type": "execute_result"
    }
   ],
   "source": [
    "dict[\"c\"] = 3"
   ]
  },
  {
   "cell_type": "code",
   "execution_count": 30,
   "metadata": {},
   "outputs": [
    {
     "data": {
      "text/plain": [
       "Dict{String,Int64} with 3 entries:\n",
       "  \"c\" => 3\n",
       "  \"b\" => 2\n",
       "  \"a\" => 1"
      ]
     },
     "execution_count": 30,
     "metadata": {},
     "output_type": "execute_result"
    }
   ],
   "source": [
    "dict"
   ]
  },
  {
   "cell_type": "code",
   "execution_count": 31,
   "metadata": {},
   "outputs": [
    {
     "data": {
      "text/plain": [
       "2"
      ]
     },
     "execution_count": 31,
     "metadata": {},
     "output_type": "execute_result"
    }
   ],
   "source": [
    "dict[\"b\"]"
   ]
  },
  {
   "cell_type": "code",
   "execution_count": 33,
   "metadata": {},
   "outputs": [
    {
     "data": {
      "text/plain": [
       "3"
      ]
     },
     "execution_count": 33,
     "metadata": {},
     "output_type": "execute_result"
    }
   ],
   "source": [
    "pop!(dict, \"c\")"
   ]
  },
  {
   "cell_type": "code",
   "execution_count": 34,
   "metadata": {},
   "outputs": [
    {
     "data": {
      "text/plain": [
       "Dict{String,Int64} with 2 entries:\n",
       "  \"b\" => 2\n",
       "  \"a\" => 1"
      ]
     },
     "execution_count": 34,
     "metadata": {},
     "output_type": "execute_result"
    }
   ],
   "source": [
    "dict"
   ]
  },
  {
   "cell_type": "markdown",
   "metadata": {},
   "source": [
    "### Tuples\n",
    "\n",
    "Tuples are ordered, immutable Data Structures"
   ]
  },
  {
   "cell_type": "code",
   "execution_count": 35,
   "metadata": {},
   "outputs": [
    {
     "data": {
      "text/plain": [
       "(\"Tiger\", \"lion\", \"dog\")"
      ]
     },
     "execution_count": 35,
     "metadata": {},
     "output_type": "execute_result"
    }
   ],
   "source": [
    "animals = (\"Tiger\", \"lion\", \"dog\")"
   ]
  },
  {
   "cell_type": "code",
   "execution_count": 37,
   "metadata": {},
   "outputs": [
    {
     "data": {
      "text/plain": [
       "\"Tiger\""
      ]
     },
     "execution_count": 37,
     "metadata": {},
     "output_type": "execute_result"
    }
   ],
   "source": [
    "# Julia is 1-ordered\n",
    "animals[1]"
   ]
  },
  {
   "cell_type": "code",
   "execution_count": 38,
   "metadata": {},
   "outputs": [
    {
     "ename": "LoadError",
     "evalue": "MethodError: no method matching setindex!(::Tuple{String,String,String}, ::String, ::Int64)",
     "output_type": "error",
     "traceback": [
      "MethodError: no method matching setindex!(::Tuple{String,String,String}, ::String, ::Int64)",
      "",
      "Stacktrace:",
      " [1] top-level scope at In[38]:1",
      " [2] include_string(::Function, ::Module, ::String, ::String) at .\\loading.jl:1091"
     ]
    }
   ],
   "source": [
    "animals[1] = \"cat\""
   ]
  },
  {
   "cell_type": "code",
   "execution_count": 39,
   "metadata": {},
   "outputs": [],
   "source": [
    "# Tuples are immutable"
   ]
  },
  {
   "cell_type": "markdown",
   "metadata": {},
   "source": [
    "### Arrays\n",
    "\n",
    "Arrays are ordered, mutable Data Structures"
   ]
  },
  {
   "cell_type": "code",
   "execution_count": 41,
   "metadata": {},
   "outputs": [
    {
     "data": {
      "text/plain": [
       "5-element Array{String,1}:\n",
       " \"a\"\n",
       " \"b\"\n",
       " \"c\"\n",
       " \"d\"\n",
       " \"e\""
      ]
     },
     "execution_count": 41,
     "metadata": {},
     "output_type": "execute_result"
    }
   ],
   "source": [
    "arr = [\"a\", \"b\", \"c\", \"d\", \"e\"]"
   ]
  },
  {
   "cell_type": "code",
   "execution_count": 42,
   "metadata": {},
   "outputs": [
    {
     "data": {
      "text/plain": [
       "8-element Array{Int64,1}:\n",
       "  0\n",
       "  1\n",
       "  1\n",
       "  2\n",
       "  3\n",
       "  5\n",
       "  8\n",
       " 13"
      ]
     },
     "execution_count": 42,
     "metadata": {},
     "output_type": "execute_result"
    }
   ],
   "source": [
    "fib = [0,1,1,2,3,5,8,13]"
   ]
  },
  {
   "cell_type": "code",
   "execution_count": 52,
   "metadata": {},
   "outputs": [
    {
     "data": {
      "text/plain": [
       "4-element Array{Any,1}:\n",
       " [1, 2, 3]\n",
       " [4, 5, 6, 7]\n",
       " [\"Neel\", \"Jishu\"]\n",
       " \"Bingo\""
      ]
     },
     "execution_count": 52,
     "metadata": {},
     "output_type": "execute_result"
    }
   ],
   "source": [
    "d2_arr = [[1,2,3], [4,5,6,7], [\"Neel\", \"Jishu\"], \"Bingo\"]"
   ]
  },
  {
   "cell_type": "code",
   "execution_count": 44,
   "metadata": {},
   "outputs": [
    {
     "data": {
      "text/plain": [
       "3-element Array{Any,1}:\n",
       " 1\n",
       " 2\n",
       "  \"Neel\""
      ]
     },
     "execution_count": 44,
     "metadata": {},
     "output_type": "execute_result"
    }
   ],
   "source": [
    "mul_type_array = [1,2,\"Neel\"]"
   ]
  },
  {
   "cell_type": "code",
   "execution_count": 45,
   "metadata": {},
   "outputs": [
    {
     "data": {
      "text/plain": [
       "\"Neel Choudhury\""
      ]
     },
     "execution_count": 45,
     "metadata": {},
     "output_type": "execute_result"
    }
   ],
   "source": [
    "mul_type_array[2] = \"Neel Choudhury\""
   ]
  },
  {
   "cell_type": "code",
   "execution_count": 46,
   "metadata": {},
   "outputs": [
    {
     "data": {
      "text/plain": [
       "9-element Array{Int64,1}:\n",
       "  0\n",
       "  1\n",
       "  1\n",
       "  2\n",
       "  3\n",
       "  5\n",
       "  8\n",
       " 13\n",
       " 21"
      ]
     },
     "execution_count": 46,
     "metadata": {},
     "output_type": "execute_result"
    }
   ],
   "source": [
    "push!(fib, 21)"
   ]
  },
  {
   "cell_type": "code",
   "execution_count": 47,
   "metadata": {},
   "outputs": [
    {
     "data": {
      "text/plain": [
       "21"
      ]
     },
     "execution_count": 47,
     "metadata": {},
     "output_type": "execute_result"
    }
   ],
   "source": [
    "pop!(fib)"
   ]
  },
  {
   "cell_type": "code",
   "execution_count": 48,
   "metadata": {},
   "outputs": [
    {
     "data": {
      "text/plain": [
       "8-element Array{Int64,1}:\n",
       "  0\n",
       "  1\n",
       "  1\n",
       "  2\n",
       "  3\n",
       "  5\n",
       "  8\n",
       " 13"
      ]
     },
     "execution_count": 48,
     "metadata": {},
     "output_type": "execute_result"
    }
   ],
   "source": [
    "fib"
   ]
  },
  {
   "cell_type": "code",
   "execution_count": 49,
   "metadata": {},
   "outputs": [
    {
     "data": {
      "text/plain": [
       "4×3 Array{Float64,2}:\n",
       " 0.208929  0.364746    0.284943\n",
       " 0.346027  0.862183    0.950509\n",
       " 0.752386  0.397018    0.313038\n",
       " 0.780579  0.00201981  0.05019"
      ]
     },
     "execution_count": 49,
     "metadata": {},
     "output_type": "execute_result"
    }
   ],
   "source": [
    "rand(4,3)"
   ]
  },
  {
   "cell_type": "code",
   "execution_count": 50,
   "metadata": {},
   "outputs": [
    {
     "data": {
      "text/plain": [
       "4×3×2 Array{Float64,3}:\n",
       "[:, :, 1] =\n",
       " 0.32576   0.192735  0.584317\n",
       " 0.102557  0.994752  0.738963\n",
       " 0.586068  0.430404  0.294665\n",
       " 0.318807  0.060335  0.479048\n",
       "\n",
       "[:, :, 2] =\n",
       " 0.662656  0.67047    0.716035\n",
       " 0.108498  0.836047   0.508523\n",
       " 0.402286  0.583053   0.899957\n",
       " 0.912903  0.0122273  0.914356"
      ]
     },
     "execution_count": 50,
     "metadata": {},
     "output_type": "execute_result"
    }
   ],
   "source": [
    "rand(4,3,2)"
   ]
  },
  {
   "cell_type": "markdown",
   "metadata": {},
   "source": [
    "## Loops"
   ]
  },
  {
   "cell_type": "markdown",
   "metadata": {},
   "source": [
    "### while loop\n"
   ]
  },
  {
   "cell_type": "code",
   "execution_count": 53,
   "metadata": {},
   "outputs": [
    {
     "name": "stdout",
     "output_type": "stream",
     "text": [
      "0\n",
      "1\n",
      "2\n",
      "3\n",
      "4\n",
      "5\n",
      "6\n",
      "7\n",
      "8\n",
      "9\n"
     ]
    }
   ],
   "source": [
    "n = 0\n",
    "while n < 10\n",
    "    println(n)\n",
    "    n += 1\n",
    "end"
   ]
  },
  {
   "cell_type": "code",
   "execution_count": 58,
   "metadata": {},
   "outputs": [
    {
     "name": "stdout",
     "output_type": "stream",
     "text": [
      "The 1 Fibonacci number is: 0\n",
      "The 2 Fibonacci number is: 1\n",
      "The 3 Fibonacci number is: 1\n",
      "The 4 Fibonacci number is: 2\n",
      "The 5 Fibonacci number is: 3\n",
      "The 6 Fibonacci number is: 5\n",
      "The 7 Fibonacci number is: 8\n",
      "The 8 Fibonacci number is: 13\n"
     ]
    }
   ],
   "source": [
    "i = 1\n",
    "while i <= length(fib)\n",
    "    println(\"The $i Fibonacci number is: $(fib[i])\")\n",
    "    i += 1\n",
    "end"
   ]
  },
  {
   "cell_type": "markdown",
   "metadata": {},
   "source": [
    "### for loop"
   ]
  },
  {
   "cell_type": "code",
   "execution_count": 61,
   "metadata": {},
   "outputs": [
    {
     "name": "stdout",
     "output_type": "stream",
     "text": [
      "1\n",
      "2\n",
      "3\n",
      "4\n",
      "5\n",
      "6\n",
      "7\n",
      "8\n",
      "9\n",
      "10\n"
     ]
    }
   ],
   "source": [
    "for n in 1:10\n",
    "    println(n)\n",
    "end"
   ]
  },
  {
   "cell_type": "code",
   "execution_count": 64,
   "metadata": {},
   "outputs": [
    {
     "name": "stdout",
     "output_type": "stream",
     "text": [
      "The 1 Fibonacci number is: 0\n",
      "The 2 Fibonacci number is: 1\n",
      "The 3 Fibonacci number is: 1\n",
      "The 4 Fibonacci number is: 2\n",
      "The 5 Fibonacci number is: 3\n",
      "The 6 Fibonacci number is: 5\n",
      "The 7 Fibonacci number is: 8\n",
      "The 8 Fibonacci number is: 13\n"
     ]
    }
   ],
   "source": [
    "for i in 1:length(fib)\n",
    "    println(\"The $i Fibonacci number is: $(fib[i])\")\n",
    "    i += 1\n",
    "end"
   ]
  },
  {
   "cell_type": "markdown",
   "metadata": {},
   "source": [
    "Addition Table"
   ]
  },
  {
   "cell_type": "code",
   "execution_count": 66,
   "metadata": {},
   "outputs": [
    {
     "data": {
      "text/plain": [
       "5×5 Array{Float64,2}:\n",
       " 0.0  0.0  0.0  0.0  0.0\n",
       " 0.0  0.0  0.0  0.0  0.0\n",
       " 0.0  0.0  0.0  0.0  0.0\n",
       " 0.0  0.0  0.0  0.0  0.0\n",
       " 0.0  0.0  0.0  0.0  0.0"
      ]
     },
     "execution_count": 66,
     "metadata": {},
     "output_type": "execute_result"
    }
   ],
   "source": [
    "m = 5\n",
    "n = 5\n",
    "A = zeros(m,n)"
   ]
  },
  {
   "cell_type": "code",
   "execution_count": 68,
   "metadata": {},
   "outputs": [],
   "source": [
    "for i in 1:m\n",
    "    for j in 1:n\n",
    "        A[i, j] = i + j\n",
    "    end\n",
    "end"
   ]
  },
  {
   "cell_type": "code",
   "execution_count": 70,
   "metadata": {},
   "outputs": [
    {
     "data": {
      "text/plain": [
       "5×5 Array{Float64,2}:\n",
       " 2.0  3.0  4.0  5.0   6.0\n",
       " 3.0  4.0  5.0  6.0   7.0\n",
       " 4.0  5.0  6.0  7.0   8.0\n",
       " 5.0  6.0  7.0  8.0   9.0\n",
       " 6.0  7.0  8.0  9.0  10.0"
      ]
     },
     "execution_count": 70,
     "metadata": {},
     "output_type": "execute_result"
    }
   ],
   "source": [
    "A"
   ]
  },
  {
   "cell_type": "code",
   "execution_count": 71,
   "metadata": {},
   "outputs": [
    {
     "data": {
      "text/plain": [
       "5×5 Array{Float64,2}:\n",
       " 0.0  0.0  0.0  0.0  0.0\n",
       " 0.0  0.0  0.0  0.0  0.0\n",
       " 0.0  0.0  0.0  0.0  0.0\n",
       " 0.0  0.0  0.0  0.0  0.0\n",
       " 0.0  0.0  0.0  0.0  0.0"
      ]
     },
     "execution_count": 71,
     "metadata": {},
     "output_type": "execute_result"
    }
   ],
   "source": [
    "B = zeros(m,n)"
   ]
  },
  {
   "cell_type": "code",
   "execution_count": 76,
   "metadata": {},
   "outputs": [
    {
     "ename": "LoadError",
     "evalue": "syntax: invalid iteration specification",
     "output_type": "error",
     "traceback": [
      "syntax: invalid iteration specification",
      "",
      "Stacktrace:",
      " [1] top-level scope at In[76]:4",
      " [2] include_string(::Function, ::Module, ::String, ::String) at .\\loading.jl:1091"
     ]
    }
   ],
   "source": [
    "#= \n",
    "for i in 1:m, for j in 1:n\n",
    "    B[i, j] = i + j\n",
    "end\n",
    "B \n",
    "=#   \n",
    "\n",
    "# The above didnt work"
   ]
  },
  {
   "cell_type": "code",
   "execution_count": 77,
   "metadata": {},
   "outputs": [
    {
     "ename": "LoadError",
     "evalue": "syntax: invalid iteration specification",
     "output_type": "error",
     "traceback": [
      "syntax: invalid iteration specification",
      "",
      "Stacktrace:",
      " [1] top-level scope at In[77]:4",
      " [2] include_string(::Function, ::Module, ::String, ::String) at .\\loading.jl:1091"
     ]
    }
   ],
   "source": [
    "#=\n",
    "for i in 1:m, for j in 1:n\n",
    "        B[i, j] = i + j\n",
    "    end\n",
    "end\n",
    "=#\n",
    "\n",
    "# That also didnt work"
   ]
  },
  {
   "cell_type": "code",
   "execution_count": 78,
   "metadata": {},
   "outputs": [
    {
     "data": {
      "text/plain": [
       "5×5 Array{Int64,2}:\n",
       " 2  3  4  5   6\n",
       " 3  4  5  6   7\n",
       " 4  5  6  7   8\n",
       " 5  6  7  8   9\n",
       " 6  7  8  9  10"
      ]
     },
     "execution_count": 78,
     "metadata": {},
     "output_type": "execute_result"
    }
   ],
   "source": [
    "[i + j for i in 1:m, j in 1:n]"
   ]
  },
  {
   "cell_type": "code",
   "execution_count": 79,
   "metadata": {},
   "outputs": [
    {
     "data": {
      "text/plain": [
       "1×1 Array{Int64,2}:\n",
       " 2"
      ]
     },
     "metadata": {},
     "output_type": "display_data"
    },
    {
     "data": {
      "text/plain": [
       "2×2 Array{Int64,2}:\n",
       " 2  3\n",
       " 3  4"
      ]
     },
     "metadata": {},
     "output_type": "display_data"
    },
    {
     "data": {
      "text/plain": [
       "3×3 Array{Int64,2}:\n",
       " 2  3  4\n",
       " 3  4  5\n",
       " 4  5  6"
      ]
     },
     "metadata": {},
     "output_type": "display_data"
    },
    {
     "data": {
      "text/plain": [
       "4×4 Array{Int64,2}:\n",
       " 2  3  4  5\n",
       " 3  4  5  6\n",
       " 4  5  6  7\n",
       " 5  6  7  8"
      ]
     },
     "metadata": {},
     "output_type": "display_data"
    },
    {
     "data": {
      "text/plain": [
       "5×5 Array{Int64,2}:\n",
       " 2  3  4  5   6\n",
       " 3  4  5  6   7\n",
       " 4  5  6  7   8\n",
       " 5  6  7  8   9\n",
       " 6  7  8  9  10"
      ]
     },
     "metadata": {},
     "output_type": "display_data"
    },
    {
     "data": {
      "text/plain": [
       "6×6 Array{Int64,2}:\n",
       " 2  3  4   5   6   7\n",
       " 3  4  5   6   7   8\n",
       " 4  5  6   7   8   9\n",
       " 5  6  7   8   9  10\n",
       " 6  7  8   9  10  11\n",
       " 7  8  9  10  11  12"
      ]
     },
     "metadata": {},
     "output_type": "display_data"
    },
    {
     "data": {
      "text/plain": [
       "7×7 Array{Int64,2}:\n",
       " 2  3   4   5   6   7   8\n",
       " 3  4   5   6   7   8   9\n",
       " 4  5   6   7   8   9  10\n",
       " 5  6   7   8   9  10  11\n",
       " 6  7   8   9  10  11  12\n",
       " 7  8   9  10  11  12  13\n",
       " 8  9  10  11  12  13  14"
      ]
     },
     "metadata": {},
     "output_type": "display_data"
    },
    {
     "data": {
      "text/plain": [
       "8×8 Array{Int64,2}:\n",
       " 2   3   4   5   6   7   8   9\n",
       " 3   4   5   6   7   8   9  10\n",
       " 4   5   6   7   8   9  10  11\n",
       " 5   6   7   8   9  10  11  12\n",
       " 6   7   8   9  10  11  12  13\n",
       " 7   8   9  10  11  12  13  14\n",
       " 8   9  10  11  12  13  14  15\n",
       " 9  10  11  12  13  14  15  16"
      ]
     },
     "metadata": {},
     "output_type": "display_data"
    },
    {
     "data": {
      "text/plain": [
       "9×9 Array{Int64,2}:\n",
       "  2   3   4   5   6   7   8   9  10\n",
       "  3   4   5   6   7   8   9  10  11\n",
       "  4   5   6   7   8   9  10  11  12\n",
       "  5   6   7   8   9  10  11  12  13\n",
       "  6   7   8   9  10  11  12  13  14\n",
       "  7   8   9  10  11  12  13  14  15\n",
       "  8   9  10  11  12  13  14  15  16\n",
       "  9  10  11  12  13  14  15  16  17\n",
       " 10  11  12  13  14  15  16  17  18"
      ]
     },
     "metadata": {},
     "output_type": "display_data"
    },
    {
     "data": {
      "text/plain": [
       "10×10 Array{Int64,2}:\n",
       "  2   3   4   5   6   7   8   9  10  11\n",
       "  3   4   5   6   7   8   9  10  11  12\n",
       "  4   5   6   7   8   9  10  11  12  13\n",
       "  5   6   7   8   9  10  11  12  13  14\n",
       "  6   7   8   9  10  11  12  13  14  15\n",
       "  7   8   9  10  11  12  13  14  15  16\n",
       "  8   9  10  11  12  13  14  15  16  17\n",
       "  9  10  11  12  13  14  15  16  17  18\n",
       " 10  11  12  13  14  15  16  17  18  19\n",
       " 11  12  13  14  15  16  17  18  19  20"
      ]
     },
     "metadata": {},
     "output_type": "display_data"
    }
   ],
   "source": [
    "for n in 1:10\n",
    "    A = [i + j for i in 1:n, j in 1:n]\n",
    "    display(A)\n",
    "end"
   ]
  },
  {
   "cell_type": "code",
   "execution_count": 83,
   "metadata": {},
   "outputs": [
    {
     "name": "stdout",
     "output_type": "stream",
     "text": [
      "[2]\n",
      "[2 3; 3 4]\n",
      "[2 3 4; 3 4 5; 4 5 6]\n",
      "[2 3 4 5; 3 4 5 6; 4 5 6 7; 5 6 7 8]\n",
      "[2 3 4 5 6; 3 4 5 6 7; 4 5 6 7 8; 5 6 7 8 9; 6 7 8 9 10]\n",
      "[2 3 4 5 6 7; 3 4 5 6 7 8; 4 5 6 7 8 9; 5 6 7 8 9 10; 6 7 8 9 10 11; 7 8 9 10 11 12]\n",
      "[2 3 4 5 6 7 8; 3 4 5 6 7 8 9; 4 5 6 7 8 9 10; 5 6 7 8 9 10 11; 6 7 8 9 10 11 12; 7 8 9 10 11 12 13; 8 9 10 11 12 13 14]\n",
      "[2 3 4 5 6 7 8 9; 3 4 5 6 7 8 9 10; 4 5 6 7 8 9 10 11; 5 6 7 8 9 10 11 12; 6 7 8 9 10 11 12 13; 7 8 9 10 11 12 13 14; 8 9 10 11 12 13 14 15; 9 10 11 12 13 14 15 16]\n",
      "[2 3 4 5 6 7 8 9 10; 3 4 5 6 7 8 9 10 11; 4 5 6 7 8 9 10 11 12; 5 6 7 8 9 10 11 12 13; 6 7 8 9 10 11 12 13 14; 7 8 9 10 11 12 13 14 15; 8 9 10 11 12 13 14 15 16; 9 10 11 12 13 14 15 16 17; 10 11 12 13 14 15 16 17 18]\n",
      "[2 3 4 5 6 7 8 9 10 11; 3 4 5 6 7 8 9 10 11 12; 4 5 6 7 8 9 10 11 12 13; 5 6 7 8 9 10 11 12 13 14; 6 7 8 9 10 11 12 13 14 15; 7 8 9 10 11 12 13 14 15 16; 8 9 10 11 12 13 14 15 16 17; 9 10 11 12 13 14 15 16 17 18; 10 11 12 13 14 15 16 17 18 19; 11 12 13 14 15 16 17 18 19 20]\n"
     ]
    }
   ],
   "source": [
    "for n in 1:10\n",
    "    A = [i + j for i in 1:n, j in 1:n]\n",
    "    println(A)\n",
    "end"
   ]
  },
  {
   "cell_type": "markdown",
   "metadata": {},
   "source": [
    "### Conditionals\n",
    "\n",
    "Conditionals"
   ]
  },
  {
   "cell_type": "code",
   "execution_count": 85,
   "metadata": {},
   "outputs": [
    {
     "data": {
      "text/plain": [
       "9"
      ]
     },
     "execution_count": 85,
     "metadata": {},
     "output_type": "execute_result"
    }
   ],
   "source": [
    "x = 3\n",
    "y = 9"
   ]
  },
  {
   "cell_type": "code",
   "execution_count": 86,
   "metadata": {},
   "outputs": [
    {
     "name": "stdout",
     "output_type": "stream",
     "text": [
      "9 in greater\n"
     ]
    }
   ],
   "source": [
    "if x > y\n",
    "    println(\"$x in greater\")\n",
    "elseif y >x\n",
    "    println(\"$y in greater\")\n",
    "else\n",
    "    println(\"Both are equal\")\n",
    "end"
   ]
  },
  {
   "cell_type": "code",
   "execution_count": 88,
   "metadata": {},
   "outputs": [
    {
     "data": {
      "text/plain": [
       "9"
      ]
     },
     "execution_count": 88,
     "metadata": {},
     "output_type": "execute_result"
    }
   ],
   "source": [
    "if x > y\n",
    "    x\n",
    "else\n",
    "    y\n",
    "end"
   ]
  },
  {
   "cell_type": "code",
   "execution_count": 90,
   "metadata": {},
   "outputs": [
    {
     "data": {
      "text/plain": [
       "9"
      ]
     },
     "execution_count": 90,
     "metadata": {},
     "output_type": "execute_result"
    }
   ],
   "source": [
    "# Ternary operator\n",
    "\n",
    "(x > y) ? x : y"
   ]
  },
  {
   "cell_type": "code",
   "execution_count": 91,
   "metadata": {},
   "outputs": [
    {
     "data": {
      "text/plain": [
       "false"
      ]
     },
     "execution_count": 91,
     "metadata": {},
     "output_type": "execute_result"
    }
   ],
   "source": [
    "(x > y) && println(\"$x is greater\")"
   ]
  },
  {
   "cell_type": "code",
   "execution_count": 92,
   "metadata": {},
   "outputs": [
    {
     "name": "stdout",
     "output_type": "stream",
     "text": [
      "9 is greater\n"
     ]
    }
   ],
   "source": [
    "(x < y) && println(\"$y is greater\")"
   ]
  },
  {
   "cell_type": "markdown",
   "metadata": {},
   "source": [
    "## Functions\n"
   ]
  },
  {
   "cell_type": "markdown",
   "metadata": {},
   "source": [
    "### Declare a function\n",
    "\n",
    "There are 3 ways in which functions can be declared in Julia"
   ]
  },
  {
   "cell_type": "markdown",
   "metadata": {},
   "source": [
    "1. This is the form we see in most other languages where we define a function as a separate code block. This is also the most verbose among the three."
   ]
  },
  {
   "cell_type": "code",
   "execution_count": 93,
   "metadata": {},
   "outputs": [
    {
     "data": {
      "text/plain": [
       "sayhi (generic function with 1 method)"
      ]
     },
     "execution_count": 93,
     "metadata": {},
     "output_type": "execute_result"
    }
   ],
   "source": [
    "function sayhi(name)\n",
    "    println(\"Hi $name, nice to meet you\")\n",
    "end"
   ]
  },
  {
   "cell_type": "code",
   "execution_count": 94,
   "metadata": {},
   "outputs": [
    {
     "data": {
      "text/plain": [
       "f (generic function with 1 method)"
      ]
     },
     "execution_count": 94,
     "metadata": {},
     "output_type": "execute_result"
    }
   ],
   "source": [
    "function f(x)\n",
    "    x^2\n",
    "end"
   ]
  },
  {
   "cell_type": "code",
   "execution_count": 95,
   "metadata": {},
   "outputs": [
    {
     "name": "stdout",
     "output_type": "stream",
     "text": [
      "Hi Gandalf, nice to meet you\n"
     ]
    }
   ],
   "source": [
    "sayhi(\"Gandalf\")"
   ]
  },
  {
   "cell_type": "code",
   "execution_count": 96,
   "metadata": {},
   "outputs": [
    {
     "data": {
      "text/plain": [
       "2025"
      ]
     },
     "execution_count": 96,
     "metadata": {},
     "output_type": "execute_result"
    }
   ],
   "source": [
    "f(45)"
   ]
  },
  {
   "cell_type": "markdown",
   "metadata": {},
   "source": [
    "2. This is an inline way of function declaration"
   ]
  },
  {
   "cell_type": "code",
   "execution_count": 97,
   "metadata": {},
   "outputs": [
    {
     "data": {
      "text/plain": [
       "sayhiInline (generic function with 1 method)"
      ]
     },
     "execution_count": 97,
     "metadata": {},
     "output_type": "execute_result"
    }
   ],
   "source": [
    "sayhiInline(name) = println(\"Hi $name, nice to meet you\")"
   ]
  },
  {
   "cell_type": "code",
   "execution_count": 98,
   "metadata": {},
   "outputs": [
    {
     "data": {
      "text/plain": [
       "fInline (generic function with 1 method)"
      ]
     },
     "execution_count": 98,
     "metadata": {},
     "output_type": "execute_result"
    }
   ],
   "source": [
    "fInline(x) = x^2"
   ]
  },
  {
   "cell_type": "code",
   "execution_count": 99,
   "metadata": {},
   "outputs": [
    {
     "name": "stdout",
     "output_type": "stream",
     "text": [
      "Hi Samwise, nice to meet you\n"
     ]
    }
   ],
   "source": [
    "sayhiInline(\"Samwise\")"
   ]
  },
  {
   "cell_type": "code",
   "execution_count": 100,
   "metadata": {},
   "outputs": [
    {
     "data": {
      "text/plain": [
       "6595985110225"
      ]
     },
     "execution_count": 100,
     "metadata": {},
     "output_type": "execute_result"
    }
   ],
   "source": [
    "fInline(2568265)"
   ]
  },
  {
   "cell_type": "markdown",
   "metadata": {},
   "source": [
    "3. Finally, we can also define functions anonymously as follows."
   ]
  },
  {
   "cell_type": "code",
   "execution_count": 101,
   "metadata": {},
   "outputs": [
    {
     "data": {
      "text/plain": [
       "#13 (generic function with 1 method)"
      ]
     },
     "execution_count": 101,
     "metadata": {},
     "output_type": "execute_result"
    }
   ],
   "source": [
    "sayhiAnon = name -> println(\"Hi $name, nice to meet you\")"
   ]
  },
  {
   "cell_type": "code",
   "execution_count": 102,
   "metadata": {},
   "outputs": [
    {
     "data": {
      "text/plain": [
       "#15 (generic function with 1 method)"
      ]
     },
     "execution_count": 102,
     "metadata": {},
     "output_type": "execute_result"
    }
   ],
   "source": [
    "fAnon = x -> x^2"
   ]
  },
  {
   "cell_type": "code",
   "execution_count": 103,
   "metadata": {},
   "outputs": [
    {
     "name": "stdout",
     "output_type": "stream",
     "text": [
      "Hi Lady Galadriel, nice to meet you\n"
     ]
    }
   ],
   "source": [
    "sayhiAnon(\"Lady Galadriel\")"
   ]
  },
  {
   "cell_type": "code",
   "execution_count": 104,
   "metadata": {},
   "outputs": [
    {
     "data": {
      "text/plain": [
       "119276.8061909667"
      ]
     },
     "execution_count": 104,
     "metadata": {},
     "output_type": "execute_result"
    }
   ],
   "source": [
    "fAnon(345.3647437)"
   ]
  },
  {
   "cell_type": "markdown",
   "metadata": {},
   "source": [
    "### Duck Typing"
   ]
  },
  {
   "cell_type": "code",
   "execution_count": 105,
   "metadata": {},
   "outputs": [
    {
     "name": "stdout",
     "output_type": "stream",
     "text": [
      "Hi 235235, nice to meet you\n"
     ]
    }
   ],
   "source": [
    "sayhi(235235)"
   ]
  },
  {
   "cell_type": "code",
   "execution_count": 106,
   "metadata": {},
   "outputs": [
    {
     "data": {
      "text/plain": [
       "3×3 Array{Float64,2}:\n",
       " 1.52808   1.32775   0.635986\n",
       " 0.181814  0.246364  0.101181\n",
       " 0.940053  1.04288   0.653674"
      ]
     },
     "execution_count": 106,
     "metadata": {},
     "output_type": "execute_result"
    }
   ],
   "source": [
    "f(rand(3,3))"
   ]
  },
  {
   "cell_type": "code",
   "execution_count": 107,
   "metadata": {},
   "outputs": [
    {
     "ename": "LoadError",
     "evalue": "DimensionMismatch(\"A has dimensions (3,4) but B has dimensions (3,4)\")",
     "output_type": "error",
     "traceback": [
      "DimensionMismatch(\"A has dimensions (3,4) but B has dimensions (3,4)\")",
      "",
      "Stacktrace:",
      " [1] gemm_wrapper!(::Array{Float64,2}, ::Char, ::Char, ::Array{Float64,2}, ::Array{Float64,2}, ::LinearAlgebra.MulAddMul{true,true,Bool,Bool}) at D:\\buildbot\\worker\\package_win64\\build\\usr\\share\\julia\\stdlib\\v1.5\\LinearAlgebra\\src\\matmul.jl:569",
      " [2] mul! at D:\\buildbot\\worker\\package_win64\\build\\usr\\share\\julia\\stdlib\\v1.5\\LinearAlgebra\\src\\matmul.jl:169 [inlined]",
      " [3] mul! at D:\\buildbot\\worker\\package_win64\\build\\usr\\share\\julia\\stdlib\\v1.5\\LinearAlgebra\\src\\matmul.jl:208 [inlined]",
      " [4] * at D:\\buildbot\\worker\\package_win64\\build\\usr\\share\\julia\\stdlib\\v1.5\\LinearAlgebra\\src\\matmul.jl:160 [inlined]",
      " [5] power_by_squaring(::Array{Float64,2}, ::Int64) at .\\intfuncs.jl:245",
      " [6] ^ at D:\\buildbot\\worker\\package_win64\\build\\usr\\share\\julia\\stdlib\\v1.5\\LinearAlgebra\\src\\dense.jl:408 [inlined]",
      " [7] macro expansion at .\\none:0 [inlined]",
      " [8] literal_pow at .\\none:0 [inlined]",
      " [9] f(::Array{Float64,2}) at .\\In[94]:2",
      " [10] top-level scope at In[107]:1",
      " [11] include_string(::Function, ::Module, ::String, ::String) at .\\loading.jl:1091"
     ]
    }
   ],
   "source": [
    "f(rand(3,4))"
   ]
  },
  {
   "cell_type": "code",
   "execution_count": 108,
   "metadata": {},
   "outputs": [
    {
     "ename": "LoadError",
     "evalue": "MethodError: no method matching ^(::Array{Float64,1}, ::Int64)\nClosest candidates are:\n  ^(!Matched::BigFloat, ::Integer) at mpfr.jl:599\n  ^(!Matched::Float64, ::Integer) at math.jl:899\n  ^(!Matched::Float32, ::Integer) at math.jl:907\n  ...",
     "output_type": "error",
     "traceback": [
      "MethodError: no method matching ^(::Array{Float64,1}, ::Int64)\nClosest candidates are:\n  ^(!Matched::BigFloat, ::Integer) at mpfr.jl:599\n  ^(!Matched::Float64, ::Integer) at math.jl:899\n  ^(!Matched::Float32, ::Integer) at math.jl:907\n  ...",
      "",
      "Stacktrace:",
      " [1] macro expansion at .\\none:0 [inlined]",
      " [2] literal_pow at .\\none:0 [inlined]",
      " [3] f(::Array{Float64,1}) at .\\In[94]:2",
      " [4] top-level scope at In[108]:1",
      " [5] include_string(::Function, ::Module, ::String, ::String) at .\\loading.jl:1091"
     ]
    }
   ],
   "source": [
    "f(rand(4))"
   ]
  },
  {
   "cell_type": "markdown",
   "metadata": {},
   "source": [
    "Mutating vs Non-mutating functions"
   ]
  },
  {
   "cell_type": "markdown",
   "metadata": {},
   "source": [
    "Mutating -> modifies arguments\n",
    "Non-Mutating -> doesnt modify arguments"
   ]
  },
  {
   "cell_type": "code",
   "execution_count": 109,
   "metadata": {},
   "outputs": [
    {
     "data": {
      "text/plain": [
       "3-element Array{Float64,1}:\n",
       " 0.662287384200023\n",
       " 0.9679283208930551\n",
       " 0.6734433931614785"
      ]
     },
     "execution_count": 109,
     "metadata": {},
     "output_type": "execute_result"
    }
   ],
   "source": [
    "v = rand(3)\n"
   ]
  },
  {
   "cell_type": "code",
   "execution_count": 110,
   "metadata": {},
   "outputs": [
    {
     "data": {
      "text/plain": [
       "3-element Array{Float64,1}:\n",
       " 0.662287384200023\n",
       " 0.6734433931614785\n",
       " 0.9679283208930551"
      ]
     },
     "execution_count": 110,
     "metadata": {},
     "output_type": "execute_result"
    }
   ],
   "source": [
    "sort(v)"
   ]
  },
  {
   "cell_type": "code",
   "execution_count": 111,
   "metadata": {},
   "outputs": [
    {
     "data": {
      "text/plain": [
       "3-element Array{Float64,1}:\n",
       " 0.662287384200023\n",
       " 0.9679283208930551\n",
       " 0.6734433931614785"
      ]
     },
     "execution_count": 111,
     "metadata": {},
     "output_type": "execute_result"
    }
   ],
   "source": [
    "v"
   ]
  },
  {
   "cell_type": "code",
   "execution_count": 112,
   "metadata": {},
   "outputs": [
    {
     "data": {
      "text/plain": [
       "3-element Array{Float64,1}:\n",
       " 0.662287384200023\n",
       " 0.6734433931614785\n",
       " 0.9679283208930551"
      ]
     },
     "execution_count": 112,
     "metadata": {},
     "output_type": "execute_result"
    }
   ],
   "source": [
    "sort!(v)"
   ]
  },
  {
   "cell_type": "code",
   "execution_count": 113,
   "metadata": {},
   "outputs": [
    {
     "data": {
      "text/plain": [
       "3-element Array{Float64,1}:\n",
       " 0.662287384200023\n",
       " 0.6734433931614785\n",
       " 0.9679283208930551"
      ]
     },
     "execution_count": 113,
     "metadata": {},
     "output_type": "execute_result"
    }
   ],
   "source": [
    "v"
   ]
  },
  {
   "cell_type": "markdown",
   "metadata": {},
   "source": [
    "### Broadcasting"
   ]
  },
  {
   "cell_type": "code",
   "execution_count": 114,
   "metadata": {},
   "outputs": [
    {
     "data": {
      "text/plain": [
       "3×3 Array{Float64,2}:\n",
       " 0.116825  0.697809  0.847529\n",
       " 0.239178  0.378276  0.40247\n",
       " 0.286043  0.621033  0.913795"
      ]
     },
     "execution_count": 114,
     "metadata": {},
     "output_type": "execute_result"
    }
   ],
   "source": [
    " Q = rand(3,3)"
   ]
  },
  {
   "cell_type": "code",
   "execution_count": 115,
   "metadata": {},
   "outputs": [
    {
     "data": {
      "text/plain": [
       "3×3 Array{Float64,2}:\n",
       " 0.422978  0.871829  1.15433\n",
       " 0.233541  0.55994   0.72273\n",
       " 0.443339  1.00202   1.3274"
      ]
     },
     "execution_count": 115,
     "metadata": {},
     "output_type": "execute_result"
    }
   ],
   "source": [
    "f(Q)"
   ]
  },
  {
   "cell_type": "code",
   "execution_count": 116,
   "metadata": {},
   "outputs": [
    {
     "data": {
      "text/plain": [
       "3×3 Array{Float64,2}:\n",
       " 0.0136481  0.486938  0.718306\n",
       " 0.0572062  0.143092  0.161982\n",
       " 0.0818204  0.385682  0.835022"
      ]
     },
     "execution_count": 116,
     "metadata": {},
     "output_type": "execute_result"
    }
   ],
   "source": [
    "f.(Q)"
   ]
  },
  {
   "cell_type": "code",
   "execution_count": 117,
   "metadata": {},
   "outputs": [
    {
     "data": {
      "text/plain": [
       "3-element Array{Float64,1}:\n",
       " 0.43862457927050885\n",
       " 0.4535260037928457\n",
       " 0.9368852343868491"
      ]
     },
     "execution_count": 117,
     "metadata": {},
     "output_type": "execute_result"
    }
   ],
   "source": [
    "f.(v)"
   ]
  },
  {
   "cell_type": "markdown",
   "metadata": {},
   "source": [
    "## Packages"
   ]
  },
  {
   "cell_type": "code",
   "execution_count": 1,
   "metadata": {},
   "outputs": [],
   "source": [
    "using Pkg"
   ]
  },
  {
   "cell_type": "code",
   "execution_count": 2,
   "metadata": {},
   "outputs": [
    {
     "name": "stderr",
     "output_type": "stream",
     "text": [
      "\u001b[32m\u001b[1m   Updating\u001b[22m\u001b[39m registry at `C:\\Users\\HP\\.julia\\registries\\General`\n",
      "\u001b[32m\u001b[1m  Resolving\u001b[22m\u001b[39m package versions...\n",
      "\u001b[32m\u001b[1m  Installed\u001b[22m\u001b[39m Example ─ v0.5.3\n",
      "\u001b[32m\u001b[1mUpdating\u001b[22m\u001b[39m `C:\\Users\\HP\\.julia\\environments\\v1.5\\Project.toml`\n",
      " \u001b[90m [7876af07] \u001b[39m\u001b[92m+ Example v0.5.3\u001b[39m\n",
      "\u001b[32m\u001b[1mUpdating\u001b[22m\u001b[39m `C:\\Users\\HP\\.julia\\environments\\v1.5\\Manifest.toml`\n",
      " \u001b[90m [7876af07] \u001b[39m\u001b[92m+ Example v0.5.3\u001b[39m\n"
     ]
    }
   ],
   "source": [
    "Pkg.add(\"Example\")"
   ]
  },
  {
   "cell_type": "code",
   "execution_count": 3,
   "metadata": {},
   "outputs": [
    {
     "name": "stderr",
     "output_type": "stream",
     "text": [
      "┌ Info: Precompiling Example [7876af07-990d-54b4-ab0e-23690620f79a]\n",
      "└ @ Base loading.jl:1278\n"
     ]
    }
   ],
   "source": [
    "# To load that package\n",
    "using Example"
   ]
  },
  {
   "cell_type": "code",
   "execution_count": 4,
   "metadata": {},
   "outputs": [
    {
     "data": {
      "text/plain": [
       "\"Hello, Its me, Neel\""
      ]
     },
     "execution_count": 4,
     "metadata": {},
     "output_type": "execute_result"
    }
   ],
   "source": [
    "hello(\"Its me, Neel\")"
   ]
  },
  {
   "cell_type": "code",
   "execution_count": 5,
   "metadata": {},
   "outputs": [
    {
     "name": "stderr",
     "output_type": "stream",
     "text": [
      "\u001b[32m\u001b[1m  Resolving\u001b[22m\u001b[39m package versions...\n",
      "\u001b[32m\u001b[1m  Installed\u001b[22m\u001b[39m FixedPointNumbers ─ v0.8.4\n",
      "\u001b[32m\u001b[1m  Installed\u001b[22m\u001b[39m Reexport ────────── v0.2.0\n",
      "\u001b[32m\u001b[1m  Installed\u001b[22m\u001b[39m ColorTypes ──────── v0.10.9\n",
      "\u001b[32m\u001b[1m  Installed\u001b[22m\u001b[39m Colors ──────────── v0.12.4\n",
      "\u001b[32m\u001b[1mUpdating\u001b[22m\u001b[39m `C:\\Users\\HP\\.julia\\environments\\v1.5\\Project.toml`\n",
      " \u001b[90m [5ae59095] \u001b[39m\u001b[92m+ Colors v0.12.4\u001b[39m\n",
      "\u001b[32m\u001b[1mUpdating\u001b[22m\u001b[39m `C:\\Users\\HP\\.julia\\environments\\v1.5\\Manifest.toml`\n",
      " \u001b[90m [3da002f7] \u001b[39m\u001b[92m+ ColorTypes v0.10.9\u001b[39m\n",
      " \u001b[90m [5ae59095] \u001b[39m\u001b[92m+ Colors v0.12.4\u001b[39m\n",
      " \u001b[90m [53c48c17] \u001b[39m\u001b[92m+ FixedPointNumbers v0.8.4\u001b[39m\n",
      " \u001b[90m [189a3867] \u001b[39m\u001b[92m+ Reexport v0.2.0\u001b[39m\n",
      " \u001b[90m [37e2e46d] \u001b[39m\u001b[92m+ LinearAlgebra\u001b[39m\n",
      " \u001b[90m [2f01184e] \u001b[39m\u001b[92m+ SparseArrays\u001b[39m\n",
      " \u001b[90m [10745b16] \u001b[39m\u001b[92m+ Statistics\u001b[39m\n"
     ]
    }
   ],
   "source": [
    "Pkg.add(\"Colors\")"
   ]
  },
  {
   "cell_type": "code",
   "execution_count": 7,
   "metadata": {},
   "outputs": [
    {
     "name": "stderr",
     "output_type": "stream",
     "text": [
      "┌ Info: Precompiling Colors [5ae59095-9a9b-59fe-a467-6f913c188581]\n",
      "└ @ Base loading.jl:1278\n"
     ]
    },
    {
     "data": {
      "image/svg+xml": [
       "<?xml version=\"1.0\" encoding=\"UTF-8\"?>\n",
       "<!DOCTYPE svg PUBLIC \"-//W3C//DTD SVG 1.1//EN\"\n",
       " \"http://www.w3.org/Graphics/SVG/1.1/DTD/svg11.dtd\">\n",
       "<svg xmlns=\"http://www.w3.org/2000/svg\" version=\"1.1\"\n",
       "     width=\"180mm\" height=\"25mm\"\n",
       "     viewBox=\"0 0 100 1\" preserveAspectRatio=\"none\"\n",
       "     shape-rendering=\"crispEdges\" stroke=\"none\">\n",
       "<rect width=\"1\" height=\".96\" x=\"0\" y=\"0\" fill=\"#000000\" />\n",
       "<rect width=\"1\" height=\".96\" x=\"1\" y=\"0\" fill=\"#FFFF74\" />\n",
       "<rect width=\"1\" height=\".96\" x=\"2\" y=\"0\" fill=\"#FF9BFF\" />\n",
       "<rect width=\"1\" height=\".96\" x=\"3\" y=\"0\" fill=\"#00D3FF\" />\n",
       "<rect width=\"1\" height=\".96\" x=\"4\" y=\"0\" fill=\"#E2630D\" />\n",
       "<rect width=\"1\" height=\".96\" x=\"5\" y=\"0\" fill=\"#007E00\" />\n",
       "<rect width=\"1\" height=\".96\" x=\"6\" y=\"0\" fill=\"#0050E6\" />\n",
       "<rect width=\"1\" height=\".96\" x=\"7\" y=\"0\" fill=\"#AC0047\" />\n",
       "<rect width=\"1\" height=\".96\" x=\"8\" y=\"0\" fill=\"#00FFC8\" />\n",
       "<rect width=\"1\" height=\".96\" x=\"9\" y=\"0\" fill=\"#006468\" />\n",
       "<rect width=\"1\" height=\".96\" x=\"10\" y=\"0\" fill=\"#FFD5C4\" />\n",
       "<rect width=\"1\" height=\".96\" x=\"11\" y=\"0\" fill=\"#6C5200\" />\n",
       "<rect width=\"1\" height=\".96\" x=\"12\" y=\"0\" fill=\"#7A7581\" />\n",
       "<rect width=\"1\" height=\".96\" x=\"13\" y=\"0\" fill=\"#44005C\" />\n",
       "<rect width=\"1\" height=\".96\" x=\"14\" y=\"0\" fill=\"#9E9E77\" />\n",
       "<rect width=\"1\" height=\".96\" x=\"15\" y=\"0\" fill=\"#FF5C78\" />\n",
       "<rect width=\"1\" height=\".96\" x=\"16\" y=\"0\" fill=\"#8197F1\" />\n",
       "<rect width=\"1\" height=\".96\" x=\"17\" y=\"0\" fill=\"#003200\" />\n",
       "<rect width=\"1\" height=\".96\" x=\"18\" y=\"0\" fill=\"#C721DD\" />\n",
       "<rect width=\"1\" height=\".96\" x=\"19\" y=\"0\" fill=\"#FFAD07\" />\n",
       "<rect width=\"1\" height=\".96\" x=\"20\" y=\"0\" fill=\"#611C00\" />\n",
       "<rect width=\"1\" height=\".96\" x=\"21\" y=\"0\" fill=\"#F3FFFA\" />\n",
       "<rect width=\"1\" height=\".96\" x=\"22\" y=\"0\" fill=\"#009E88\" />\n",
       "<rect width=\"1\" height=\".96\" x=\"23\" y=\"0\" fill=\"#5EC700\" />\n",
       "<rect width=\"1\" height=\".96\" x=\"24\" y=\"0\" fill=\"#002D54\" />\n",
       "<rect width=\"1\" height=\".96\" x=\"25\" y=\"0\" fill=\"#553C4A\" />\n",
       "<rect width=\"1\" height=\".96\" x=\"26\" y=\"0\" fill=\"#444439\" />\n",
       "<rect width=\"1\" height=\".96\" x=\"27\" y=\"0\" fill=\"#008FB6\" />\n",
       "<rect width=\"1\" height=\".96\" x=\"28\" y=\"0\" fill=\"#CFD4FD\" />\n",
       "<rect width=\"1\" height=\".96\" x=\"29\" y=\"0\" fill=\"#C40000\" />\n",
       "<rect width=\"1\" height=\".96\" x=\"30\" y=\"0\" fill=\"#A4675C\" />\n",
       "<rect width=\"1\" height=\".96\" x=\"31\" y=\"0\" fill=\"#BB8FA8\" />\n",
       "<rect width=\"1\" height=\".96\" x=\"32\" y=\"0\" fill=\"#290001\" />\n",
       "<rect width=\"1\" height=\".96\" x=\"33\" y=\"0\" fill=\"#A78600\" />\n",
       "<rect width=\"1\" height=\".96\" x=\"34\" y=\"0\" fill=\"#002D30\" />\n",
       "<rect width=\"1\" height=\".96\" x=\"35\" y=\"0\" fill=\"#C7DEAA\" />\n",
       "<rect width=\"1\" height=\".96\" x=\"36\" y=\"0\" fill=\"#8D9FA3\" />\n",
       "<rect width=\"1\" height=\".96\" x=\"37\" y=\"0\" fill=\"#6F5B95\" />\n",
       "<rect width=\"1\" height=\".96\" x=\"38\" y=\"0\" fill=\"#A1FFFF\" />\n",
       "<rect width=\"1\" height=\".96\" x=\"39\" y=\"0\" fill=\"#B39688\" />\n",
       "<rect width=\"1\" height=\".96\" x=\"40\" y=\"0\" fill=\"#4E6D50\" />\n",
       "<rect width=\"1\" height=\".96\" x=\"41\" y=\"0\" fill=\"#FF977B\" />\n",
       "<rect width=\"1\" height=\".96\" x=\"42\" y=\"0\" fill=\"#FFD1EC\" />\n",
       "<rect width=\"1\" height=\".96\" x=\"43\" y=\"0\" fill=\"#9E5100\" />\n",
       "<rect width=\"1\" height=\".96\" x=\"44\" y=\"0\" fill=\"#AE5B8E\" />\n",
       "<rect width=\"1\" height=\".96\" x=\"45\" y=\"0\" fill=\"#799400\" />\n",
       "<rect width=\"1\" height=\".96\" x=\"46\" y=\"0\" fill=\"#362200\" />\n",
       "<rect width=\"1\" height=\".96\" x=\"47\" y=\"0\" fill=\"#0E0026\" />\n",
       "<rect width=\"1\" height=\".96\" x=\"48\" y=\"0\" fill=\"#80765F\" />\n",
       "<rect width=\"1\" height=\".96\" x=\"49\" y=\"0\" fill=\"#485C00\" />\n",
       "<rect width=\"1\" height=\".96\" x=\"50\" y=\"0\" fill=\"#C8C2B5\" />\n",
       "<rect width=\"1\" height=\".96\" x=\"51\" y=\"0\" fill=\"#8800A1\" />\n",
       "<rect width=\"1\" height=\".96\" x=\"52\" y=\"0\" fill=\"#00A853\" />\n",
       "<rect width=\"1\" height=\".96\" x=\"53\" y=\"0\" fill=\"#FFE1AA\" />\n",
       "<rect width=\"1\" height=\".96\" x=\"54\" y=\"0\" fill=\"#674F42\" />\n",
       "<rect width=\"1\" height=\".96\" x=\"55\" y=\"0\" fill=\"#FF342D\" />\n",
       "<rect width=\"1\" height=\".96\" x=\"56\" y=\"0\" fill=\"#6B0041\" />\n",
       "<rect width=\"1\" height=\".96\" x=\"57\" y=\"0\" fill=\"#0806B1\" />\n",
       "<rect width=\"1\" height=\".96\" x=\"58\" y=\"0\" fill=\"#986DFF\" />\n",
       "<rect width=\"1\" height=\".96\" x=\"59\" y=\"0\" fill=\"#FF4EC7\" />\n",
       "<rect width=\"1\" height=\".96\" x=\"60\" y=\"0\" fill=\"#8AB9A2\" />\n",
       "<rect width=\"1\" height=\".96\" x=\"61\" y=\"0\" fill=\"#2EFF71\" />\n",
       "<rect width=\"1\" height=\".96\" x=\"62\" y=\"0\" fill=\"#005577\" />\n",
       "<rect width=\"1\" height=\".96\" x=\"63\" y=\"0\" fill=\"#0078E3\" />\n",
       "<rect width=\"1\" height=\".96\" x=\"64\" y=\"0\" fill=\"#B2ADB9\" />\n",
       "<rect width=\"1\" height=\".96\" x=\"65\" y=\"0\" fill=\"#00C3C6\" />\n",
       "<rect width=\"1\" height=\".96\" x=\"66\" y=\"0\" fill=\"#00AEFF\" />\n",
       "<rect width=\"1\" height=\".96\" x=\"67\" y=\"0\" fill=\"#4E545F\" />\n",
       "<rect width=\"1\" height=\".96\" x=\"68\" y=\"0\" fill=\"#FF9BB0\" />\n",
       "<rect width=\"1\" height=\".96\" x=\"69\" y=\"0\" fill=\"#FED206\" />\n",
       "<rect width=\"1\" height=\".96\" x=\"70\" y=\"0\" fill=\"#687B7A\" />\n",
       "<rect width=\"1\" height=\".96\" x=\"71\" y=\"0\" fill=\"#B1DCFC\" />\n",
       "<rect width=\"1\" height=\".96\" x=\"72\" y=\"0\" fill=\"#FFF6FF\" />\n",
       "<rect width=\"1\" height=\".96\" x=\"73\" y=\"0\" fill=\"#620019\" />\n",
       "<rect width=\"1\" height=\".96\" x=\"74\" y=\"0\" fill=\"#C79253\" />\n",
       "<rect width=\"1\" height=\".96\" x=\"75\" y=\"0\" fill=\"#A891CF\" />\n",
       "<rect width=\"1\" height=\".96\" x=\"76\" y=\"0\" fill=\"#EF007A\" />\n",
       "<rect width=\"1\" height=\".96\" x=\"77\" y=\"0\" fill=\"#B8CE00\" />\n",
       "<rect width=\"1\" height=\".96\" x=\"78\" y=\"0\" fill=\"#001700\" />\n",
       "<rect width=\"1\" height=\".96\" x=\"79\" y=\"0\" fill=\"#204B39\" />\n",
       "<rect width=\"1\" height=\".96\" x=\"80\" y=\"0\" fill=\"#875866\" />\n",
       "<rect width=\"1\" height=\".96\" x=\"81\" y=\"0\" fill=\"#B5FF4E\" />\n",
       "<rect width=\"1\" height=\".96\" x=\"82\" y=\"0\" fill=\"#B40080\" />\n",
       "<rect width=\"1\" height=\".96\" x=\"83\" y=\"0\" fill=\"#853F34\" />\n",
       "<rect width=\"1\" height=\".96\" x=\"84\" y=\"0\" fill=\"#69936B\" />\n",
       "<rect width=\"1\" height=\".96\" x=\"85\" y=\"0\" fill=\"#FFBC80\" />\n",
       "<rect width=\"1\" height=\".96\" x=\"86\" y=\"0\" fill=\"#4C3779\" />\n",
       "<rect width=\"1\" height=\".96\" x=\"87\" y=\"0\" fill=\"#323606\" />\n",
       "<rect width=\"1\" height=\".96\" x=\"88\" y=\"0\" fill=\"#008E94\" />\n",
       "<rect width=\"1\" height=\".96\" x=\"89\" y=\"0\" fill=\"#CAAC51\" />\n",
       "<rect width=\"1\" height=\".96\" x=\"90\" y=\"0\" fill=\"#787B3B\" />\n",
       "<rect width=\"1\" height=\".96\" x=\"91\" y=\"0\" fill=\"#B6F9D9\" />\n",
       "<rect width=\"1\" height=\".96\" x=\"92\" y=\"0\" fill=\"#DA003F\" />\n",
       "<rect width=\"1\" height=\".96\" x=\"93\" y=\"0\" fill=\"#2E2124\" />\n",
       "<rect width=\"1\" height=\".96\" x=\"94\" y=\"0\" fill=\"#005815\" />\n",
       "<rect width=\"1\" height=\".96\" x=\"95\" y=\"0\" fill=\"#FF8E1D\" />\n",
       "<rect width=\"1\" height=\".96\" x=\"96\" y=\"0\" fill=\"#6674B1\" />\n",
       "<rect width=\"1\" height=\".96\" x=\"97\" y=\"0\" fill=\"#00CDAD\" />\n",
       "<rect width=\"1\" height=\".96\" x=\"98\" y=\"0\" fill=\"#007F63\" />\n",
       "<rect width=\"1\" height=\".96\" x=\"99\" y=\"0\" fill=\"#996F3D\" />\n",
       "</svg>"
      ],
      "text/plain": [
       "100-element Array{RGB{N0f8},1} with eltype RGB{FixedPointNumbers.Normed{UInt8,8}}:\n",
       " RGB{N0f8}(0.0,0.0,0.0)\n",
       " RGB{N0f8}(1.0,1.0,0.455)\n",
       " RGB{N0f8}(1.0,0.608,1.0)\n",
       " RGB{N0f8}(0.0,0.827,1.0)\n",
       " RGB{N0f8}(0.886,0.388,0.051)\n",
       " RGB{N0f8}(0.0,0.494,0.0)\n",
       " RGB{N0f8}(0.0,0.314,0.902)\n",
       " RGB{N0f8}(0.675,0.0,0.278)\n",
       " RGB{N0f8}(0.0,1.0,0.784)\n",
       " RGB{N0f8}(0.0,0.392,0.408)\n",
       " RGB{N0f8}(1.0,0.835,0.769)\n",
       " RGB{N0f8}(0.424,0.322,0.0)\n",
       " RGB{N0f8}(0.478,0.459,0.506)\n",
       " ⋮\n",
       " RGB{N0f8}(0.0,0.557,0.58)\n",
       " RGB{N0f8}(0.792,0.675,0.318)\n",
       " RGB{N0f8}(0.471,0.482,0.231)\n",
       " RGB{N0f8}(0.714,0.976,0.851)\n",
       " RGB{N0f8}(0.855,0.0,0.247)\n",
       " RGB{N0f8}(0.18,0.129,0.141)\n",
       " RGB{N0f8}(0.0,0.345,0.082)\n",
       " RGB{N0f8}(1.0,0.557,0.114)\n",
       " RGB{N0f8}(0.4,0.455,0.694)\n",
       " RGB{N0f8}(0.0,0.804,0.678)\n",
       " RGB{N0f8}(0.0,0.498,0.388)\n",
       " RGB{N0f8}(0.6,0.435,0.239)"
      ]
     },
     "execution_count": 7,
     "metadata": {},
     "output_type": "execute_result"
    }
   ],
   "source": [
    "using Colors\n",
    "palette = distinguishable_colors(100)"
   ]
  },
  {
   "cell_type": "code",
   "execution_count": 8,
   "metadata": {},
   "outputs": [
    {
     "data": {
      "image/svg+xml": [
       "<?xml version=\"1.0\" encoding=\"UTF-8\"?>\n",
       "<!DOCTYPE svg PUBLIC \"-//W3C//DTD SVG 1.1//EN\"\n",
       " \"http://www.w3.org/Graphics/SVG/1.1/DTD/svg11.dtd\">\n",
       "<svg xmlns=\"http://www.w3.org/2000/svg\" version=\"1.1\"\n",
       "     width=\"125mm\" height=\"125mm\"\n",
       "     viewBox=\"0 0 5 5\" preserveAspectRatio=\"none\"\n",
       "     shape-rendering=\"crispEdges\" stroke=\"none\">\n",
       "<rect width=\".96\" height=\".96\" x=\"0\" y=\"0\" fill=\"#5EC700\" />\n",
       "<rect width=\".96\" height=\".96\" x=\"1\" y=\"0\" fill=\"#FFD1EC\" />\n",
       "<rect width=\".96\" height=\".96\" x=\"2\" y=\"0\" fill=\"#B40080\" />\n",
       "<rect width=\".96\" height=\".96\" x=\"3\" y=\"0\" fill=\"#000000\" />\n",
       "<rect width=\".96\" height=\".96\" x=\"4\" y=\"0\" fill=\"#CAAC51\" />\n",
       "<rect width=\".96\" height=\".96\" x=\"0\" y=\"1\" fill=\"#008FB6\" />\n",
       "<rect width=\".96\" height=\".96\" x=\"1\" y=\"1\" fill=\"#674F42\" />\n",
       "<rect width=\".96\" height=\".96\" x=\"2\" y=\"1\" fill=\"#006468\" />\n",
       "<rect width=\".96\" height=\".96\" x=\"3\" y=\"1\" fill=\"#B2ADB9\" />\n",
       "<rect width=\".96\" height=\".96\" x=\"4\" y=\"1\" fill=\"#002D54\" />\n",
       "<rect width=\".96\" height=\".96\" x=\"0\" y=\"2\" fill=\"#009E88\" />\n",
       "<rect width=\".96\" height=\".96\" x=\"1\" y=\"2\" fill=\"#290001\" />\n",
       "<rect width=\".96\" height=\".96\" x=\"2\" y=\"2\" fill=\"#6674B1\" />\n",
       "<rect width=\".96\" height=\".96\" x=\"3\" y=\"2\" fill=\"#AC0047\" />\n",
       "<rect width=\".96\" height=\".96\" x=\"4\" y=\"2\" fill=\"#0E0026\" />\n",
       "<rect width=\".96\" height=\".96\" x=\"0\" y=\"3\" fill=\"#00C3C6\" />\n",
       "<rect width=\".96\" height=\".96\" x=\"1\" y=\"3\" fill=\"#7A7581\" />\n",
       "<rect width=\".96\" height=\".96\" x=\"2\" y=\"3\" fill=\"#002D30\" />\n",
       "<rect width=\".96\" height=\".96\" x=\"3\" y=\"3\" fill=\"#875866\" />\n",
       "<rect width=\".96\" height=\".96\" x=\"4\" y=\"3\" fill=\"#00CDAD\" />\n",
       "<rect width=\".96\" height=\".96\" x=\"0\" y=\"4\" fill=\"#799400\" />\n",
       "<rect width=\".96\" height=\".96\" x=\"1\" y=\"4\" fill=\"#002D30\" />\n",
       "<rect width=\".96\" height=\".96\" x=\"2\" y=\"4\" fill=\"#853F34\" />\n",
       "<rect width=\".96\" height=\".96\" x=\"3\" y=\"4\" fill=\"#000000\" />\n",
       "<rect width=\".96\" height=\".96\" x=\"4\" y=\"4\" fill=\"#EF007A\" />\n",
       "</svg>"
      ],
      "text/plain": [
       "5×5 Array{RGB{N0f8},2} with eltype RGB{FixedPointNumbers.Normed{UInt8,8}}:\n",
       " RGB{N0f8}(0.369,0.78,0.0)   …  RGB{N0f8}(0.792,0.675,0.318)\n",
       " RGB{N0f8}(0.0,0.561,0.714)     RGB{N0f8}(0.0,0.176,0.329)\n",
       " RGB{N0f8}(0.0,0.62,0.533)      RGB{N0f8}(0.055,0.0,0.149)\n",
       " RGB{N0f8}(0.0,0.765,0.776)     RGB{N0f8}(0.0,0.804,0.678)\n",
       " RGB{N0f8}(0.475,0.58,0.0)      RGB{N0f8}(0.937,0.0,0.478)"
      ]
     },
     "execution_count": 8,
     "metadata": {},
     "output_type": "execute_result"
    }
   ],
   "source": [
    "rand(palette, 5, 5)"
   ]
  },
  {
   "cell_type": "markdown",
   "metadata": {},
   "source": [
    "Plotting"
   ]
  },
  {
   "cell_type": "code",
   "execution_count": 1,
   "metadata": {},
   "outputs": [],
   "source": [
    "# Pkg.add(\"Plots\")\n",
    "using Plots"
   ]
  },
  {
   "cell_type": "markdown",
   "metadata": {},
   "source": [
    "One of the advantages of Plots.jl is that it allows you to seamlessly change backends. In this notebook, we'll try out the `gr()` and `plotlyjs()` backends."
   ]
  },
  {
   "cell_type": "code",
   "execution_count": 2,
   "metadata": {},
   "outputs": [
    {
     "data": {
      "text/plain": [
       "61-element Array{Float64,1}:\n",
       " 9.0\n",
       " 8.41\n",
       " 7.839999999999999\n",
       " 7.290000000000001\n",
       " 6.760000000000001\n",
       " 6.25\n",
       " 5.76\n",
       " 5.289999999999999\n",
       " 4.840000000000001\n",
       " 4.41\n",
       " 4.0\n",
       " 3.61\n",
       " 3.24\n",
       " ⋮\n",
       " 3.61\n",
       " 4.0\n",
       " 4.41\n",
       " 4.840000000000001\n",
       " 5.289999999999999\n",
       " 5.76\n",
       " 6.25\n",
       " 6.760000000000001\n",
       " 7.290000000000001\n",
       " 7.839999999999999\n",
       " 8.41\n",
       " 9.0"
      ]
     },
     "execution_count": 2,
     "metadata": {},
     "output_type": "execute_result"
    }
   ],
   "source": [
    " x = -3:0.1:3\n",
    "f(x) = x^2\n",
    "\n",
    "y = f.(x)"
   ]
  },
  {
   "cell_type": "code",
   "execution_count": 3,
   "metadata": {},
   "outputs": [
    {
     "data": {
      "text/plain": [
       "Plots.GRBackend()"
      ]
     },
     "execution_count": 3,
     "metadata": {},
     "output_type": "execute_result"
    }
   ],
   "source": [
    "gr()"
   ]
  },
  {
   "cell_type": "code",
   "execution_count": 4,
   "metadata": {},
   "outputs": [
    {
     "data": {
      "image/svg+xml": [
       "<?xml version=\"1.0\" encoding=\"utf-8\"?>\n",
       "<svg xmlns=\"http://www.w3.org/2000/svg\" xmlns:xlink=\"http://www.w3.org/1999/xlink\" width=\"600\" height=\"400\" viewBox=\"0 0 2400 1600\">\n",
       "<defs>\n",
       "  <clipPath id=\"clip540\">\n",
       "    <rect x=\"0\" y=\"0\" width=\"2400\" height=\"1600\"/>\n",
       "  </clipPath>\n",
       "</defs>\n",
       "<path clip-path=\"url(#clip540)\" d=\"\n",
       "M0 1600 L2400 1600 L2400 0 L0 0  Z\n",
       "  \" fill=\"#ffffff\" fill-rule=\"evenodd\" fill-opacity=\"1\"/>\n",
       "<defs>\n",
       "  <clipPath id=\"clip541\">\n",
       "    <rect x=\"480\" y=\"0\" width=\"1681\" height=\"1600\"/>\n",
       "  </clipPath>\n",
       "</defs>\n",
       "<path clip-path=\"url(#clip540)\" d=\"\n",
       "M112.177 1486.45 L2352.76 1486.45 L2352.76 47.2441 L112.177 47.2441  Z\n",
       "  \" fill=\"#ffffff\" fill-rule=\"evenodd\" fill-opacity=\"1\"/>\n",
       "<defs>\n",
       "  <clipPath id=\"clip542\">\n",
       "    <rect x=\"112\" y=\"47\" width=\"2242\" height=\"1440\"/>\n",
       "  </clipPath>\n",
       "</defs>\n",
       "<polyline clip-path=\"url(#clip542)\" style=\"stroke:#000000; stroke-width:2; stroke-opacity:0.1; fill:none\" points=\"\n",
       "  175.59,1486.45 175.59,47.2441 \n",
       "  \"/>\n",
       "<polyline clip-path=\"url(#clip542)\" style=\"stroke:#000000; stroke-width:2; stroke-opacity:0.1; fill:none\" points=\"\n",
       "  527.882,1486.45 527.882,47.2441 \n",
       "  \"/>\n",
       "<polyline clip-path=\"url(#clip542)\" style=\"stroke:#000000; stroke-width:2; stroke-opacity:0.1; fill:none\" points=\"\n",
       "  880.174,1486.45 880.174,47.2441 \n",
       "  \"/>\n",
       "<polyline clip-path=\"url(#clip542)\" style=\"stroke:#000000; stroke-width:2; stroke-opacity:0.1; fill:none\" points=\"\n",
       "  1232.47,1486.45 1232.47,47.2441 \n",
       "  \"/>\n",
       "<polyline clip-path=\"url(#clip542)\" style=\"stroke:#000000; stroke-width:2; stroke-opacity:0.1; fill:none\" points=\"\n",
       "  1584.76,1486.45 1584.76,47.2441 \n",
       "  \"/>\n",
       "<polyline clip-path=\"url(#clip542)\" style=\"stroke:#000000; stroke-width:2; stroke-opacity:0.1; fill:none\" points=\"\n",
       "  1937.05,1486.45 1937.05,47.2441 \n",
       "  \"/>\n",
       "<polyline clip-path=\"url(#clip542)\" style=\"stroke:#000000; stroke-width:2; stroke-opacity:0.1; fill:none\" points=\"\n",
       "  2289.34,1486.45 2289.34,47.2441 \n",
       "  \"/>\n",
       "<polyline clip-path=\"url(#clip542)\" style=\"stroke:#000000; stroke-width:2; stroke-opacity:0.1; fill:none\" points=\"\n",
       "  112.177,1445.72 2352.76,1445.72 \n",
       "  \"/>\n",
       "<polyline clip-path=\"url(#clip542)\" style=\"stroke:#000000; stroke-width:2; stroke-opacity:0.1; fill:none\" points=\"\n",
       "  112.177,1144 2352.76,1144 \n",
       "  \"/>\n",
       "<polyline clip-path=\"url(#clip542)\" style=\"stroke:#000000; stroke-width:2; stroke-opacity:0.1; fill:none\" points=\"\n",
       "  112.177,842.276 2352.76,842.276 \n",
       "  \"/>\n",
       "<polyline clip-path=\"url(#clip542)\" style=\"stroke:#000000; stroke-width:2; stroke-opacity:0.1; fill:none\" points=\"\n",
       "  112.177,540.556 2352.76,540.556 \n",
       "  \"/>\n",
       "<polyline clip-path=\"url(#clip542)\" style=\"stroke:#000000; stroke-width:2; stroke-opacity:0.1; fill:none\" points=\"\n",
       "  112.177,238.836 2352.76,238.836 \n",
       "  \"/>\n",
       "<polyline clip-path=\"url(#clip540)\" style=\"stroke:#000000; stroke-width:4; stroke-opacity:1; fill:none\" points=\"\n",
       "  112.177,1486.45 2352.76,1486.45 \n",
       "  \"/>\n",
       "<polyline clip-path=\"url(#clip540)\" style=\"stroke:#000000; stroke-width:4; stroke-opacity:1; fill:none\" points=\"\n",
       "  112.177,1486.45 112.177,47.2441 \n",
       "  \"/>\n",
       "<polyline clip-path=\"url(#clip540)\" style=\"stroke:#000000; stroke-width:4; stroke-opacity:1; fill:none\" points=\"\n",
       "  175.59,1486.45 175.59,1469.18 \n",
       "  \"/>\n",
       "<polyline clip-path=\"url(#clip540)\" style=\"stroke:#000000; stroke-width:4; stroke-opacity:1; fill:none\" points=\"\n",
       "  527.882,1486.45 527.882,1469.18 \n",
       "  \"/>\n",
       "<polyline clip-path=\"url(#clip540)\" style=\"stroke:#000000; stroke-width:4; stroke-opacity:1; fill:none\" points=\"\n",
       "  880.174,1486.45 880.174,1469.18 \n",
       "  \"/>\n",
       "<polyline clip-path=\"url(#clip540)\" style=\"stroke:#000000; stroke-width:4; stroke-opacity:1; fill:none\" points=\"\n",
       "  1232.47,1486.45 1232.47,1469.18 \n",
       "  \"/>\n",
       "<polyline clip-path=\"url(#clip540)\" style=\"stroke:#000000; stroke-width:4; stroke-opacity:1; fill:none\" points=\"\n",
       "  1584.76,1486.45 1584.76,1469.18 \n",
       "  \"/>\n",
       "<polyline clip-path=\"url(#clip540)\" style=\"stroke:#000000; stroke-width:4; stroke-opacity:1; fill:none\" points=\"\n",
       "  1937.05,1486.45 1937.05,1469.18 \n",
       "  \"/>\n",
       "<polyline clip-path=\"url(#clip540)\" style=\"stroke:#000000; stroke-width:4; stroke-opacity:1; fill:none\" points=\"\n",
       "  2289.34,1486.45 2289.34,1469.18 \n",
       "  \"/>\n",
       "<polyline clip-path=\"url(#clip540)\" style=\"stroke:#000000; stroke-width:4; stroke-opacity:1; fill:none\" points=\"\n",
       "  112.177,1445.72 139.064,1445.72 \n",
       "  \"/>\n",
       "<polyline clip-path=\"url(#clip540)\" style=\"stroke:#000000; stroke-width:4; stroke-opacity:1; fill:none\" points=\"\n",
       "  112.177,1144 139.064,1144 \n",
       "  \"/>\n",
       "<polyline clip-path=\"url(#clip540)\" style=\"stroke:#000000; stroke-width:4; stroke-opacity:1; fill:none\" points=\"\n",
       "  112.177,842.276 139.064,842.276 \n",
       "  \"/>\n",
       "<polyline clip-path=\"url(#clip540)\" style=\"stroke:#000000; stroke-width:4; stroke-opacity:1; fill:none\" points=\"\n",
       "  112.177,540.556 139.064,540.556 \n",
       "  \"/>\n",
       "<polyline clip-path=\"url(#clip540)\" style=\"stroke:#000000; stroke-width:4; stroke-opacity:1; fill:none\" points=\"\n",
       "  112.177,238.836 139.064,238.836 \n",
       "  \"/>\n",
       "<path clip-path=\"url(#clip540)\" d=\"M 0 0 M147.569 1523.09 L177.245 1523.09 L177.245 1527.03 L147.569 1527.03 L147.569 1523.09 Z\" fill=\"#000000\" fill-rule=\"evenodd\" fill-opacity=\"1\" /><path clip-path=\"url(#clip540)\" d=\"M 0 0 M196.481 1521.29 Q199.837 1522 201.712 1524.27 Q203.61 1526.54 203.61 1529.87 Q203.61 1534.99 200.092 1537.79 Q196.573 1540.59 190.092 1540.59 Q187.916 1540.59 185.601 1540.15 Q183.31 1539.73 180.856 1538.88 L180.856 1534.36 Q182.8 1535.5 185.115 1536.08 Q187.43 1536.66 189.953 1536.66 Q194.351 1536.66 196.643 1534.92 Q198.958 1533.18 198.958 1529.87 Q198.958 1526.82 196.805 1525.11 Q194.675 1523.37 190.856 1523.37 L186.828 1523.37 L186.828 1519.53 L191.041 1519.53 Q194.49 1519.53 196.319 1518.16 Q198.148 1516.77 198.148 1514.18 Q198.148 1511.52 196.249 1510.11 Q194.374 1508.67 190.856 1508.67 Q188.935 1508.67 186.736 1509.09 Q184.536 1509.5 181.898 1510.38 L181.898 1506.22 Q184.56 1505.48 186.874 1505.11 Q189.212 1504.73 191.273 1504.73 Q196.597 1504.73 199.698 1507.17 Q202.8 1509.57 202.8 1513.69 Q202.8 1516.56 201.157 1518.55 Q199.513 1520.52 196.481 1521.29 Z\" fill=\"#000000\" fill-rule=\"evenodd\" fill-opacity=\"1\" /><path clip-path=\"url(#clip540)\" d=\"M 0 0 M500.336 1523.09 L530.012 1523.09 L530.012 1527.03 L500.336 1527.03 L500.336 1523.09 Z\" fill=\"#000000\" fill-rule=\"evenodd\" fill-opacity=\"1\" /><path clip-path=\"url(#clip540)\" d=\"M 0 0 M539.109 1535.98 L555.428 1535.98 L555.428 1539.92 L533.484 1539.92 L533.484 1535.98 Q536.146 1533.23 540.729 1528.6 Q545.336 1523.95 546.516 1522.61 Q548.762 1520.08 549.641 1518.35 Q550.544 1516.59 550.544 1514.9 Q550.544 1512.14 548.6 1510.41 Q546.678 1508.67 543.576 1508.67 Q541.377 1508.67 538.924 1509.43 Q536.493 1510.2 533.715 1511.75 L533.715 1507.03 Q536.539 1505.89 538.993 1505.31 Q541.447 1504.73 543.484 1504.73 Q548.854 1504.73 552.049 1507.42 Q555.243 1510.11 555.243 1514.6 Q555.243 1516.73 554.433 1518.65 Q553.646 1520.54 551.539 1523.14 Q550.961 1523.81 547.859 1527.03 Q544.757 1530.22 539.109 1535.98 Z\" fill=\"#000000\" fill-rule=\"evenodd\" fill-opacity=\"1\" /><path clip-path=\"url(#clip540)\" d=\"M 0 0 M852.443 1523.09 L882.119 1523.09 L882.119 1527.03 L852.443 1527.03 L852.443 1523.09 Z\" fill=\"#000000\" fill-rule=\"evenodd\" fill-opacity=\"1\" /><path clip-path=\"url(#clip540)\" d=\"M 0 0 M887.998 1535.98 L895.637 1535.98 L895.637 1509.62 L887.327 1511.29 L887.327 1507.03 L895.591 1505.36 L900.267 1505.36 L900.267 1535.98 L907.906 1535.98 L907.906 1539.92 L887.998 1539.92 L887.998 1535.98 Z\" fill=\"#000000\" fill-rule=\"evenodd\" fill-opacity=\"1\" /><path clip-path=\"url(#clip540)\" d=\"M 0 0 M1232.47 1508.44 Q1228.86 1508.44 1227.03 1512 Q1225.22 1515.55 1225.22 1522.67 Q1225.22 1529.78 1227.03 1533.35 Q1228.86 1536.89 1232.47 1536.89 Q1236.1 1536.89 1237.91 1533.35 Q1239.74 1529.78 1239.74 1522.67 Q1239.74 1515.55 1237.91 1512 Q1236.1 1508.44 1232.47 1508.44 M1232.47 1504.73 Q1238.28 1504.73 1241.33 1509.34 Q1244.41 1513.92 1244.41 1522.67 Q1244.41 1531.4 1241.33 1536.01 Q1238.28 1540.59 1232.47 1540.59 Q1226.66 1540.59 1223.58 1536.01 Q1220.52 1531.4 1220.52 1522.67 Q1220.52 1513.92 1223.58 1509.34 Q1226.66 1504.73 1232.47 1504.73 Z\" fill=\"#000000\" fill-rule=\"evenodd\" fill-opacity=\"1\" /><path clip-path=\"url(#clip540)\" d=\"M 0 0 M1575.14 1535.98 L1582.78 1535.98 L1582.78 1509.62 L1574.47 1511.29 L1574.47 1507.03 L1582.73 1505.36 L1587.41 1505.36 L1587.41 1535.98 L1595.05 1535.98 L1595.05 1539.92 L1575.14 1539.92 L1575.14 1535.98 Z\" fill=\"#000000\" fill-rule=\"evenodd\" fill-opacity=\"1\" /><path clip-path=\"url(#clip540)\" d=\"M 0 0 M1931.7 1535.98 L1948.02 1535.98 L1948.02 1539.92 L1926.08 1539.92 L1926.08 1535.98 Q1928.74 1533.23 1933.32 1528.6 Q1937.93 1523.95 1939.11 1522.61 Q1941.36 1520.08 1942.24 1518.35 Q1943.14 1516.59 1943.14 1514.9 Q1943.14 1512.14 1941.19 1510.41 Q1939.27 1508.67 1936.17 1508.67 Q1933.97 1508.67 1931.52 1509.43 Q1929.09 1510.2 1926.31 1511.75 L1926.31 1507.03 Q1929.13 1505.89 1931.59 1505.31 Q1934.04 1504.73 1936.08 1504.73 Q1941.45 1504.73 1944.64 1507.42 Q1947.84 1510.11 1947.84 1514.6 Q1947.84 1516.73 1947.03 1518.65 Q1946.24 1520.54 1944.13 1523.14 Q1943.56 1523.81 1940.45 1527.03 Q1937.35 1530.22 1931.7 1535.98 Z\" fill=\"#000000\" fill-rule=\"evenodd\" fill-opacity=\"1\" /><path clip-path=\"url(#clip540)\" d=\"M 0 0 M2293.59 1521.29 Q2296.95 1522 2298.82 1524.27 Q2300.72 1526.54 2300.72 1529.87 Q2300.72 1534.99 2297.2 1537.79 Q2293.68 1540.59 2287.2 1540.59 Q2285.03 1540.59 2282.71 1540.15 Q2280.42 1539.73 2277.97 1538.88 L2277.97 1534.36 Q2279.91 1535.5 2282.23 1536.08 Q2284.54 1536.66 2287.06 1536.66 Q2291.46 1536.66 2293.75 1534.92 Q2296.07 1533.18 2296.07 1529.87 Q2296.07 1526.82 2293.92 1525.11 Q2291.79 1523.37 2287.97 1523.37 L2283.94 1523.37 L2283.94 1519.53 L2288.15 1519.53 Q2291.6 1519.53 2293.43 1518.16 Q2295.26 1516.77 2295.26 1514.18 Q2295.26 1511.52 2293.36 1510.11 Q2291.48 1508.67 2287.97 1508.67 Q2286.04 1508.67 2283.85 1509.09 Q2281.65 1509.5 2279.01 1510.38 L2279.01 1506.22 Q2281.67 1505.48 2283.98 1505.11 Q2286.32 1504.73 2288.38 1504.73 Q2293.71 1504.73 2296.81 1507.17 Q2299.91 1509.57 2299.91 1513.69 Q2299.91 1516.56 2298.27 1518.55 Q2296.62 1520.52 2293.59 1521.29 Z\" fill=\"#000000\" fill-rule=\"evenodd\" fill-opacity=\"1\" /><path clip-path=\"url(#clip540)\" d=\"M 0 0 M76.2328 1431.51 Q72.6217 1431.51 70.793 1435.08 Q68.9875 1438.62 68.9875 1445.75 Q68.9875 1452.86 70.793 1456.42 Q72.6217 1459.96 76.2328 1459.96 Q79.867 1459.96 81.6726 1456.42 Q83.5013 1452.86 83.5013 1445.75 Q83.5013 1438.62 81.6726 1435.08 Q79.867 1431.51 76.2328 1431.51 M76.2328 1427.81 Q82.0429 1427.81 85.0985 1432.42 Q88.1772 1437 88.1772 1445.75 Q88.1772 1454.48 85.0985 1459.08 Q82.0429 1463.67 76.2328 1463.67 Q70.4226 1463.67 67.344 1459.08 Q64.2884 1454.48 64.2884 1445.75 Q64.2884 1437 67.344 1432.42 Q70.4226 1427.81 76.2328 1427.81 Z\" fill=\"#000000\" fill-rule=\"evenodd\" fill-opacity=\"1\" /><path clip-path=\"url(#clip540)\" d=\"M 0 0 M71.8578 1157.34 L88.1772 1157.34 L88.1772 1161.28 L66.2328 1161.28 L66.2328 1157.34 Q68.8949 1154.59 73.4782 1149.96 Q78.0846 1145.3 79.2652 1143.96 Q81.5105 1141.44 82.3902 1139.7 Q83.2929 1137.94 83.2929 1136.25 Q83.2929 1133.5 81.3485 1131.76 Q79.4272 1130.03 76.3254 1130.03 Q74.1263 1130.03 71.6726 1130.79 Q69.2421 1131.55 66.4643 1133.1 L66.4643 1128.38 Q69.2884 1127.25 71.7421 1126.67 Q74.1958 1126.09 76.2328 1126.09 Q81.6031 1126.09 84.7976 1128.78 Q87.992 1131.46 87.992 1135.95 Q87.992 1138.08 87.1818 1140 Q86.3948 1141.9 84.2883 1144.49 Q83.7096 1145.16 80.6078 1148.38 Q77.5059 1151.58 71.8578 1157.34 Z\" fill=\"#000000\" fill-rule=\"evenodd\" fill-opacity=\"1\" /><path clip-path=\"url(#clip540)\" d=\"M 0 0 M78.5939 829.07 L66.7884 847.519 L78.5939 847.519 L78.5939 829.07 M77.367 824.996 L83.2466 824.996 L83.2466 847.519 L88.1772 847.519 L88.1772 851.408 L83.2466 851.408 L83.2466 859.556 L78.5939 859.556 L78.5939 851.408 L62.9921 851.408 L62.9921 846.894 L77.367 824.996 Z\" fill=\"#000000\" fill-rule=\"evenodd\" fill-opacity=\"1\" /><path clip-path=\"url(#clip540)\" d=\"M 0 0 M76.6495 538.693 Q73.5013 538.693 71.6495 540.845 Q69.8208 542.998 69.8208 546.748 Q69.8208 550.475 71.6495 552.651 Q73.5013 554.804 76.6495 554.804 Q79.7976 554.804 81.6263 552.651 Q83.4781 550.475 83.4781 546.748 Q83.4781 542.998 81.6263 540.845 Q79.7976 538.693 76.6495 538.693 M85.9318 524.04 L85.9318 528.299 Q84.1726 527.466 82.367 527.026 Q80.5846 526.586 78.8254 526.586 Q74.1958 526.586 71.7421 529.711 Q69.3115 532.836 68.9643 539.156 Q70.33 537.142 72.3902 536.077 Q74.4504 534.989 76.9272 534.989 Q82.1355 534.989 85.1448 538.16 Q88.1772 541.308 88.1772 546.748 Q88.1772 552.072 85.029 555.29 Q81.8809 558.507 76.6495 558.507 Q70.6541 558.507 67.4828 553.924 Q64.3116 549.318 64.3116 540.591 Q64.3116 532.396 68.2004 527.535 Q72.0893 522.651 78.6402 522.651 Q80.3994 522.651 82.1818 522.998 Q83.9874 523.346 85.9318 524.04 Z\" fill=\"#000000\" fill-rule=\"evenodd\" fill-opacity=\"1\" /><path clip-path=\"url(#clip540)\" d=\"M 0 0 M76.3254 239.704 Q72.9921 239.704 71.0708 241.487 Q69.1726 243.269 69.1726 246.394 Q69.1726 249.519 71.0708 251.301 Q72.9921 253.084 76.3254 253.084 Q79.6587 253.084 81.58 251.301 Q83.5013 249.496 83.5013 246.394 Q83.5013 243.269 81.58 241.487 Q79.6819 239.704 76.3254 239.704 M71.6495 237.714 Q68.6402 236.973 66.9504 234.913 Q65.2838 232.852 65.2838 229.89 Q65.2838 225.746 68.2236 223.339 Q71.1865 220.931 76.3254 220.931 Q81.4874 220.931 84.4272 223.339 Q87.367 225.746 87.367 229.89 Q87.367 232.852 85.6772 234.913 Q84.0105 236.973 81.0244 237.714 Q84.404 238.501 86.279 240.792 Q88.1772 243.084 88.1772 246.394 Q88.1772 251.417 85.0985 254.102 Q82.0429 256.788 76.3254 256.788 Q70.6078 256.788 67.5291 254.102 Q64.4736 251.417 64.4736 246.394 Q64.4736 243.084 66.3717 240.792 Q68.2699 238.501 71.6495 237.714 M69.9365 230.329 Q69.9365 233.014 71.6032 234.519 Q73.293 236.024 76.3254 236.024 Q79.3346 236.024 81.0244 234.519 Q82.7374 233.014 82.7374 230.329 Q82.7374 227.644 81.0244 226.14 Q79.3346 224.635 76.3254 224.635 Q73.293 224.635 71.6032 226.14 Q69.9365 227.644 69.9365 230.329 Z\" fill=\"#000000\" fill-rule=\"evenodd\" fill-opacity=\"1\" /><polyline clip-path=\"url(#clip542)\" style=\"stroke:#009af9; stroke-width:4; stroke-opacity:1; fill:none\" points=\"\n",
       "  175.59,87.9763 210.819,176.984 246.048,262.974 281.277,345.947 316.507,425.903 351.736,502.841 386.965,576.762 422.194,647.667 457.424,715.554 492.653,780.423 \n",
       "  527.882,842.276 563.111,901.111 598.34,956.93 633.57,1009.73 668.799,1059.51 704.028,1106.28 739.257,1150.03 774.487,1190.76 809.716,1228.48 844.945,1263.18 \n",
       "  880.174,1294.86 915.404,1323.52 950.633,1349.17 985.862,1371.79 1021.09,1391.41 1056.32,1408 1091.55,1421.58 1126.78,1432.14 1162.01,1439.68 1197.24,1444.21 \n",
       "  1232.47,1445.72 1267.7,1444.21 1302.92,1439.68 1338.15,1432.14 1373.38,1421.58 1408.61,1408 1443.84,1391.41 1479.07,1371.79 1514.3,1349.17 1549.53,1323.52 \n",
       "  1584.76,1294.86 1619.99,1263.18 1655.22,1228.48 1690.45,1190.76 1725.68,1150.03 1760.9,1106.28 1796.13,1059.51 1831.36,1009.73 1866.59,956.93 1901.82,901.111 \n",
       "  1937.05,842.276 1972.28,780.423 2007.51,715.554 2042.74,647.667 2077.97,576.762 2113.2,502.841 2148.43,425.903 2183.66,345.947 2218.88,262.974 2254.11,176.984 \n",
       "  2289.34,87.9763 \n",
       "  \"/>\n",
       "<circle clip-path=\"url(#clip542)\" cx=\"175.59\" cy=\"87.9763\" r=\"14\" fill=\"#e26f46\" fill-rule=\"evenodd\" fill-opacity=\"1\" stroke=\"#000000\" stroke-opacity=\"1\" stroke-width=\"3.2\"/>\n",
       "<circle clip-path=\"url(#clip542)\" cx=\"210.819\" cy=\"176.984\" r=\"14\" fill=\"#e26f46\" fill-rule=\"evenodd\" fill-opacity=\"1\" stroke=\"#000000\" stroke-opacity=\"1\" stroke-width=\"3.2\"/>\n",
       "<circle clip-path=\"url(#clip542)\" cx=\"246.048\" cy=\"262.974\" r=\"14\" fill=\"#e26f46\" fill-rule=\"evenodd\" fill-opacity=\"1\" stroke=\"#000000\" stroke-opacity=\"1\" stroke-width=\"3.2\"/>\n",
       "<circle clip-path=\"url(#clip542)\" cx=\"281.277\" cy=\"345.947\" r=\"14\" fill=\"#e26f46\" fill-rule=\"evenodd\" fill-opacity=\"1\" stroke=\"#000000\" stroke-opacity=\"1\" stroke-width=\"3.2\"/>\n",
       "<circle clip-path=\"url(#clip542)\" cx=\"316.507\" cy=\"425.903\" r=\"14\" fill=\"#e26f46\" fill-rule=\"evenodd\" fill-opacity=\"1\" stroke=\"#000000\" stroke-opacity=\"1\" stroke-width=\"3.2\"/>\n",
       "<circle clip-path=\"url(#clip542)\" cx=\"351.736\" cy=\"502.841\" r=\"14\" fill=\"#e26f46\" fill-rule=\"evenodd\" fill-opacity=\"1\" stroke=\"#000000\" stroke-opacity=\"1\" stroke-width=\"3.2\"/>\n",
       "<circle clip-path=\"url(#clip542)\" cx=\"386.965\" cy=\"576.762\" r=\"14\" fill=\"#e26f46\" fill-rule=\"evenodd\" fill-opacity=\"1\" stroke=\"#000000\" stroke-opacity=\"1\" stroke-width=\"3.2\"/>\n",
       "<circle clip-path=\"url(#clip542)\" cx=\"422.194\" cy=\"647.667\" r=\"14\" fill=\"#e26f46\" fill-rule=\"evenodd\" fill-opacity=\"1\" stroke=\"#000000\" stroke-opacity=\"1\" stroke-width=\"3.2\"/>\n",
       "<circle clip-path=\"url(#clip542)\" cx=\"457.424\" cy=\"715.554\" r=\"14\" fill=\"#e26f46\" fill-rule=\"evenodd\" fill-opacity=\"1\" stroke=\"#000000\" stroke-opacity=\"1\" stroke-width=\"3.2\"/>\n",
       "<circle clip-path=\"url(#clip542)\" cx=\"492.653\" cy=\"780.423\" r=\"14\" fill=\"#e26f46\" fill-rule=\"evenodd\" fill-opacity=\"1\" stroke=\"#000000\" stroke-opacity=\"1\" stroke-width=\"3.2\"/>\n",
       "<circle clip-path=\"url(#clip542)\" cx=\"527.882\" cy=\"842.276\" r=\"14\" fill=\"#e26f46\" fill-rule=\"evenodd\" fill-opacity=\"1\" stroke=\"#000000\" stroke-opacity=\"1\" stroke-width=\"3.2\"/>\n",
       "<circle clip-path=\"url(#clip542)\" cx=\"563.111\" cy=\"901.111\" r=\"14\" fill=\"#e26f46\" fill-rule=\"evenodd\" fill-opacity=\"1\" stroke=\"#000000\" stroke-opacity=\"1\" stroke-width=\"3.2\"/>\n",
       "<circle clip-path=\"url(#clip542)\" cx=\"598.34\" cy=\"956.93\" r=\"14\" fill=\"#e26f46\" fill-rule=\"evenodd\" fill-opacity=\"1\" stroke=\"#000000\" stroke-opacity=\"1\" stroke-width=\"3.2\"/>\n",
       "<circle clip-path=\"url(#clip542)\" cx=\"633.57\" cy=\"1009.73\" r=\"14\" fill=\"#e26f46\" fill-rule=\"evenodd\" fill-opacity=\"1\" stroke=\"#000000\" stroke-opacity=\"1\" stroke-width=\"3.2\"/>\n",
       "<circle clip-path=\"url(#clip542)\" cx=\"668.799\" cy=\"1059.51\" r=\"14\" fill=\"#e26f46\" fill-rule=\"evenodd\" fill-opacity=\"1\" stroke=\"#000000\" stroke-opacity=\"1\" stroke-width=\"3.2\"/>\n",
       "<circle clip-path=\"url(#clip542)\" cx=\"704.028\" cy=\"1106.28\" r=\"14\" fill=\"#e26f46\" fill-rule=\"evenodd\" fill-opacity=\"1\" stroke=\"#000000\" stroke-opacity=\"1\" stroke-width=\"3.2\"/>\n",
       "<circle clip-path=\"url(#clip542)\" cx=\"739.257\" cy=\"1150.03\" r=\"14\" fill=\"#e26f46\" fill-rule=\"evenodd\" fill-opacity=\"1\" stroke=\"#000000\" stroke-opacity=\"1\" stroke-width=\"3.2\"/>\n",
       "<circle clip-path=\"url(#clip542)\" cx=\"774.487\" cy=\"1190.76\" r=\"14\" fill=\"#e26f46\" fill-rule=\"evenodd\" fill-opacity=\"1\" stroke=\"#000000\" stroke-opacity=\"1\" stroke-width=\"3.2\"/>\n",
       "<circle clip-path=\"url(#clip542)\" cx=\"809.716\" cy=\"1228.48\" r=\"14\" fill=\"#e26f46\" fill-rule=\"evenodd\" fill-opacity=\"1\" stroke=\"#000000\" stroke-opacity=\"1\" stroke-width=\"3.2\"/>\n",
       "<circle clip-path=\"url(#clip542)\" cx=\"844.945\" cy=\"1263.18\" r=\"14\" fill=\"#e26f46\" fill-rule=\"evenodd\" fill-opacity=\"1\" stroke=\"#000000\" stroke-opacity=\"1\" stroke-width=\"3.2\"/>\n",
       "<circle clip-path=\"url(#clip542)\" cx=\"880.174\" cy=\"1294.86\" r=\"14\" fill=\"#e26f46\" fill-rule=\"evenodd\" fill-opacity=\"1\" stroke=\"#000000\" stroke-opacity=\"1\" stroke-width=\"3.2\"/>\n",
       "<circle clip-path=\"url(#clip542)\" cx=\"915.404\" cy=\"1323.52\" r=\"14\" fill=\"#e26f46\" fill-rule=\"evenodd\" fill-opacity=\"1\" stroke=\"#000000\" stroke-opacity=\"1\" stroke-width=\"3.2\"/>\n",
       "<circle clip-path=\"url(#clip542)\" cx=\"950.633\" cy=\"1349.17\" r=\"14\" fill=\"#e26f46\" fill-rule=\"evenodd\" fill-opacity=\"1\" stroke=\"#000000\" stroke-opacity=\"1\" stroke-width=\"3.2\"/>\n",
       "<circle clip-path=\"url(#clip542)\" cx=\"985.862\" cy=\"1371.79\" r=\"14\" fill=\"#e26f46\" fill-rule=\"evenodd\" fill-opacity=\"1\" stroke=\"#000000\" stroke-opacity=\"1\" stroke-width=\"3.2\"/>\n",
       "<circle clip-path=\"url(#clip542)\" cx=\"1021.09\" cy=\"1391.41\" r=\"14\" fill=\"#e26f46\" fill-rule=\"evenodd\" fill-opacity=\"1\" stroke=\"#000000\" stroke-opacity=\"1\" stroke-width=\"3.2\"/>\n",
       "<circle clip-path=\"url(#clip542)\" cx=\"1056.32\" cy=\"1408\" r=\"14\" fill=\"#e26f46\" fill-rule=\"evenodd\" fill-opacity=\"1\" stroke=\"#000000\" stroke-opacity=\"1\" stroke-width=\"3.2\"/>\n",
       "<circle clip-path=\"url(#clip542)\" cx=\"1091.55\" cy=\"1421.58\" r=\"14\" fill=\"#e26f46\" fill-rule=\"evenodd\" fill-opacity=\"1\" stroke=\"#000000\" stroke-opacity=\"1\" stroke-width=\"3.2\"/>\n",
       "<circle clip-path=\"url(#clip542)\" cx=\"1126.78\" cy=\"1432.14\" r=\"14\" fill=\"#e26f46\" fill-rule=\"evenodd\" fill-opacity=\"1\" stroke=\"#000000\" stroke-opacity=\"1\" stroke-width=\"3.2\"/>\n",
       "<circle clip-path=\"url(#clip542)\" cx=\"1162.01\" cy=\"1439.68\" r=\"14\" fill=\"#e26f46\" fill-rule=\"evenodd\" fill-opacity=\"1\" stroke=\"#000000\" stroke-opacity=\"1\" stroke-width=\"3.2\"/>\n",
       "<circle clip-path=\"url(#clip542)\" cx=\"1197.24\" cy=\"1444.21\" r=\"14\" fill=\"#e26f46\" fill-rule=\"evenodd\" fill-opacity=\"1\" stroke=\"#000000\" stroke-opacity=\"1\" stroke-width=\"3.2\"/>\n",
       "<circle clip-path=\"url(#clip542)\" cx=\"1232.47\" cy=\"1445.72\" r=\"14\" fill=\"#e26f46\" fill-rule=\"evenodd\" fill-opacity=\"1\" stroke=\"#000000\" stroke-opacity=\"1\" stroke-width=\"3.2\"/>\n",
       "<circle clip-path=\"url(#clip542)\" cx=\"1267.7\" cy=\"1444.21\" r=\"14\" fill=\"#e26f46\" fill-rule=\"evenodd\" fill-opacity=\"1\" stroke=\"#000000\" stroke-opacity=\"1\" stroke-width=\"3.2\"/>\n",
       "<circle clip-path=\"url(#clip542)\" cx=\"1302.92\" cy=\"1439.68\" r=\"14\" fill=\"#e26f46\" fill-rule=\"evenodd\" fill-opacity=\"1\" stroke=\"#000000\" stroke-opacity=\"1\" stroke-width=\"3.2\"/>\n",
       "<circle clip-path=\"url(#clip542)\" cx=\"1338.15\" cy=\"1432.14\" r=\"14\" fill=\"#e26f46\" fill-rule=\"evenodd\" fill-opacity=\"1\" stroke=\"#000000\" stroke-opacity=\"1\" stroke-width=\"3.2\"/>\n",
       "<circle clip-path=\"url(#clip542)\" cx=\"1373.38\" cy=\"1421.58\" r=\"14\" fill=\"#e26f46\" fill-rule=\"evenodd\" fill-opacity=\"1\" stroke=\"#000000\" stroke-opacity=\"1\" stroke-width=\"3.2\"/>\n",
       "<circle clip-path=\"url(#clip542)\" cx=\"1408.61\" cy=\"1408\" r=\"14\" fill=\"#e26f46\" fill-rule=\"evenodd\" fill-opacity=\"1\" stroke=\"#000000\" stroke-opacity=\"1\" stroke-width=\"3.2\"/>\n",
       "<circle clip-path=\"url(#clip542)\" cx=\"1443.84\" cy=\"1391.41\" r=\"14\" fill=\"#e26f46\" fill-rule=\"evenodd\" fill-opacity=\"1\" stroke=\"#000000\" stroke-opacity=\"1\" stroke-width=\"3.2\"/>\n",
       "<circle clip-path=\"url(#clip542)\" cx=\"1479.07\" cy=\"1371.79\" r=\"14\" fill=\"#e26f46\" fill-rule=\"evenodd\" fill-opacity=\"1\" stroke=\"#000000\" stroke-opacity=\"1\" stroke-width=\"3.2\"/>\n",
       "<circle clip-path=\"url(#clip542)\" cx=\"1514.3\" cy=\"1349.17\" r=\"14\" fill=\"#e26f46\" fill-rule=\"evenodd\" fill-opacity=\"1\" stroke=\"#000000\" stroke-opacity=\"1\" stroke-width=\"3.2\"/>\n",
       "<circle clip-path=\"url(#clip542)\" cx=\"1549.53\" cy=\"1323.52\" r=\"14\" fill=\"#e26f46\" fill-rule=\"evenodd\" fill-opacity=\"1\" stroke=\"#000000\" stroke-opacity=\"1\" stroke-width=\"3.2\"/>\n",
       "<circle clip-path=\"url(#clip542)\" cx=\"1584.76\" cy=\"1294.86\" r=\"14\" fill=\"#e26f46\" fill-rule=\"evenodd\" fill-opacity=\"1\" stroke=\"#000000\" stroke-opacity=\"1\" stroke-width=\"3.2\"/>\n",
       "<circle clip-path=\"url(#clip542)\" cx=\"1619.99\" cy=\"1263.18\" r=\"14\" fill=\"#e26f46\" fill-rule=\"evenodd\" fill-opacity=\"1\" stroke=\"#000000\" stroke-opacity=\"1\" stroke-width=\"3.2\"/>\n",
       "<circle clip-path=\"url(#clip542)\" cx=\"1655.22\" cy=\"1228.48\" r=\"14\" fill=\"#e26f46\" fill-rule=\"evenodd\" fill-opacity=\"1\" stroke=\"#000000\" stroke-opacity=\"1\" stroke-width=\"3.2\"/>\n",
       "<circle clip-path=\"url(#clip542)\" cx=\"1690.45\" cy=\"1190.76\" r=\"14\" fill=\"#e26f46\" fill-rule=\"evenodd\" fill-opacity=\"1\" stroke=\"#000000\" stroke-opacity=\"1\" stroke-width=\"3.2\"/>\n",
       "<circle clip-path=\"url(#clip542)\" cx=\"1725.68\" cy=\"1150.03\" r=\"14\" fill=\"#e26f46\" fill-rule=\"evenodd\" fill-opacity=\"1\" stroke=\"#000000\" stroke-opacity=\"1\" stroke-width=\"3.2\"/>\n",
       "<circle clip-path=\"url(#clip542)\" cx=\"1760.9\" cy=\"1106.28\" r=\"14\" fill=\"#e26f46\" fill-rule=\"evenodd\" fill-opacity=\"1\" stroke=\"#000000\" stroke-opacity=\"1\" stroke-width=\"3.2\"/>\n",
       "<circle clip-path=\"url(#clip542)\" cx=\"1796.13\" cy=\"1059.51\" r=\"14\" fill=\"#e26f46\" fill-rule=\"evenodd\" fill-opacity=\"1\" stroke=\"#000000\" stroke-opacity=\"1\" stroke-width=\"3.2\"/>\n",
       "<circle clip-path=\"url(#clip542)\" cx=\"1831.36\" cy=\"1009.73\" r=\"14\" fill=\"#e26f46\" fill-rule=\"evenodd\" fill-opacity=\"1\" stroke=\"#000000\" stroke-opacity=\"1\" stroke-width=\"3.2\"/>\n",
       "<circle clip-path=\"url(#clip542)\" cx=\"1866.59\" cy=\"956.93\" r=\"14\" fill=\"#e26f46\" fill-rule=\"evenodd\" fill-opacity=\"1\" stroke=\"#000000\" stroke-opacity=\"1\" stroke-width=\"3.2\"/>\n",
       "<circle clip-path=\"url(#clip542)\" cx=\"1901.82\" cy=\"901.111\" r=\"14\" fill=\"#e26f46\" fill-rule=\"evenodd\" fill-opacity=\"1\" stroke=\"#000000\" stroke-opacity=\"1\" stroke-width=\"3.2\"/>\n",
       "<circle clip-path=\"url(#clip542)\" cx=\"1937.05\" cy=\"842.276\" r=\"14\" fill=\"#e26f46\" fill-rule=\"evenodd\" fill-opacity=\"1\" stroke=\"#000000\" stroke-opacity=\"1\" stroke-width=\"3.2\"/>\n",
       "<circle clip-path=\"url(#clip542)\" cx=\"1972.28\" cy=\"780.423\" r=\"14\" fill=\"#e26f46\" fill-rule=\"evenodd\" fill-opacity=\"1\" stroke=\"#000000\" stroke-opacity=\"1\" stroke-width=\"3.2\"/>\n",
       "<circle clip-path=\"url(#clip542)\" cx=\"2007.51\" cy=\"715.554\" r=\"14\" fill=\"#e26f46\" fill-rule=\"evenodd\" fill-opacity=\"1\" stroke=\"#000000\" stroke-opacity=\"1\" stroke-width=\"3.2\"/>\n",
       "<circle clip-path=\"url(#clip542)\" cx=\"2042.74\" cy=\"647.667\" r=\"14\" fill=\"#e26f46\" fill-rule=\"evenodd\" fill-opacity=\"1\" stroke=\"#000000\" stroke-opacity=\"1\" stroke-width=\"3.2\"/>\n",
       "<circle clip-path=\"url(#clip542)\" cx=\"2077.97\" cy=\"576.762\" r=\"14\" fill=\"#e26f46\" fill-rule=\"evenodd\" fill-opacity=\"1\" stroke=\"#000000\" stroke-opacity=\"1\" stroke-width=\"3.2\"/>\n",
       "<circle clip-path=\"url(#clip542)\" cx=\"2113.2\" cy=\"502.841\" r=\"14\" fill=\"#e26f46\" fill-rule=\"evenodd\" fill-opacity=\"1\" stroke=\"#000000\" stroke-opacity=\"1\" stroke-width=\"3.2\"/>\n",
       "<circle clip-path=\"url(#clip542)\" cx=\"2148.43\" cy=\"425.903\" r=\"14\" fill=\"#e26f46\" fill-rule=\"evenodd\" fill-opacity=\"1\" stroke=\"#000000\" stroke-opacity=\"1\" stroke-width=\"3.2\"/>\n",
       "<circle clip-path=\"url(#clip542)\" cx=\"2183.66\" cy=\"345.947\" r=\"14\" fill=\"#e26f46\" fill-rule=\"evenodd\" fill-opacity=\"1\" stroke=\"#000000\" stroke-opacity=\"1\" stroke-width=\"3.2\"/>\n",
       "<circle clip-path=\"url(#clip542)\" cx=\"2218.88\" cy=\"262.974\" r=\"14\" fill=\"#e26f46\" fill-rule=\"evenodd\" fill-opacity=\"1\" stroke=\"#000000\" stroke-opacity=\"1\" stroke-width=\"3.2\"/>\n",
       "<circle clip-path=\"url(#clip542)\" cx=\"2254.11\" cy=\"176.984\" r=\"14\" fill=\"#e26f46\" fill-rule=\"evenodd\" fill-opacity=\"1\" stroke=\"#000000\" stroke-opacity=\"1\" stroke-width=\"3.2\"/>\n",
       "<circle clip-path=\"url(#clip542)\" cx=\"2289.34\" cy=\"87.9763\" r=\"14\" fill=\"#e26f46\" fill-rule=\"evenodd\" fill-opacity=\"1\" stroke=\"#000000\" stroke-opacity=\"1\" stroke-width=\"3.2\"/>\n",
       "<path clip-path=\"url(#clip540)\" d=\"\n",
       "M1904.93 276.658 L2278.07 276.658 L2278.07 95.2176 L1904.93 95.2176  Z\n",
       "  \" fill=\"#ffffff\" fill-rule=\"evenodd\" fill-opacity=\"1\"/>\n",
       "<polyline clip-path=\"url(#clip540)\" style=\"stroke:#000000; stroke-width:4; stroke-opacity:1; fill:none\" points=\"\n",
       "  1904.93,276.658 2278.07,276.658 2278.07,95.2176 1904.93,95.2176 1904.93,276.658 \n",
       "  \"/>\n",
       "<polyline clip-path=\"url(#clip540)\" style=\"stroke:#009af9; stroke-width:4; stroke-opacity:1; fill:none\" points=\"\n",
       "  1929.82,155.698 2079.19,155.698 \n",
       "  \"/>\n",
       "<path clip-path=\"url(#clip540)\" d=\"M 0 0 M2104.09 136.959 L2108.35 136.959 L2108.35 172.978 L2104.09 172.978 L2104.09 136.959 Z\" fill=\"#000000\" fill-rule=\"evenodd\" fill-opacity=\"1\" /><path clip-path=\"url(#clip540)\" d=\"M 0 0 M2112.82 147.052 L2117.08 147.052 L2117.08 172.978 L2112.82 172.978 L2112.82 147.052 M2112.82 136.959 L2117.08 136.959 L2117.08 142.353 L2112.82 142.353 L2112.82 136.959 Z\" fill=\"#000000\" fill-rule=\"evenodd\" fill-opacity=\"1\" /><path clip-path=\"url(#clip540)\" d=\"M 0 0 M2143.09 157.329 L2143.09 172.978 L2138.84 172.978 L2138.84 157.468 Q2138.84 153.788 2137.4 151.959 Q2135.96 150.13 2133.09 150.13 Q2129.65 150.13 2127.65 152.33 Q2125.66 154.529 2125.66 158.325 L2125.66 172.978 L2121.38 172.978 L2121.38 147.052 L2125.66 147.052 L2125.66 151.08 Q2127.19 148.742 2129.25 147.584 Q2131.34 146.427 2134.04 146.427 Q2138.51 146.427 2140.8 149.205 Q2143.09 151.959 2143.09 157.329 Z\" fill=\"#000000\" fill-rule=\"evenodd\" fill-opacity=\"1\" /><path clip-path=\"url(#clip540)\" d=\"M 0 0 M2169.74 158.95 L2169.74 161.033 L2150.15 161.033 Q2150.43 165.431 2152.79 167.746 Q2155.18 170.038 2159.41 170.038 Q2161.87 170.038 2164.16 169.436 Q2166.47 168.834 2168.74 167.63 L2168.74 171.658 Q2166.45 172.63 2164.04 173.14 Q2161.64 173.649 2159.16 173.649 Q2152.96 173.649 2149.32 170.038 Q2145.71 166.427 2145.71 160.269 Q2145.71 153.904 2149.14 150.177 Q2152.59 146.427 2158.42 146.427 Q2163.65 146.427 2166.68 149.806 Q2169.74 153.163 2169.74 158.95 M2165.48 157.7 Q2165.43 154.205 2163.51 152.121 Q2161.61 150.038 2158.46 150.038 Q2154.9 150.038 2152.75 152.052 Q2150.62 154.066 2150.29 157.723 L2165.48 157.7 Z\" fill=\"#000000\" fill-rule=\"evenodd\" fill-opacity=\"1\" /><circle clip-path=\"url(#clip540)\" cx=\"2004.51\" cy=\"216.178\" r=\"23\" fill=\"#e26f46\" fill-rule=\"evenodd\" fill-opacity=\"1\" stroke=\"#000000\" stroke-opacity=\"1\" stroke-width=\"5.12\"/>\n",
       "<path clip-path=\"url(#clip540)\" d=\"M 0 0 M2108.37 229.569 L2108.37 243.319 L2104.09 243.319 L2104.09 207.532 L2108.37 207.532 L2108.37 211.467 Q2109.72 209.152 2111.75 208.041 Q2113.81 206.907 2116.66 206.907 Q2121.38 206.907 2124.32 210.657 Q2127.28 214.407 2127.28 220.518 Q2127.28 226.629 2124.32 230.379 Q2121.38 234.129 2116.66 234.129 Q2113.81 234.129 2111.75 233.018 Q2109.72 231.883 2108.37 229.569 M2122.86 220.518 Q2122.86 215.819 2120.92 213.157 Q2119 210.472 2115.62 210.472 Q2112.24 210.472 2110.29 213.157 Q2108.37 215.819 2108.37 220.518 Q2108.37 225.217 2110.29 227.902 Q2112.24 230.564 2115.62 230.564 Q2119 230.564 2120.92 227.902 Q2122.86 225.217 2122.86 220.518 Z\" fill=\"#000000\" fill-rule=\"evenodd\" fill-opacity=\"1\" /><path clip-path=\"url(#clip540)\" d=\"M 0 0 M2141.8 210.518 Q2138.37 210.518 2136.38 213.203 Q2134.39 215.865 2134.39 220.518 Q2134.39 225.171 2136.36 227.856 Q2138.35 230.518 2141.8 230.518 Q2145.2 230.518 2147.19 227.833 Q2149.18 225.147 2149.18 220.518 Q2149.18 215.911 2147.19 213.226 Q2145.2 210.518 2141.8 210.518 M2141.8 206.907 Q2147.35 206.907 2150.53 210.518 Q2153.7 214.129 2153.7 220.518 Q2153.7 226.884 2150.53 230.518 Q2147.35 234.129 2141.8 234.129 Q2136.22 234.129 2133.05 230.518 Q2129.9 226.884 2129.9 220.518 Q2129.9 214.129 2133.05 210.518 Q2136.22 206.907 2141.8 206.907 Z\" fill=\"#000000\" fill-rule=\"evenodd\" fill-opacity=\"1\" /><path clip-path=\"url(#clip540)\" d=\"M 0 0 M2158.16 207.532 L2162.42 207.532 L2162.42 233.458 L2158.16 233.458 L2158.16 207.532 M2158.16 197.439 L2162.42 197.439 L2162.42 202.833 L2158.16 202.833 L2158.16 197.439 Z\" fill=\"#000000\" fill-rule=\"evenodd\" fill-opacity=\"1\" /><path clip-path=\"url(#clip540)\" d=\"M 0 0 M2188.44 217.809 L2188.44 233.458 L2184.18 233.458 L2184.18 217.948 Q2184.18 214.268 2182.75 212.439 Q2181.31 210.61 2178.44 210.61 Q2174.99 210.61 2173 212.81 Q2171.01 215.009 2171.01 218.805 L2171.01 233.458 L2166.73 233.458 L2166.73 207.532 L2171.01 207.532 L2171.01 211.56 Q2172.54 209.222 2174.6 208.064 Q2176.68 206.907 2179.39 206.907 Q2183.86 206.907 2186.15 209.685 Q2188.44 212.439 2188.44 217.809 Z\" fill=\"#000000\" fill-rule=\"evenodd\" fill-opacity=\"1\" /><path clip-path=\"url(#clip540)\" d=\"M 0 0 M2197.12 200.171 L2197.12 207.532 L2205.9 207.532 L2205.9 210.842 L2197.12 210.842 L2197.12 224.916 Q2197.12 228.087 2197.98 228.99 Q2198.86 229.893 2201.52 229.893 L2205.9 229.893 L2205.9 233.458 L2201.52 233.458 Q2196.59 233.458 2194.71 231.629 Q2192.84 229.777 2192.84 224.916 L2192.84 210.842 L2189.71 210.842 L2189.71 207.532 L2192.84 207.532 L2192.84 200.171 L2197.12 200.171 Z\" fill=\"#000000\" fill-rule=\"evenodd\" fill-opacity=\"1\" /><path clip-path=\"url(#clip540)\" d=\"M 0 0 M2226.89 208.296 L2226.89 212.323 Q2225.08 211.397 2223.14 210.935 Q2221.2 210.472 2219.11 210.472 Q2215.94 210.472 2214.34 211.444 Q2212.77 212.416 2212.77 214.36 Q2212.77 215.842 2213.9 216.698 Q2215.04 217.532 2218.46 218.296 L2219.92 218.62 Q2224.46 219.592 2226.36 221.374 Q2228.28 223.134 2228.28 226.305 Q2228.28 229.916 2225.41 232.022 Q2222.56 234.129 2217.56 234.129 Q2215.48 234.129 2213.21 233.712 Q2210.96 233.319 2208.46 232.508 L2208.46 228.11 Q2210.83 229.337 2213.12 229.962 Q2215.41 230.564 2217.65 230.564 Q2220.66 230.564 2222.28 229.546 Q2223.9 228.504 2223.9 226.629 Q2223.9 224.893 2222.72 223.967 Q2221.57 223.041 2217.61 222.184 L2216.13 221.837 Q2212.17 221.004 2210.41 219.291 Q2208.65 217.555 2208.65 214.546 Q2208.65 210.888 2211.24 208.898 Q2213.83 206.907 2218.6 206.907 Q2220.96 206.907 2223.05 207.254 Q2225.13 207.601 2226.89 208.296 Z\" fill=\"#000000\" fill-rule=\"evenodd\" fill-opacity=\"1\" /></svg>\n"
      ]
     },
     "execution_count": 4,
     "metadata": {},
     "output_type": "execute_result"
    }
   ],
   "source": [
    "plot(x, y, label=\"line\")\n",
    "scatter!(x, y, label=\"points\")"
   ]
  },
  {
   "cell_type": "code",
   "execution_count": 17,
   "metadata": {},
   "outputs": [
    {
     "name": "stderr",
     "output_type": "stream",
     "text": [
      "\u001b[32m\u001b[1m  Resolving\u001b[22m\u001b[39m package versions...\n",
      "\u001b[32m\u001b[1m  Installed\u001b[22m\u001b[39m Pidfile ─────────────── v1.2.0\n",
      "\u001b[32m\u001b[1m  Installed\u001b[22m\u001b[39m Hiccup ──────────────── v0.2.2\n",
      "\u001b[32m\u001b[1m  Installed\u001b[22m\u001b[39m AssetRegistry ───────── v0.1.0\n",
      "\u001b[32m\u001b[1m  Installed\u001b[22m\u001b[39m Mux ─────────────────── v0.7.2\n",
      "\u001b[32m\u001b[1m  Installed\u001b[22m\u001b[39m FunctionalCollections ─ v0.5.0\n",
      "\u001b[32m\u001b[1m  Installed\u001b[22m\u001b[39m JSExpr ──────────────── v0.5.2\n",
      "\u001b[32m\u001b[1m  Installed\u001b[22m\u001b[39m Mustache ────────────── v1.0.5\n",
      "\u001b[32m\u001b[1m  Installed\u001b[22m\u001b[39m WebSockets ──────────── v1.5.2\n",
      "\u001b[32m\u001b[1m  Installed\u001b[22m\u001b[39m MacroTools ──────────── v0.5.5\n",
      "\u001b[32m\u001b[1m  Installed\u001b[22m\u001b[39m Widgets ─────────────── v0.6.2\n",
      "\u001b[32m\u001b[1m  Installed\u001b[22m\u001b[39m Lazy ────────────────── v0.14.0\n",
      "\u001b[32m\u001b[1m  Installed\u001b[22m\u001b[39m URIParser ───────────── v0.4.1\n",
      "\u001b[32m\u001b[1m  Installed\u001b[22m\u001b[39m PlotlyBase ──────────── v0.4.1\n",
      "\u001b[32m\u001b[1m  Installed\u001b[22m\u001b[39m PlotlyJS ────────────── v0.14.0\n",
      "\u001b[32m\u001b[1m  Installed\u001b[22m\u001b[39m LaTeXStrings ────────── v1.1.0\n",
      "\u001b[32m\u001b[1m  Installed\u001b[22m\u001b[39m BinDeps ─────────────── v1.0.1\n",
      "\u001b[32m\u001b[1m  Installed\u001b[22m\u001b[39m Blink ───────────────── v0.12.3\n",
      "\u001b[32m\u001b[1m  Installed\u001b[22m\u001b[39m Observables ─────────── v0.3.1\n",
      "\u001b[32m\u001b[1m  Installed\u001b[22m\u001b[39m DocStringExtensions ─── v0.8.3\n",
      "\u001b[32m\u001b[1m  Installed\u001b[22m\u001b[39m WebIO ───────────────── v0.8.14\n",
      "\u001b[32m\u001b[1mUpdating\u001b[22m\u001b[39m `C:\\Users\\HP\\.julia\\environments\\v1.5\\Project.toml`\n",
      " \u001b[90m [f0f68f2c] \u001b[39m\u001b[92m+ PlotlyJS v0.14.0\u001b[39m\n",
      "\u001b[32m\u001b[1mUpdating\u001b[22m\u001b[39m `C:\\Users\\HP\\.julia\\environments\\v1.5\\Manifest.toml`\n",
      " \u001b[90m [bf4720bc] \u001b[39m\u001b[92m+ AssetRegistry v0.1.0\u001b[39m\n",
      " \u001b[90m [9e28174c] \u001b[39m\u001b[92m+ BinDeps v1.0.1\u001b[39m\n",
      " \u001b[90m [ad839575] \u001b[39m\u001b[92m+ Blink v0.12.3\u001b[39m\n",
      " \u001b[90m [ffbed154] \u001b[39m\u001b[92m+ DocStringExtensions v0.8.3\u001b[39m\n",
      " \u001b[90m [de31a74c] \u001b[39m\u001b[92m+ FunctionalCollections v0.5.0\u001b[39m\n",
      " \u001b[90m [9fb69e20] \u001b[39m\u001b[92m+ Hiccup v0.2.2\u001b[39m\n",
      " \u001b[90m [97c1335a] \u001b[39m\u001b[92m+ JSExpr v0.5.2\u001b[39m\n",
      " \u001b[90m [b964fa9f] \u001b[39m\u001b[92m+ LaTeXStrings v1.1.0\u001b[39m\n",
      " \u001b[90m [50d2b5c4] \u001b[39m\u001b[92m+ Lazy v0.14.0\u001b[39m\n",
      " \u001b[90m [1914dd2f] \u001b[39m\u001b[92m+ MacroTools v0.5.5\u001b[39m\n",
      " \u001b[90m [ffc61752] \u001b[39m\u001b[92m+ Mustache v1.0.5\u001b[39m\n",
      " \u001b[90m [a975b10e] \u001b[39m\u001b[92m+ Mux v0.7.2\u001b[39m\n",
      " \u001b[90m [510215fc] \u001b[39m\u001b[92m+ Observables v0.3.1\u001b[39m\n",
      " \u001b[90m [fa939f87] \u001b[39m\u001b[92m+ Pidfile v1.2.0\u001b[39m\n",
      " \u001b[90m [a03496cd] \u001b[39m\u001b[92m+ PlotlyBase v0.4.1\u001b[39m\n",
      " \u001b[90m [f0f68f2c] \u001b[39m\u001b[92m+ PlotlyJS v0.14.0\u001b[39m\n",
      " \u001b[90m [30578b45] \u001b[39m\u001b[92m+ URIParser v0.4.1\u001b[39m\n",
      " \u001b[90m [0f1e0344] \u001b[39m\u001b[92m+ WebIO v0.8.14\u001b[39m\n",
      " \u001b[90m [104b5d7c] \u001b[39m\u001b[92m+ WebSockets v1.5.2\u001b[39m\n",
      " \u001b[90m [cc8bc4a8] \u001b[39m\u001b[92m+ Widgets v0.6.2\u001b[39m\n",
      "\u001b[32m\u001b[1m   Building\u001b[22m\u001b[39m WebIO ───→ `C:\\Users\\HP\\.julia\\packages\\WebIO\\nTMDV\\deps\\build.log`\n",
      "\u001b[32m\u001b[1m   Building\u001b[22m\u001b[39m Blink ───→ `C:\\Users\\HP\\.julia\\packages\\Blink\\u1xcH\\deps\\build.log`\n",
      "\u001b[32m\u001b[1m   Building\u001b[22m\u001b[39m PlotlyJS → `C:\\Users\\HP\\.julia\\packages\\PlotlyJS\\m2Lzd\\deps\\build.log`\n"
     ]
    }
   ],
   "source": [
    "Pkg.add(\"PlotlyJS\")"
   ]
  },
  {
   "cell_type": "code",
   "execution_count": 20,
   "metadata": {},
   "outputs": [
    {
     "name": "stderr",
     "output_type": "stream",
     "text": [
      "\u001b[32m\u001b[1m  Resolving\u001b[22m\u001b[39m package versions...\n",
      "\u001b[32m\u001b[1m  Installed\u001b[22m\u001b[39m ORCA ─ v0.5.0\n",
      "\u001b[32m\u001b[1mUpdating\u001b[22m\u001b[39m `C:\\Users\\HP\\.julia\\environments\\v1.5\\Project.toml`\n",
      " \u001b[90m [47be7bcc] \u001b[39m\u001b[92m+ ORCA v0.5.0\u001b[39m\n",
      "\u001b[32m\u001b[1mUpdating\u001b[22m\u001b[39m `C:\\Users\\HP\\.julia\\environments\\v1.5\\Manifest.toml`\n",
      " \u001b[90m [47be7bcc] \u001b[39m\u001b[92m+ ORCA v0.5.0\u001b[39m\n"
     ]
    }
   ],
   "source": [
    "Pkg.add(\"ORCA\")"
   ]
  },
  {
   "cell_type": "code",
   "execution_count": 21,
   "metadata": {},
   "outputs": [
    {
     "name": "stderr",
     "output_type": "stream",
     "text": [
      "\u001b[32m\u001b[1m  Resolving\u001b[22m\u001b[39m package versions...\n",
      "\u001b[32m\u001b[1mUpdating\u001b[22m\u001b[39m `C:\\Users\\HP\\.julia\\environments\\v1.5\\Project.toml`\n",
      " \u001b[90m [0f1e0344] \u001b[39m\u001b[92m+ WebIO v0.8.14\u001b[39m\n",
      "\u001b[32m\u001b[1mNo Changes\u001b[22m\u001b[39m to `C:\\Users\\HP\\.julia\\environments\\v1.5\\Manifest.toml`\n"
     ]
    }
   ],
   "source": [
    "Pkg.add(\"WebIO\")"
   ]
  },
  {
   "cell_type": "code",
   "execution_count": 22,
   "metadata": {},
   "outputs": [
    {
     "name": "stderr",
     "output_type": "stream",
     "text": [
      "\u001b[32m\u001b[1m  Resolving\u001b[22m\u001b[39m package versions...\n",
      "\u001b[32m\u001b[1mNo Changes\u001b[22m\u001b[39m to `C:\\Users\\HP\\.julia\\environments\\v1.5\\Project.toml`\n",
      "\u001b[32m\u001b[1mNo Changes\u001b[22m\u001b[39m to `C:\\Users\\HP\\.julia\\environments\\v1.5\\Manifest.toml`\n"
     ]
    }
   ],
   "source": [
    "Pkg.add(\"IJulia\")"
   ]
  },
  {
   "cell_type": "code",
   "execution_count": 5,
   "metadata": {},
   "outputs": [
    {
     "data": {
      "text/html": [
       "<script>\n",
       "// Immediately-invoked-function-expression to avoid global variables.\n",
       "(function() {\n",
       "    var warning_div = document.getElementById(\"webio-warning-13622865615059407337\");\n",
       "    var hide = function () {\n",
       "        var script = document.getElementById(\"webio-setup-1869614417103589955\");\n",
       "        var parent = script && script.parentElement;\n",
       "        var grandparent = parent && parent.parentElement;\n",
       "        if (grandparent) {\n",
       "            grandparent.style.display = \"none\";\n",
       "        }\n",
       "        warning_div.style.display = \"none\";\n",
       "    };\n",
       "    if (typeof Jupyter !== \"undefined\") {\n",
       "        console.log(\"WebIO detected Jupyter notebook environment.\");\n",
       "        // Jupyter notebook.\n",
       "        var extensions = (\n",
       "            Jupyter\n",
       "            && Jupyter.notebook.config.data\n",
       "            && Jupyter.notebook.config.data.load_extensions\n",
       "        );\n",
       "        if (extensions && extensions[\"webio-jupyter-notebook\"]) {\n",
       "            // Extension already loaded.\n",
       "            console.log(\"Jupyter WebIO nbextension detected; not loading ad-hoc.\");\n",
       "            hide();\n",
       "            return;\n",
       "        }\n",
       "    } else if (window.location.pathname.includes(\"/lab\")) {\n",
       "        // Guessing JupyterLa\n",
       "        console.log(\"Jupyter Lab detected; make sure the @webio/jupyter-lab-provider labextension is installed.\");\n",
       "        hide();\n",
       "        return;\n",
       "    }\n",
       "})();\n",
       "\n",
       "</script>\n",
       "<p\n",
       "    id=\"webio-warning-13622865615059407337\"\n",
       "    class=\"output_text output_stderr\"\n",
       "    style=\"padding: 1em; font-weight: bold;\"\n",
       ">\n",
       "    Unable to load WebIO. Please make sure WebIO works for your Jupyter client.\n",
       "    For troubleshooting, please see <a href=\"https://juliagizmos.github.io/WebIO.jl/latest/providers/ijulia/\">\n",
       "    the WebIO/IJulia documentation</a>.\n",
       "    <!-- TODO: link to installation docs. -->\n",
       "</p>\n"
      ],
      "text/plain": [
       "HTML{String}(\"<script>\\n// Immediately-invoked-function-expression to avoid global variables.\\n(function() {\\n    var warning_div = document.getElementById(\\\"webio-warning-13622865615059407337\\\");\\n    var hide = function () {\\n        var script = document.getElementById(\\\"webio-setup-1869614417103589955\\\");\\n        var parent = script && script.parentElement;\\n        var grandparent = parent && parent.parentElement;\\n        if (grandparent) {\\n            grandparent.style.display = \\\"none\\\";\\n        }\\n        warning_div.style.display = \\\"none\\\";\\n    };\\n    if (typeof Jupyter !== \\\"undefined\\\") {\\n        console.log(\\\"WebIO detected Jupyter notebook environment.\\\");\\n        // Jupyter notebook.\\n        var extensions = (\\n            Jupyter\\n            && Jupyter.notebook.config.data\\n            && Jupyter.notebook.config.data.load_extensions\\n        );\\n        if (extensions && extensions[\\\"webio-jupyter-notebook\\\"]) {\\n            // Extension already loaded.\\n            console.log(\\\"Jupyter WebIO nbextension detected; not loading ad-hoc.\\\");\\n            hide();\\n            return;\\n        }\\n    } else if (window.location.pathname.includes(\\\"/lab\\\")) {\\n        // Guessing JupyterLa\\n        console.log(\\\"Jupyter Lab detected; make sure the @webio/jupyter-lab-provider labextension is installed.\\\");\\n        hide();\\n        return;\\n    }\\n})();\\n\\n</script>\\n<p\\n    id=\\\"webio-warning-13622865615059407337\\\"\\n    class=\\\"output_text output_stderr\\\"\\n    style=\\\"padding: 1em; font-weight: bold;\\\"\\n>\\n    Unable to load WebIO. Please make sure WebIO works for your Jupyter client.\\n    For troubleshooting, please see <a href=\\\"https://juliagizmos.github.io/WebIO.jl/latest/providers/ijulia/\\\">\\n    the WebIO/IJulia documentation</a>.\\n    <!-- TODO: link to installation docs. -->\\n</p>\\n\")"
      ]
     },
     "metadata": {},
     "output_type": "display_data"
    },
    {
     "ename": "LoadError",
     "evalue": "Could not find `jupyter` executable in PATH or Conda.jl.",
     "output_type": "error",
     "traceback": [
      "Could not find `jupyter` executable in PATH or Conda.jl.",
      "",
      "Stacktrace:",
      " [1] error(::String) at .\\error.jl:33",
      " [2] find_jupyter_cmd(; force_conda_jupyter::Nothing, condajl::Nothing, check_nodejs::Bool) at C:\\Users\\HP\\.julia\\packages\\WebIO\\nTMDV\\deps\\jupyter.jl:168",
      " [3] install_jupyter_labextension(::Nothing; force_conda_jupyter::Nothing, condajl::Nothing, dev::Bool) at C:\\Users\\HP\\.julia\\packages\\WebIO\\nTMDV\\deps\\jupyter.jl:197",
      " [4] install_jupyter_labextension at C:\\Users\\HP\\.julia\\packages\\WebIO\\nTMDV\\deps\\jupyter.jl:196 [inlined] (repeats 2 times)",
      " [5] top-level scope at In[5]:2",
      " [6] include_string(::Function, ::Module, ::String, ::String) at .\\loading.jl:1091"
     ]
    }
   ],
   "source": [
    "using WebIO, IJulia\n",
    "WebIO.install_jupyter_labextension()"
   ]
  },
  {
   "cell_type": "code",
   "execution_count": 6,
   "metadata": {},
   "outputs": [
    {
     "name": "stderr",
     "output_type": "stream",
     "text": [
      "┌ Info: Precompiling ORCA [47be7bcc-f1a6-5447-8b36-7eeeff7534fd]\n",
      "└ @ Base loading.jl:1278\n",
      "┌ Warning: ORCA.jl has been deprecated and all savefig functionality\n",
      "│ has been implemented directly in PlotlyBase itself.\n",
      "│ \n",
      "│ By implementing in PlotlyBase.jl, the savefig routines are automatically\n",
      "│ available to PlotlyJS.jl also.\n",
      "└ @ ORCA C:\\Users\\HP\\.julia\\packages\\ORCA\\U5XaN\\src\\ORCA.jl:8\n"
     ]
    },
    {
     "data": {
      "text/plain": [
       "Plots.PlotlyJSBackend()"
      ]
     },
     "execution_count": 6,
     "metadata": {},
     "output_type": "execute_result"
    }
   ],
   "source": [
    "plotlyjs()"
   ]
  },
  {
   "cell_type": "code",
   "execution_count": 7,
   "metadata": {},
   "outputs": [
    {
     "data": {
      "text/html": [
       "    <script type=\"text/javascript\">\n",
       "        requirejs([\"https://cdn.plot.ly/plotly-1.54.2.min.js\"], function(p) {\n",
       "            window.Plotly = p\n",
       "        });\n",
       "    </script>\n"
      ]
     },
     "metadata": {},
     "output_type": "display_data"
    },
    {
     "data": {
      "application/vnd.plotly.v1+json": {
       "data": [
        {
         "colorbar": {
          "title": ""
         },
         "legendgroup": "line",
         "line": {
          "color": "rgba(0, 154, 250, 1.000)",
          "dash": "solid",
          "shape": "linear",
          "width": 1
         },
         "mode": "lines",
         "name": "line",
         "showlegend": true,
         "type": "scatter",
         "x": [
          -3,
          -2.9,
          -2.8,
          -2.7,
          -2.6,
          -2.5,
          -2.4,
          -2.3,
          -2.2,
          -2.1,
          -2,
          -1.9,
          -1.8,
          -1.7,
          -1.6,
          -1.5,
          -1.4,
          -1.3,
          -1.2,
          -1.1,
          -1,
          -0.9,
          -0.8,
          -0.7,
          -0.6,
          -0.5,
          -0.4,
          -0.3,
          -0.2,
          -0.1,
          0,
          0.1,
          0.2,
          0.3,
          0.4,
          0.5,
          0.6,
          0.7,
          0.8,
          0.9,
          1,
          1.1,
          1.2,
          1.3,
          1.4,
          1.5,
          1.6,
          1.7,
          1.8,
          1.9,
          2,
          2.1,
          2.2,
          2.3,
          2.4,
          2.5,
          2.6,
          2.7,
          2.8,
          2.9,
          3
         ],
         "xaxis": "x1",
         "y": [
          9,
          8.41,
          7.839999999999999,
          7.290000000000001,
          6.760000000000001,
          6.25,
          5.76,
          5.289999999999999,
          4.840000000000001,
          4.41,
          4,
          3.61,
          3.24,
          2.8899999999999997,
          2.5600000000000005,
          2.25,
          1.9599999999999997,
          1.6900000000000002,
          1.44,
          1.2100000000000002,
          1,
          0.81,
          0.6400000000000001,
          0.48999999999999994,
          0.36,
          0.25,
          0.16000000000000003,
          0.09,
          0.04000000000000001,
          0.010000000000000002,
          0,
          0.010000000000000002,
          0.04000000000000001,
          0.09,
          0.16000000000000003,
          0.25,
          0.36,
          0.48999999999999994,
          0.6400000000000001,
          0.81,
          1,
          1.2100000000000002,
          1.44,
          1.6900000000000002,
          1.9599999999999997,
          2.25,
          2.5600000000000005,
          2.8899999999999997,
          3.24,
          3.61,
          4,
          4.41,
          4.840000000000001,
          5.289999999999999,
          5.76,
          6.25,
          6.760000000000001,
          7.290000000000001,
          7.839999999999999,
          8.41,
          9
         ],
         "yaxis": "y1",
         "zmax": null,
         "zmin": null
        },
        {
         "colorbar": {
          "title": ""
         },
         "legendgroup": "points",
         "marker": {
          "color": "rgba(227, 111, 71, 1.000)",
          "line": {
           "color": "rgba(0, 0, 0, 1.000)",
           "width": 1
          },
          "size": 8,
          "symbol": "circle"
         },
         "mode": "markers",
         "name": "points",
         "showlegend": true,
         "type": "scatter",
         "x": [
          -3,
          -2.9,
          -2.8,
          -2.7,
          -2.6,
          -2.5,
          -2.4,
          -2.3,
          -2.2,
          -2.1,
          -2,
          -1.9,
          -1.8,
          -1.7,
          -1.6,
          -1.5,
          -1.4,
          -1.3,
          -1.2,
          -1.1,
          -1,
          -0.9,
          -0.8,
          -0.7,
          -0.6,
          -0.5,
          -0.4,
          -0.3,
          -0.2,
          -0.1,
          0,
          0.1,
          0.2,
          0.3,
          0.4,
          0.5,
          0.6,
          0.7,
          0.8,
          0.9,
          1,
          1.1,
          1.2,
          1.3,
          1.4,
          1.5,
          1.6,
          1.7,
          1.8,
          1.9,
          2,
          2.1,
          2.2,
          2.3,
          2.4,
          2.5,
          2.6,
          2.7,
          2.8,
          2.9,
          3
         ],
         "xaxis": "x1",
         "y": [
          9,
          8.41,
          7.839999999999999,
          7.290000000000001,
          6.760000000000001,
          6.25,
          5.76,
          5.289999999999999,
          4.840000000000001,
          4.41,
          4,
          3.61,
          3.24,
          2.8899999999999997,
          2.5600000000000005,
          2.25,
          1.9599999999999997,
          1.6900000000000002,
          1.44,
          1.2100000000000002,
          1,
          0.81,
          0.6400000000000001,
          0.48999999999999994,
          0.36,
          0.25,
          0.16000000000000003,
          0.09,
          0.04000000000000001,
          0.010000000000000002,
          0,
          0.010000000000000002,
          0.04000000000000001,
          0.09,
          0.16000000000000003,
          0.25,
          0.36,
          0.48999999999999994,
          0.6400000000000001,
          0.81,
          1,
          1.2100000000000002,
          1.44,
          1.6900000000000002,
          1.9599999999999997,
          2.25,
          2.5600000000000005,
          2.8899999999999997,
          3.24,
          3.61,
          4,
          4.41,
          4.840000000000001,
          5.289999999999999,
          5.76,
          6.25,
          6.760000000000001,
          7.290000000000001,
          7.839999999999999,
          8.41,
          9
         ],
         "yaxis": "y1",
         "zmax": null,
         "zmin": null
        }
       ],
       "layout": {
        "annotations": [],
        "height": 400,
        "legend": {
         "bgcolor": "rgba(255, 255, 255, 1.000)",
         "bordercolor": "rgba(0, 0, 0, 1.000)",
         "borderwidth": 1,
         "font": {
          "color": "rgba(0, 0, 0, 1.000)",
          "family": "sans-serif",
          "size": 11
         },
         "tracegroupgap": 0,
         "traceorder": "normal",
         "x": 1,
         "xanchor": "auto",
         "y": 1,
         "yanchor": "auto"
        },
        "margin": {
         "b": 20,
         "l": 0,
         "r": 0,
         "t": 20
        },
        "paper_bgcolor": "rgba(255, 255, 255, 1.000)",
        "plot_bgcolor": "rgba(255, 255, 255, 1.000)",
        "showlegend": true,
        "width": 600,
        "xaxis": {
         "anchor": "y1",
         "domain": [
          0.02137649460484106,
          0.9934383202099737
         ],
         "gridcolor": "rgba(0, 0, 0, 0.100)",
         "gridwidth": 0.5,
         "linecolor": "rgba(0, 0, 0, 1.000)",
         "mirror": false,
         "range": [
          -3.18,
          3.18
         ],
         "showgrid": true,
         "showline": true,
         "showticklabels": true,
         "tickangle": 0,
         "tickcolor": "rgb(0, 0, 0)",
         "tickfont": {
          "color": "rgba(0, 0, 0, 1.000)",
          "family": "sans-serif",
          "size": 11
         },
         "tickmode": "array",
         "ticks": "inside",
         "ticktext": [
          "-3",
          "-2",
          "-1",
          "0",
          "1",
          "2",
          "3"
         ],
         "tickvals": [
          -3,
          -2,
          -1,
          0,
          1,
          2,
          3
         ],
         "title": "",
         "titlefont": {
          "color": "rgba(0, 0, 0, 1.000)",
          "family": "sans-serif",
          "size": 15
         },
         "type": "-",
         "visible": true,
         "zeroline": false,
         "zerolinecolor": "rgba(0, 0, 0, 1.000)"
        },
        "yaxis": {
         "anchor": "x1",
         "domain": [
          0.03762029746281716,
          0.9901574803149606
         ],
         "gridcolor": "rgba(0, 0, 0, 0.100)",
         "gridwidth": 0.5,
         "linecolor": "rgba(0, 0, 0, 1.000)",
         "mirror": false,
         "range": [
          -0.27,
          9.27
         ],
         "showgrid": true,
         "showline": true,
         "showticklabels": true,
         "tickangle": 0,
         "tickcolor": "rgb(0, 0, 0)",
         "tickfont": {
          "color": "rgba(0, 0, 0, 1.000)",
          "family": "sans-serif",
          "size": 11
         },
         "tickmode": "array",
         "ticks": "inside",
         "ticktext": [
          "0",
          "2",
          "4",
          "6",
          "8"
         ],
         "tickvals": [
          0,
          2,
          4,
          6,
          8
         ],
         "title": "",
         "titlefont": {
          "color": "rgba(0, 0, 0, 1.000)",
          "family": "sans-serif",
          "size": 15
         },
         "type": "-",
         "visible": true,
         "zeroline": false,
         "zerolinecolor": "rgba(0, 0, 0, 1.000)"
        }
       }
      },
      "text/html": [
       "<!DOCTYPE html>\n",
       "<html>\n",
       "    <head>\n",
       "        <title>Plots.jl</title>\n",
       "        <meta http-equiv=\"content-type\" content=\"text/html; charset=UTF-8\">\n",
       "        <script src=\"https://cdn.plot.ly/plotly-1.54.2.min.js\"></script>\n",
       "    </head>\n",
       "    <body>\n",
       "            <div id=\"6a4a3d62-cb04-4740-9fd2-03d60bf9b945\" style=\"width:600px;height:400px;\"></div>\n",
       "    <script>\n",
       "    PLOT = document.getElementById('6a4a3d62-cb04-4740-9fd2-03d60bf9b945');\n",
       "    Plotly.plot(PLOT, [\n",
       "    {\n",
       "        \"xaxis\": \"x1\",\n",
       "        \"colorbar\": {\n",
       "            \"title\": \"\"\n",
       "        },\n",
       "        \"yaxis\": \"y1\",\n",
       "        \"x\": [\n",
       "            -3.0,\n",
       "            -2.9,\n",
       "            -2.8,\n",
       "            -2.7,\n",
       "            -2.6,\n",
       "            -2.5,\n",
       "            -2.4,\n",
       "            -2.3,\n",
       "            -2.2,\n",
       "            -2.1,\n",
       "            -2.0,\n",
       "            -1.9,\n",
       "            -1.8,\n",
       "            -1.7,\n",
       "            -1.6,\n",
       "            -1.5,\n",
       "            -1.4,\n",
       "            -1.3,\n",
       "            -1.2,\n",
       "            -1.1,\n",
       "            -1.0,\n",
       "            -0.9,\n",
       "            -0.8,\n",
       "            -0.7,\n",
       "            -0.6,\n",
       "            -0.5,\n",
       "            -0.4,\n",
       "            -0.3,\n",
       "            -0.2,\n",
       "            -0.1,\n",
       "            0.0,\n",
       "            0.1,\n",
       "            0.2,\n",
       "            0.3,\n",
       "            0.4,\n",
       "            0.5,\n",
       "            0.6,\n",
       "            0.7,\n",
       "            0.8,\n",
       "            0.9,\n",
       "            1.0,\n",
       "            1.1,\n",
       "            1.2,\n",
       "            1.3,\n",
       "            1.4,\n",
       "            1.5,\n",
       "            1.6,\n",
       "            1.7,\n",
       "            1.8,\n",
       "            1.9,\n",
       "            2.0,\n",
       "            2.1,\n",
       "            2.2,\n",
       "            2.3,\n",
       "            2.4,\n",
       "            2.5,\n",
       "            2.6,\n",
       "            2.7,\n",
       "            2.8,\n",
       "            2.9,\n",
       "            3.0\n",
       "        ],\n",
       "        \"showlegend\": true,\n",
       "        \"mode\": \"lines\",\n",
       "        \"name\": \"line\",\n",
       "        \"zmin\": null,\n",
       "        \"legendgroup\": \"line\",\n",
       "        \"zmax\": null,\n",
       "        \"line\": {\n",
       "            \"color\": \"rgba(0, 154, 250, 1.000)\",\n",
       "            \"shape\": \"linear\",\n",
       "            \"dash\": \"solid\",\n",
       "            \"width\": 1\n",
       "        },\n",
       "        \"y\": [\n",
       "            9.0,\n",
       "            8.41,\n",
       "            7.839999999999999,\n",
       "            7.290000000000001,\n",
       "            6.760000000000001,\n",
       "            6.25,\n",
       "            5.76,\n",
       "            5.289999999999999,\n",
       "            4.840000000000001,\n",
       "            4.41,\n",
       "            4.0,\n",
       "            3.61,\n",
       "            3.24,\n",
       "            2.8899999999999997,\n",
       "            2.5600000000000005,\n",
       "            2.25,\n",
       "            1.9599999999999997,\n",
       "            1.6900000000000002,\n",
       "            1.44,\n",
       "            1.2100000000000002,\n",
       "            1.0,\n",
       "            0.81,\n",
       "            0.6400000000000001,\n",
       "            0.48999999999999994,\n",
       "            0.36,\n",
       "            0.25,\n",
       "            0.16000000000000003,\n",
       "            0.09,\n",
       "            0.04000000000000001,\n",
       "            0.010000000000000002,\n",
       "            0.0,\n",
       "            0.010000000000000002,\n",
       "            0.04000000000000001,\n",
       "            0.09,\n",
       "            0.16000000000000003,\n",
       "            0.25,\n",
       "            0.36,\n",
       "            0.48999999999999994,\n",
       "            0.6400000000000001,\n",
       "            0.81,\n",
       "            1.0,\n",
       "            1.2100000000000002,\n",
       "            1.44,\n",
       "            1.6900000000000002,\n",
       "            1.9599999999999997,\n",
       "            2.25,\n",
       "            2.5600000000000005,\n",
       "            2.8899999999999997,\n",
       "            3.24,\n",
       "            3.61,\n",
       "            4.0,\n",
       "            4.41,\n",
       "            4.840000000000001,\n",
       "            5.289999999999999,\n",
       "            5.76,\n",
       "            6.25,\n",
       "            6.760000000000001,\n",
       "            7.290000000000001,\n",
       "            7.839999999999999,\n",
       "            8.41,\n",
       "            9.0\n",
       "        ],\n",
       "        \"type\": \"scatter\"\n",
       "    },\n",
       "    {\n",
       "        \"xaxis\": \"x1\",\n",
       "        \"colorbar\": {\n",
       "            \"title\": \"\"\n",
       "        },\n",
       "        \"yaxis\": \"y1\",\n",
       "        \"x\": [\n",
       "            -3.0,\n",
       "            -2.9,\n",
       "            -2.8,\n",
       "            -2.7,\n",
       "            -2.6,\n",
       "            -2.5,\n",
       "            -2.4,\n",
       "            -2.3,\n",
       "            -2.2,\n",
       "            -2.1,\n",
       "            -2.0,\n",
       "            -1.9,\n",
       "            -1.8,\n",
       "            -1.7,\n",
       "            -1.6,\n",
       "            -1.5,\n",
       "            -1.4,\n",
       "            -1.3,\n",
       "            -1.2,\n",
       "            -1.1,\n",
       "            -1.0,\n",
       "            -0.9,\n",
       "            -0.8,\n",
       "            -0.7,\n",
       "            -0.6,\n",
       "            -0.5,\n",
       "            -0.4,\n",
       "            -0.3,\n",
       "            -0.2,\n",
       "            -0.1,\n",
       "            0.0,\n",
       "            0.1,\n",
       "            0.2,\n",
       "            0.3,\n",
       "            0.4,\n",
       "            0.5,\n",
       "            0.6,\n",
       "            0.7,\n",
       "            0.8,\n",
       "            0.9,\n",
       "            1.0,\n",
       "            1.1,\n",
       "            1.2,\n",
       "            1.3,\n",
       "            1.4,\n",
       "            1.5,\n",
       "            1.6,\n",
       "            1.7,\n",
       "            1.8,\n",
       "            1.9,\n",
       "            2.0,\n",
       "            2.1,\n",
       "            2.2,\n",
       "            2.3,\n",
       "            2.4,\n",
       "            2.5,\n",
       "            2.6,\n",
       "            2.7,\n",
       "            2.8,\n",
       "            2.9,\n",
       "            3.0\n",
       "        ],\n",
       "        \"showlegend\": true,\n",
       "        \"mode\": \"markers\",\n",
       "        \"name\": \"points\",\n",
       "        \"zmin\": null,\n",
       "        \"legendgroup\": \"points\",\n",
       "        \"marker\": {\n",
       "            \"symbol\": \"circle\",\n",
       "            \"color\": \"rgba(227, 111, 71, 1.000)\",\n",
       "            \"line\": {\n",
       "                \"color\": \"rgba(0, 0, 0, 1.000)\",\n",
       "                \"width\": 1\n",
       "            },\n",
       "            \"size\": 8\n",
       "        },\n",
       "        \"zmax\": null,\n",
       "        \"y\": [\n",
       "            9.0,\n",
       "            8.41,\n",
       "            7.839999999999999,\n",
       "            7.290000000000001,\n",
       "            6.760000000000001,\n",
       "            6.25,\n",
       "            5.76,\n",
       "            5.289999999999999,\n",
       "            4.840000000000001,\n",
       "            4.41,\n",
       "            4.0,\n",
       "            3.61,\n",
       "            3.24,\n",
       "            2.8899999999999997,\n",
       "            2.5600000000000005,\n",
       "            2.25,\n",
       "            1.9599999999999997,\n",
       "            1.6900000000000002,\n",
       "            1.44,\n",
       "            1.2100000000000002,\n",
       "            1.0,\n",
       "            0.81,\n",
       "            0.6400000000000001,\n",
       "            0.48999999999999994,\n",
       "            0.36,\n",
       "            0.25,\n",
       "            0.16000000000000003,\n",
       "            0.09,\n",
       "            0.04000000000000001,\n",
       "            0.010000000000000002,\n",
       "            0.0,\n",
       "            0.010000000000000002,\n",
       "            0.04000000000000001,\n",
       "            0.09,\n",
       "            0.16000000000000003,\n",
       "            0.25,\n",
       "            0.36,\n",
       "            0.48999999999999994,\n",
       "            0.6400000000000001,\n",
       "            0.81,\n",
       "            1.0,\n",
       "            1.2100000000000002,\n",
       "            1.44,\n",
       "            1.6900000000000002,\n",
       "            1.9599999999999997,\n",
       "            2.25,\n",
       "            2.5600000000000005,\n",
       "            2.8899999999999997,\n",
       "            3.24,\n",
       "            3.61,\n",
       "            4.0,\n",
       "            4.41,\n",
       "            4.840000000000001,\n",
       "            5.289999999999999,\n",
       "            5.76,\n",
       "            6.25,\n",
       "            6.760000000000001,\n",
       "            7.290000000000001,\n",
       "            7.839999999999999,\n",
       "            8.41,\n",
       "            9.0\n",
       "        ],\n",
       "        \"type\": \"scatter\"\n",
       "    }\n",
       "]\n",
       ", {\n",
       "    \"showlegend\": true,\n",
       "    \"xaxis\": {\n",
       "        \"showticklabels\": true,\n",
       "        \"gridwidth\": 0.5,\n",
       "        \"tickvals\": [\n",
       "            -3.0,\n",
       "            -2.0,\n",
       "            -1.0,\n",
       "            0.0,\n",
       "            1.0,\n",
       "            2.0,\n",
       "            3.0\n",
       "        ],\n",
       "        \"visible\": true,\n",
       "        \"ticks\": \"inside\",\n",
       "        \"range\": [\n",
       "            -3.18,\n",
       "            3.18\n",
       "        ],\n",
       "        \"domain\": [\n",
       "            0.02137649460484106,\n",
       "            0.9934383202099737\n",
       "        ],\n",
       "        \"tickmode\": \"array\",\n",
       "        \"linecolor\": \"rgba(0, 0, 0, 1.000)\",\n",
       "        \"showgrid\": true,\n",
       "        \"title\": \"\",\n",
       "        \"mirror\": false,\n",
       "        \"tickangle\": 0,\n",
       "        \"showline\": true,\n",
       "        \"gridcolor\": \"rgba(0, 0, 0, 0.100)\",\n",
       "        \"titlefont\": {\n",
       "            \"color\": \"rgba(0, 0, 0, 1.000)\",\n",
       "            \"family\": \"sans-serif\",\n",
       "            \"size\": 15\n",
       "        },\n",
       "        \"tickcolor\": \"rgb(0, 0, 0)\",\n",
       "        \"ticktext\": [\n",
       "            \"-3\",\n",
       "            \"-2\",\n",
       "            \"-1\",\n",
       "            \"0\",\n",
       "            \"1\",\n",
       "            \"2\",\n",
       "            \"3\"\n",
       "        ],\n",
       "        \"zeroline\": false,\n",
       "        \"type\": \"-\",\n",
       "        \"tickfont\": {\n",
       "            \"color\": \"rgba(0, 0, 0, 1.000)\",\n",
       "            \"family\": \"sans-serif\",\n",
       "            \"size\": 11\n",
       "        },\n",
       "        \"zerolinecolor\": \"rgba(0, 0, 0, 1.000)\",\n",
       "        \"anchor\": \"y1\"\n",
       "    },\n",
       "    \"paper_bgcolor\": \"rgba(255, 255, 255, 1.000)\",\n",
       "    \"annotations\": [],\n",
       "    \"height\": 400,\n",
       "    \"margin\": {\n",
       "        \"l\": 0,\n",
       "        \"b\": 20,\n",
       "        \"r\": 0,\n",
       "        \"t\": 20\n",
       "    },\n",
       "    \"plot_bgcolor\": \"rgba(255, 255, 255, 1.000)\",\n",
       "    \"yaxis\": {\n",
       "        \"showticklabels\": true,\n",
       "        \"gridwidth\": 0.5,\n",
       "        \"tickvals\": [\n",
       "            0.0,\n",
       "            2.0,\n",
       "            4.0,\n",
       "            6.0,\n",
       "            8.0\n",
       "        ],\n",
       "        \"visible\": true,\n",
       "        \"ticks\": \"inside\",\n",
       "        \"range\": [\n",
       "            -0.27,\n",
       "            9.27\n",
       "        ],\n",
       "        \"domain\": [\n",
       "            0.03762029746281716,\n",
       "            0.9901574803149606\n",
       "        ],\n",
       "        \"tickmode\": \"array\",\n",
       "        \"linecolor\": \"rgba(0, 0, 0, 1.000)\",\n",
       "        \"showgrid\": true,\n",
       "        \"title\": \"\",\n",
       "        \"mirror\": false,\n",
       "        \"tickangle\": 0,\n",
       "        \"showline\": true,\n",
       "        \"gridcolor\": \"rgba(0, 0, 0, 0.100)\",\n",
       "        \"titlefont\": {\n",
       "            \"color\": \"rgba(0, 0, 0, 1.000)\",\n",
       "            \"family\": \"sans-serif\",\n",
       "            \"size\": 15\n",
       "        },\n",
       "        \"tickcolor\": \"rgb(0, 0, 0)\",\n",
       "        \"ticktext\": [\n",
       "            \"0\",\n",
       "            \"2\",\n",
       "            \"4\",\n",
       "            \"6\",\n",
       "            \"8\"\n",
       "        ],\n",
       "        \"zeroline\": false,\n",
       "        \"type\": \"-\",\n",
       "        \"tickfont\": {\n",
       "            \"color\": \"rgba(0, 0, 0, 1.000)\",\n",
       "            \"family\": \"sans-serif\",\n",
       "            \"size\": 11\n",
       "        },\n",
       "        \"zerolinecolor\": \"rgba(0, 0, 0, 1.000)\",\n",
       "        \"anchor\": \"x1\"\n",
       "    },\n",
       "    \"legend\": {\n",
       "        \"yanchor\": \"auto\",\n",
       "        \"xanchor\": \"auto\",\n",
       "        \"bordercolor\": \"rgba(0, 0, 0, 1.000)\",\n",
       "        \"bgcolor\": \"rgba(255, 255, 255, 1.000)\",\n",
       "        \"font\": {\n",
       "            \"color\": \"rgba(0, 0, 0, 1.000)\",\n",
       "            \"family\": \"sans-serif\",\n",
       "            \"size\": 11\n",
       "        },\n",
       "        \"tracegroupgap\": 0,\n",
       "        \"y\": 1.0,\n",
       "        \"borderwidth\": 1,\n",
       "        \"traceorder\": \"normal\",\n",
       "        \"x\": 1.0\n",
       "    },\n",
       "    \"width\": 600\n",
       "}\n",
       ");\n",
       "    </script>\n",
       "\n",
       "    </body>\n",
       "</html>\n"
      ]
     },
     "execution_count": 7,
     "metadata": {},
     "output_type": "execute_result"
    }
   ],
   "source": [
    "plot(x, y, label=\"line\")\n",
    "scatter!(x, y, label=\"points\")"
   ]
  },
  {
   "cell_type": "code",
   "execution_count": 8,
   "metadata": {},
   "outputs": [
    {
     "data": {
      "text/plain": [
       "Plots.GRBackend()"
      ]
     },
     "execution_count": 8,
     "metadata": {},
     "output_type": "execute_result"
    }
   ],
   "source": [
    "gr()"
   ]
  },
  {
   "cell_type": "code",
   "execution_count": 9,
   "metadata": {},
   "outputs": [
    {
     "data": {
      "text/plain": [
       "6-element Array{Int64,1}:\n",
       " 45000\n",
       " 20000\n",
       " 15000\n",
       "  5000\n",
       "   400\n",
       "    17"
      ]
     },
     "execution_count": 9,
     "metadata": {},
     "output_type": "execute_result"
    }
   ],
   "source": [
    "glob_temp = [14.4, 14.5, 14.8, 15.2, 15.5, 15.8]\n",
    "num_pirates = [45000, 20000, 15000, 5000, 400, 17]"
   ]
  },
  {
   "cell_type": "code",
   "execution_count": 12,
   "metadata": {},
   "outputs": [
    {
     "data": {
      "image/svg+xml": [
       "<?xml version=\"1.0\" encoding=\"utf-8\"?>\n",
       "<svg xmlns=\"http://www.w3.org/2000/svg\" xmlns:xlink=\"http://www.w3.org/1999/xlink\" width=\"600\" height=\"400\" viewBox=\"0 0 2400 1600\">\n",
       "<defs>\n",
       "  <clipPath id=\"clip580\">\n",
       "    <rect x=\"0\" y=\"0\" width=\"2400\" height=\"1600\"/>\n",
       "  </clipPath>\n",
       "</defs>\n",
       "<path clip-path=\"url(#clip580)\" d=\"\n",
       "M0 1600 L2400 1600 L2400 0 L0 0  Z\n",
       "  \" fill=\"#ffffff\" fill-rule=\"evenodd\" fill-opacity=\"1\"/>\n",
       "<defs>\n",
       "  <clipPath id=\"clip581\">\n",
       "    <rect x=\"480\" y=\"0\" width=\"1681\" height=\"1600\"/>\n",
       "  </clipPath>\n",
       "</defs>\n",
       "<path clip-path=\"url(#clip580)\" d=\"\n",
       "M261.324 1410.9 L2352.76 1410.9 L2352.76 123.472 L261.324 123.472  Z\n",
       "  \" fill=\"#ffffff\" fill-rule=\"evenodd\" fill-opacity=\"1\"/>\n",
       "<defs>\n",
       "  <clipPath id=\"clip582\">\n",
       "    <rect x=\"261\" y=\"123\" width=\"2092\" height=\"1288\"/>\n",
       "  </clipPath>\n",
       "</defs>\n",
       "<polyline clip-path=\"url(#clip582)\" style=\"stroke:#000000; stroke-width:2; stroke-opacity:0.1; fill:none\" points=\"\n",
       "  2294.31,1410.9 2294.31,123.472 \n",
       "  \"/>\n",
       "<polyline clip-path=\"url(#clip582)\" style=\"stroke:#000000; stroke-width:2; stroke-opacity:0.1; fill:none\" points=\"\n",
       "  1855.69,1410.9 1855.69,123.472 \n",
       "  \"/>\n",
       "<polyline clip-path=\"url(#clip582)\" style=\"stroke:#000000; stroke-width:2; stroke-opacity:0.1; fill:none\" points=\"\n",
       "  1417.07,1410.9 1417.07,123.472 \n",
       "  \"/>\n",
       "<polyline clip-path=\"url(#clip582)\" style=\"stroke:#000000; stroke-width:2; stroke-opacity:0.1; fill:none\" points=\"\n",
       "  978.447,1410.9 978.447,123.472 \n",
       "  \"/>\n",
       "<polyline clip-path=\"url(#clip582)\" style=\"stroke:#000000; stroke-width:2; stroke-opacity:0.1; fill:none\" points=\"\n",
       "  539.826,1410.9 539.826,123.472 \n",
       "  \"/>\n",
       "<polyline clip-path=\"url(#clip582)\" style=\"stroke:#000000; stroke-width:2; stroke-opacity:0.1; fill:none\" points=\"\n",
       "  2352.76,1287.71 261.324,1287.71 \n",
       "  \"/>\n",
       "<polyline clip-path=\"url(#clip582)\" style=\"stroke:#000000; stroke-width:2; stroke-opacity:0.1; fill:none\" points=\"\n",
       "  2352.76,1070.82 261.324,1070.82 \n",
       "  \"/>\n",
       "<polyline clip-path=\"url(#clip582)\" style=\"stroke:#000000; stroke-width:2; stroke-opacity:0.1; fill:none\" points=\"\n",
       "  2352.76,853.938 261.324,853.938 \n",
       "  \"/>\n",
       "<polyline clip-path=\"url(#clip582)\" style=\"stroke:#000000; stroke-width:2; stroke-opacity:0.1; fill:none\" points=\"\n",
       "  2352.76,637.054 261.324,637.054 \n",
       "  \"/>\n",
       "<polyline clip-path=\"url(#clip582)\" style=\"stroke:#000000; stroke-width:2; stroke-opacity:0.1; fill:none\" points=\"\n",
       "  2352.76,420.17 261.324,420.17 \n",
       "  \"/>\n",
       "<polyline clip-path=\"url(#clip582)\" style=\"stroke:#000000; stroke-width:2; stroke-opacity:0.1; fill:none\" points=\"\n",
       "  2352.76,203.286 261.324,203.286 \n",
       "  \"/>\n",
       "<polyline clip-path=\"url(#clip580)\" style=\"stroke:#000000; stroke-width:4; stroke-opacity:1; fill:none\" points=\"\n",
       "  2352.76,1410.9 261.324,1410.9 \n",
       "  \"/>\n",
       "<polyline clip-path=\"url(#clip580)\" style=\"stroke:#000000; stroke-width:4; stroke-opacity:1; fill:none\" points=\"\n",
       "  261.324,1410.9 261.324,123.472 \n",
       "  \"/>\n",
       "<polyline clip-path=\"url(#clip580)\" style=\"stroke:#000000; stroke-width:4; stroke-opacity:1; fill:none\" points=\"\n",
       "  2294.31,1410.9 2294.31,1395.45 \n",
       "  \"/>\n",
       "<polyline clip-path=\"url(#clip580)\" style=\"stroke:#000000; stroke-width:4; stroke-opacity:1; fill:none\" points=\"\n",
       "  1855.69,1410.9 1855.69,1395.45 \n",
       "  \"/>\n",
       "<polyline clip-path=\"url(#clip580)\" style=\"stroke:#000000; stroke-width:4; stroke-opacity:1; fill:none\" points=\"\n",
       "  1417.07,1410.9 1417.07,1395.45 \n",
       "  \"/>\n",
       "<polyline clip-path=\"url(#clip580)\" style=\"stroke:#000000; stroke-width:4; stroke-opacity:1; fill:none\" points=\"\n",
       "  978.447,1410.9 978.447,1395.45 \n",
       "  \"/>\n",
       "<polyline clip-path=\"url(#clip580)\" style=\"stroke:#000000; stroke-width:4; stroke-opacity:1; fill:none\" points=\"\n",
       "  539.826,1410.9 539.826,1395.45 \n",
       "  \"/>\n",
       "<polyline clip-path=\"url(#clip580)\" style=\"stroke:#000000; stroke-width:4; stroke-opacity:1; fill:none\" points=\"\n",
       "  261.324,1287.71 286.422,1287.71 \n",
       "  \"/>\n",
       "<polyline clip-path=\"url(#clip580)\" style=\"stroke:#000000; stroke-width:4; stroke-opacity:1; fill:none\" points=\"\n",
       "  261.324,1070.82 286.422,1070.82 \n",
       "  \"/>\n",
       "<polyline clip-path=\"url(#clip580)\" style=\"stroke:#000000; stroke-width:4; stroke-opacity:1; fill:none\" points=\"\n",
       "  261.324,853.938 286.422,853.938 \n",
       "  \"/>\n",
       "<polyline clip-path=\"url(#clip580)\" style=\"stroke:#000000; stroke-width:4; stroke-opacity:1; fill:none\" points=\"\n",
       "  261.324,637.054 286.422,637.054 \n",
       "  \"/>\n",
       "<polyline clip-path=\"url(#clip580)\" style=\"stroke:#000000; stroke-width:4; stroke-opacity:1; fill:none\" points=\"\n",
       "  261.324,420.17 286.422,420.17 \n",
       "  \"/>\n",
       "<polyline clip-path=\"url(#clip580)\" style=\"stroke:#000000; stroke-width:4; stroke-opacity:1; fill:none\" points=\"\n",
       "  261.324,203.286 286.422,203.286 \n",
       "  \"/>\n",
       "<path clip-path=\"url(#clip580)\" d=\"M 0 0 M2294.31 1432.89 Q2290.7 1432.89 2288.87 1436.45 Q2287.06 1439.99 2287.06 1447.12 Q2287.06 1454.23 2288.87 1457.79 Q2290.7 1461.34 2294.31 1461.34 Q2297.94 1461.34 2299.75 1457.79 Q2301.58 1454.23 2301.58 1447.12 Q2301.58 1439.99 2299.75 1436.45 Q2297.94 1432.89 2294.31 1432.89 M2294.31 1429.18 Q2300.12 1429.18 2303.18 1433.79 Q2306.25 1438.37 2306.25 1447.12 Q2306.25 1455.85 2303.18 1460.46 Q2300.12 1465.04 2294.31 1465.04 Q2288.5 1465.04 2285.42 1460.46 Q2282.37 1455.85 2282.37 1447.12 Q2282.37 1438.37 2285.42 1433.79 Q2288.5 1429.18 2294.31 1429.18 Z\" fill=\"#000000\" fill-rule=\"evenodd\" fill-opacity=\"1\" /><path clip-path=\"url(#clip580)\" d=\"M 0 0 M1792.82 1481.97 L1800.46 1481.97 L1800.46 1455.6 L1792.15 1457.27 L1792.15 1453.01 L1800.41 1451.34 L1805.09 1451.34 L1805.09 1481.97 L1812.73 1481.97 L1812.73 1485.9 L1792.82 1485.9 L1792.82 1481.97 Z\" fill=\"#000000\" fill-rule=\"evenodd\" fill-opacity=\"1\" /><path clip-path=\"url(#clip580)\" d=\"M 0 0 M1845.97 1460.44 L1835.39 1471.07 L1845.97 1481.64 L1843.21 1484.45 L1832.59 1473.82 L1821.96 1484.45 L1819.23 1481.64 L1829.79 1471.07 L1819.23 1460.44 L1821.96 1457.64 L1832.59 1468.27 L1843.21 1457.64 L1845.97 1460.44 Z\" fill=\"#000000\" fill-rule=\"evenodd\" fill-opacity=\"1\" /><path clip-path=\"url(#clip580)\" d=\"M 0 0 M1851.85 1481.97 L1859.49 1481.97 L1859.49 1455.6 L1851.18 1457.27 L1851.18 1453.01 L1859.44 1451.34 L1864.12 1451.34 L1864.12 1481.97 L1871.75 1481.97 L1871.75 1485.9 L1851.85 1485.9 L1851.85 1481.97 Z\" fill=\"#000000\" fill-rule=\"evenodd\" fill-opacity=\"1\" /><path clip-path=\"url(#clip580)\" d=\"M 0 0 M1886.82 1454.42 Q1883.21 1454.42 1881.38 1457.99 Q1879.58 1461.53 1879.58 1468.66 Q1879.58 1475.77 1881.38 1479.33 Q1883.21 1482.87 1886.82 1482.87 Q1890.46 1482.87 1892.26 1479.33 Q1894.09 1475.77 1894.09 1468.66 Q1894.09 1461.53 1892.26 1457.99 Q1890.46 1454.42 1886.82 1454.42 M1886.82 1450.72 Q1892.63 1450.72 1895.69 1455.33 Q1898.77 1459.91 1898.77 1468.66 Q1898.77 1477.39 1895.69 1481.99 Q1892.63 1486.58 1886.82 1486.58 Q1881.01 1486.58 1877.93 1481.99 Q1874.88 1477.39 1874.88 1468.66 Q1874.88 1459.91 1877.93 1455.33 Q1881.01 1450.72 1886.82 1450.72 Z\" fill=\"#000000\" fill-rule=\"evenodd\" fill-opacity=\"1\" /><path clip-path=\"url(#clip580)\" d=\"M 0 0 M1911.44 1433.72 L1901.85 1448.71 L1911.44 1448.71 L1911.44 1433.72 M1910.45 1430.41 L1915.22 1430.41 L1915.22 1448.71 L1919.23 1448.71 L1919.23 1451.87 L1915.22 1451.87 L1915.22 1458.49 L1911.44 1458.49 L1911.44 1451.87 L1898.77 1451.87 L1898.77 1448.21 L1910.45 1430.41 Z\" fill=\"#000000\" fill-rule=\"evenodd\" fill-opacity=\"1\" /><path clip-path=\"url(#clip580)\" d=\"M 0 0 M1358.47 1481.97 L1374.79 1481.97 L1374.79 1485.9 L1352.84 1485.9 L1352.84 1481.97 Q1355.51 1479.21 1360.09 1474.58 Q1364.7 1469.93 1365.88 1468.59 Q1368.12 1466.07 1369 1464.33 Q1369.9 1462.57 1369.9 1460.88 Q1369.9 1458.13 1367.96 1456.39 Q1366.04 1454.65 1362.94 1454.65 Q1360.74 1454.65 1358.28 1455.42 Q1355.85 1456.18 1353.08 1457.73 L1353.08 1453.01 Q1355.9 1451.88 1358.35 1451.3 Q1360.81 1450.72 1362.84 1450.72 Q1368.21 1450.72 1371.41 1453.4 Q1374.6 1456.09 1374.6 1460.58 Q1374.6 1462.71 1373.79 1464.63 Q1373.01 1466.53 1370.9 1469.12 Q1370.32 1469.79 1367.22 1473.01 Q1364.12 1476.2 1358.47 1481.97 Z\" fill=\"#000000\" fill-rule=\"evenodd\" fill-opacity=\"1\" /><path clip-path=\"url(#clip580)\" d=\"M 0 0 M1408.03 1460.44 L1397.45 1471.07 L1408.03 1481.64 L1405.27 1484.45 L1394.65 1473.82 L1384.02 1484.45 L1381.29 1481.64 L1391.85 1471.07 L1381.29 1460.44 L1384.02 1457.64 L1394.65 1468.27 L1405.27 1457.64 L1408.03 1460.44 Z\" fill=\"#000000\" fill-rule=\"evenodd\" fill-opacity=\"1\" /><path clip-path=\"url(#clip580)\" d=\"M 0 0 M1413.91 1481.97 L1421.55 1481.97 L1421.55 1455.6 L1413.24 1457.27 L1413.24 1453.01 L1421.5 1451.34 L1426.18 1451.34 L1426.18 1481.97 L1433.82 1481.97 L1433.82 1485.9 L1413.91 1485.9 L1413.91 1481.97 Z\" fill=\"#000000\" fill-rule=\"evenodd\" fill-opacity=\"1\" /><path clip-path=\"url(#clip580)\" d=\"M 0 0 M1448.89 1454.42 Q1445.27 1454.42 1443.45 1457.99 Q1441.64 1461.53 1441.64 1468.66 Q1441.64 1475.77 1443.45 1479.33 Q1445.27 1482.87 1448.89 1482.87 Q1452.52 1482.87 1454.32 1479.33 Q1456.15 1475.77 1456.15 1468.66 Q1456.15 1461.53 1454.32 1457.99 Q1452.52 1454.42 1448.89 1454.42 M1448.89 1450.72 Q1454.7 1450.72 1457.75 1455.33 Q1460.83 1459.91 1460.83 1468.66 Q1460.83 1477.39 1457.75 1481.99 Q1454.7 1486.58 1448.89 1486.58 Q1443.08 1486.58 1440 1481.99 Q1436.94 1477.39 1436.94 1468.66 Q1436.94 1459.91 1440 1455.33 Q1443.08 1450.72 1448.89 1450.72 Z\" fill=\"#000000\" fill-rule=\"evenodd\" fill-opacity=\"1\" /><path clip-path=\"url(#clip580)\" d=\"M 0 0 M1473.51 1433.72 L1463.91 1448.71 L1473.51 1448.71 L1473.51 1433.72 M1472.51 1430.41 L1477.29 1430.41 L1477.29 1448.71 L1481.29 1448.71 L1481.29 1451.87 L1477.29 1451.87 L1477.29 1458.49 L1473.51 1458.49 L1473.51 1451.87 L1460.83 1451.87 L1460.83 1448.21 L1472.51 1430.41 Z\" fill=\"#000000\" fill-rule=\"evenodd\" fill-opacity=\"1\" /><path clip-path=\"url(#clip580)\" d=\"M 0 0 M929.443 1467.27 Q932.799 1467.99 934.674 1470.26 Q936.572 1472.52 936.572 1475.86 Q936.572 1480.97 933.054 1483.77 Q929.535 1486.58 923.054 1486.58 Q920.878 1486.58 918.563 1486.14 Q916.272 1485.72 913.818 1484.86 L913.818 1480.35 Q915.762 1481.48 918.077 1482.06 Q920.392 1482.64 922.915 1482.64 Q927.313 1482.64 929.605 1480.9 Q931.92 1479.17 931.92 1475.86 Q931.92 1472.8 929.767 1471.09 Q927.637 1469.35 923.818 1469.35 L919.79 1469.35 L919.79 1465.51 L924.003 1465.51 Q927.452 1465.51 929.281 1464.14 Q931.11 1462.76 931.11 1460.16 Q931.11 1457.5 929.211 1456.09 Q927.336 1454.65 923.818 1454.65 Q921.897 1454.65 919.698 1455.07 Q917.499 1455.49 914.86 1456.37 L914.86 1452.2 Q917.522 1451.46 919.836 1451.09 Q922.174 1450.72 924.235 1450.72 Q929.559 1450.72 932.66 1453.15 Q935.762 1455.56 935.762 1459.68 Q935.762 1462.55 934.119 1464.54 Q932.475 1466.51 929.443 1467.27 Z\" fill=\"#000000\" fill-rule=\"evenodd\" fill-opacity=\"1\" /><path clip-path=\"url(#clip580)\" d=\"M 0 0 M969.813 1460.44 L959.234 1471.07 L969.813 1481.64 L967.058 1484.45 L956.433 1473.82 L945.809 1484.45 L943.077 1481.64 L953.633 1471.07 L943.077 1460.44 L945.809 1457.64 L956.433 1468.27 L967.058 1457.64 L969.813 1460.44 Z\" fill=\"#000000\" fill-rule=\"evenodd\" fill-opacity=\"1\" /><path clip-path=\"url(#clip580)\" d=\"M 0 0 M975.693 1481.97 L983.331 1481.97 L983.331 1455.6 L975.021 1457.27 L975.021 1453.01 L983.285 1451.34 L987.961 1451.34 L987.961 1481.97 L995.6 1481.97 L995.6 1485.9 L975.693 1485.9 L975.693 1481.97 Z\" fill=\"#000000\" fill-rule=\"evenodd\" fill-opacity=\"1\" /><path clip-path=\"url(#clip580)\" d=\"M 0 0 M1010.67 1454.42 Q1007.06 1454.42 1005.23 1457.99 Q1003.42 1461.53 1003.42 1468.66 Q1003.42 1475.77 1005.23 1479.33 Q1007.06 1482.87 1010.67 1482.87 Q1014.3 1482.87 1016.11 1479.33 Q1017.94 1475.77 1017.94 1468.66 Q1017.94 1461.53 1016.11 1457.99 Q1014.3 1454.42 1010.67 1454.42 M1010.67 1450.72 Q1016.48 1450.72 1019.54 1455.33 Q1022.61 1459.91 1022.61 1468.66 Q1022.61 1477.39 1019.54 1481.99 Q1016.48 1486.58 1010.67 1486.58 Q1004.86 1486.58 1001.78 1481.99 Q998.725 1477.39 998.725 1468.66 Q998.725 1459.91 1001.78 1455.33 Q1004.86 1450.72 1010.67 1450.72 Z\" fill=\"#000000\" fill-rule=\"evenodd\" fill-opacity=\"1\" /><path clip-path=\"url(#clip580)\" d=\"M 0 0 M1035.29 1433.72 L1025.7 1448.71 L1035.29 1448.71 L1035.29 1433.72 M1034.29 1430.41 L1039.07 1430.41 L1039.07 1448.71 L1043.08 1448.71 L1043.08 1451.87 L1039.07 1451.87 L1039.07 1458.49 L1035.29 1458.49 L1035.29 1451.87 L1022.61 1451.87 L1022.61 1448.21 L1034.29 1430.41 Z\" fill=\"#000000\" fill-rule=\"evenodd\" fill-opacity=\"1\" /><path clip-path=\"url(#clip580)\" d=\"M 0 0 M489.584 1455.42 L477.778 1473.87 L489.584 1473.87 L489.584 1455.42 M488.357 1451.34 L494.236 1451.34 L494.236 1473.87 L499.167 1473.87 L499.167 1477.76 L494.236 1477.76 L494.236 1485.9 L489.584 1485.9 L489.584 1477.76 L473.982 1477.76 L473.982 1473.24 L488.357 1451.34 Z\" fill=\"#000000\" fill-rule=\"evenodd\" fill-opacity=\"1\" /><path clip-path=\"url(#clip580)\" d=\"M 0 0 M532.407 1460.44 L521.829 1471.07 L532.407 1481.64 L529.653 1484.45 L519.028 1473.82 L508.403 1484.45 L505.671 1481.64 L516.227 1471.07 L505.671 1460.44 L508.403 1457.64 L519.028 1468.27 L529.653 1457.64 L532.407 1460.44 Z\" fill=\"#000000\" fill-rule=\"evenodd\" fill-opacity=\"1\" /><path clip-path=\"url(#clip580)\" d=\"M 0 0 M538.287 1481.97 L545.926 1481.97 L545.926 1455.6 L537.616 1457.27 L537.616 1453.01 L545.88 1451.34 L550.555 1451.34 L550.555 1481.97 L558.194 1481.97 L558.194 1485.9 L538.287 1485.9 L538.287 1481.97 Z\" fill=\"#000000\" fill-rule=\"evenodd\" fill-opacity=\"1\" /><path clip-path=\"url(#clip580)\" d=\"M 0 0 M573.264 1454.42 Q569.653 1454.42 567.824 1457.99 Q566.018 1461.53 566.018 1468.66 Q566.018 1475.77 567.824 1479.33 Q569.653 1482.87 573.264 1482.87 Q576.898 1482.87 578.703 1479.33 Q580.532 1475.77 580.532 1468.66 Q580.532 1461.53 578.703 1457.99 Q576.898 1454.42 573.264 1454.42 M573.264 1450.72 Q579.074 1450.72 582.129 1455.33 Q585.208 1459.91 585.208 1468.66 Q585.208 1477.39 582.129 1481.99 Q579.074 1486.58 573.264 1486.58 Q567.453 1486.58 564.375 1481.99 Q561.319 1477.39 561.319 1468.66 Q561.319 1459.91 564.375 1455.33 Q567.453 1450.72 573.264 1450.72 Z\" fill=\"#000000\" fill-rule=\"evenodd\" fill-opacity=\"1\" /><path clip-path=\"url(#clip580)\" d=\"M 0 0 M597.884 1433.72 L588.292 1448.71 L597.884 1448.71 L597.884 1433.72 M596.888 1430.41 L601.665 1430.41 L601.665 1448.71 L605.671 1448.71 L605.671 1451.87 L601.665 1451.87 L601.665 1458.49 L597.884 1458.49 L597.884 1451.87 L585.208 1451.87 L585.208 1448.21 L596.888 1430.41 Z\" fill=\"#000000\" fill-rule=\"evenodd\" fill-opacity=\"1\" /><path clip-path=\"url(#clip580)\" d=\"M 0 0 M126.931 1301.05 L134.57 1301.05 L134.57 1274.69 L126.26 1276.35 L126.26 1272.09 L134.524 1270.43 L139.2 1270.43 L139.2 1301.05 L146.839 1301.05 L146.839 1304.99 L126.931 1304.99 L126.931 1301.05 Z\" fill=\"#000000\" fill-rule=\"evenodd\" fill-opacity=\"1\" /><path clip-path=\"url(#clip580)\" d=\"M 0 0 M164.755 1274.5 L152.95 1292.95 L164.755 1292.95 L164.755 1274.5 M163.528 1270.43 L169.408 1270.43 L169.408 1292.95 L174.339 1292.95 L174.339 1296.84 L169.408 1296.84 L169.408 1304.99 L164.755 1304.99 L164.755 1296.84 L149.154 1296.84 L149.154 1292.32 L163.528 1270.43 Z\" fill=\"#000000\" fill-rule=\"evenodd\" fill-opacity=\"1\" /><path clip-path=\"url(#clip580)\" d=\"M 0 0 M179.408 1299.11 L184.292 1299.11 L184.292 1304.99 L179.408 1304.99 L179.408 1299.11 Z\" fill=\"#000000\" fill-rule=\"evenodd\" fill-opacity=\"1\" /><path clip-path=\"url(#clip580)\" d=\"M 0 0 M189.408 1270.43 L207.764 1270.43 L207.764 1274.36 L193.69 1274.36 L193.69 1282.83 Q194.709 1282.49 195.727 1282.32 Q196.746 1282.14 197.764 1282.14 Q203.551 1282.14 206.931 1285.31 Q210.311 1288.48 210.311 1293.9 Q210.311 1299.48 206.838 1302.58 Q203.366 1305.66 197.047 1305.66 Q194.871 1305.66 192.602 1305.29 Q190.357 1304.92 187.95 1304.18 L187.95 1299.48 Q190.033 1300.61 192.255 1301.17 Q194.477 1301.72 196.954 1301.72 Q200.959 1301.72 203.297 1299.62 Q205.635 1297.51 205.635 1293.9 Q205.635 1290.29 203.297 1288.18 Q200.959 1286.07 196.954 1286.07 Q195.079 1286.07 193.204 1286.49 Q191.352 1286.91 189.408 1287.79 L189.408 1270.43 Z\" fill=\"#000000\" fill-rule=\"evenodd\" fill-opacity=\"1\" /><path clip-path=\"url(#clip580)\" d=\"M 0 0 M225.38 1273.51 Q221.769 1273.51 219.94 1277.07 Q218.135 1280.61 218.135 1287.74 Q218.135 1294.85 219.94 1298.41 Q221.769 1301.95 225.38 1301.95 Q229.014 1301.95 230.82 1298.41 Q232.648 1294.85 232.648 1287.74 Q232.648 1280.61 230.82 1277.07 Q229.014 1273.51 225.38 1273.51 M225.38 1269.8 Q231.19 1269.8 234.246 1274.41 Q237.324 1278.99 237.324 1287.74 Q237.324 1296.47 234.246 1301.07 Q231.19 1305.66 225.38 1305.66 Q219.57 1305.66 216.491 1301.07 Q213.436 1296.47 213.436 1287.74 Q213.436 1278.99 216.491 1274.41 Q219.57 1269.8 225.38 1269.8 Z\" fill=\"#000000\" fill-rule=\"evenodd\" fill-opacity=\"1\" /><path clip-path=\"url(#clip580)\" d=\"M 0 0 M127.834 1084.17 L135.473 1084.17 L135.473 1057.8 L127.163 1059.47 L127.163 1055.21 L135.427 1053.54 L140.103 1053.54 L140.103 1084.17 L147.742 1084.17 L147.742 1088.1 L127.834 1088.1 L127.834 1084.17 Z\" fill=\"#000000\" fill-rule=\"evenodd\" fill-opacity=\"1\" /><path clip-path=\"url(#clip580)\" d=\"M 0 0 M165.658 1057.62 L153.853 1076.07 L165.658 1076.07 L165.658 1057.62 M164.431 1053.54 L170.311 1053.54 L170.311 1076.07 L175.241 1076.07 L175.241 1079.95 L170.311 1079.95 L170.311 1088.1 L165.658 1088.1 L165.658 1079.95 L150.056 1079.95 L150.056 1075.44 L164.431 1053.54 Z\" fill=\"#000000\" fill-rule=\"evenodd\" fill-opacity=\"1\" /><path clip-path=\"url(#clip580)\" d=\"M 0 0 M180.311 1082.22 L185.195 1082.22 L185.195 1088.1 L180.311 1088.1 L180.311 1082.22 Z\" fill=\"#000000\" fill-rule=\"evenodd\" fill-opacity=\"1\" /><path clip-path=\"url(#clip580)\" d=\"M 0 0 M189.084 1053.54 L211.306 1053.54 L211.306 1055.53 L198.76 1088.1 L193.876 1088.1 L205.681 1057.48 L189.084 1057.48 L189.084 1053.54 Z\" fill=\"#000000\" fill-rule=\"evenodd\" fill-opacity=\"1\" /><path clip-path=\"url(#clip580)\" d=\"M 0 0 M216.422 1053.54 L234.778 1053.54 L234.778 1057.48 L220.704 1057.48 L220.704 1065.95 Q221.723 1065.6 222.741 1065.44 Q223.76 1065.26 224.778 1065.26 Q230.565 1065.26 233.945 1068.43 Q237.324 1071.6 237.324 1077.01 Q237.324 1082.59 233.852 1085.69 Q230.38 1088.77 224.061 1088.77 Q221.885 1088.77 219.616 1088.4 Q217.371 1088.03 214.963 1087.29 L214.963 1082.59 Q217.047 1083.73 219.269 1084.28 Q221.491 1084.84 223.968 1084.84 Q227.973 1084.84 230.311 1082.73 Q232.648 1080.63 232.648 1077.01 Q232.648 1073.4 230.311 1071.3 Q227.973 1069.19 223.968 1069.19 Q222.093 1069.19 220.218 1069.61 Q218.366 1070.02 216.422 1070.9 L216.422 1053.54 Z\" fill=\"#000000\" fill-rule=\"evenodd\" fill-opacity=\"1\" /><path clip-path=\"url(#clip580)\" d=\"M 0 0 M127.418 867.283 L135.056 867.283 L135.056 840.917 L126.746 842.584 L126.746 838.325 L135.01 836.658 L139.686 836.658 L139.686 867.283 L147.325 867.283 L147.325 871.218 L127.418 871.218 L127.418 867.283 Z\" fill=\"#000000\" fill-rule=\"evenodd\" fill-opacity=\"1\" /><path clip-path=\"url(#clip580)\" d=\"M 0 0 M152.441 836.658 L170.797 836.658 L170.797 840.593 L156.723 840.593 L156.723 849.065 Q157.741 848.718 158.76 848.556 Q159.778 848.371 160.797 848.371 Q166.584 848.371 169.964 851.542 Q173.343 854.714 173.343 860.13 Q173.343 865.709 169.871 868.811 Q166.399 871.889 160.079 871.889 Q157.904 871.889 155.635 871.519 Q153.39 871.149 150.982 870.408 L150.982 865.709 Q153.066 866.843 155.288 867.399 Q157.51 867.954 159.987 867.954 Q163.991 867.954 166.329 865.848 Q168.667 863.741 168.667 860.13 Q168.667 856.519 166.329 854.413 Q163.991 852.306 159.987 852.306 Q158.112 852.306 156.237 852.723 Q154.385 853.139 152.441 854.019 L152.441 836.658 Z\" fill=\"#000000\" fill-rule=\"evenodd\" fill-opacity=\"1\" /><path clip-path=\"url(#clip580)\" d=\"M 0 0 M178.413 865.338 L183.297 865.338 L183.297 871.218 L178.413 871.218 L178.413 865.338 Z\" fill=\"#000000\" fill-rule=\"evenodd\" fill-opacity=\"1\" /><path clip-path=\"url(#clip580)\" d=\"M 0 0 M198.366 839.737 Q194.755 839.737 192.926 843.302 Q191.121 846.843 191.121 853.973 Q191.121 861.079 192.926 864.644 Q194.755 868.186 198.366 868.186 Q202 868.186 203.806 864.644 Q205.635 861.079 205.635 853.973 Q205.635 846.843 203.806 843.302 Q202 839.737 198.366 839.737 M198.366 836.033 Q204.176 836.033 207.232 840.64 Q210.311 845.223 210.311 853.973 Q210.311 862.7 207.232 867.306 Q204.176 871.889 198.366 871.889 Q192.556 871.889 189.477 867.306 Q186.422 862.7 186.422 853.973 Q186.422 845.223 189.477 840.64 Q192.556 836.033 198.366 836.033 Z\" fill=\"#000000\" fill-rule=\"evenodd\" fill-opacity=\"1\" /><path clip-path=\"url(#clip580)\" d=\"M 0 0 M225.38 839.737 Q221.769 839.737 219.94 843.302 Q218.135 846.843 218.135 853.973 Q218.135 861.079 219.94 864.644 Q221.769 868.186 225.38 868.186 Q229.014 868.186 230.82 864.644 Q232.648 861.079 232.648 853.973 Q232.648 846.843 230.82 843.302 Q229.014 839.737 225.38 839.737 M225.38 836.033 Q231.19 836.033 234.246 840.64 Q237.324 845.223 237.324 853.973 Q237.324 862.7 234.246 867.306 Q231.19 871.889 225.38 871.889 Q219.57 871.889 216.491 867.306 Q213.436 862.7 213.436 853.973 Q213.436 845.223 216.491 840.64 Q219.57 836.033 225.38 836.033 Z\" fill=\"#000000\" fill-rule=\"evenodd\" fill-opacity=\"1\" /><path clip-path=\"url(#clip580)\" d=\"M 0 0 M130.01 650.399 L137.649 650.399 L137.649 624.033 L129.339 625.7 L129.339 621.441 L137.603 619.774 L142.279 619.774 L142.279 650.399 L149.917 650.399 L149.917 654.334 L130.01 654.334 L130.01 650.399 Z\" fill=\"#000000\" fill-rule=\"evenodd\" fill-opacity=\"1\" /><path clip-path=\"url(#clip580)\" d=\"M 0 0 M155.033 619.774 L173.39 619.774 L173.39 623.709 L159.316 623.709 L159.316 632.181 Q160.334 631.834 161.353 631.672 Q162.371 631.487 163.39 631.487 Q169.177 631.487 172.556 634.658 Q175.936 637.829 175.936 643.246 Q175.936 648.825 172.464 651.926 Q168.991 655.005 162.672 655.005 Q160.496 655.005 158.228 654.635 Q155.982 654.264 153.575 653.524 L153.575 648.825 Q155.658 649.959 157.88 650.514 Q160.103 651.07 162.579 651.07 Q166.584 651.07 168.922 648.964 Q171.26 646.857 171.26 643.246 Q171.26 639.635 168.922 637.528 Q166.584 635.422 162.579 635.422 Q160.704 635.422 158.829 635.839 Q156.978 636.255 155.033 637.135 L155.033 619.774 Z\" fill=\"#000000\" fill-rule=\"evenodd\" fill-opacity=\"1\" /><path clip-path=\"url(#clip580)\" d=\"M 0 0 M181.005 648.454 L185.889 648.454 L185.889 654.334 L181.005 654.334 L181.005 648.454 Z\" fill=\"#000000\" fill-rule=\"evenodd\" fill-opacity=\"1\" /><path clip-path=\"url(#clip580)\" d=\"M 0 0 M194.987 650.399 L211.306 650.399 L211.306 654.334 L189.362 654.334 L189.362 650.399 Q192.024 647.644 196.607 643.014 Q201.213 638.362 202.394 637.019 Q204.639 634.496 205.519 632.76 Q206.422 631.001 206.422 629.311 Q206.422 626.556 204.477 624.82 Q202.556 623.084 199.454 623.084 Q197.255 623.084 194.801 623.848 Q192.371 624.612 189.593 626.163 L189.593 621.441 Q192.417 620.306 194.871 619.728 Q197.325 619.149 199.362 619.149 Q204.732 619.149 207.926 621.834 Q211.121 624.519 211.121 629.01 Q211.121 631.14 210.311 633.061 Q209.524 634.959 207.417 637.552 Q206.838 638.223 203.737 641.44 Q200.635 644.635 194.987 650.399 Z\" fill=\"#000000\" fill-rule=\"evenodd\" fill-opacity=\"1\" /><path clip-path=\"url(#clip580)\" d=\"M 0 0 M216.422 619.774 L234.778 619.774 L234.778 623.709 L220.704 623.709 L220.704 632.181 Q221.723 631.834 222.741 631.672 Q223.76 631.487 224.778 631.487 Q230.565 631.487 233.945 634.658 Q237.324 637.829 237.324 643.246 Q237.324 648.825 233.852 651.926 Q230.38 655.005 224.061 655.005 Q221.885 655.005 219.616 654.635 Q217.371 654.264 214.963 653.524 L214.963 648.825 Q217.047 649.959 219.269 650.514 Q221.491 651.07 223.968 651.07 Q227.973 651.07 230.311 648.964 Q232.648 646.857 232.648 643.246 Q232.648 639.635 230.311 637.528 Q227.973 635.422 223.968 635.422 Q222.093 635.422 220.218 635.839 Q218.366 636.255 216.422 637.135 L216.422 619.774 Z\" fill=\"#000000\" fill-rule=\"evenodd\" fill-opacity=\"1\" /><path clip-path=\"url(#clip580)\" d=\"M 0 0 M128.413 433.515 L136.052 433.515 L136.052 407.149 L127.742 408.816 L127.742 404.556 L136.005 402.89 L140.681 402.89 L140.681 433.515 L148.32 433.515 L148.32 437.45 L128.413 437.45 L128.413 433.515 Z\" fill=\"#000000\" fill-rule=\"evenodd\" fill-opacity=\"1\" /><path clip-path=\"url(#clip580)\" d=\"M 0 0 M153.436 402.89 L171.792 402.89 L171.792 406.825 L157.718 406.825 L157.718 415.297 Q158.737 414.95 159.755 414.788 Q160.774 414.603 161.792 414.603 Q167.579 414.603 170.959 417.774 Q174.339 420.945 174.339 426.362 Q174.339 431.94 170.866 435.042 Q167.394 438.121 161.075 438.121 Q158.899 438.121 156.63 437.751 Q154.385 437.38 151.978 436.64 L151.978 431.94 Q154.061 433.075 156.283 433.63 Q158.505 434.186 160.982 434.186 Q164.987 434.186 167.325 432.079 Q169.663 429.973 169.663 426.362 Q169.663 422.751 167.325 420.644 Q164.987 418.538 160.982 418.538 Q159.107 418.538 157.232 418.954 Q155.38 419.371 153.436 420.251 L153.436 402.89 Z\" fill=\"#000000\" fill-rule=\"evenodd\" fill-opacity=\"1\" /><path clip-path=\"url(#clip580)\" d=\"M 0 0 M179.408 431.57 L184.292 431.57 L184.292 437.45 L179.408 437.45 L179.408 431.57 Z\" fill=\"#000000\" fill-rule=\"evenodd\" fill-opacity=\"1\" /><path clip-path=\"url(#clip580)\" d=\"M 0 0 M189.408 402.89 L207.764 402.89 L207.764 406.825 L193.69 406.825 L193.69 415.297 Q194.709 414.95 195.727 414.788 Q196.746 414.603 197.764 414.603 Q203.551 414.603 206.931 417.774 Q210.311 420.945 210.311 426.362 Q210.311 431.94 206.838 435.042 Q203.366 438.121 197.047 438.121 Q194.871 438.121 192.602 437.751 Q190.357 437.38 187.95 436.64 L187.95 431.94 Q190.033 433.075 192.255 433.63 Q194.477 434.186 196.954 434.186 Q200.959 434.186 203.297 432.079 Q205.635 429.973 205.635 426.362 Q205.635 422.751 203.297 420.644 Q200.959 418.538 196.954 418.538 Q195.079 418.538 193.204 418.954 Q191.352 419.371 189.408 420.251 L189.408 402.89 Z\" fill=\"#000000\" fill-rule=\"evenodd\" fill-opacity=\"1\" /><path clip-path=\"url(#clip580)\" d=\"M 0 0 M225.38 405.968 Q221.769 405.968 219.94 409.533 Q218.135 413.075 218.135 420.204 Q218.135 427.311 219.94 430.876 Q221.769 434.417 225.38 434.417 Q229.014 434.417 230.82 430.876 Q232.648 427.311 232.648 420.204 Q232.648 413.075 230.82 409.533 Q229.014 405.968 225.38 405.968 M225.38 402.265 Q231.19 402.265 234.246 406.871 Q237.324 411.454 237.324 420.204 Q237.324 428.931 234.246 433.538 Q231.19 438.121 225.38 438.121 Q219.57 438.121 216.491 433.538 Q213.436 428.931 213.436 420.204 Q213.436 411.454 216.491 406.871 Q219.57 402.265 225.38 402.265 Z\" fill=\"#000000\" fill-rule=\"evenodd\" fill-opacity=\"1\" /><path clip-path=\"url(#clip580)\" d=\"M 0 0 M129.316 216.63 L136.955 216.63 L136.955 190.265 L128.644 191.931 L128.644 187.672 L136.908 186.006 L141.584 186.006 L141.584 216.63 L149.223 216.63 L149.223 220.566 L129.316 220.566 L129.316 216.63 Z\" fill=\"#000000\" fill-rule=\"evenodd\" fill-opacity=\"1\" /><path clip-path=\"url(#clip580)\" d=\"M 0 0 M154.339 186.006 L172.695 186.006 L172.695 189.941 L158.621 189.941 L158.621 198.413 Q159.64 198.066 160.658 197.904 Q161.677 197.718 162.695 197.718 Q168.482 197.718 171.862 200.89 Q175.241 204.061 175.241 209.478 Q175.241 215.056 171.769 218.158 Q168.297 221.237 161.978 221.237 Q159.802 221.237 157.533 220.866 Q155.288 220.496 152.88 219.755 L152.88 215.056 Q154.964 216.191 157.186 216.746 Q159.408 217.302 161.885 217.302 Q165.89 217.302 168.228 215.195 Q170.565 213.089 170.565 209.478 Q170.565 205.867 168.228 203.76 Q165.89 201.654 161.885 201.654 Q160.01 201.654 158.135 202.07 Q156.283 202.487 154.339 203.367 L154.339 186.006 Z\" fill=\"#000000\" fill-rule=\"evenodd\" fill-opacity=\"1\" /><path clip-path=\"url(#clip580)\" d=\"M 0 0 M180.311 214.686 L185.195 214.686 L185.195 220.566 L180.311 220.566 L180.311 214.686 Z\" fill=\"#000000\" fill-rule=\"evenodd\" fill-opacity=\"1\" /><path clip-path=\"url(#clip580)\" d=\"M 0 0 M189.084 186.006 L211.306 186.006 L211.306 187.996 L198.76 220.566 L193.876 220.566 L205.681 189.941 L189.084 189.941 L189.084 186.006 Z\" fill=\"#000000\" fill-rule=\"evenodd\" fill-opacity=\"1\" /><path clip-path=\"url(#clip580)\" d=\"M 0 0 M216.422 186.006 L234.778 186.006 L234.778 189.941 L220.704 189.941 L220.704 198.413 Q221.723 198.066 222.741 197.904 Q223.76 197.718 224.778 197.718 Q230.565 197.718 233.945 200.89 Q237.324 204.061 237.324 209.478 Q237.324 215.056 233.852 218.158 Q230.38 221.237 224.061 221.237 Q221.885 221.237 219.616 220.866 Q217.371 220.496 214.963 219.755 L214.963 215.056 Q217.047 216.191 219.269 216.746 Q221.491 217.302 223.968 217.302 Q227.973 217.302 230.311 215.195 Q232.648 213.089 232.648 209.478 Q232.648 205.867 230.311 203.76 Q227.973 201.654 223.968 201.654 Q222.093 201.654 220.218 202.07 Q218.366 202.487 216.422 203.367 L216.422 186.006 Z\" fill=\"#000000\" fill-rule=\"evenodd\" fill-opacity=\"1\" /><path clip-path=\"url(#clip580)\" d=\"M 0 0 M482.56 12.096 L490.742 12.096 L490.742 72.576 L482.56 72.576 L482.56 12.096 Z\" fill=\"#000000\" fill-rule=\"evenodd\" fill-opacity=\"1\" /><path clip-path=\"url(#clip580)\" d=\"M 0 0 M536.275 45.1919 L536.275 72.576 L528.821 72.576 L528.821 45.4349 Q528.821 38.994 526.309 35.7938 Q523.798 32.5936 518.775 32.5936 Q512.739 32.5936 509.255 36.4419 Q505.771 40.2903 505.771 46.9338 L505.771 72.576 L498.277 72.576 L498.277 27.2059 L505.771 27.2059 L505.771 34.2544 Q508.445 30.163 512.05 28.1376 Q515.696 26.1121 520.436 26.1121 Q528.254 26.1121 532.264 30.9732 Q536.275 35.7938 536.275 45.1919 Z\" fill=\"#000000\" fill-rule=\"evenodd\" fill-opacity=\"1\" /><path clip-path=\"url(#clip580)\" d=\"M 0 0 M567.061 9.54393 L567.061 15.7418 L559.932 15.7418 Q555.921 15.7418 554.342 17.3622 Q552.802 18.9825 552.802 23.1955 L552.802 27.2059 L565.077 27.2059 L565.077 32.9987 L552.802 32.9987 L552.802 72.576 L545.308 72.576 L545.308 32.9987 L538.179 32.9987 L538.179 27.2059 L545.308 27.2059 L545.308 24.0462 Q545.308 16.471 548.832 13.0277 Q552.357 9.54393 560.013 9.54393 L567.061 9.54393 Z\" fill=\"#000000\" fill-rule=\"evenodd\" fill-opacity=\"1\" /><path clip-path=\"url(#clip580)\" d=\"M 0 0 M574.88 9.54393 L582.333 9.54393 L582.333 72.576 L574.88 72.576 L574.88 9.54393 Z\" fill=\"#000000\" fill-rule=\"evenodd\" fill-opacity=\"1\" /><path clip-path=\"url(#clip580)\" d=\"M 0 0 M589.382 54.671 L589.382 27.2059 L596.836 27.2059 L596.836 54.3874 Q596.836 60.8284 599.347 64.0691 Q601.859 67.2693 606.882 67.2693 Q612.918 67.2693 616.401 63.421 Q619.926 59.5726 619.926 52.9291 L619.926 27.2059 L627.379 27.2059 L627.379 72.576 L619.926 72.576 L619.926 65.6084 Q617.212 69.7404 613.606 71.7658 Q610.042 73.7508 605.302 73.7508 Q597.484 73.7508 593.433 68.8897 Q589.382 64.0286 589.382 54.671 M608.138 26.1121 L608.138 26.1121 Z\" fill=\"#000000\" fill-rule=\"evenodd\" fill-opacity=\"1\" /><path clip-path=\"url(#clip580)\" d=\"M 0 0 M674.005 48.0275 L674.005 51.6733 L639.735 51.6733 Q640.221 59.3701 644.353 63.421 Q648.525 67.4314 655.938 67.4314 Q660.232 67.4314 664.243 66.3781 Q668.294 65.3249 672.263 63.2184 L672.263 70.267 Q668.253 71.9684 664.04 72.8596 Q659.827 73.7508 655.493 73.7508 Q644.636 73.7508 638.276 67.4314 Q631.957 61.1119 631.957 50.3365 Q631.957 39.1965 637.952 32.6746 Q643.988 26.1121 654.196 26.1121 Q663.351 26.1121 668.658 32.0264 Q674.005 37.9003 674.005 48.0275 M666.552 45.84 Q666.471 39.7232 663.108 36.0774 Q659.787 32.4315 654.277 32.4315 Q648.039 32.4315 644.272 35.9558 Q640.545 39.4801 639.978 45.8805 L666.552 45.84 Z\" fill=\"#000000\" fill-rule=\"evenodd\" fill-opacity=\"1\" /><path clip-path=\"url(#clip580)\" d=\"M 0 0 M719.538 45.1919 L719.538 72.576 L712.084 72.576 L712.084 45.4349 Q712.084 38.994 709.572 35.7938 Q707.061 32.5936 702.038 32.5936 Q696.002 32.5936 692.518 36.4419 Q689.034 40.2903 689.034 46.9338 L689.034 72.576 L681.54 72.576 L681.54 27.2059 L689.034 27.2059 L689.034 34.2544 Q691.708 30.163 695.313 28.1376 Q698.959 26.1121 703.698 26.1121 Q711.517 26.1121 715.527 30.9732 Q719.538 35.7938 719.538 45.1919 Z\" fill=\"#000000\" fill-rule=\"evenodd\" fill-opacity=\"1\" /><path clip-path=\"url(#clip580)\" d=\"M 0 0 M760.006 28.9478 L760.006 35.9153 Q756.846 34.1734 753.646 33.3227 Q750.486 32.4315 747.246 32.4315 Q739.995 32.4315 735.984 37.0496 Q731.974 41.6271 731.974 49.9314 Q731.974 58.2358 735.984 62.8538 Q739.995 67.4314 747.246 67.4314 Q750.486 67.4314 753.646 66.5807 Q756.846 65.6895 760.006 63.9476 L760.006 70.8341 Q756.887 72.2924 753.525 73.0216 Q750.203 73.7508 746.436 73.7508 Q736.187 73.7508 730.151 67.3098 Q724.115 60.8689 724.115 49.9314 Q724.115 38.832 730.191 32.472 Q736.308 26.1121 746.922 26.1121 Q750.365 26.1121 753.646 26.8413 Q756.927 27.5299 760.006 28.9478 Z\" fill=\"#000000\" fill-rule=\"evenodd\" fill-opacity=\"1\" /><path clip-path=\"url(#clip580)\" d=\"M 0 0 M806.632 48.0275 L806.632 51.6733 L772.361 51.6733 Q772.847 59.3701 776.979 63.421 Q781.152 67.4314 788.565 67.4314 Q792.859 67.4314 796.869 66.3781 Q800.92 65.3249 804.89 63.2184 L804.89 70.267 Q800.88 71.9684 796.667 72.8596 Q792.454 73.7508 788.119 73.7508 Q777.263 73.7508 770.903 67.4314 Q764.584 61.1119 764.584 50.3365 Q764.584 39.1965 770.579 32.6746 Q776.615 26.1121 786.823 26.1121 Q795.978 26.1121 801.285 32.0264 Q806.632 37.9003 806.632 48.0275 M799.178 45.84 Q799.097 39.7232 795.735 36.0774 Q792.413 32.4315 786.904 32.4315 Q780.666 32.4315 776.898 35.9558 Q773.171 39.4801 772.604 45.8805 L799.178 45.84 Z\" fill=\"#000000\" fill-rule=\"evenodd\" fill-opacity=\"1\" /><path clip-path=\"url(#clip580)\" d=\"M 0 0 M858.402 32.4315 Q852.407 32.4315 848.923 37.1306 Q845.44 41.7891 845.44 49.9314 Q845.44 58.0738 848.883 62.7728 Q852.367 67.4314 858.402 67.4314 Q864.357 67.4314 867.841 62.7323 Q871.325 58.0333 871.325 49.9314 Q871.325 41.8701 867.841 37.1711 Q864.357 32.4315 858.402 32.4315 M858.402 26.1121 Q868.125 26.1121 873.674 32.4315 Q879.224 38.7509 879.224 49.9314 Q879.224 61.0714 873.674 67.4314 Q868.125 73.7508 858.402 73.7508 Q848.64 73.7508 843.09 67.4314 Q837.581 61.0714 837.581 49.9314 Q837.581 38.7509 843.09 32.4315 Q848.64 26.1121 858.402 26.1121 Z\" fill=\"#000000\" fill-rule=\"evenodd\" fill-opacity=\"1\" /><path clip-path=\"url(#clip580)\" d=\"M 0 0 M910.011 9.54393 L910.011 15.7418 L902.881 15.7418 Q898.871 15.7418 897.291 17.3622 Q895.752 18.9825 895.752 23.1955 L895.752 27.2059 L908.026 27.2059 L908.026 32.9987 L895.752 32.9987 L895.752 72.576 L888.258 72.576 L888.258 32.9987 L881.128 32.9987 L881.128 27.2059 L888.258 27.2059 L888.258 24.0462 Q888.258 16.471 891.782 13.0277 Q895.306 9.54393 902.962 9.54393 L910.011 9.54393 Z\" fill=\"#000000\" fill-rule=\"evenodd\" fill-opacity=\"1\" /><path clip-path=\"url(#clip580)\" d=\"M 0 0 M951.411 65.7705 L951.411 89.8329 L943.917 89.8329 L943.917 27.2059 L951.411 27.2059 L951.411 34.0924 Q953.761 30.0415 957.326 28.0971 Q960.931 26.1121 965.913 26.1121 Q974.177 26.1121 979.322 32.6746 Q984.507 39.2371 984.507 49.9314 Q984.507 60.6258 979.322 67.1883 Q974.177 73.7508 965.913 73.7508 Q960.931 73.7508 957.326 71.8063 Q953.761 69.8214 951.411 65.7705 M976.77 49.9314 Q976.77 41.7081 973.367 37.0496 Q970.005 32.3505 964.091 32.3505 Q958.176 32.3505 954.774 37.0496 Q951.411 41.7081 951.411 49.9314 Q951.411 58.1548 954.774 62.8538 Q958.176 67.5124 964.091 67.5124 Q970.005 67.5124 973.367 62.8538 Q976.77 58.1548 976.77 49.9314 Z\" fill=\"#000000\" fill-rule=\"evenodd\" fill-opacity=\"1\" /><path clip-path=\"url(#clip580)\" d=\"M 0 0 M1012.94 49.7694 Q1003.91 49.7694 1000.43 51.8354 Q996.943 53.9013 996.943 58.8839 Q996.943 62.8538 999.536 65.2034 Q1002.17 67.5124 1006.67 67.5124 Q1012.86 67.5124 1016.59 63.1374 Q1020.36 58.7219 1020.36 51.4303 L1020.36 49.7694 L1012.94 49.7694 M1027.81 46.6907 L1027.81 72.576 L1020.36 72.576 L1020.36 65.6895 Q1017.81 69.8214 1014 71.8063 Q1010.19 73.7508 1004.68 73.7508 Q997.713 73.7508 993.581 69.8619 Q989.49 65.9325 989.49 59.3701 Q989.49 51.7138 994.594 47.825 Q999.739 43.9361 1009.91 43.9361 L1020.36 43.9361 L1020.36 43.2069 Q1020.36 38.0623 1016.95 35.2672 Q1013.59 32.4315 1007.48 32.4315 Q1003.59 32.4315 999.901 33.3632 Q996.214 34.295 992.812 36.1584 L992.812 29.2718 Q996.903 27.692 1000.75 26.9223 Q1004.6 26.1121 1008.25 26.1121 Q1018.09 26.1121 1022.95 31.2163 Q1027.81 36.3204 1027.81 46.6907 Z\" fill=\"#000000\" fill-rule=\"evenodd\" fill-opacity=\"1\" /><path clip-path=\"url(#clip580)\" d=\"M 0 0 M1035.63 27.2059 L1043.08 27.2059 L1043.08 72.576 L1035.63 72.576 L1035.63 27.2059 M1035.63 9.54393 L1043.08 9.54393 L1043.08 18.9825 L1035.63 18.9825 L1035.63 9.54393 Z\" fill=\"#000000\" fill-rule=\"evenodd\" fill-opacity=\"1\" /><path clip-path=\"url(#clip580)\" d=\"M 0 0 M1077.19 34.1734 Q1075.94 33.4443 1074.44 33.1202 Q1072.98 32.7556 1071.2 32.7556 Q1064.88 32.7556 1061.47 36.8875 Q1058.11 40.9789 1058.11 48.6757 L1058.11 72.576 L1050.62 72.576 L1050.62 27.2059 L1058.11 27.2059 L1058.11 34.2544 Q1060.46 30.1225 1064.23 28.1376 Q1068 26.1121 1073.38 26.1121 Q1074.15 26.1121 1075.09 26.2337 Q1076.02 26.3147 1077.15 26.5172 L1077.19 34.1734 Z\" fill=\"#000000\" fill-rule=\"evenodd\" fill-opacity=\"1\" /><path clip-path=\"url(#clip580)\" d=\"M 0 0 M1105.63 49.7694 Q1096.6 49.7694 1093.11 51.8354 Q1089.63 53.9013 1089.63 58.8839 Q1089.63 62.8538 1092.22 65.2034 Q1094.85 67.5124 1099.35 67.5124 Q1105.55 67.5124 1109.27 63.1374 Q1113.04 58.7219 1113.04 51.4303 L1113.04 49.7694 L1105.63 49.7694 M1120.5 46.6907 L1120.5 72.576 L1113.04 72.576 L1113.04 65.6895 Q1110.49 69.8214 1106.68 71.8063 Q1102.87 73.7508 1097.37 73.7508 Q1090.4 73.7508 1086.27 69.8619 Q1082.17 65.9325 1082.17 59.3701 Q1082.17 51.7138 1087.28 47.825 Q1092.42 43.9361 1102.59 43.9361 L1113.04 43.9361 L1113.04 43.2069 Q1113.04 38.0623 1109.64 35.2672 Q1106.28 32.4315 1100.16 32.4315 Q1096.27 32.4315 1092.59 33.3632 Q1088.9 34.295 1085.5 36.1584 L1085.5 29.2718 Q1089.59 27.692 1093.44 26.9223 Q1097.28 26.1121 1100.93 26.1121 Q1110.77 26.1121 1115.63 31.2163 Q1120.5 36.3204 1120.5 46.6907 Z\" fill=\"#000000\" fill-rule=\"evenodd\" fill-opacity=\"1\" /><path clip-path=\"url(#clip580)\" d=\"M 0 0 M1135.69 14.324 L1135.69 27.2059 L1151.04 27.2059 L1151.04 32.9987 L1135.69 32.9987 L1135.69 57.6282 Q1135.69 63.1779 1137.19 64.7578 Q1138.73 66.3376 1143.38 66.3376 L1151.04 66.3376 L1151.04 72.576 L1143.38 72.576 Q1134.76 72.576 1131.47 69.3758 Q1128.19 66.1351 1128.19 57.6282 L1128.19 32.9987 L1122.72 32.9987 L1122.72 27.2059 L1128.19 27.2059 L1128.19 14.324 L1135.69 14.324 Z\" fill=\"#000000\" fill-rule=\"evenodd\" fill-opacity=\"1\" /><path clip-path=\"url(#clip580)\" d=\"M 0 0 M1197.67 48.0275 L1197.67 51.6733 L1163.4 51.6733 Q1163.88 59.3701 1168.01 63.421 Q1172.19 67.4314 1179.6 67.4314 Q1183.89 67.4314 1187.9 66.3781 Q1191.95 65.3249 1195.92 63.2184 L1195.92 70.267 Q1191.91 71.9684 1187.7 72.8596 Q1183.49 73.7508 1179.15 73.7508 Q1168.3 73.7508 1161.94 67.4314 Q1155.62 61.1119 1155.62 50.3365 Q1155.62 39.1965 1161.61 32.6746 Q1167.65 26.1121 1177.86 26.1121 Q1187.01 26.1121 1192.32 32.0264 Q1197.67 37.9003 1197.67 48.0275 M1190.21 45.84 Q1190.13 39.7232 1186.77 36.0774 Q1183.45 32.4315 1177.94 32.4315 Q1171.7 32.4315 1167.93 35.9558 Q1164.21 39.4801 1163.64 45.8805 L1190.21 45.84 Z\" fill=\"#000000\" fill-rule=\"evenodd\" fill-opacity=\"1\" /><path clip-path=\"url(#clip580)\" d=\"M 0 0 M1239.07 65.7705 L1239.07 89.8329 L1231.57 89.8329 L1231.57 27.2059 L1239.07 27.2059 L1239.07 34.0924 Q1241.42 30.0415 1244.98 28.0971 Q1248.59 26.1121 1253.57 26.1121 Q1261.83 26.1121 1266.98 32.6746 Q1272.16 39.2371 1272.16 49.9314 Q1272.16 60.6258 1266.98 67.1883 Q1261.83 73.7508 1253.57 73.7508 Q1248.59 73.7508 1244.98 71.8063 Q1241.42 69.8214 1239.07 65.7705 M1264.42 49.9314 Q1264.42 41.7081 1261.02 37.0496 Q1257.66 32.3505 1251.75 32.3505 Q1245.83 32.3505 1242.43 37.0496 Q1239.07 41.7081 1239.07 49.9314 Q1239.07 58.1548 1242.43 62.8538 Q1245.83 67.5124 1251.75 67.5124 Q1257.66 67.5124 1261.02 62.8538 Q1264.42 58.1548 1264.42 49.9314 Z\" fill=\"#000000\" fill-rule=\"evenodd\" fill-opacity=\"1\" /><path clip-path=\"url(#clip580)\" d=\"M 0 0 M1297.56 32.4315 Q1291.57 32.4315 1288.08 37.1306 Q1284.6 41.7891 1284.6 49.9314 Q1284.6 58.0738 1288.04 62.7728 Q1291.53 67.4314 1297.56 67.4314 Q1303.52 67.4314 1307 62.7323 Q1310.48 58.0333 1310.48 49.9314 Q1310.48 41.8701 1307 37.1711 Q1303.52 32.4315 1297.56 32.4315 M1297.56 26.1121 Q1307.28 26.1121 1312.83 32.4315 Q1318.38 38.7509 1318.38 49.9314 Q1318.38 61.0714 1312.83 67.4314 Q1307.28 73.7508 1297.56 73.7508 Q1287.8 73.7508 1282.25 67.4314 Q1276.74 61.0714 1276.74 49.9314 Q1276.74 38.7509 1282.25 32.4315 Q1287.8 26.1121 1297.56 26.1121 Z\" fill=\"#000000\" fill-rule=\"evenodd\" fill-opacity=\"1\" /><path clip-path=\"url(#clip580)\" d=\"M 0 0 M1333.41 65.7705 L1333.41 89.8329 L1325.92 89.8329 L1325.92 27.2059 L1333.41 27.2059 L1333.41 34.0924 Q1335.76 30.0415 1339.33 28.0971 Q1342.93 26.1121 1347.91 26.1121 Q1356.18 26.1121 1361.32 32.6746 Q1366.51 39.2371 1366.51 49.9314 Q1366.51 60.6258 1361.32 67.1883 Q1356.18 73.7508 1347.91 73.7508 Q1342.93 73.7508 1339.33 71.8063 Q1335.76 69.8214 1333.41 65.7705 M1358.77 49.9314 Q1358.77 41.7081 1355.37 37.0496 Q1352.01 32.3505 1346.09 32.3505 Q1340.18 32.3505 1336.77 37.0496 Q1333.41 41.7081 1333.41 49.9314 Q1333.41 58.1548 1336.77 62.8538 Q1340.18 67.5124 1346.09 67.5124 Q1352.01 67.5124 1355.37 62.8538 Q1358.77 58.1548 1358.77 49.9314 Z\" fill=\"#000000\" fill-rule=\"evenodd\" fill-opacity=\"1\" /><path clip-path=\"url(#clip580)\" d=\"M 0 0 M1374.33 9.54393 L1381.78 9.54393 L1381.78 72.576 L1374.33 72.576 L1374.33 9.54393 Z\" fill=\"#000000\" fill-rule=\"evenodd\" fill-opacity=\"1\" /><path clip-path=\"url(#clip580)\" d=\"M 0 0 M1427.31 45.1919 L1427.31 72.576 L1419.86 72.576 L1419.86 45.4349 Q1419.86 38.994 1417.35 35.7938 Q1414.83 32.5936 1409.81 32.5936 Q1403.78 32.5936 1400.29 36.4419 Q1396.81 40.2903 1396.81 46.9338 L1396.81 72.576 L1389.31 72.576 L1389.31 27.2059 L1396.81 27.2059 L1396.81 34.2544 Q1399.48 30.163 1403.09 28.1376 Q1406.73 26.1121 1411.47 26.1121 Q1419.29 26.1121 1423.3 30.9732 Q1427.31 35.7938 1427.31 45.1919 Z\" fill=\"#000000\" fill-rule=\"evenodd\" fill-opacity=\"1\" /><path clip-path=\"url(#clip580)\" d=\"M 0 0 M1479.08 32.4315 Q1473.09 32.4315 1469.6 37.1306 Q1466.12 41.7891 1466.12 49.9314 Q1466.12 58.0738 1469.56 62.7728 Q1473.05 67.4314 1479.08 67.4314 Q1485.04 67.4314 1488.52 62.7323 Q1492 58.0333 1492 49.9314 Q1492 41.8701 1488.52 37.1711 Q1485.04 32.4315 1479.08 32.4315 M1479.08 26.1121 Q1488.8 26.1121 1494.35 32.4315 Q1499.9 38.7509 1499.9 49.9314 Q1499.9 61.0714 1494.35 67.4314 Q1488.8 73.7508 1479.08 73.7508 Q1469.32 73.7508 1463.77 67.4314 Q1458.26 61.0714 1458.26 49.9314 Q1458.26 38.7509 1463.77 32.4315 Q1469.32 26.1121 1479.08 26.1121 Z\" fill=\"#000000\" fill-rule=\"evenodd\" fill-opacity=\"1\" /><path clip-path=\"url(#clip580)\" d=\"M 0 0 M1545.44 45.1919 L1545.44 72.576 L1537.98 72.576 L1537.98 45.4349 Q1537.98 38.994 1535.47 35.7938 Q1532.96 32.5936 1527.94 32.5936 Q1521.9 32.5936 1518.42 36.4419 Q1514.93 40.2903 1514.93 46.9338 L1514.93 72.576 L1507.44 72.576 L1507.44 27.2059 L1514.93 27.2059 L1514.93 34.2544 Q1517.61 30.163 1521.21 28.1376 Q1524.86 26.1121 1529.6 26.1121 Q1537.42 26.1121 1541.43 30.9732 Q1545.44 35.7938 1545.44 45.1919 Z\" fill=\"#000000\" fill-rule=\"evenodd\" fill-opacity=\"1\" /><path clip-path=\"url(#clip580)\" d=\"M 0 0 M1609.48 49.3643 Q1609.48 41.2625 1606.12 36.8065 Q1602.8 32.3505 1596.76 32.3505 Q1590.77 32.3505 1587.4 36.8065 Q1584.08 41.2625 1584.08 49.3643 Q1584.08 57.4256 1587.4 61.8816 Q1590.77 66.3376 1596.76 66.3376 Q1602.8 66.3376 1606.12 61.8816 Q1609.48 57.4256 1609.48 49.3643 M1616.93 66.9452 Q1616.93 78.5308 1611.79 84.1616 Q1606.65 89.8329 1596.03 89.8329 Q1592.1 89.8329 1588.62 89.2252 Q1585.13 88.6581 1581.85 87.4428 L1581.85 80.1917 Q1585.13 81.9741 1588.33 82.8248 Q1591.54 83.6755 1594.86 83.6755 Q1602.19 83.6755 1605.83 79.8271 Q1609.48 76.0193 1609.48 68.282 L1609.48 64.5957 Q1607.17 68.6061 1603.57 70.5911 Q1599.96 72.576 1594.94 72.576 Q1586.59 72.576 1581.49 66.2161 Q1576.38 59.8562 1576.38 49.3643 Q1576.38 38.832 1581.49 32.472 Q1586.59 26.1121 1594.94 26.1121 Q1599.96 26.1121 1603.57 28.0971 Q1607.17 30.082 1609.48 34.0924 L1609.48 27.2059 L1616.93 27.2059 L1616.93 66.9452 Z\" fill=\"#000000\" fill-rule=\"evenodd\" fill-opacity=\"1\" /><path clip-path=\"url(#clip580)\" d=\"M 0 0 M1624.75 9.54393 L1632.21 9.54393 L1632.21 72.576 L1624.75 72.576 L1624.75 9.54393 Z\" fill=\"#000000\" fill-rule=\"evenodd\" fill-opacity=\"1\" /><path clip-path=\"url(#clip580)\" d=\"M 0 0 M1657.61 32.4315 Q1651.61 32.4315 1648.13 37.1306 Q1644.64 41.7891 1644.64 49.9314 Q1644.64 58.0738 1648.09 62.7728 Q1651.57 67.4314 1657.61 67.4314 Q1663.56 67.4314 1667.04 62.7323 Q1670.53 58.0333 1670.53 49.9314 Q1670.53 41.8701 1667.04 37.1711 Q1663.56 32.4315 1657.61 32.4315 M1657.61 26.1121 Q1667.33 26.1121 1672.88 32.4315 Q1678.43 38.7509 1678.43 49.9314 Q1678.43 61.0714 1672.88 67.4314 Q1667.33 73.7508 1657.61 73.7508 Q1647.84 73.7508 1642.29 67.4314 Q1636.78 61.0714 1636.78 49.9314 Q1636.78 38.7509 1642.29 32.4315 Q1647.84 26.1121 1657.61 26.1121 Z\" fill=\"#000000\" fill-rule=\"evenodd\" fill-opacity=\"1\" /><path clip-path=\"url(#clip580)\" d=\"M 0 0 M1718.81 49.9314 Q1718.81 41.7081 1715.41 37.0496 Q1712.05 32.3505 1706.14 32.3505 Q1700.22 32.3505 1696.82 37.0496 Q1693.46 41.7081 1693.46 49.9314 Q1693.46 58.1548 1696.82 62.8538 Q1700.22 67.5124 1706.14 67.5124 Q1712.05 67.5124 1715.41 62.8538 Q1718.81 58.1548 1718.81 49.9314 M1693.46 34.0924 Q1695.81 30.0415 1699.37 28.0971 Q1702.98 26.1121 1707.96 26.1121 Q1716.22 26.1121 1721.37 32.6746 Q1726.55 39.2371 1726.55 49.9314 Q1726.55 60.6258 1721.37 67.1883 Q1716.22 73.7508 1707.96 73.7508 Q1702.98 73.7508 1699.37 71.8063 Q1695.81 69.8214 1693.46 65.7705 L1693.46 72.576 L1685.96 72.576 L1685.96 9.54393 L1693.46 9.54393 L1693.46 34.0924 Z\" fill=\"#000000\" fill-rule=\"evenodd\" fill-opacity=\"1\" /><path clip-path=\"url(#clip580)\" d=\"M 0 0 M1754.99 49.7694 Q1745.96 49.7694 1742.47 51.8354 Q1738.99 53.9013 1738.99 58.8839 Q1738.99 62.8538 1741.58 65.2034 Q1744.21 67.5124 1748.71 67.5124 Q1754.91 67.5124 1758.63 63.1374 Q1762.4 58.7219 1762.4 51.4303 L1762.4 49.7694 L1754.99 49.7694 M1769.86 46.6907 L1769.86 72.576 L1762.4 72.576 L1762.4 65.6895 Q1759.85 69.8214 1756.04 71.8063 Q1752.23 73.7508 1746.73 73.7508 Q1739.76 73.7508 1735.63 69.8619 Q1731.53 65.9325 1731.53 59.3701 Q1731.53 51.7138 1736.64 47.825 Q1741.78 43.9361 1751.95 43.9361 L1762.4 43.9361 L1762.4 43.2069 Q1762.4 38.0623 1759 35.2672 Q1755.64 32.4315 1749.52 32.4315 Q1745.63 32.4315 1741.95 33.3632 Q1738.26 34.295 1734.86 36.1584 L1734.86 29.2718 Q1738.95 27.692 1742.8 26.9223 Q1746.64 26.1121 1750.29 26.1121 Q1760.13 26.1121 1764.99 31.2163 Q1769.86 36.3204 1769.86 46.6907 Z\" fill=\"#000000\" fill-rule=\"evenodd\" fill-opacity=\"1\" /><path clip-path=\"url(#clip580)\" d=\"M 0 0 M1777.67 9.54393 L1785.13 9.54393 L1785.13 72.576 L1777.67 72.576 L1777.67 9.54393 Z\" fill=\"#000000\" fill-rule=\"evenodd\" fill-opacity=\"1\" /><path clip-path=\"url(#clip580)\" d=\"M 0 0 M1814.98 27.2059 L1822.44 27.2059 L1831.75 62.6108 L1841.03 27.2059 L1849.82 27.2059 L1859.14 62.6108 L1868.41 27.2059 L1875.87 27.2059 L1864 72.576 L1855.21 72.576 L1845.45 35.3887 L1835.64 72.576 L1826.85 72.576 L1814.98 27.2059 Z\" fill=\"#000000\" fill-rule=\"evenodd\" fill-opacity=\"1\" /><path clip-path=\"url(#clip580)\" d=\"M 0 0 M1904.31 49.7694 Q1895.27 49.7694 1891.79 51.8354 Q1888.3 53.9013 1888.3 58.8839 Q1888.3 62.8538 1890.9 65.2034 Q1893.53 67.5124 1898.03 67.5124 Q1904.22 67.5124 1907.95 63.1374 Q1911.72 58.7219 1911.72 51.4303 L1911.72 49.7694 L1904.31 49.7694 M1919.17 46.6907 L1919.17 72.576 L1911.72 72.576 L1911.72 65.6895 Q1909.17 69.8214 1905.36 71.8063 Q1901.55 73.7508 1896.04 73.7508 Q1889.07 73.7508 1884.94 69.8619 Q1880.85 65.9325 1880.85 59.3701 Q1880.85 51.7138 1885.95 47.825 Q1891.1 43.9361 1901.27 43.9361 L1911.72 43.9361 L1911.72 43.2069 Q1911.72 38.0623 1908.32 35.2672 Q1904.95 32.4315 1898.84 32.4315 Q1894.95 32.4315 1891.26 33.3632 Q1887.58 34.295 1884.17 36.1584 L1884.17 29.2718 Q1888.26 27.692 1892.11 26.9223 Q1895.96 26.1121 1899.61 26.1121 Q1909.45 26.1121 1914.31 31.2163 Q1919.17 36.3204 1919.17 46.6907 Z\" fill=\"#000000\" fill-rule=\"evenodd\" fill-opacity=\"1\" /><path clip-path=\"url(#clip580)\" d=\"M 0 0 M1953.28 34.1734 Q1952.03 33.4443 1950.53 33.1202 Q1949.07 32.7556 1947.29 32.7556 Q1940.97 32.7556 1937.56 36.8875 Q1934.2 40.9789 1934.2 48.6757 L1934.2 72.576 L1926.71 72.576 L1926.71 27.2059 L1934.2 27.2059 L1934.2 34.2544 Q1936.55 30.1225 1940.32 28.1376 Q1944.09 26.1121 1949.47 26.1121 Q1950.24 26.1121 1951.17 26.2337 Q1952.11 26.3147 1953.24 26.5172 L1953.28 34.1734 Z\" fill=\"#000000\" fill-rule=\"evenodd\" fill-opacity=\"1\" /><path clip-path=\"url(#clip580)\" d=\"M 0 0 M1994.96 35.9153 Q1997.76 30.8922 2001.65 28.5022 Q2005.54 26.1121 2010.8 26.1121 Q2017.89 26.1121 2021.74 31.0947 Q2025.59 36.0368 2025.59 45.1919 L2025.59 72.576 L2018.1 72.576 L2018.1 45.4349 Q2018.1 38.913 2015.79 35.7533 Q2013.48 32.5936 2008.74 32.5936 Q2002.94 32.5936 1999.58 36.4419 Q1996.22 40.2903 1996.22 46.9338 L1996.22 72.576 L1988.73 72.576 L1988.73 45.4349 Q1988.73 38.8725 1986.42 35.7533 Q1984.11 32.5936 1979.29 32.5936 Q1973.58 32.5936 1970.21 36.4824 Q1966.85 40.3308 1966.85 46.9338 L1966.85 72.576 L1959.36 72.576 L1959.36 27.2059 L1966.85 27.2059 L1966.85 34.2544 Q1969.4 30.082 1972.97 28.0971 Q1976.53 26.1121 1981.43 26.1121 Q1986.38 26.1121 1989.82 28.6237 Q1993.3 31.1352 1994.96 35.9153 Z\" fill=\"#000000\" fill-rule=\"evenodd\" fill-opacity=\"1\" /><path clip-path=\"url(#clip580)\" d=\"M 0 0 M2033.41 27.2059 L2040.86 27.2059 L2040.86 72.576 L2033.41 72.576 L2033.41 27.2059 M2033.41 9.54393 L2040.86 9.54393 L2040.86 18.9825 L2033.41 18.9825 L2033.41 9.54393 Z\" fill=\"#000000\" fill-rule=\"evenodd\" fill-opacity=\"1\" /><path clip-path=\"url(#clip580)\" d=\"M 0 0 M2086.39 45.1919 L2086.39 72.576 L2078.94 72.576 L2078.94 45.4349 Q2078.94 38.994 2076.43 35.7938 Q2073.92 32.5936 2068.89 32.5936 Q2062.86 32.5936 2059.37 36.4419 Q2055.89 40.2903 2055.89 46.9338 L2055.89 72.576 L2048.4 72.576 L2048.4 27.2059 L2055.89 27.2059 L2055.89 34.2544 Q2058.56 30.163 2062.17 28.1376 Q2065.82 26.1121 2070.55 26.1121 Q2078.37 26.1121 2082.38 30.9732 Q2086.39 35.7938 2086.39 45.1919 Z\" fill=\"#000000\" fill-rule=\"evenodd\" fill-opacity=\"1\" /><path clip-path=\"url(#clip580)\" d=\"M 0 0 M2124.07 49.3643 Q2124.07 41.2625 2120.7 36.8065 Q2117.38 32.3505 2111.35 32.3505 Q2105.35 32.3505 2101.99 36.8065 Q2098.67 41.2625 2098.67 49.3643 Q2098.67 57.4256 2101.99 61.8816 Q2105.35 66.3376 2111.35 66.3376 Q2117.38 66.3376 2120.7 61.8816 Q2124.07 57.4256 2124.07 49.3643 M2131.52 66.9452 Q2131.52 78.5308 2126.38 84.1616 Q2121.23 89.8329 2110.62 89.8329 Q2106.69 89.8329 2103.2 89.2252 Q2099.72 88.6581 2096.44 87.4428 L2096.44 80.1917 Q2099.72 81.9741 2102.92 82.8248 Q2106.12 83.6755 2109.44 83.6755 Q2116.78 83.6755 2120.42 79.8271 Q2124.07 76.0193 2124.07 68.282 L2124.07 64.5957 Q2121.76 68.6061 2118.15 70.5911 Q2114.55 72.576 2109.52 72.576 Q2101.18 72.576 2096.08 66.2161 Q2090.97 59.8562 2090.97 49.3643 Q2090.97 38.832 2096.08 32.472 Q2101.18 26.1121 2109.52 26.1121 Q2114.55 26.1121 2118.15 28.0971 Q2121.76 30.082 2124.07 34.0924 L2124.07 27.2059 L2131.52 27.2059 L2131.52 66.9452 Z\" fill=\"#000000\" fill-rule=\"evenodd\" fill-opacity=\"1\" /><path clip-path=\"url(#clip580)\" d=\"M 0 0 M913.48 1514.67 L922.138 1514.67 L943.208 1554.42 L943.208 1514.67 L949.447 1514.67 L949.447 1562.19 L940.789 1562.19 L919.719 1522.43 L919.719 1562.19 L913.48 1562.19 L913.48 1514.67 Z\" fill=\"#000000\" fill-rule=\"evenodd\" fill-opacity=\"1\" /><path clip-path=\"url(#clip580)\" d=\"M 0 0 M954.985 1548.12 L954.985 1526.54 L960.841 1526.54 L960.841 1547.89 Q960.841 1552.96 962.815 1555.5 Q964.788 1558.02 968.735 1558.02 Q973.477 1558.02 976.214 1554.99 Q978.983 1551.97 978.983 1546.75 L978.983 1526.54 L984.84 1526.54 L984.84 1562.19 L978.983 1562.19 L978.983 1556.71 Q976.851 1559.96 974.018 1561.55 Q971.217 1563.11 967.493 1563.11 Q961.35 1563.11 958.168 1559.29 Q954.985 1555.47 954.985 1548.12 M969.721 1525.68 L969.721 1525.68 Z\" fill=\"#000000\" fill-rule=\"evenodd\" fill-opacity=\"1\" /><path clip-path=\"url(#clip580)\" d=\"M 0 0 M1018.74 1533.38 Q1020.93 1529.43 1023.99 1527.56 Q1027.04 1525.68 1031.18 1525.68 Q1036.75 1525.68 1039.78 1529.59 Q1042.8 1533.48 1042.8 1540.67 L1042.8 1562.19 L1036.91 1562.19 L1036.91 1540.86 Q1036.91 1535.74 1035.1 1533.25 Q1033.28 1530.77 1029.56 1530.77 Q1025.01 1530.77 1022.37 1533.79 Q1019.72 1536.82 1019.72 1542.04 L1019.72 1562.19 L1013.84 1562.19 L1013.84 1540.86 Q1013.84 1535.7 1012.02 1533.25 Q1010.21 1530.77 1006.42 1530.77 Q1001.93 1530.77 999.29 1533.83 Q996.648 1536.85 996.648 1542.04 L996.648 1562.19 L990.76 1562.19 L990.76 1526.54 L996.648 1526.54 L996.648 1532.08 Q998.653 1528.8 1001.45 1527.24 Q1004.26 1525.68 1008.11 1525.68 Q1011.99 1525.68 1014.7 1527.65 Q1017.43 1529.62 1018.74 1533.38 Z\" fill=\"#000000\" fill-rule=\"evenodd\" fill-opacity=\"1\" /><path clip-path=\"url(#clip580)\" d=\"M 0 0 M1074.53 1544.39 Q1074.53 1537.93 1071.86 1534.27 Q1069.22 1530.58 1064.57 1530.58 Q1059.92 1530.58 1057.25 1534.27 Q1054.61 1537.93 1054.61 1544.39 Q1054.61 1550.85 1057.25 1554.55 Q1059.92 1558.21 1064.57 1558.21 Q1069.22 1558.21 1071.86 1554.55 Q1074.53 1550.85 1074.53 1544.39 M1054.61 1531.95 Q1056.45 1528.77 1059.26 1527.24 Q1062.09 1525.68 1066 1525.68 Q1072.5 1525.68 1076.54 1530.83 Q1080.61 1535.99 1080.61 1544.39 Q1080.61 1552.8 1076.54 1557.95 Q1072.5 1563.11 1066 1563.11 Q1062.09 1563.11 1059.26 1561.58 Q1056.45 1560.02 1054.61 1556.84 L1054.61 1562.19 L1048.72 1562.19 L1048.72 1512.66 L1054.61 1512.66 L1054.61 1531.95 Z\" fill=\"#000000\" fill-rule=\"evenodd\" fill-opacity=\"1\" /><path clip-path=\"url(#clip580)\" d=\"M 0 0 M1117.25 1542.9 L1117.25 1545.76 L1090.32 1545.76 Q1090.7 1551.81 1093.95 1554.99 Q1097.23 1558.14 1103.05 1558.14 Q1106.42 1558.14 1109.58 1557.32 Q1112.76 1556.49 1115.88 1554.83 L1115.88 1560.37 Q1112.73 1561.71 1109.42 1562.41 Q1106.11 1563.11 1102.7 1563.11 Q1094.17 1563.11 1089.17 1558.14 Q1084.21 1553.18 1084.21 1544.71 Q1084.21 1535.96 1088.92 1530.83 Q1093.66 1525.68 1101.68 1525.68 Q1108.88 1525.68 1113.05 1530.33 Q1117.25 1534.94 1117.25 1542.9 M1111.39 1541.18 Q1111.33 1536.37 1108.68 1533.51 Q1106.07 1530.64 1101.75 1530.64 Q1096.84 1530.64 1093.88 1533.41 Q1090.96 1536.18 1090.51 1541.21 L1111.39 1541.18 Z\" fill=\"#000000\" fill-rule=\"evenodd\" fill-opacity=\"1\" /><path clip-path=\"url(#clip580)\" d=\"M 0 0 M1144.05 1532.01 Q1143.06 1531.44 1141.88 1531.18 Q1140.74 1530.9 1139.34 1530.9 Q1134.37 1530.9 1131.7 1534.14 Q1129.05 1537.36 1129.05 1543.41 L1129.05 1562.19 L1123.17 1562.19 L1123.17 1526.54 L1129.05 1526.54 L1129.05 1532.08 Q1130.9 1528.83 1133.86 1527.27 Q1136.82 1525.68 1141.05 1525.68 Q1141.66 1525.68 1142.39 1525.77 Q1143.12 1525.84 1144.01 1526 L1144.05 1532.01 Z\" fill=\"#000000\" fill-rule=\"evenodd\" fill-opacity=\"1\" /><path clip-path=\"url(#clip580)\" d=\"M 0 0 M1184.72 1530.64 Q1180.01 1530.64 1177.28 1534.34 Q1174.54 1538 1174.54 1544.39 Q1174.54 1550.79 1177.24 1554.48 Q1179.98 1558.14 1184.72 1558.14 Q1189.4 1558.14 1192.14 1554.45 Q1194.88 1550.76 1194.88 1544.39 Q1194.88 1538.06 1192.14 1534.37 Q1189.4 1530.64 1184.72 1530.64 M1184.72 1525.68 Q1192.36 1525.68 1196.72 1530.64 Q1201.08 1535.61 1201.08 1544.39 Q1201.08 1553.15 1196.72 1558.14 Q1192.36 1563.11 1184.72 1563.11 Q1177.05 1563.11 1172.69 1558.14 Q1168.36 1553.15 1168.36 1544.39 Q1168.36 1535.61 1172.69 1530.64 Q1177.05 1525.68 1184.72 1525.68 Z\" fill=\"#000000\" fill-rule=\"evenodd\" fill-opacity=\"1\" /><path clip-path=\"url(#clip580)\" d=\"M 0 0 M1225.27 1512.66 L1225.27 1517.53 L1219.67 1517.53 Q1216.52 1517.53 1215.28 1518.8 Q1214.07 1520.08 1214.07 1523.39 L1214.07 1526.54 L1223.71 1526.54 L1223.71 1531.09 L1214.07 1531.09 L1214.07 1562.19 L1208.18 1562.19 L1208.18 1531.09 L1202.58 1531.09 L1202.58 1526.54 L1208.18 1526.54 L1208.18 1524.05 Q1208.18 1518.1 1210.95 1515.4 Q1213.72 1512.66 1219.73 1512.66 L1225.27 1512.66 Z\" fill=\"#000000\" fill-rule=\"evenodd\" fill-opacity=\"1\" /><path clip-path=\"url(#clip580)\" d=\"M 0 0 M1258.82 1519.95 L1258.82 1537.8 L1266.9 1537.8 Q1271.39 1537.8 1273.84 1535.48 Q1276.29 1533.16 1276.29 1528.86 Q1276.29 1524.6 1273.84 1522.27 Q1271.39 1519.95 1266.9 1519.95 L1258.82 1519.95 M1252.39 1514.67 L1266.9 1514.67 Q1274.89 1514.67 1278.97 1518.29 Q1283.07 1521.89 1283.07 1528.86 Q1283.07 1535.9 1278.97 1539.49 Q1274.89 1543.09 1266.9 1543.09 L1258.82 1543.09 L1258.82 1562.19 L1252.39 1562.19 L1252.39 1514.67 Z\" fill=\"#000000\" fill-rule=\"evenodd\" fill-opacity=\"1\" /><path clip-path=\"url(#clip580)\" d=\"M 0 0 M1287.78 1526.54 L1293.64 1526.54 L1293.64 1562.19 L1287.78 1562.19 L1287.78 1526.54 M1287.78 1512.66 L1293.64 1512.66 L1293.64 1520.08 L1287.78 1520.08 L1287.78 1512.66 Z\" fill=\"#000000\" fill-rule=\"evenodd\" fill-opacity=\"1\" /><path clip-path=\"url(#clip580)\" d=\"M 0 0 M1320.44 1532.01 Q1319.45 1531.44 1318.28 1531.18 Q1317.13 1530.9 1315.73 1530.9 Q1310.76 1530.9 1308.09 1534.14 Q1305.45 1537.36 1305.45 1543.41 L1305.45 1562.19 L1299.56 1562.19 L1299.56 1526.54 L1305.45 1526.54 L1305.45 1532.08 Q1307.29 1528.83 1310.25 1527.27 Q1313.21 1525.68 1317.45 1525.68 Q1318.05 1525.68 1318.78 1525.77 Q1319.52 1525.84 1320.41 1526 L1320.44 1532.01 Z\" fill=\"#000000\" fill-rule=\"evenodd\" fill-opacity=\"1\" /><path clip-path=\"url(#clip580)\" d=\"M 0 0 M1342.78 1544.27 Q1335.69 1544.27 1332.95 1545.89 Q1330.21 1547.51 1330.21 1551.43 Q1330.21 1554.55 1332.25 1556.39 Q1334.32 1558.21 1337.85 1558.21 Q1342.72 1558.21 1345.65 1554.77 Q1348.61 1551.3 1348.61 1545.57 L1348.61 1544.27 L1342.78 1544.27 M1354.46 1541.85 L1354.46 1562.19 L1348.61 1562.19 L1348.61 1556.77 Q1346.6 1560.02 1343.61 1561.58 Q1340.62 1563.11 1336.29 1563.11 Q1330.82 1563.11 1327.57 1560.05 Q1324.35 1556.97 1324.35 1551.81 Q1324.35 1545.79 1328.37 1542.74 Q1332.41 1539.68 1340.4 1539.68 L1348.61 1539.68 L1348.61 1539.11 Q1348.61 1535.07 1345.93 1532.87 Q1343.29 1530.64 1338.49 1530.64 Q1335.43 1530.64 1332.53 1531.38 Q1329.64 1532.11 1326.96 1533.57 L1326.96 1528.16 Q1330.18 1526.92 1333.2 1526.31 Q1336.23 1525.68 1339.09 1525.68 Q1346.83 1525.68 1350.65 1529.69 Q1354.46 1533.7 1354.46 1541.85 Z\" fill=\"#000000\" fill-rule=\"evenodd\" fill-opacity=\"1\" /><path clip-path=\"url(#clip580)\" d=\"M 0 0 M1366.4 1516.42 L1366.4 1526.54 L1378.46 1526.54 L1378.46 1531.09 L1366.4 1531.09 L1366.4 1550.44 Q1366.4 1554.8 1367.58 1556.04 Q1368.79 1557.28 1372.45 1557.28 L1378.46 1557.28 L1378.46 1562.19 L1372.45 1562.19 Q1365.67 1562.19 1363.09 1559.67 Q1360.51 1557.12 1360.51 1550.44 L1360.51 1531.09 L1356.22 1531.09 L1356.22 1526.54 L1360.51 1526.54 L1360.51 1516.42 L1366.4 1516.42 Z\" fill=\"#000000\" fill-rule=\"evenodd\" fill-opacity=\"1\" /><path clip-path=\"url(#clip580)\" d=\"M 0 0 M1415.1 1542.9 L1415.1 1545.76 L1388.17 1545.76 Q1388.55 1551.81 1391.8 1554.99 Q1395.08 1558.14 1400.9 1558.14 Q1404.28 1558.14 1407.43 1557.32 Q1410.61 1556.49 1413.73 1554.83 L1413.73 1560.37 Q1410.58 1561.71 1407.27 1562.41 Q1403.96 1563.11 1400.55 1563.11 Q1392.02 1563.11 1387.03 1558.14 Q1382.06 1553.18 1382.06 1544.71 Q1382.06 1535.96 1386.77 1530.83 Q1391.51 1525.68 1399.53 1525.68 Q1406.73 1525.68 1410.9 1530.33 Q1415.1 1534.94 1415.1 1542.9 M1409.24 1541.18 Q1409.18 1536.37 1406.54 1533.51 Q1403.93 1530.64 1399.6 1530.64 Q1394.7 1530.64 1391.74 1533.41 Q1388.81 1536.18 1388.36 1541.21 L1409.24 1541.18 Z\" fill=\"#000000\" fill-rule=\"evenodd\" fill-opacity=\"1\" /><path clip-path=\"url(#clip580)\" d=\"M 0 0 M1443.97 1527.59 L1443.97 1533.13 Q1441.48 1531.85 1438.81 1531.22 Q1436.14 1530.58 1433.27 1530.58 Q1428.91 1530.58 1426.72 1531.92 Q1424.55 1533.25 1424.55 1535.93 Q1424.55 1537.96 1426.11 1539.14 Q1427.67 1540.29 1432.38 1541.34 L1434.39 1541.78 Q1440.62 1543.12 1443.23 1545.57 Q1445.88 1547.99 1445.88 1552.35 Q1445.88 1557.32 1441.93 1560.21 Q1438.01 1563.11 1431.14 1563.11 Q1428.28 1563.11 1425.16 1562.54 Q1422.07 1561.99 1418.63 1560.88 L1418.63 1554.83 Q1421.88 1556.52 1425.03 1557.38 Q1428.18 1558.21 1431.27 1558.21 Q1435.4 1558.21 1437.63 1556.81 Q1439.86 1555.37 1439.86 1552.8 Q1439.86 1550.41 1438.24 1549.14 Q1436.65 1547.86 1431.2 1546.68 L1429.17 1546.21 Q1423.72 1545.06 1421.3 1542.71 Q1418.89 1540.32 1418.89 1536.18 Q1418.89 1531.15 1422.45 1528.42 Q1426.02 1525.68 1432.57 1525.68 Q1435.82 1525.68 1438.68 1526.16 Q1441.55 1526.63 1443.97 1527.59 Z\" fill=\"#000000\" fill-rule=\"evenodd\" fill-opacity=\"1\" /><path clip-path=\"url(#clip580)\" d=\"M 0 0 M1451.48 1512.66 L1464.97 1512.66 L1464.97 1517.21 L1457.33 1517.21 L1457.33 1566.23 L1464.97 1566.23 L1464.97 1570.78 L1451.48 1570.78 L1451.48 1512.66 Z\" fill=\"#000000\" fill-rule=\"evenodd\" fill-opacity=\"1\" /><path clip-path=\"url(#clip580)\" d=\"M 0 0 M1487.25 1521 L1478.53 1544.65 L1496.01 1544.65 L1487.25 1521 M1483.62 1514.67 L1490.91 1514.67 L1509.02 1562.19 L1502.34 1562.19 L1498.01 1550 L1476.59 1550 L1472.26 1562.19 L1465.48 1562.19 L1483.62 1514.67 Z\" fill=\"#000000\" fill-rule=\"evenodd\" fill-opacity=\"1\" /><path clip-path=\"url(#clip580)\" d=\"M 0 0 M1520.83 1556.84 L1520.83 1575.74 L1514.94 1575.74 L1514.94 1526.54 L1520.83 1526.54 L1520.83 1531.95 Q1522.68 1528.77 1525.48 1527.24 Q1528.31 1525.68 1532.23 1525.68 Q1538.72 1525.68 1542.76 1530.83 Q1546.84 1535.99 1546.84 1544.39 Q1546.84 1552.8 1542.76 1557.95 Q1538.72 1563.11 1532.23 1563.11 Q1528.31 1563.11 1525.48 1561.58 Q1522.68 1560.02 1520.83 1556.84 M1540.76 1544.39 Q1540.76 1537.93 1538.08 1534.27 Q1535.44 1530.58 1530.79 1530.58 Q1526.15 1530.58 1523.47 1534.27 Q1520.83 1537.93 1520.83 1544.39 Q1520.83 1550.85 1523.47 1554.55 Q1526.15 1558.21 1530.79 1558.21 Q1535.44 1558.21 1538.08 1554.55 Q1540.76 1550.85 1540.76 1544.39 Z\" fill=\"#000000\" fill-rule=\"evenodd\" fill-opacity=\"1\" /><path clip-path=\"url(#clip580)\" d=\"M 0 0 M1558.64 1556.84 L1558.64 1575.74 L1552.76 1575.74 L1552.76 1526.54 L1558.64 1526.54 L1558.64 1531.95 Q1560.49 1528.77 1563.29 1527.24 Q1566.12 1525.68 1570.04 1525.68 Q1576.53 1525.68 1580.57 1530.83 Q1584.65 1535.99 1584.65 1544.39 Q1584.65 1552.8 1580.57 1557.95 Q1576.53 1563.11 1570.04 1563.11 Q1566.12 1563.11 1563.29 1561.58 Q1560.49 1560.02 1558.64 1556.84 M1578.57 1544.39 Q1578.57 1537.93 1575.9 1534.27 Q1573.25 1530.58 1568.61 1530.58 Q1563.96 1530.58 1561.29 1534.27 Q1558.64 1537.93 1558.64 1544.39 Q1558.64 1550.85 1561.29 1554.55 Q1563.96 1558.21 1568.61 1558.21 Q1573.25 1558.21 1575.9 1554.55 Q1578.57 1550.85 1578.57 1544.39 Z\" fill=\"#000000\" fill-rule=\"evenodd\" fill-opacity=\"1\" /><path clip-path=\"url(#clip580)\" d=\"M 0 0 M1611.45 1532.01 Q1610.46 1531.44 1609.28 1531.18 Q1608.14 1530.9 1606.74 1530.9 Q1601.77 1530.9 1599.1 1534.14 Q1596.46 1537.36 1596.46 1543.41 L1596.46 1562.19 L1590.57 1562.19 L1590.57 1526.54 L1596.46 1526.54 L1596.46 1532.08 Q1598.3 1528.83 1601.26 1527.27 Q1604.22 1525.68 1608.46 1525.68 Q1609.06 1525.68 1609.79 1525.77 Q1610.53 1525.84 1611.42 1526 L1611.45 1532.01 Z\" fill=\"#000000\" fill-rule=\"evenodd\" fill-opacity=\"1\" /><path clip-path=\"url(#clip580)\" d=\"M 0 0 M1629.97 1530.64 Q1625.26 1530.64 1622.52 1534.34 Q1619.79 1538 1619.79 1544.39 Q1619.79 1550.79 1622.49 1554.48 Q1625.23 1558.14 1629.97 1558.14 Q1634.65 1558.14 1637.39 1554.45 Q1640.13 1550.76 1640.13 1544.39 Q1640.13 1538.06 1637.39 1534.37 Q1634.65 1530.64 1629.97 1530.64 M1629.97 1525.68 Q1637.61 1525.68 1641.97 1530.64 Q1646.33 1535.61 1646.33 1544.39 Q1646.33 1553.15 1641.97 1558.14 Q1637.61 1563.11 1629.97 1563.11 Q1622.3 1563.11 1617.94 1558.14 Q1613.61 1553.15 1613.61 1544.39 Q1613.61 1535.61 1617.94 1530.64 Q1622.3 1525.68 1629.97 1525.68 Z\" fill=\"#000000\" fill-rule=\"evenodd\" fill-opacity=\"1\" /><path clip-path=\"url(#clip580)\" d=\"M 0 0 M1680.1 1526.54 L1667.21 1543.88 L1680.77 1562.19 L1673.86 1562.19 L1663.49 1548.18 L1653.11 1562.19 L1646.2 1562.19 L1660.05 1543.53 L1647.38 1526.54 L1654.29 1526.54 L1663.74 1539.24 L1673.2 1526.54 L1680.1 1526.54 Z\" fill=\"#000000\" fill-rule=\"evenodd\" fill-opacity=\"1\" /><path clip-path=\"url(#clip580)\" d=\"M 0 0 M1700.6 1512.66 L1700.6 1570.78 L1687.1 1570.78 L1687.1 1566.23 L1694.71 1566.23 L1694.71 1517.21 L1687.1 1517.21 L1687.1 1512.66 L1700.6 1512.66 Z\" fill=\"#000000\" fill-rule=\"evenodd\" fill-opacity=\"1\" /><path clip-path=\"url(#clip580)\" d=\"M 0 0 M81.2247 1070.7 L68.4614 1070.7 L68.4614 1081.2 L63.1779 1081.2 L63.1779 1064.34 L83.58 1064.34 Q86.2218 1068.06 87.5904 1072.55 Q88.9272 1077.04 88.9272 1082.13 Q88.9272 1093.27 82.4342 1099.57 Q75.9093 1105.84 64.2919 1105.84 Q52.6427 1105.84 46.1496 1099.57 Q39.6248 1093.27 39.6248 1082.13 Q39.6248 1077.48 40.7706 1073.31 Q41.9164 1069.11 44.1444 1065.58 L50.9876 1065.58 Q47.9639 1069.14 46.4361 1073.15 Q44.9083 1077.16 44.9083 1081.59 Q44.9083 1090.31 49.7781 1094.7 Q54.6479 1099.06 64.2919 1099.06 Q73.9041 1099.06 78.7739 1094.7 Q83.6436 1090.31 83.6436 1081.59 Q83.6436 1078.18 83.0707 1075.51 Q82.466 1072.83 81.2247 1070.7 Z\" fill=\"#000000\" fill-rule=\"evenodd\" fill-opacity=\"1\" /><path clip-path=\"url(#clip580)\" d=\"M 0 0 M38.479 1058.19 L38.479 1052.34 L88.0042 1052.34 L88.0042 1058.19 L38.479 1058.19 Z\" fill=\"#000000\" fill-rule=\"evenodd\" fill-opacity=\"1\" /><path clip-path=\"url(#clip580)\" d=\"M 0 0 M56.4621 1032.38 Q56.4621 1037.09 60.1542 1039.83 Q63.8145 1042.56 70.212 1042.56 Q76.6095 1042.56 80.3017 1039.86 Q83.9619 1037.12 83.9619 1032.38 Q83.9619 1027.7 80.2698 1024.96 Q76.5777 1022.23 70.212 1022.23 Q63.8781 1022.23 60.186 1024.96 Q56.4621 1027.7 56.4621 1032.38 M51.4968 1032.38 Q51.4968 1024.74 56.4621 1020.38 Q61.4273 1016.02 70.212 1016.02 Q78.9649 1016.02 83.9619 1020.38 Q88.9272 1024.74 88.9272 1032.38 Q88.9272 1040.05 83.9619 1044.41 Q78.9649 1048.74 70.212 1048.74 Q61.4273 1048.74 56.4621 1044.41 Q51.4968 1040.05 51.4968 1032.38 Z\" fill=\"#000000\" fill-rule=\"evenodd\" fill-opacity=\"1\" /><path clip-path=\"url(#clip580)\" d=\"M 0 0 M70.212 984.287 Q63.7508 984.287 60.0905 986.96 Q56.3984 989.602 56.3984 994.249 Q56.3984 998.896 60.0905 1001.57 Q63.7508 1004.21 70.212 1004.21 Q76.6732 1004.21 80.3653 1001.57 Q84.0256 998.896 84.0256 994.249 Q84.0256 989.602 80.3653 986.96 Q76.6732 984.287 70.212 984.287 M57.7671 1004.21 Q54.5842 1002.37 53.0564 999.565 Q51.4968 996.732 51.4968 992.817 Q51.4968 986.324 56.6531 982.282 Q61.8093 978.208 70.212 978.208 Q78.6147 978.208 83.771 982.282 Q88.9272 986.324 88.9272 992.817 Q88.9272 996.732 87.3994 999.565 Q85.8398 1002.37 82.657 1004.21 L88.0042 1004.21 L88.0042 1010.1 L38.479 1010.1 L38.479 1004.21 L57.7671 1004.21 Z\" fill=\"#000000\" fill-rule=\"evenodd\" fill-opacity=\"1\" /><path clip-path=\"url(#clip580)\" d=\"M 0 0 M70.0847 955.864 Q70.0847 962.962 71.7079 965.699 Q73.3312 968.436 77.2461 968.436 Q80.3653 968.436 82.2114 966.399 Q84.0256 964.33 84.0256 960.797 Q84.0256 955.928 80.5881 952.999 Q77.1188 950.039 71.3897 950.039 L70.0847 950.039 L70.0847 955.864 M67.6657 944.183 L88.0042 944.183 L88.0042 950.039 L82.5933 950.039 Q85.8398 952.045 87.3994 955.036 Q88.9272 958.028 88.9272 962.357 Q88.9272 967.831 85.8716 971.078 Q82.7843 974.293 77.6281 974.293 Q71.6125 974.293 68.5569 970.282 Q65.5014 966.24 65.5014 958.251 L65.5014 950.039 L64.9285 950.039 Q60.8862 950.039 58.6901 952.713 Q56.4621 955.355 56.4621 960.161 Q56.4621 963.216 57.1941 966.113 Q57.9262 969.009 59.3903 971.683 L53.9795 971.683 Q52.7381 968.468 52.1334 965.444 Q51.4968 962.421 51.4968 959.556 Q51.4968 951.822 55.5072 948.002 Q59.5176 944.183 67.6657 944.183 Z\" fill=\"#000000\" fill-rule=\"evenodd\" fill-opacity=\"1\" /><path clip-path=\"url(#clip580)\" d=\"M 0 0 M38.479 938.04 L38.479 932.184 L88.0042 932.184 L88.0042 938.04 L38.479 938.04 Z\" fill=\"#000000\" fill-rule=\"evenodd\" fill-opacity=\"1\" /><path clip-path=\"url(#clip580)\" d=\"M 0 0 M40.4842 911.654 L40.4842 871.455 L45.895 871.455 L45.895 888.324 L88.0042 888.324 L88.0042 894.785 L45.895 894.785 L45.895 911.654 L40.4842 911.654 Z\" fill=\"#000000\" fill-rule=\"evenodd\" fill-opacity=\"1\" /><path clip-path=\"url(#clip580)\" d=\"M 0 0 M68.7161 845.896 L71.5806 845.896 L71.5806 872.823 Q77.6281 872.441 80.8109 869.195 Q83.9619 865.916 83.9619 860.092 Q83.9619 856.718 83.1344 853.567 Q82.3069 850.384 80.6518 847.265 L86.1899 847.265 Q87.5267 850.416 88.227 853.726 Q88.9272 857.036 88.9272 860.442 Q88.9272 868.972 83.9619 873.969 Q78.9967 878.934 70.5303 878.934 Q61.7774 878.934 56.6531 874.224 Q51.4968 869.481 51.4968 861.46 Q51.4968 854.267 56.1438 850.098 Q60.7589 845.896 68.7161 845.896 M66.9973 851.753 Q62.1912 851.816 59.3266 854.458 Q56.4621 857.068 56.4621 861.397 Q56.4621 866.298 59.2312 869.258 Q62.0002 872.187 67.0292 872.632 L66.9973 851.753 Z\" fill=\"#000000\" fill-rule=\"evenodd\" fill-opacity=\"1\" /><path clip-path=\"url(#clip580)\" d=\"M 0 0 M59.1993 811.999 Q55.2526 809.803 53.3747 806.747 Q51.4968 803.692 51.4968 799.554 Q51.4968 793.984 55.4117 790.96 Q59.2948 787.937 66.4881 787.937 L88.0042 787.937 L88.0042 793.825 L66.679 793.825 Q61.5546 793.825 59.072 795.639 Q56.5894 797.453 56.5894 801.177 Q56.5894 805.729 59.6131 808.371 Q62.6368 811.012 67.8567 811.012 L88.0042 811.012 L88.0042 816.901 L66.679 816.901 Q61.5228 816.901 59.072 818.715 Q56.5894 820.529 56.5894 824.317 Q56.5894 828.804 59.6449 831.446 Q62.6686 834.088 67.8567 834.088 L88.0042 834.088 L88.0042 839.976 L52.3562 839.976 L52.3562 834.088 L57.8944 834.088 Q54.616 832.083 53.0564 829.282 Q51.4968 826.481 51.4968 822.63 Q51.4968 818.747 53.4702 816.041 Q55.4436 813.304 59.1993 811.999 Z\" fill=\"#000000\" fill-rule=\"evenodd\" fill-opacity=\"1\" /><path clip-path=\"url(#clip580)\" d=\"M 0 0 M82.657 776.128 L101.563 776.128 L101.563 782.016 L52.3562 782.016 L52.3562 776.128 L57.7671 776.128 Q54.5842 774.282 53.0564 771.481 Q51.4968 768.648 51.4968 764.734 Q51.4968 758.241 56.6531 754.198 Q61.8093 750.124 70.212 750.124 Q78.6147 750.124 83.771 754.198 Q88.9272 758.241 88.9272 764.734 Q88.9272 768.648 87.3994 771.481 Q85.8398 774.282 82.657 776.128 M70.212 756.204 Q63.7508 756.204 60.0905 758.877 Q56.3984 761.519 56.3984 766.166 Q56.3984 770.813 60.0905 773.486 Q63.7508 776.128 70.212 776.128 Q76.6732 776.128 80.3653 773.486 Q84.0256 770.813 84.0256 766.166 Q84.0256 761.519 80.3653 758.877 Q76.6732 756.204 70.212 756.204 Z\" fill=\"#000000\" fill-rule=\"evenodd\" fill-opacity=\"1\" /><path clip-path=\"url(#clip580)\" d=\"M 0 0 M68.7161 713.49 L71.5806 713.49 L71.5806 740.417 Q77.6281 740.035 80.8109 736.788 Q83.9619 733.51 83.9619 727.685 Q83.9619 724.311 83.1344 721.16 Q82.3069 717.977 80.6518 714.858 L86.1899 714.858 Q87.5267 718.009 88.227 721.319 Q88.9272 724.63 88.9272 728.035 Q88.9272 736.565 83.9619 741.562 Q78.9967 746.528 70.5303 746.528 Q61.7774 746.528 56.6531 741.817 Q51.4968 737.075 51.4968 729.054 Q51.4968 721.861 56.1438 717.691 Q60.7589 713.49 68.7161 713.49 M66.9973 719.346 Q62.1912 719.41 59.3266 722.052 Q56.4621 724.661 56.4621 728.99 Q56.4621 733.892 59.2312 736.852 Q62.0002 739.78 67.0292 740.226 L66.9973 719.346 Z\" fill=\"#000000\" fill-rule=\"evenodd\" fill-opacity=\"1\" /><path clip-path=\"url(#clip580)\" d=\"M 0 0 M57.8307 686.69 Q57.2578 687.677 57.0032 688.854 Q56.7167 690 56.7167 691.401 Q56.7167 696.366 59.9632 699.039 Q63.1779 701.681 69.2253 701.681 L88.0042 701.681 L88.0042 707.57 L52.3562 707.57 L52.3562 701.681 L57.8944 701.681 Q54.6479 699.835 53.0883 696.875 Q51.4968 693.915 51.4968 689.682 Q51.4968 689.077 51.5923 688.345 Q51.656 687.613 51.8151 686.722 L57.8307 686.69 Z\" fill=\"#000000\" fill-rule=\"evenodd\" fill-opacity=\"1\" /><path clip-path=\"url(#clip580)\" d=\"M 0 0 M70.0847 664.346 Q70.0847 671.444 71.7079 674.181 Q73.3312 676.919 77.2461 676.919 Q80.3653 676.919 82.2114 674.882 Q84.0256 672.813 84.0256 669.28 Q84.0256 664.41 80.5881 661.482 Q77.1188 658.522 71.3897 658.522 L70.0847 658.522 L70.0847 664.346 M67.6657 652.665 L88.0042 652.665 L88.0042 658.522 L82.5933 658.522 Q85.8398 660.527 87.3994 663.519 Q88.9272 666.511 88.9272 670.839 Q88.9272 676.314 85.8716 679.56 Q82.7843 682.775 77.6281 682.775 Q71.6125 682.775 68.5569 678.765 Q65.5014 674.722 65.5014 666.734 L65.5014 658.522 L64.9285 658.522 Q60.8862 658.522 58.6901 661.195 Q56.4621 663.837 56.4621 668.643 Q56.4621 671.699 57.1941 674.595 Q57.9262 677.492 59.3903 680.165 L53.9795 680.165 Q52.7381 676.95 52.1334 673.927 Q51.4968 670.903 51.4968 668.039 Q51.4968 660.304 55.5072 656.485 Q59.5176 652.665 67.6657 652.665 Z\" fill=\"#000000\" fill-rule=\"evenodd\" fill-opacity=\"1\" /><path clip-path=\"url(#clip580)\" d=\"M 0 0 M42.2347 640.73 L52.3562 640.73 L52.3562 628.667 L56.9077 628.667 L56.9077 640.73 L76.2594 640.73 Q80.6199 640.73 81.8613 639.552 Q83.1026 638.342 83.1026 634.682 L83.1026 628.667 L88.0042 628.667 L88.0042 634.682 Q88.0042 641.462 85.4897 644.04 Q82.9434 646.618 76.2594 646.618 L56.9077 646.618 L56.9077 650.915 L52.3562 650.915 L52.3562 646.618 L42.2347 646.618 L42.2347 640.73 Z\" fill=\"#000000\" fill-rule=\"evenodd\" fill-opacity=\"1\" /><path clip-path=\"url(#clip580)\" d=\"M 0 0 M73.9359 623.128 L52.3562 623.128 L52.3562 617.272 L73.7131 617.272 Q78.7739 617.272 81.3202 615.299 Q83.8346 613.325 83.8346 609.379 Q83.8346 604.636 80.8109 601.899 Q77.7872 599.13 72.5673 599.13 L52.3562 599.13 L52.3562 593.273 L88.0042 593.273 L88.0042 599.13 L82.5296 599.13 Q85.7762 601.262 87.3676 604.095 Q88.9272 606.896 88.9272 610.62 Q88.9272 616.763 85.1078 619.946 Q81.2883 623.128 73.9359 623.128 M51.4968 608.392 L51.4968 608.392 Z\" fill=\"#000000\" fill-rule=\"evenodd\" fill-opacity=\"1\" /><path clip-path=\"url(#clip580)\" d=\"M 0 0 M57.8307 566.474 Q57.2578 567.46 57.0032 568.638 Q56.7167 569.784 56.7167 571.184 Q56.7167 576.15 59.9632 578.823 Q63.1779 581.465 69.2253 581.465 L88.0042 581.465 L88.0042 587.353 L52.3562 587.353 L52.3562 581.465 L57.8944 581.465 Q54.6479 579.619 53.0883 576.659 Q51.4968 573.699 51.4968 569.466 Q51.4968 568.861 51.5923 568.129 Q51.656 567.397 51.8151 566.505 L57.8307 566.474 Z\" fill=\"#000000\" fill-rule=\"evenodd\" fill-opacity=\"1\" /><path clip-path=\"url(#clip580)\" d=\"M 0 0 M68.7161 531.271 L71.5806 531.271 L71.5806 558.198 Q77.6281 557.816 80.8109 554.57 Q83.9619 551.291 83.9619 545.467 Q83.9619 542.093 83.1344 538.942 Q82.3069 535.759 80.6518 532.64 L86.1899 532.64 Q87.5267 535.791 88.227 539.101 Q88.9272 542.411 88.9272 545.817 Q88.9272 554.347 83.9619 559.344 Q78.9967 564.309 70.5303 564.309 Q61.7774 564.309 56.6531 559.599 Q51.4968 554.856 51.4968 546.835 Q51.4968 539.642 56.1438 535.473 Q60.7589 531.271 68.7161 531.271 M66.9973 537.128 Q62.1912 537.191 59.3266 539.833 Q56.4621 542.443 56.4621 546.772 Q56.4621 551.673 59.2312 554.633 Q62.0002 557.562 67.0292 558.007 L66.9973 537.128 Z\" fill=\"#000000\" fill-rule=\"evenodd\" fill-opacity=\"1\" /><path clip-path=\"url(#clip580)\" d=\"M 0 0 M38.5426 490.34 Q45.8632 494.605 53.0246 496.674 Q60.186 498.743 67.5384 498.743 Q74.8908 498.743 82.1159 496.674 Q89.3091 494.573 96.5979 490.34 L96.5979 495.432 Q89.1182 500.207 81.8931 502.594 Q74.668 504.949 67.5384 504.949 Q60.4406 504.949 53.2474 502.594 Q46.0542 500.238 38.5426 495.432 L38.5426 490.34 Z\" fill=\"#000000\" fill-rule=\"evenodd\" fill-opacity=\"1\" /><path clip-path=\"url(#clip580)\" d=\"M 0 0 M44.1444 448.358 L50.9239 448.358 Q47.9002 451.604 46.4043 455.297 Q44.9083 458.957 44.9083 463.095 Q44.9083 471.243 49.9054 475.571 Q54.8707 479.9 64.2919 479.9 Q73.6813 479.9 78.6784 475.571 Q83.6436 471.243 83.6436 463.095 Q83.6436 458.957 82.1477 455.297 Q80.6518 451.604 77.6281 448.358 L84.3439 448.358 Q86.6355 451.732 87.7814 455.519 Q88.9272 459.275 88.9272 463.477 Q88.9272 474.266 82.3387 480.473 Q75.7183 486.68 64.2919 486.68 Q52.8336 486.68 46.2451 480.473 Q39.6248 474.266 39.6248 463.477 Q39.6248 459.211 40.7706 455.456 Q41.8846 451.668 44.1444 448.358 Z\" fill=\"#000000\" fill-rule=\"evenodd\" fill-opacity=\"1\" /><path clip-path=\"url(#clip580)\" d=\"M 0 0 M38.5426 443.138 L38.5426 438.046 Q46.0542 433.271 53.2474 430.916 Q60.4406 428.529 67.5384 428.529 Q74.668 428.529 81.8931 430.916 Q89.1182 433.271 96.5979 438.046 L96.5979 443.138 Q89.3091 438.905 82.1159 436.836 Q74.8908 434.735 67.5384 434.735 Q60.186 434.735 53.0246 436.836 Q45.8632 438.905 38.5426 443.138 Z\" fill=\"#000000\" fill-rule=\"evenodd\" fill-opacity=\"1\" /><polyline clip-path=\"url(#clip582)\" style=\"stroke:#009af9; stroke-width:4; stroke-opacity:1; fill:none\" points=\"\n",
       "  320.516,1374.46 1417.07,1287.71 1636.38,1027.45 2075,680.431 2276.77,420.17 2293.56,159.909 \n",
       "  \"/>\n",
       "<circle clip-path=\"url(#clip582)\" cx=\"320.516\" cy=\"1374.46\" r=\"14\" fill=\"#e26f46\" fill-rule=\"evenodd\" fill-opacity=\"1\" stroke=\"#000000\" stroke-opacity=\"1\" stroke-width=\"3.2\"/>\n",
       "<circle clip-path=\"url(#clip582)\" cx=\"1417.07\" cy=\"1287.71\" r=\"14\" fill=\"#e26f46\" fill-rule=\"evenodd\" fill-opacity=\"1\" stroke=\"#000000\" stroke-opacity=\"1\" stroke-width=\"3.2\"/>\n",
       "<circle clip-path=\"url(#clip582)\" cx=\"1636.38\" cy=\"1027.45\" r=\"14\" fill=\"#e26f46\" fill-rule=\"evenodd\" fill-opacity=\"1\" stroke=\"#000000\" stroke-opacity=\"1\" stroke-width=\"3.2\"/>\n",
       "<circle clip-path=\"url(#clip582)\" cx=\"2075\" cy=\"680.431\" r=\"14\" fill=\"#e26f46\" fill-rule=\"evenodd\" fill-opacity=\"1\" stroke=\"#000000\" stroke-opacity=\"1\" stroke-width=\"3.2\"/>\n",
       "<circle clip-path=\"url(#clip582)\" cx=\"2276.77\" cy=\"420.17\" r=\"14\" fill=\"#e26f46\" fill-rule=\"evenodd\" fill-opacity=\"1\" stroke=\"#000000\" stroke-opacity=\"1\" stroke-width=\"3.2\"/>\n",
       "<circle clip-path=\"url(#clip582)\" cx=\"2293.56\" cy=\"159.909\" r=\"14\" fill=\"#e26f46\" fill-rule=\"evenodd\" fill-opacity=\"1\" stroke=\"#000000\" stroke-opacity=\"1\" stroke-width=\"3.2\"/>\n",
       "<path clip-path=\"url(#clip580)\" d=\"\n",
       "M1999.64 347.826 L2283.04 347.826 L2283.04 166.386 L1999.64 166.386  Z\n",
       "  \" fill=\"#ffffff\" fill-rule=\"evenodd\" fill-opacity=\"1\"/>\n",
       "<polyline clip-path=\"url(#clip580)\" style=\"stroke:#000000; stroke-width:4; stroke-opacity:1; fill:none\" points=\"\n",
       "  1999.64,347.826 2283.04,347.826 2283.04,166.386 1999.64,166.386 1999.64,347.826 \n",
       "  \"/>\n",
       "<polyline clip-path=\"url(#clip580)\" style=\"stroke:#009af9; stroke-width:4; stroke-opacity:1; fill:none\" points=\"\n",
       "  2022.88,226.866 2162.31,226.866 \n",
       "  \"/>\n",
       "<path clip-path=\"url(#clip580)\" d=\"M 0 0 M2199.39 246.554 Q2197.58 251.183 2195.87 252.595 Q2194.16 254.007 2191.29 254.007 L2187.88 254.007 L2187.88 250.443 L2190.38 250.443 Q2192.14 250.443 2193.12 249.609 Q2194.09 248.776 2195.27 245.674 L2196.03 243.73 L2185.55 218.22 L2190.06 218.22 L2198.16 238.498 L2206.26 218.22 L2210.78 218.22 L2199.39 246.554 Z\" fill=\"#000000\" fill-rule=\"evenodd\" fill-opacity=\"1\" /><path clip-path=\"url(#clip580)\" d=\"M 0 0 M2216.66 240.211 L2224.3 240.211 L2224.3 213.846 L2215.99 215.512 L2215.99 211.253 L2224.25 209.586 L2228.93 209.586 L2228.93 240.211 L2236.57 240.211 L2236.57 244.146 L2216.66 244.146 L2216.66 240.211 Z\" fill=\"#000000\" fill-rule=\"evenodd\" fill-opacity=\"1\" /><circle clip-path=\"url(#clip580)\" cx=\"2092.59\" cy=\"287.346\" r=\"23\" fill=\"#e26f46\" fill-rule=\"evenodd\" fill-opacity=\"1\" stroke=\"#000000\" stroke-opacity=\"1\" stroke-width=\"5.12\"/>\n",
       "<path clip-path=\"url(#clip580)\" d=\"M 0 0 M2199.39 307.034 Q2197.58 311.663 2195.87 313.075 Q2194.16 314.487 2191.29 314.487 L2187.88 314.487 L2187.88 310.923 L2190.38 310.923 Q2192.14 310.923 2193.12 310.089 Q2194.09 309.256 2195.27 306.154 L2196.03 304.21 L2185.55 278.7 L2190.06 278.7 L2198.16 298.978 L2206.26 278.7 L2210.78 278.7 L2199.39 307.034 Z\" fill=\"#000000\" fill-rule=\"evenodd\" fill-opacity=\"1\" /><path clip-path=\"url(#clip580)\" d=\"M 0 0 M2219.88 300.691 L2236.19 300.691 L2236.19 304.626 L2214.25 304.626 L2214.25 300.691 Q2216.91 297.936 2221.5 293.307 Q2226.1 288.654 2227.28 287.312 Q2229.53 284.788 2230.41 283.052 Q2231.31 281.293 2231.31 279.603 Q2231.31 276.849 2229.37 275.113 Q2227.44 273.376 2224.34 273.376 Q2222.14 273.376 2219.69 274.14 Q2217.26 274.904 2214.48 276.455 L2214.48 271.733 Q2217.31 270.599 2219.76 270.02 Q2222.21 269.441 2224.25 269.441 Q2229.62 269.441 2232.82 272.126 Q2236.01 274.812 2236.01 279.302 Q2236.01 281.432 2235.2 283.353 Q2234.41 285.251 2232.31 287.844 Q2231.73 288.515 2228.63 291.733 Q2225.52 294.927 2219.88 300.691 Z\" fill=\"#000000\" fill-rule=\"evenodd\" fill-opacity=\"1\" /></svg>\n"
      ]
     },
     "execution_count": 12,
     "metadata": {},
     "output_type": "execute_result"
    }
   ],
   "source": [
    "plot(num_pirates, glob_temp)\n",
    "scatter!(num_pirates, glob_temp)\n",
    "\n",
    "xflip!()\n",
    "\n",
    "xlabel!(\"Number of Pirates[Approx]\")\n",
    "ylabel!(\"Global Temperature (C)\")\n",
    "title!(\"Influence of pairate popln on global warming\")"
   ]
  },
  {
   "cell_type": "code",
   "execution_count": 15,
   "metadata": {},
   "outputs": [
    {
     "data": {
      "image/svg+xml": [
       "<?xml version=\"1.0\" encoding=\"utf-8\"?>\n",
       "<svg xmlns=\"http://www.w3.org/2000/svg\" xmlns:xlink=\"http://www.w3.org/1999/xlink\" width=\"600\" height=\"400\" viewBox=\"0 0 2400 1600\">\n",
       "<defs>\n",
       "  <clipPath id=\"clip620\">\n",
       "    <rect x=\"0\" y=\"0\" width=\"2400\" height=\"1600\"/>\n",
       "  </clipPath>\n",
       "</defs>\n",
       "<path clip-path=\"url(#clip620)\" d=\"\n",
       "M0 1600 L2400 1600 L2400 0 L0 0  Z\n",
       "  \" fill=\"#ffffff\" fill-rule=\"evenodd\" fill-opacity=\"1\"/>\n",
       "<defs>\n",
       "  <clipPath id=\"clip621\">\n",
       "    <rect x=\"480\" y=\"0\" width=\"1681\" height=\"1600\"/>\n",
       "  </clipPath>\n",
       "</defs>\n",
       "<path clip-path=\"url(#clip620)\" d=\"\n",
       "M169.469 686.448 L1167.89 686.448 L1167.89 47.2441 L169.469 47.2441  Z\n",
       "  \" fill=\"#ffffff\" fill-rule=\"evenodd\" fill-opacity=\"1\"/>\n",
       "<defs>\n",
       "  <clipPath id=\"clip622\">\n",
       "    <rect x=\"169\" y=\"47\" width=\"999\" height=\"640\"/>\n",
       "  </clipPath>\n",
       "</defs>\n",
       "<polyline clip-path=\"url(#clip622)\" style=\"stroke:#000000; stroke-width:2; stroke-opacity:0.1; fill:none\" points=\"\n",
       "  197.726,686.448 197.726,47.2441 \n",
       "  \"/>\n",
       "<polyline clip-path=\"url(#clip622)\" style=\"stroke:#000000; stroke-width:2; stroke-opacity:0.1; fill:none\" points=\"\n",
       "  354.711,686.448 354.711,47.2441 \n",
       "  \"/>\n",
       "<polyline clip-path=\"url(#clip622)\" style=\"stroke:#000000; stroke-width:2; stroke-opacity:0.1; fill:none\" points=\"\n",
       "  511.696,686.448 511.696,47.2441 \n",
       "  \"/>\n",
       "<polyline clip-path=\"url(#clip622)\" style=\"stroke:#000000; stroke-width:2; stroke-opacity:0.1; fill:none\" points=\"\n",
       "  668.682,686.448 668.682,47.2441 \n",
       "  \"/>\n",
       "<polyline clip-path=\"url(#clip622)\" style=\"stroke:#000000; stroke-width:2; stroke-opacity:0.1; fill:none\" points=\"\n",
       "  825.667,686.448 825.667,47.2441 \n",
       "  \"/>\n",
       "<polyline clip-path=\"url(#clip622)\" style=\"stroke:#000000; stroke-width:2; stroke-opacity:0.1; fill:none\" points=\"\n",
       "  982.652,686.448 982.652,47.2441 \n",
       "  \"/>\n",
       "<polyline clip-path=\"url(#clip622)\" style=\"stroke:#000000; stroke-width:2; stroke-opacity:0.1; fill:none\" points=\"\n",
       "  1139.64,686.448 1139.64,47.2441 \n",
       "  \"/>\n",
       "<polyline clip-path=\"url(#clip622)\" style=\"stroke:#000000; stroke-width:2; stroke-opacity:0.1; fill:none\" points=\"\n",
       "  169.469,668.357 1167.89,668.357 \n",
       "  \"/>\n",
       "<polyline clip-path=\"url(#clip622)\" style=\"stroke:#000000; stroke-width:2; stroke-opacity:0.1; fill:none\" points=\"\n",
       "  169.469,567.853 1167.89,567.853 \n",
       "  \"/>\n",
       "<polyline clip-path=\"url(#clip622)\" style=\"stroke:#000000; stroke-width:2; stroke-opacity:0.1; fill:none\" points=\"\n",
       "  169.469,467.35 1167.89,467.35 \n",
       "  \"/>\n",
       "<polyline clip-path=\"url(#clip622)\" style=\"stroke:#000000; stroke-width:2; stroke-opacity:0.1; fill:none\" points=\"\n",
       "  169.469,366.846 1167.89,366.846 \n",
       "  \"/>\n",
       "<polyline clip-path=\"url(#clip622)\" style=\"stroke:#000000; stroke-width:2; stroke-opacity:0.1; fill:none\" points=\"\n",
       "  169.469,266.342 1167.89,266.342 \n",
       "  \"/>\n",
       "<polyline clip-path=\"url(#clip622)\" style=\"stroke:#000000; stroke-width:2; stroke-opacity:0.1; fill:none\" points=\"\n",
       "  169.469,165.839 1167.89,165.839 \n",
       "  \"/>\n",
       "<polyline clip-path=\"url(#clip622)\" style=\"stroke:#000000; stroke-width:2; stroke-opacity:0.1; fill:none\" points=\"\n",
       "  169.469,65.3348 1167.89,65.3348 \n",
       "  \"/>\n",
       "<polyline clip-path=\"url(#clip620)\" style=\"stroke:#000000; stroke-width:4; stroke-opacity:1; fill:none\" points=\"\n",
       "  169.469,686.448 1167.89,686.448 \n",
       "  \"/>\n",
       "<polyline clip-path=\"url(#clip620)\" style=\"stroke:#000000; stroke-width:4; stroke-opacity:1; fill:none\" points=\"\n",
       "  169.469,686.448 169.469,47.2441 \n",
       "  \"/>\n",
       "<polyline clip-path=\"url(#clip620)\" style=\"stroke:#000000; stroke-width:4; stroke-opacity:1; fill:none\" points=\"\n",
       "  197.726,686.448 197.726,678.777 \n",
       "  \"/>\n",
       "<polyline clip-path=\"url(#clip620)\" style=\"stroke:#000000; stroke-width:4; stroke-opacity:1; fill:none\" points=\"\n",
       "  354.711,686.448 354.711,678.777 \n",
       "  \"/>\n",
       "<polyline clip-path=\"url(#clip620)\" style=\"stroke:#000000; stroke-width:4; stroke-opacity:1; fill:none\" points=\"\n",
       "  511.696,686.448 511.696,678.777 \n",
       "  \"/>\n",
       "<polyline clip-path=\"url(#clip620)\" style=\"stroke:#000000; stroke-width:4; stroke-opacity:1; fill:none\" points=\"\n",
       "  668.682,686.448 668.682,678.777 \n",
       "  \"/>\n",
       "<polyline clip-path=\"url(#clip620)\" style=\"stroke:#000000; stroke-width:4; stroke-opacity:1; fill:none\" points=\"\n",
       "  825.667,686.448 825.667,678.777 \n",
       "  \"/>\n",
       "<polyline clip-path=\"url(#clip620)\" style=\"stroke:#000000; stroke-width:4; stroke-opacity:1; fill:none\" points=\"\n",
       "  982.652,686.448 982.652,678.777 \n",
       "  \"/>\n",
       "<polyline clip-path=\"url(#clip620)\" style=\"stroke:#000000; stroke-width:4; stroke-opacity:1; fill:none\" points=\"\n",
       "  1139.64,686.448 1139.64,678.777 \n",
       "  \"/>\n",
       "<polyline clip-path=\"url(#clip620)\" style=\"stroke:#000000; stroke-width:4; stroke-opacity:1; fill:none\" points=\"\n",
       "  169.469,668.357 181.45,668.357 \n",
       "  \"/>\n",
       "<polyline clip-path=\"url(#clip620)\" style=\"stroke:#000000; stroke-width:4; stroke-opacity:1; fill:none\" points=\"\n",
       "  169.469,567.853 181.45,567.853 \n",
       "  \"/>\n",
       "<polyline clip-path=\"url(#clip620)\" style=\"stroke:#000000; stroke-width:4; stroke-opacity:1; fill:none\" points=\"\n",
       "  169.469,467.35 181.45,467.35 \n",
       "  \"/>\n",
       "<polyline clip-path=\"url(#clip620)\" style=\"stroke:#000000; stroke-width:4; stroke-opacity:1; fill:none\" points=\"\n",
       "  169.469,366.846 181.45,366.846 \n",
       "  \"/>\n",
       "<polyline clip-path=\"url(#clip620)\" style=\"stroke:#000000; stroke-width:4; stroke-opacity:1; fill:none\" points=\"\n",
       "  169.469,266.342 181.45,266.342 \n",
       "  \"/>\n",
       "<polyline clip-path=\"url(#clip620)\" style=\"stroke:#000000; stroke-width:4; stroke-opacity:1; fill:none\" points=\"\n",
       "  169.469,165.839 181.45,165.839 \n",
       "  \"/>\n",
       "<polyline clip-path=\"url(#clip620)\" style=\"stroke:#000000; stroke-width:4; stroke-opacity:1; fill:none\" points=\"\n",
       "  169.469,65.3348 181.45,65.3348 \n",
       "  \"/>\n",
       "<path clip-path=\"url(#clip620)\" d=\"M 0 0 M169.705 723.091 L199.381 723.091 L199.381 727.026 L169.705 727.026 L169.705 723.091 Z\" fill=\"#000000\" fill-rule=\"evenodd\" fill-opacity=\"1\" /><path clip-path=\"url(#clip620)\" d=\"M 0 0 M218.617 721.286 Q221.973 722.003 223.848 724.272 Q225.747 726.54 225.747 729.874 Q225.747 734.989 222.228 737.79 Q218.71 740.591 212.228 740.591 Q210.052 740.591 207.737 740.151 Q205.446 739.735 202.992 738.878 L202.992 734.364 Q204.936 735.499 207.251 736.077 Q209.566 736.656 212.089 736.656 Q216.487 736.656 218.779 734.92 Q221.094 733.184 221.094 729.874 Q221.094 726.818 218.941 725.105 Q216.811 723.369 212.992 723.369 L208.964 723.369 L208.964 719.526 L213.177 719.526 Q216.626 719.526 218.455 718.161 Q220.284 716.772 220.284 714.179 Q220.284 711.517 218.385 710.105 Q216.511 708.67 212.992 708.67 Q211.071 708.67 208.872 709.087 Q206.673 709.503 204.034 710.383 L204.034 706.216 Q206.696 705.476 209.011 705.105 Q211.348 704.735 213.409 704.735 Q218.733 704.735 221.835 707.165 Q224.936 709.573 224.936 713.693 Q224.936 716.564 223.293 718.554 Q221.649 720.522 218.617 721.286 Z\" fill=\"#000000\" fill-rule=\"evenodd\" fill-opacity=\"1\" /><path clip-path=\"url(#clip620)\" d=\"M 0 0 M327.165 723.091 L356.841 723.091 L356.841 727.026 L327.165 727.026 L327.165 723.091 Z\" fill=\"#000000\" fill-rule=\"evenodd\" fill-opacity=\"1\" /><path clip-path=\"url(#clip620)\" d=\"M 0 0 M365.938 735.985 L382.257 735.985 L382.257 739.92 L360.313 739.92 L360.313 735.985 Q362.975 733.23 367.558 728.6 Q372.165 723.948 373.345 722.605 Q375.591 720.082 376.47 718.346 Q377.373 716.587 377.373 714.897 Q377.373 712.142 375.429 710.406 Q373.507 708.67 370.405 708.67 Q368.206 708.67 365.753 709.434 Q363.322 710.198 360.544 711.749 L360.544 707.027 Q363.368 705.892 365.822 705.314 Q368.276 704.735 370.313 704.735 Q375.683 704.735 378.878 707.42 Q382.072 710.105 382.072 714.596 Q382.072 716.726 381.262 718.647 Q380.475 720.545 378.368 723.138 Q377.79 723.809 374.688 727.026 Q371.586 730.221 365.938 735.985 Z\" fill=\"#000000\" fill-rule=\"evenodd\" fill-opacity=\"1\" /><path clip-path=\"url(#clip620)\" d=\"M 0 0 M483.965 723.091 L513.641 723.091 L513.641 727.026 L483.965 727.026 L483.965 723.091 Z\" fill=\"#000000\" fill-rule=\"evenodd\" fill-opacity=\"1\" /><path clip-path=\"url(#clip620)\" d=\"M 0 0 M519.52 735.985 L527.159 735.985 L527.159 709.619 L518.849 711.286 L518.849 707.027 L527.113 705.36 L531.789 705.36 L531.789 735.985 L539.428 735.985 L539.428 739.92 L519.52 739.92 L519.52 735.985 Z\" fill=\"#000000\" fill-rule=\"evenodd\" fill-opacity=\"1\" /><path clip-path=\"url(#clip620)\" d=\"M 0 0 M668.682 708.439 Q665.071 708.439 663.242 712.003 Q661.436 715.545 661.436 722.675 Q661.436 729.781 663.242 733.346 Q665.071 736.887 668.682 736.887 Q672.316 736.887 674.121 733.346 Q675.95 729.781 675.95 722.675 Q675.95 715.545 674.121 712.003 Q672.316 708.439 668.682 708.439 M668.682 704.735 Q674.492 704.735 677.547 709.341 Q680.626 713.925 680.626 722.675 Q680.626 731.401 677.547 736.008 Q674.492 740.591 668.682 740.591 Q662.871 740.591 659.793 736.008 Q656.737 731.401 656.737 722.675 Q656.737 713.925 659.793 709.341 Q662.871 704.735 668.682 704.735 Z\" fill=\"#000000\" fill-rule=\"evenodd\" fill-opacity=\"1\" /><path clip-path=\"url(#clip620)\" d=\"M 0 0 M816.049 735.985 L823.688 735.985 L823.688 709.619 L815.378 711.286 L815.378 707.027 L823.641 705.36 L828.317 705.36 L828.317 735.985 L835.956 735.985 L835.956 739.92 L816.049 739.92 L816.049 735.985 Z\" fill=\"#000000\" fill-rule=\"evenodd\" fill-opacity=\"1\" /><path clip-path=\"url(#clip620)\" d=\"M 0 0 M977.305 735.985 L993.624 735.985 L993.624 739.92 L971.68 739.92 L971.68 735.985 Q974.342 733.23 978.925 728.6 Q983.532 723.948 984.712 722.605 Q986.958 720.082 987.837 718.346 Q988.74 716.587 988.74 714.897 Q988.74 712.142 986.796 710.406 Q984.874 708.67 981.772 708.67 Q979.573 708.67 977.12 709.434 Q974.689 710.198 971.911 711.749 L971.911 707.027 Q974.735 705.892 977.189 705.314 Q979.643 704.735 981.68 704.735 Q987.05 704.735 990.245 707.42 Q993.439 710.105 993.439 714.596 Q993.439 716.726 992.629 718.647 Q991.842 720.545 989.735 723.138 Q989.157 723.809 986.055 727.026 Q982.953 730.221 977.305 735.985 Z\" fill=\"#000000\" fill-rule=\"evenodd\" fill-opacity=\"1\" /><path clip-path=\"url(#clip620)\" d=\"M 0 0 M1143.89 721.286 Q1147.24 722.003 1149.12 724.272 Q1151.01 726.54 1151.01 729.874 Q1151.01 734.989 1147.5 737.79 Q1143.98 740.591 1137.5 740.591 Q1135.32 740.591 1133.01 740.151 Q1130.71 739.735 1128.26 738.878 L1128.26 734.364 Q1130.2 735.499 1132.52 736.077 Q1134.83 736.656 1137.36 736.656 Q1141.76 736.656 1144.05 734.92 Q1146.36 733.184 1146.36 729.874 Q1146.36 726.818 1144.21 725.105 Q1142.08 723.369 1138.26 723.369 L1134.23 723.369 L1134.23 719.526 L1138.45 719.526 Q1141.89 719.526 1143.72 718.161 Q1145.55 716.772 1145.55 714.179 Q1145.55 711.517 1143.65 710.105 Q1141.78 708.67 1138.26 708.67 Q1136.34 708.67 1134.14 709.087 Q1131.94 709.503 1129.3 710.383 L1129.3 706.216 Q1131.96 705.476 1134.28 705.105 Q1136.62 704.735 1138.68 704.735 Q1144 704.735 1147.1 707.165 Q1150.2 709.573 1150.2 713.693 Q1150.2 716.564 1148.56 718.554 Q1146.92 720.522 1143.89 721.286 Z\" fill=\"#000000\" fill-rule=\"evenodd\" fill-opacity=\"1\" /><path clip-path=\"url(#clip620)\" d=\"M 0 0 M89.4272 668.809 L119.103 668.809 L119.103 672.744 L89.4272 672.744 L89.4272 668.809 Z\" fill=\"#000000\" fill-rule=\"evenodd\" fill-opacity=\"1\" /><path clip-path=\"url(#clip620)\" d=\"M 0 0 M138.339 667.003 Q141.695 667.721 143.57 669.989 Q145.469 672.258 145.469 675.591 Q145.469 680.707 141.95 683.508 Q138.432 686.308 131.95 686.308 Q129.774 686.308 127.459 685.869 Q125.168 685.452 122.714 684.596 L122.714 680.082 Q124.658 681.216 126.973 681.795 Q129.288 682.373 131.811 682.373 Q136.209 682.373 138.501 680.637 Q140.816 678.901 140.816 675.591 Q140.816 672.535 138.663 670.822 Q136.533 669.086 132.714 669.086 L128.686 669.086 L128.686 665.244 L132.899 665.244 Q136.348 665.244 138.177 663.878 Q140.006 662.489 140.006 659.897 Q140.006 657.235 138.107 655.823 Q136.232 654.387 132.714 654.387 Q130.793 654.387 128.594 654.804 Q126.395 655.221 123.756 656.1 L123.756 651.934 Q126.418 651.193 128.733 650.823 Q131.07 650.452 133.131 650.452 Q138.455 650.452 141.557 652.883 Q144.658 655.29 144.658 659.41 Q144.658 662.281 143.015 664.272 Q141.371 666.239 138.339 667.003 Z\" fill=\"#000000\" fill-rule=\"evenodd\" fill-opacity=\"1\" /><path clip-path=\"url(#clip620)\" d=\"M 0 0 M90.3762 568.305 L120.052 568.305 L120.052 572.24 L90.3762 572.24 L90.3762 568.305 Z\" fill=\"#000000\" fill-rule=\"evenodd\" fill-opacity=\"1\" /><path clip-path=\"url(#clip620)\" d=\"M 0 0 M129.149 581.198 L145.469 581.198 L145.469 585.133 L123.524 585.133 L123.524 581.198 Q126.186 578.444 130.77 573.814 Q135.376 569.161 136.557 567.819 Q138.802 565.296 139.682 563.56 Q140.584 561.8 140.584 560.11 Q140.584 557.356 138.64 555.62 Q136.719 553.884 133.617 553.884 Q131.418 553.884 128.964 554.648 Q126.533 555.411 123.756 556.962 L123.756 552.24 Q126.58 551.106 129.033 550.527 Q131.487 549.948 133.524 549.948 Q138.894 549.948 142.089 552.634 Q145.283 555.319 145.283 559.81 Q145.283 561.939 144.473 563.86 Q143.686 565.759 141.58 568.351 Q141.001 569.022 137.899 572.24 Q134.797 575.434 129.149 581.198 Z\" fill=\"#000000\" fill-rule=\"evenodd\" fill-opacity=\"1\" /><path clip-path=\"url(#clip620)\" d=\"M 0 0 M90.0059 467.801 L119.682 467.801 L119.682 471.736 L90.0059 471.736 L90.0059 467.801 Z\" fill=\"#000000\" fill-rule=\"evenodd\" fill-opacity=\"1\" /><path clip-path=\"url(#clip620)\" d=\"M 0 0 M125.561 480.695 L133.2 480.695 L133.2 454.329 L124.89 455.996 L124.89 451.736 L133.154 450.07 L137.83 450.07 L137.83 480.695 L145.469 480.695 L145.469 484.63 L125.561 484.63 L125.561 480.695 Z\" fill=\"#000000\" fill-rule=\"evenodd\" fill-opacity=\"1\" /><path clip-path=\"url(#clip620)\" d=\"M 0 0 M133.524 352.645 Q129.913 352.645 128.084 356.209 Q126.279 359.751 126.279 366.881 Q126.279 373.987 128.084 377.552 Q129.913 381.094 133.524 381.094 Q137.158 381.094 138.964 377.552 Q140.793 373.987 140.793 366.881 Q140.793 359.751 138.964 356.209 Q137.158 352.645 133.524 352.645 M133.524 348.941 Q139.334 348.941 142.39 353.547 Q145.469 358.131 145.469 366.881 Q145.469 375.608 142.39 380.214 Q139.334 384.797 133.524 384.797 Q127.714 384.797 124.635 380.214 Q121.58 375.608 121.58 366.881 Q121.58 358.131 124.635 353.547 Q127.714 348.941 133.524 348.941 Z\" fill=\"#000000\" fill-rule=\"evenodd\" fill-opacity=\"1\" /><path clip-path=\"url(#clip620)\" d=\"M 0 0 M125.561 279.687 L133.2 279.687 L133.2 253.321 L124.89 254.988 L124.89 250.729 L133.154 249.062 L137.83 249.062 L137.83 279.687 L145.469 279.687 L145.469 283.622 L125.561 283.622 L125.561 279.687 Z\" fill=\"#000000\" fill-rule=\"evenodd\" fill-opacity=\"1\" /><path clip-path=\"url(#clip620)\" d=\"M 0 0 M129.149 179.183 L145.469 179.183 L145.469 183.119 L123.524 183.119 L123.524 179.183 Q126.186 176.429 130.77 171.799 Q135.376 167.146 136.557 165.804 Q138.802 163.281 139.682 161.545 Q140.584 159.785 140.584 158.095 Q140.584 155.341 138.64 153.605 Q136.719 151.869 133.617 151.869 Q131.418 151.869 128.964 152.633 Q126.533 153.396 123.756 154.947 L123.756 150.225 Q126.58 149.091 129.033 148.512 Q131.487 147.934 133.524 147.934 Q138.894 147.934 142.089 150.619 Q145.283 153.304 145.283 157.795 Q145.283 159.924 144.473 161.845 Q143.686 163.744 141.58 166.336 Q141.001 167.007 137.899 170.225 Q134.797 173.419 129.149 179.183 Z\" fill=\"#000000\" fill-rule=\"evenodd\" fill-opacity=\"1\" /><path clip-path=\"url(#clip620)\" d=\"M 0 0 M138.339 63.9806 Q141.695 64.6982 143.57 66.9667 Q145.469 69.2352 145.469 72.5685 Q145.469 77.6842 141.95 80.4851 Q138.432 83.2861 131.95 83.2861 Q129.774 83.2861 127.459 82.8462 Q125.168 82.4296 122.714 81.5731 L122.714 77.0592 Q124.658 78.1935 126.973 78.7722 Q129.288 79.3509 131.811 79.3509 Q136.209 79.3509 138.501 77.6148 Q140.816 75.8787 140.816 72.5685 Q140.816 69.513 138.663 67.8 Q136.533 66.0639 132.714 66.0639 L128.686 66.0639 L128.686 62.2214 L132.899 62.2214 Q136.348 62.2214 138.177 60.8556 Q140.006 59.4667 140.006 56.8742 Q140.006 54.2121 138.107 52.8001 Q136.232 51.3649 132.714 51.3649 Q130.793 51.3649 128.594 51.7816 Q126.395 52.1983 123.756 53.0779 L123.756 48.9112 Q126.418 48.1705 128.733 47.8001 Q131.07 47.4298 133.131 47.4298 Q138.455 47.4298 141.557 49.8603 Q144.658 52.2677 144.658 56.3881 Q144.658 59.2584 143.015 61.2491 Q141.371 63.2167 138.339 63.9806 Z\" fill=\"#000000\" fill-rule=\"evenodd\" fill-opacity=\"1\" /><polyline clip-path=\"url(#clip622)\" style=\"stroke:#009af9; stroke-width:4; stroke-opacity:1; fill:none\" points=\"\n",
       "  197.726,668.357 213.424,658.307 229.123,648.256 244.821,638.206 260.52,628.156 276.219,618.105 291.917,608.055 307.616,598.005 323.314,587.954 339.013,577.904 \n",
       "  354.711,567.853 370.41,557.803 386.108,547.753 401.807,537.702 417.505,527.652 433.204,517.602 448.902,507.551 464.601,497.501 480.299,487.45 495.998,477.4 \n",
       "  511.696,467.35 527.395,457.299 543.093,447.249 558.792,437.199 574.49,427.148 590.189,417.098 605.888,407.047 621.586,396.997 637.285,386.947 652.983,376.896 \n",
       "  668.682,366.846 684.38,356.796 700.079,346.745 715.777,336.695 731.476,326.644 747.174,316.594 762.873,306.544 778.571,296.493 794.27,286.443 809.968,276.393 \n",
       "  825.667,266.342 841.365,256.292 857.064,246.241 872.762,236.191 888.461,226.141 904.159,216.09 919.858,206.04 935.557,195.99 951.255,185.939 966.954,175.889 \n",
       "  982.652,165.839 998.351,155.788 1014.05,145.738 1029.75,135.687 1045.45,125.637 1061.14,115.587 1076.84,105.536 1092.54,95.4859 1108.24,85.4355 1123.94,75.3851 \n",
       "  1139.64,65.3348 \n",
       "  \"/>\n",
       "<path clip-path=\"url(#clip620)\" d=\"\n",
       "M1354.33 686.448 L2352.76 686.448 L2352.76 47.2441 L1354.33 47.2441  Z\n",
       "  \" fill=\"#ffffff\" fill-rule=\"evenodd\" fill-opacity=\"1\"/>\n",
       "<defs>\n",
       "  <clipPath id=\"clip623\">\n",
       "    <rect x=\"1354\" y=\"47\" width=\"999\" height=\"640\"/>\n",
       "  </clipPath>\n",
       "</defs>\n",
       "<polyline clip-path=\"url(#clip623)\" style=\"stroke:#000000; stroke-width:2; stroke-opacity:0.1; fill:none\" points=\"\n",
       "  1382.59,686.448 1382.59,47.2441 \n",
       "  \"/>\n",
       "<polyline clip-path=\"url(#clip623)\" style=\"stroke:#000000; stroke-width:2; stroke-opacity:0.1; fill:none\" points=\"\n",
       "  1539.57,686.448 1539.57,47.2441 \n",
       "  \"/>\n",
       "<polyline clip-path=\"url(#clip623)\" style=\"stroke:#000000; stroke-width:2; stroke-opacity:0.1; fill:none\" points=\"\n",
       "  1696.56,686.448 1696.56,47.2441 \n",
       "  \"/>\n",
       "<polyline clip-path=\"url(#clip623)\" style=\"stroke:#000000; stroke-width:2; stroke-opacity:0.1; fill:none\" points=\"\n",
       "  1853.54,686.448 1853.54,47.2441 \n",
       "  \"/>\n",
       "<polyline clip-path=\"url(#clip623)\" style=\"stroke:#000000; stroke-width:2; stroke-opacity:0.1; fill:none\" points=\"\n",
       "  2010.53,686.448 2010.53,47.2441 \n",
       "  \"/>\n",
       "<polyline clip-path=\"url(#clip623)\" style=\"stroke:#000000; stroke-width:2; stroke-opacity:0.1; fill:none\" points=\"\n",
       "  2167.51,686.448 2167.51,47.2441 \n",
       "  \"/>\n",
       "<polyline clip-path=\"url(#clip623)\" style=\"stroke:#000000; stroke-width:2; stroke-opacity:0.1; fill:none\" points=\"\n",
       "  2324.5,686.448 2324.5,47.2441 \n",
       "  \"/>\n",
       "<polyline clip-path=\"url(#clip623)\" style=\"stroke:#000000; stroke-width:2; stroke-opacity:0.1; fill:none\" points=\"\n",
       "  1354.33,668.357 2352.76,668.357 \n",
       "  \"/>\n",
       "<polyline clip-path=\"url(#clip623)\" style=\"stroke:#000000; stroke-width:2; stroke-opacity:0.1; fill:none\" points=\"\n",
       "  1354.33,534.352 2352.76,534.352 \n",
       "  \"/>\n",
       "<polyline clip-path=\"url(#clip623)\" style=\"stroke:#000000; stroke-width:2; stroke-opacity:0.1; fill:none\" points=\"\n",
       "  1354.33,400.347 2352.76,400.347 \n",
       "  \"/>\n",
       "<polyline clip-path=\"url(#clip623)\" style=\"stroke:#000000; stroke-width:2; stroke-opacity:0.1; fill:none\" points=\"\n",
       "  1354.33,266.342 2352.76,266.342 \n",
       "  \"/>\n",
       "<polyline clip-path=\"url(#clip623)\" style=\"stroke:#000000; stroke-width:2; stroke-opacity:0.1; fill:none\" points=\"\n",
       "  1354.33,132.337 2352.76,132.337 \n",
       "  \"/>\n",
       "<polyline clip-path=\"url(#clip620)\" style=\"stroke:#000000; stroke-width:4; stroke-opacity:1; fill:none\" points=\"\n",
       "  1354.33,686.448 2352.76,686.448 \n",
       "  \"/>\n",
       "<polyline clip-path=\"url(#clip620)\" style=\"stroke:#000000; stroke-width:4; stroke-opacity:1; fill:none\" points=\"\n",
       "  1354.33,686.448 1354.33,47.2441 \n",
       "  \"/>\n",
       "<polyline clip-path=\"url(#clip620)\" style=\"stroke:#000000; stroke-width:4; stroke-opacity:1; fill:none\" points=\"\n",
       "  1382.59,686.448 1382.59,678.777 \n",
       "  \"/>\n",
       "<polyline clip-path=\"url(#clip620)\" style=\"stroke:#000000; stroke-width:4; stroke-opacity:1; fill:none\" points=\"\n",
       "  1539.57,686.448 1539.57,678.777 \n",
       "  \"/>\n",
       "<polyline clip-path=\"url(#clip620)\" style=\"stroke:#000000; stroke-width:4; stroke-opacity:1; fill:none\" points=\"\n",
       "  1696.56,686.448 1696.56,678.777 \n",
       "  \"/>\n",
       "<polyline clip-path=\"url(#clip620)\" style=\"stroke:#000000; stroke-width:4; stroke-opacity:1; fill:none\" points=\"\n",
       "  1853.54,686.448 1853.54,678.777 \n",
       "  \"/>\n",
       "<polyline clip-path=\"url(#clip620)\" style=\"stroke:#000000; stroke-width:4; stroke-opacity:1; fill:none\" points=\"\n",
       "  2010.53,686.448 2010.53,678.777 \n",
       "  \"/>\n",
       "<polyline clip-path=\"url(#clip620)\" style=\"stroke:#000000; stroke-width:4; stroke-opacity:1; fill:none\" points=\"\n",
       "  2167.51,686.448 2167.51,678.777 \n",
       "  \"/>\n",
       "<polyline clip-path=\"url(#clip620)\" style=\"stroke:#000000; stroke-width:4; stroke-opacity:1; fill:none\" points=\"\n",
       "  2324.5,686.448 2324.5,678.777 \n",
       "  \"/>\n",
       "<polyline clip-path=\"url(#clip620)\" style=\"stroke:#000000; stroke-width:4; stroke-opacity:1; fill:none\" points=\"\n",
       "  1354.33,668.357 1366.31,668.357 \n",
       "  \"/>\n",
       "<polyline clip-path=\"url(#clip620)\" style=\"stroke:#000000; stroke-width:4; stroke-opacity:1; fill:none\" points=\"\n",
       "  1354.33,534.352 1366.31,534.352 \n",
       "  \"/>\n",
       "<polyline clip-path=\"url(#clip620)\" style=\"stroke:#000000; stroke-width:4; stroke-opacity:1; fill:none\" points=\"\n",
       "  1354.33,400.347 1366.31,400.347 \n",
       "  \"/>\n",
       "<polyline clip-path=\"url(#clip620)\" style=\"stroke:#000000; stroke-width:4; stroke-opacity:1; fill:none\" points=\"\n",
       "  1354.33,266.342 1366.31,266.342 \n",
       "  \"/>\n",
       "<polyline clip-path=\"url(#clip620)\" style=\"stroke:#000000; stroke-width:4; stroke-opacity:1; fill:none\" points=\"\n",
       "  1354.33,132.337 1366.31,132.337 \n",
       "  \"/>\n",
       "<path clip-path=\"url(#clip620)\" d=\"M 0 0 M1354.57 723.091 L1384.24 723.091 L1384.24 727.026 L1354.57 727.026 L1354.57 723.091 Z\" fill=\"#000000\" fill-rule=\"evenodd\" fill-opacity=\"1\" /><path clip-path=\"url(#clip620)\" d=\"M 0 0 M1403.48 721.286 Q1406.83 722.003 1408.71 724.272 Q1410.61 726.54 1410.61 729.874 Q1410.61 734.989 1407.09 737.79 Q1403.57 740.591 1397.09 740.591 Q1394.91 740.591 1392.6 740.151 Q1390.31 739.735 1387.85 738.878 L1387.85 734.364 Q1389.8 735.499 1392.11 736.077 Q1394.43 736.656 1396.95 736.656 Q1401.35 736.656 1403.64 734.92 Q1405.96 733.184 1405.96 729.874 Q1405.96 726.818 1403.8 725.105 Q1401.67 723.369 1397.85 723.369 L1393.83 723.369 L1393.83 719.526 L1398.04 719.526 Q1401.49 719.526 1403.32 718.161 Q1405.14 716.772 1405.14 714.179 Q1405.14 711.517 1403.25 710.105 Q1401.37 708.67 1397.85 708.67 Q1395.93 708.67 1393.73 709.087 Q1391.53 709.503 1388.89 710.383 L1388.89 706.216 Q1391.56 705.476 1393.87 705.105 Q1396.21 704.735 1398.27 704.735 Q1403.59 704.735 1406.7 707.165 Q1409.8 709.573 1409.8 713.693 Q1409.8 716.564 1408.15 718.554 Q1406.51 720.522 1403.48 721.286 Z\" fill=\"#000000\" fill-rule=\"evenodd\" fill-opacity=\"1\" /><path clip-path=\"url(#clip620)\" d=\"M 0 0 M1512.03 723.091 L1541.7 723.091 L1541.7 727.026 L1512.03 727.026 L1512.03 723.091 Z\" fill=\"#000000\" fill-rule=\"evenodd\" fill-opacity=\"1\" /><path clip-path=\"url(#clip620)\" d=\"M 0 0 M1550.8 735.985 L1567.12 735.985 L1567.12 739.92 L1545.17 739.92 L1545.17 735.985 Q1547.84 733.23 1552.42 728.6 Q1557.03 723.948 1558.21 722.605 Q1560.45 720.082 1561.33 718.346 Q1562.23 716.587 1562.23 714.897 Q1562.23 712.142 1560.29 710.406 Q1558.37 708.67 1555.27 708.67 Q1553.07 708.67 1550.61 709.434 Q1548.18 710.198 1545.41 711.749 L1545.41 707.027 Q1548.23 705.892 1550.68 705.314 Q1553.14 704.735 1555.17 704.735 Q1560.54 704.735 1563.74 707.42 Q1566.93 710.105 1566.93 714.596 Q1566.93 716.726 1566.12 718.647 Q1565.34 720.545 1563.23 723.138 Q1562.65 723.809 1559.55 727.026 Q1556.45 730.221 1550.8 735.985 Z\" fill=\"#000000\" fill-rule=\"evenodd\" fill-opacity=\"1\" /><path clip-path=\"url(#clip620)\" d=\"M 0 0 M1668.83 723.091 L1698.5 723.091 L1698.5 727.026 L1668.83 727.026 L1668.83 723.091 Z\" fill=\"#000000\" fill-rule=\"evenodd\" fill-opacity=\"1\" /><path clip-path=\"url(#clip620)\" d=\"M 0 0 M1704.38 735.985 L1712.02 735.985 L1712.02 709.619 L1703.71 711.286 L1703.71 707.027 L1711.97 705.36 L1716.65 705.36 L1716.65 735.985 L1724.29 735.985 L1724.29 739.92 L1704.38 739.92 L1704.38 735.985 Z\" fill=\"#000000\" fill-rule=\"evenodd\" fill-opacity=\"1\" /><path clip-path=\"url(#clip620)\" d=\"M 0 0 M1853.54 708.439 Q1849.93 708.439 1848.1 712.003 Q1846.3 715.545 1846.3 722.675 Q1846.3 729.781 1848.1 733.346 Q1849.93 736.887 1853.54 736.887 Q1857.18 736.887 1858.98 733.346 Q1860.81 729.781 1860.81 722.675 Q1860.81 715.545 1858.98 712.003 Q1857.18 708.439 1853.54 708.439 M1853.54 704.735 Q1859.35 704.735 1862.41 709.341 Q1865.49 713.925 1865.49 722.675 Q1865.49 731.401 1862.41 736.008 Q1859.35 740.591 1853.54 740.591 Q1847.73 740.591 1844.65 736.008 Q1841.6 731.401 1841.6 722.675 Q1841.6 713.925 1844.65 709.341 Q1847.73 704.735 1853.54 704.735 Z\" fill=\"#000000\" fill-rule=\"evenodd\" fill-opacity=\"1\" /><path clip-path=\"url(#clip620)\" d=\"M 0 0 M2000.91 735.985 L2008.55 735.985 L2008.55 709.619 L2000.24 711.286 L2000.24 707.027 L2008.5 705.36 L2013.18 705.36 L2013.18 735.985 L2020.82 735.985 L2020.82 739.92 L2000.91 739.92 L2000.91 735.985 Z\" fill=\"#000000\" fill-rule=\"evenodd\" fill-opacity=\"1\" /><path clip-path=\"url(#clip620)\" d=\"M 0 0 M2162.17 735.985 L2178.49 735.985 L2178.49 739.92 L2156.54 739.92 L2156.54 735.985 Q2159.2 733.23 2163.79 728.6 Q2168.39 723.948 2169.57 722.605 Q2171.82 720.082 2172.7 718.346 Q2173.6 716.587 2173.6 714.897 Q2173.6 712.142 2171.66 710.406 Q2169.74 708.67 2166.63 708.67 Q2164.43 708.67 2161.98 709.434 Q2159.55 710.198 2156.77 711.749 L2156.77 707.027 Q2159.6 705.892 2162.05 705.314 Q2164.5 704.735 2166.54 704.735 Q2171.91 704.735 2175.11 707.42 Q2178.3 710.105 2178.3 714.596 Q2178.3 716.726 2177.49 718.647 Q2176.7 720.545 2174.6 723.138 Q2174.02 723.809 2170.92 727.026 Q2167.81 730.221 2162.17 735.985 Z\" fill=\"#000000\" fill-rule=\"evenodd\" fill-opacity=\"1\" /><path clip-path=\"url(#clip620)\" d=\"M 0 0 M2328.75 721.286 Q2332.1 722.003 2333.98 724.272 Q2335.88 726.54 2335.88 729.874 Q2335.88 734.989 2332.36 737.79 Q2328.84 740.591 2322.36 740.591 Q2320.18 740.591 2317.87 740.151 Q2315.57 739.735 2313.12 738.878 L2313.12 734.364 Q2315.07 735.499 2317.38 736.077 Q2319.7 736.656 2322.22 736.656 Q2326.62 736.656 2328.91 734.92 Q2331.22 733.184 2331.22 729.874 Q2331.22 726.818 2329.07 725.105 Q2326.94 723.369 2323.12 723.369 L2319.09 723.369 L2319.09 719.526 L2323.31 719.526 Q2326.76 719.526 2328.58 718.161 Q2330.41 716.772 2330.41 714.179 Q2330.41 711.517 2328.51 710.105 Q2326.64 708.67 2323.12 708.67 Q2321.2 708.67 2319 709.087 Q2316.8 709.503 2314.16 710.383 L2314.16 706.216 Q2316.82 705.476 2319.14 705.105 Q2321.48 704.735 2323.54 704.735 Q2328.86 704.735 2331.96 707.165 Q2335.07 709.573 2335.07 713.693 Q2335.07 716.564 2333.42 718.554 Q2331.78 720.522 2328.75 721.286 Z\" fill=\"#000000\" fill-rule=\"evenodd\" fill-opacity=\"1\" /><path clip-path=\"url(#clip620)\" d=\"M 0 0 M1318.39 654.156 Q1314.77 654.156 1312.95 657.721 Q1311.14 661.262 1311.14 668.392 Q1311.14 675.498 1312.95 679.063 Q1314.77 682.605 1318.39 682.605 Q1322.02 682.605 1323.83 679.063 Q1325.65 675.498 1325.65 668.392 Q1325.65 661.262 1323.83 657.721 Q1322.02 654.156 1318.39 654.156 M1318.39 650.452 Q1324.2 650.452 1327.25 655.059 Q1330.33 659.642 1330.33 668.392 Q1330.33 677.119 1327.25 681.725 Q1324.2 686.308 1318.39 686.308 Q1312.58 686.308 1309.5 681.725 Q1306.44 677.119 1306.44 668.392 Q1306.44 659.642 1309.5 655.059 Q1312.58 650.452 1318.39 650.452 Z\" fill=\"#000000\" fill-rule=\"evenodd\" fill-opacity=\"1\" /><path clip-path=\"url(#clip620)\" d=\"M 0 0 M1314.01 547.697 L1330.33 547.697 L1330.33 551.632 L1308.39 551.632 L1308.39 547.697 Q1311.05 544.942 1315.63 540.313 Q1320.24 535.66 1321.42 534.317 Q1323.66 531.794 1324.54 530.058 Q1325.45 528.299 1325.45 526.609 Q1325.45 523.855 1323.5 522.118 Q1321.58 520.382 1318.48 520.382 Q1316.28 520.382 1313.83 521.146 Q1311.39 521.91 1308.62 523.461 L1308.62 518.739 Q1311.44 517.605 1313.89 517.026 Q1316.35 516.447 1318.39 516.447 Q1323.76 516.447 1326.95 519.132 Q1330.14 521.818 1330.14 526.308 Q1330.14 528.438 1329.33 530.359 Q1328.55 532.257 1326.44 534.85 Q1325.86 535.521 1322.76 538.739 Q1319.66 541.933 1314.01 547.697 Z\" fill=\"#000000\" fill-rule=\"evenodd\" fill-opacity=\"1\" /><path clip-path=\"url(#clip620)\" d=\"M 0 0 M1320.75 387.141 L1308.94 405.59 L1320.75 405.59 L1320.75 387.141 M1319.52 383.067 L1325.4 383.067 L1325.4 405.59 L1330.33 405.59 L1330.33 409.479 L1325.4 409.479 L1325.4 417.627 L1320.75 417.627 L1320.75 409.479 L1305.14 409.479 L1305.14 404.965 L1319.52 383.067 Z\" fill=\"#000000\" fill-rule=\"evenodd\" fill-opacity=\"1\" /><path clip-path=\"url(#clip620)\" d=\"M 0 0 M1318.8 264.479 Q1315.65 264.479 1313.8 266.632 Q1311.97 268.784 1311.97 272.534 Q1311.97 276.261 1313.8 278.437 Q1315.65 280.59 1318.8 280.59 Q1321.95 280.59 1323.78 278.437 Q1325.63 276.261 1325.63 272.534 Q1325.63 268.784 1323.78 266.632 Q1321.95 264.479 1318.8 264.479 M1328.08 249.826 L1328.08 254.085 Q1326.33 253.252 1324.52 252.812 Q1322.74 252.372 1320.98 252.372 Q1316.35 252.372 1313.89 255.497 Q1311.46 258.622 1311.12 264.942 Q1312.48 262.928 1314.54 261.863 Q1316.6 260.775 1319.08 260.775 Q1324.29 260.775 1327.3 263.946 Q1330.33 267.095 1330.33 272.534 Q1330.33 277.858 1327.18 281.076 Q1324.03 284.294 1318.8 284.294 Q1312.81 284.294 1309.64 279.71 Q1306.46 275.104 1306.46 266.377 Q1306.46 258.183 1310.35 253.321 Q1314.24 248.437 1320.79 248.437 Q1322.55 248.437 1324.33 248.784 Q1326.14 249.132 1328.08 249.826 Z\" fill=\"#000000\" fill-rule=\"evenodd\" fill-opacity=\"1\" /><path clip-path=\"url(#clip620)\" d=\"M 0 0 M1318.48 133.205 Q1315.14 133.205 1313.22 134.988 Q1311.33 136.77 1311.33 139.895 Q1311.33 143.02 1313.22 144.802 Q1315.14 146.585 1318.48 146.585 Q1321.81 146.585 1323.73 144.802 Q1325.65 142.997 1325.65 139.895 Q1325.65 136.77 1323.73 134.988 Q1321.83 133.205 1318.48 133.205 M1313.8 131.215 Q1310.79 130.474 1309.1 128.414 Q1307.44 126.353 1307.44 123.391 Q1307.44 119.247 1310.38 116.84 Q1313.34 114.432 1318.48 114.432 Q1323.64 114.432 1326.58 116.84 Q1329.52 119.247 1329.52 123.391 Q1329.52 126.353 1327.83 128.414 Q1326.16 130.474 1323.18 131.215 Q1326.56 132.002 1328.43 134.293 Q1330.33 136.585 1330.33 139.895 Q1330.33 144.918 1327.25 147.603 Q1324.2 150.289 1318.48 150.289 Q1312.76 150.289 1309.68 147.603 Q1306.63 144.918 1306.63 139.895 Q1306.63 136.585 1308.52 134.293 Q1310.42 132.002 1313.8 131.215 M1312.09 123.83 Q1312.09 126.516 1313.76 128.02 Q1315.45 129.525 1318.48 129.525 Q1321.49 129.525 1323.18 128.02 Q1324.89 126.516 1324.89 123.83 Q1324.89 121.145 1323.18 119.641 Q1321.49 118.136 1318.48 118.136 Q1315.45 118.136 1313.76 119.641 Q1312.09 121.145 1312.09 123.83 Z\" fill=\"#000000\" fill-rule=\"evenodd\" fill-opacity=\"1\" /><polyline clip-path=\"url(#clip623)\" style=\"stroke:#009af9; stroke-width:4; stroke-opacity:1; fill:none\" points=\"\n",
       "  1382.59,65.3348 1398.29,104.866 1413.98,143.058 1429.68,179.909 1445.38,215.42 1461.08,249.592 1476.78,282.423 1492.48,313.914 1508.18,344.065 1523.87,372.876 \n",
       "  1539.57,400.347 1555.27,426.478 1570.97,451.269 1586.67,474.72 1602.37,496.831 1618.06,517.602 1633.76,537.032 1649.46,555.123 1665.16,571.874 1680.86,587.284 \n",
       "  1696.56,601.355 1712.26,614.085 1727.95,625.476 1743.65,635.526 1759.35,644.236 1775.05,651.607 1790.75,657.637 1806.45,662.327 1822.15,665.677 1837.84,667.687 \n",
       "  1853.54,668.357 1869.24,667.687 1884.94,665.677 1900.64,662.327 1916.34,657.637 1932.04,651.607 1947.73,644.236 1963.43,635.526 1979.13,625.476 1994.83,614.085 \n",
       "  2010.53,601.355 2026.23,587.284 2041.93,571.874 2057.62,555.123 2073.32,537.032 2089.02,517.602 2104.72,496.831 2120.42,474.72 2136.12,451.269 2151.81,426.478 \n",
       "  2167.51,400.347 2183.21,372.876 2198.91,344.065 2214.61,313.914 2230.31,282.423 2246.01,249.592 2261.7,215.42 2277.4,179.909 2293.1,143.058 2308.8,104.866 \n",
       "  2324.5,65.3348 \n",
       "  \"/>\n",
       "<path clip-path=\"url(#clip620)\" d=\"\n",
       "M169.469 1486.45 L1167.89 1486.45 L1167.89 847.244 L169.469 847.244  Z\n",
       "  \" fill=\"#ffffff\" fill-rule=\"evenodd\" fill-opacity=\"1\"/>\n",
       "<defs>\n",
       "  <clipPath id=\"clip624\">\n",
       "    <rect x=\"169\" y=\"847\" width=\"999\" height=\"640\"/>\n",
       "  </clipPath>\n",
       "</defs>\n",
       "<polyline clip-path=\"url(#clip624)\" style=\"stroke:#000000; stroke-width:2; stroke-opacity:0.1; fill:none\" points=\"\n",
       "  197.726,1486.45 197.726,847.244 \n",
       "  \"/>\n",
       "<polyline clip-path=\"url(#clip624)\" style=\"stroke:#000000; stroke-width:2; stroke-opacity:0.1; fill:none\" points=\"\n",
       "  354.711,1486.45 354.711,847.244 \n",
       "  \"/>\n",
       "<polyline clip-path=\"url(#clip624)\" style=\"stroke:#000000; stroke-width:2; stroke-opacity:0.1; fill:none\" points=\"\n",
       "  511.696,1486.45 511.696,847.244 \n",
       "  \"/>\n",
       "<polyline clip-path=\"url(#clip624)\" style=\"stroke:#000000; stroke-width:2; stroke-opacity:0.1; fill:none\" points=\"\n",
       "  668.682,1486.45 668.682,847.244 \n",
       "  \"/>\n",
       "<polyline clip-path=\"url(#clip624)\" style=\"stroke:#000000; stroke-width:2; stroke-opacity:0.1; fill:none\" points=\"\n",
       "  825.667,1486.45 825.667,847.244 \n",
       "  \"/>\n",
       "<polyline clip-path=\"url(#clip624)\" style=\"stroke:#000000; stroke-width:2; stroke-opacity:0.1; fill:none\" points=\"\n",
       "  982.652,1486.45 982.652,847.244 \n",
       "  \"/>\n",
       "<polyline clip-path=\"url(#clip624)\" style=\"stroke:#000000; stroke-width:2; stroke-opacity:0.1; fill:none\" points=\"\n",
       "  1139.64,1486.45 1139.64,847.244 \n",
       "  \"/>\n",
       "<polyline clip-path=\"url(#clip624)\" style=\"stroke:#000000; stroke-width:2; stroke-opacity:0.1; fill:none\" points=\"\n",
       "  169.469,1390.19 1167.89,1390.19 \n",
       "  \"/>\n",
       "<polyline clip-path=\"url(#clip624)\" style=\"stroke:#000000; stroke-width:2; stroke-opacity:0.1; fill:none\" points=\"\n",
       "  169.469,1278.52 1167.89,1278.52 \n",
       "  \"/>\n",
       "<polyline clip-path=\"url(#clip624)\" style=\"stroke:#000000; stroke-width:2; stroke-opacity:0.1; fill:none\" points=\"\n",
       "  169.469,1166.85 1167.89,1166.85 \n",
       "  \"/>\n",
       "<polyline clip-path=\"url(#clip624)\" style=\"stroke:#000000; stroke-width:2; stroke-opacity:0.1; fill:none\" points=\"\n",
       "  169.469,1055.18 1167.89,1055.18 \n",
       "  \"/>\n",
       "<polyline clip-path=\"url(#clip624)\" style=\"stroke:#000000; stroke-width:2; stroke-opacity:0.1; fill:none\" points=\"\n",
       "  169.469,943.504 1167.89,943.504 \n",
       "  \"/>\n",
       "<polyline clip-path=\"url(#clip620)\" style=\"stroke:#000000; stroke-width:4; stroke-opacity:1; fill:none\" points=\"\n",
       "  169.469,1486.45 1167.89,1486.45 \n",
       "  \"/>\n",
       "<polyline clip-path=\"url(#clip620)\" style=\"stroke:#000000; stroke-width:4; stroke-opacity:1; fill:none\" points=\"\n",
       "  169.469,1486.45 169.469,847.244 \n",
       "  \"/>\n",
       "<polyline clip-path=\"url(#clip620)\" style=\"stroke:#000000; stroke-width:4; stroke-opacity:1; fill:none\" points=\"\n",
       "  197.726,1486.45 197.726,1478.78 \n",
       "  \"/>\n",
       "<polyline clip-path=\"url(#clip620)\" style=\"stroke:#000000; stroke-width:4; stroke-opacity:1; fill:none\" points=\"\n",
       "  354.711,1486.45 354.711,1478.78 \n",
       "  \"/>\n",
       "<polyline clip-path=\"url(#clip620)\" style=\"stroke:#000000; stroke-width:4; stroke-opacity:1; fill:none\" points=\"\n",
       "  511.696,1486.45 511.696,1478.78 \n",
       "  \"/>\n",
       "<polyline clip-path=\"url(#clip620)\" style=\"stroke:#000000; stroke-width:4; stroke-opacity:1; fill:none\" points=\"\n",
       "  668.682,1486.45 668.682,1478.78 \n",
       "  \"/>\n",
       "<polyline clip-path=\"url(#clip620)\" style=\"stroke:#000000; stroke-width:4; stroke-opacity:1; fill:none\" points=\"\n",
       "  825.667,1486.45 825.667,1478.78 \n",
       "  \"/>\n",
       "<polyline clip-path=\"url(#clip620)\" style=\"stroke:#000000; stroke-width:4; stroke-opacity:1; fill:none\" points=\"\n",
       "  982.652,1486.45 982.652,1478.78 \n",
       "  \"/>\n",
       "<polyline clip-path=\"url(#clip620)\" style=\"stroke:#000000; stroke-width:4; stroke-opacity:1; fill:none\" points=\"\n",
       "  1139.64,1486.45 1139.64,1478.78 \n",
       "  \"/>\n",
       "<polyline clip-path=\"url(#clip620)\" style=\"stroke:#000000; stroke-width:4; stroke-opacity:1; fill:none\" points=\"\n",
       "  169.469,1390.19 181.45,1390.19 \n",
       "  \"/>\n",
       "<polyline clip-path=\"url(#clip620)\" style=\"stroke:#000000; stroke-width:4; stroke-opacity:1; fill:none\" points=\"\n",
       "  169.469,1278.52 181.45,1278.52 \n",
       "  \"/>\n",
       "<polyline clip-path=\"url(#clip620)\" style=\"stroke:#000000; stroke-width:4; stroke-opacity:1; fill:none\" points=\"\n",
       "  169.469,1166.85 181.45,1166.85 \n",
       "  \"/>\n",
       "<polyline clip-path=\"url(#clip620)\" style=\"stroke:#000000; stroke-width:4; stroke-opacity:1; fill:none\" points=\"\n",
       "  169.469,1055.18 181.45,1055.18 \n",
       "  \"/>\n",
       "<polyline clip-path=\"url(#clip620)\" style=\"stroke:#000000; stroke-width:4; stroke-opacity:1; fill:none\" points=\"\n",
       "  169.469,943.504 181.45,943.504 \n",
       "  \"/>\n",
       "<path clip-path=\"url(#clip620)\" d=\"M 0 0 M169.705 1523.09 L199.381 1523.09 L199.381 1527.03 L169.705 1527.03 L169.705 1523.09 Z\" fill=\"#000000\" fill-rule=\"evenodd\" fill-opacity=\"1\" /><path clip-path=\"url(#clip620)\" d=\"M 0 0 M218.617 1521.29 Q221.973 1522 223.848 1524.27 Q225.747 1526.54 225.747 1529.87 Q225.747 1534.99 222.228 1537.79 Q218.71 1540.59 212.228 1540.59 Q210.052 1540.59 207.737 1540.15 Q205.446 1539.73 202.992 1538.88 L202.992 1534.36 Q204.936 1535.5 207.251 1536.08 Q209.566 1536.66 212.089 1536.66 Q216.487 1536.66 218.779 1534.92 Q221.094 1533.18 221.094 1529.87 Q221.094 1526.82 218.941 1525.11 Q216.811 1523.37 212.992 1523.37 L208.964 1523.37 L208.964 1519.53 L213.177 1519.53 Q216.626 1519.53 218.455 1518.16 Q220.284 1516.77 220.284 1514.18 Q220.284 1511.52 218.385 1510.11 Q216.511 1508.67 212.992 1508.67 Q211.071 1508.67 208.872 1509.09 Q206.673 1509.5 204.034 1510.38 L204.034 1506.22 Q206.696 1505.48 209.011 1505.11 Q211.348 1504.73 213.409 1504.73 Q218.733 1504.73 221.835 1507.17 Q224.936 1509.57 224.936 1513.69 Q224.936 1516.56 223.293 1518.55 Q221.649 1520.52 218.617 1521.29 Z\" fill=\"#000000\" fill-rule=\"evenodd\" fill-opacity=\"1\" /><path clip-path=\"url(#clip620)\" d=\"M 0 0 M327.165 1523.09 L356.841 1523.09 L356.841 1527.03 L327.165 1527.03 L327.165 1523.09 Z\" fill=\"#000000\" fill-rule=\"evenodd\" fill-opacity=\"1\" /><path clip-path=\"url(#clip620)\" d=\"M 0 0 M365.938 1535.98 L382.257 1535.98 L382.257 1539.92 L360.313 1539.92 L360.313 1535.98 Q362.975 1533.23 367.558 1528.6 Q372.165 1523.95 373.345 1522.61 Q375.591 1520.08 376.47 1518.35 Q377.373 1516.59 377.373 1514.9 Q377.373 1512.14 375.429 1510.41 Q373.507 1508.67 370.405 1508.67 Q368.206 1508.67 365.753 1509.43 Q363.322 1510.2 360.544 1511.75 L360.544 1507.03 Q363.368 1505.89 365.822 1505.31 Q368.276 1504.73 370.313 1504.73 Q375.683 1504.73 378.878 1507.42 Q382.072 1510.11 382.072 1514.6 Q382.072 1516.73 381.262 1518.65 Q380.475 1520.54 378.368 1523.14 Q377.79 1523.81 374.688 1527.03 Q371.586 1530.22 365.938 1535.98 Z\" fill=\"#000000\" fill-rule=\"evenodd\" fill-opacity=\"1\" /><path clip-path=\"url(#clip620)\" d=\"M 0 0 M483.965 1523.09 L513.641 1523.09 L513.641 1527.03 L483.965 1527.03 L483.965 1523.09 Z\" fill=\"#000000\" fill-rule=\"evenodd\" fill-opacity=\"1\" /><path clip-path=\"url(#clip620)\" d=\"M 0 0 M519.52 1535.98 L527.159 1535.98 L527.159 1509.62 L518.849 1511.29 L518.849 1507.03 L527.113 1505.36 L531.789 1505.36 L531.789 1535.98 L539.428 1535.98 L539.428 1539.92 L519.52 1539.92 L519.52 1535.98 Z\" fill=\"#000000\" fill-rule=\"evenodd\" fill-opacity=\"1\" /><path clip-path=\"url(#clip620)\" d=\"M 0 0 M668.682 1508.44 Q665.071 1508.44 663.242 1512 Q661.436 1515.55 661.436 1522.67 Q661.436 1529.78 663.242 1533.35 Q665.071 1536.89 668.682 1536.89 Q672.316 1536.89 674.121 1533.35 Q675.95 1529.78 675.95 1522.67 Q675.95 1515.55 674.121 1512 Q672.316 1508.44 668.682 1508.44 M668.682 1504.73 Q674.492 1504.73 677.547 1509.34 Q680.626 1513.92 680.626 1522.67 Q680.626 1531.4 677.547 1536.01 Q674.492 1540.59 668.682 1540.59 Q662.871 1540.59 659.793 1536.01 Q656.737 1531.4 656.737 1522.67 Q656.737 1513.92 659.793 1509.34 Q662.871 1504.73 668.682 1504.73 Z\" fill=\"#000000\" fill-rule=\"evenodd\" fill-opacity=\"1\" /><path clip-path=\"url(#clip620)\" d=\"M 0 0 M816.049 1535.98 L823.688 1535.98 L823.688 1509.62 L815.378 1511.29 L815.378 1507.03 L823.641 1505.36 L828.317 1505.36 L828.317 1535.98 L835.956 1535.98 L835.956 1539.92 L816.049 1539.92 L816.049 1535.98 Z\" fill=\"#000000\" fill-rule=\"evenodd\" fill-opacity=\"1\" /><path clip-path=\"url(#clip620)\" d=\"M 0 0 M977.305 1535.98 L993.624 1535.98 L993.624 1539.92 L971.68 1539.92 L971.68 1535.98 Q974.342 1533.23 978.925 1528.6 Q983.532 1523.95 984.712 1522.61 Q986.958 1520.08 987.837 1518.35 Q988.74 1516.59 988.74 1514.9 Q988.74 1512.14 986.796 1510.41 Q984.874 1508.67 981.772 1508.67 Q979.573 1508.67 977.12 1509.43 Q974.689 1510.2 971.911 1511.75 L971.911 1507.03 Q974.735 1505.89 977.189 1505.31 Q979.643 1504.73 981.68 1504.73 Q987.05 1504.73 990.245 1507.42 Q993.439 1510.11 993.439 1514.6 Q993.439 1516.73 992.629 1518.65 Q991.842 1520.54 989.735 1523.14 Q989.157 1523.81 986.055 1527.03 Q982.953 1530.22 977.305 1535.98 Z\" fill=\"#000000\" fill-rule=\"evenodd\" fill-opacity=\"1\" /><path clip-path=\"url(#clip620)\" d=\"M 0 0 M1143.89 1521.29 Q1147.24 1522 1149.12 1524.27 Q1151.01 1526.54 1151.01 1529.87 Q1151.01 1534.99 1147.5 1537.79 Q1143.98 1540.59 1137.5 1540.59 Q1135.32 1540.59 1133.01 1540.15 Q1130.71 1539.73 1128.26 1538.88 L1128.26 1534.36 Q1130.2 1535.5 1132.52 1536.08 Q1134.83 1536.66 1137.36 1536.66 Q1141.76 1536.66 1144.05 1534.92 Q1146.36 1533.18 1146.36 1529.87 Q1146.36 1526.82 1144.21 1525.11 Q1142.08 1523.37 1138.26 1523.37 L1134.23 1523.37 L1134.23 1519.53 L1138.45 1519.53 Q1141.89 1519.53 1143.72 1518.16 Q1145.55 1516.77 1145.55 1514.18 Q1145.55 1511.52 1143.65 1510.11 Q1141.78 1508.67 1138.26 1508.67 Q1136.34 1508.67 1134.14 1509.09 Q1131.94 1509.5 1129.3 1510.38 L1129.3 1506.22 Q1131.96 1505.48 1134.28 1505.11 Q1136.62 1504.73 1138.68 1504.73 Q1144 1504.73 1147.1 1507.17 Q1150.2 1509.57 1150.2 1513.69 Q1150.2 1516.56 1148.56 1518.55 Q1146.92 1520.52 1143.89 1521.29 Z\" fill=\"#000000\" fill-rule=\"evenodd\" fill-opacity=\"1\" /><path clip-path=\"url(#clip620)\" d=\"M 0 0 M63.3625 1390.64 L93.0383 1390.64 L93.0383 1394.57 L63.3625 1394.57 L63.3625 1390.64 Z\" fill=\"#000000\" fill-rule=\"evenodd\" fill-opacity=\"1\" /><path clip-path=\"url(#clip620)\" d=\"M 0 0 M102.135 1403.53 L118.455 1403.53 L118.455 1407.47 L96.5105 1407.47 L96.5105 1403.53 Q99.1725 1400.78 103.756 1396.15 Q108.362 1391.5 109.543 1390.15 Q111.788 1387.63 112.668 1385.89 Q113.571 1384.13 113.571 1382.44 Q113.571 1379.69 111.626 1377.95 Q109.705 1376.22 106.603 1376.22 Q104.404 1376.22 101.95 1376.98 Q99.5197 1377.75 96.7419 1379.3 L96.7419 1374.57 Q99.566 1373.44 102.02 1372.86 Q104.473 1372.28 106.51 1372.28 Q111.881 1372.28 115.075 1374.97 Q118.27 1377.65 118.27 1382.14 Q118.27 1384.27 117.459 1386.19 Q116.672 1388.09 114.566 1390.69 Q113.987 1391.36 110.885 1394.57 Q107.784 1397.77 102.135 1403.53 Z\" fill=\"#000000\" fill-rule=\"evenodd\" fill-opacity=\"1\" /><path clip-path=\"url(#clip620)\" d=\"M 0 0 M133.524 1375.99 Q129.913 1375.99 128.084 1379.55 Q126.279 1383.09 126.279 1390.22 Q126.279 1397.33 128.084 1400.89 Q129.913 1404.44 133.524 1404.44 Q137.158 1404.44 138.964 1400.89 Q140.793 1397.33 140.793 1390.22 Q140.793 1383.09 138.964 1379.55 Q137.158 1375.99 133.524 1375.99 M133.524 1372.28 Q139.334 1372.28 142.39 1376.89 Q145.469 1381.47 145.469 1390.22 Q145.469 1398.95 142.39 1403.56 Q139.334 1408.14 133.524 1408.14 Q127.714 1408.14 124.635 1403.56 Q121.58 1398.95 121.58 1390.22 Q121.58 1381.47 124.635 1376.89 Q127.714 1372.28 133.524 1372.28 Z\" fill=\"#000000\" fill-rule=\"evenodd\" fill-opacity=\"1\" /><path clip-path=\"url(#clip620)\" d=\"M 0 0 M62.9921 1278.97 L92.6679 1278.97 L92.6679 1282.9 L62.9921 1282.9 L62.9921 1278.97 Z\" fill=\"#000000\" fill-rule=\"evenodd\" fill-opacity=\"1\" /><path clip-path=\"url(#clip620)\" d=\"M 0 0 M98.5475 1291.86 L106.186 1291.86 L106.186 1265.5 L97.8762 1267.16 L97.8762 1262.9 L106.14 1261.24 L110.816 1261.24 L110.816 1291.86 L118.455 1291.86 L118.455 1295.8 L98.5475 1295.8 L98.5475 1291.86 Z\" fill=\"#000000\" fill-rule=\"evenodd\" fill-opacity=\"1\" /><path clip-path=\"url(#clip620)\" d=\"M 0 0 M133.524 1264.32 Q129.913 1264.32 128.084 1267.88 Q126.279 1271.42 126.279 1278.55 Q126.279 1285.66 128.084 1289.22 Q129.913 1292.76 133.524 1292.76 Q137.158 1292.76 138.964 1289.22 Q140.793 1285.66 140.793 1278.55 Q140.793 1271.42 138.964 1267.88 Q137.158 1264.32 133.524 1264.32 M133.524 1260.61 Q139.334 1260.61 142.39 1265.22 Q145.469 1269.8 145.469 1278.55 Q145.469 1287.28 142.39 1291.88 Q139.334 1296.47 133.524 1296.47 Q127.714 1296.47 124.635 1291.88 Q121.58 1287.28 121.58 1278.55 Q121.58 1269.8 124.635 1265.22 Q127.714 1260.61 133.524 1260.61 Z\" fill=\"#000000\" fill-rule=\"evenodd\" fill-opacity=\"1\" /><path clip-path=\"url(#clip620)\" d=\"M 0 0 M133.524 1152.64 Q129.913 1152.64 128.084 1156.21 Q126.279 1159.75 126.279 1166.88 Q126.279 1173.99 128.084 1177.55 Q129.913 1181.09 133.524 1181.09 Q137.158 1181.09 138.964 1177.55 Q140.793 1173.99 140.793 1166.88 Q140.793 1159.75 138.964 1156.21 Q137.158 1152.64 133.524 1152.64 M133.524 1148.94 Q139.334 1148.94 142.39 1153.55 Q145.469 1158.13 145.469 1166.88 Q145.469 1175.61 142.39 1180.21 Q139.334 1184.8 133.524 1184.8 Q127.714 1184.8 124.635 1180.21 Q121.58 1175.61 121.58 1166.88 Q121.58 1158.13 124.635 1153.55 Q127.714 1148.94 133.524 1148.94 Z\" fill=\"#000000\" fill-rule=\"evenodd\" fill-opacity=\"1\" /><path clip-path=\"url(#clip620)\" d=\"M 0 0 M98.5475 1068.52 L106.186 1068.52 L106.186 1042.15 L97.8762 1043.82 L97.8762 1039.56 L106.14 1037.9 L110.816 1037.9 L110.816 1068.52 L118.455 1068.52 L118.455 1072.46 L98.5475 1072.46 L98.5475 1068.52 Z\" fill=\"#000000\" fill-rule=\"evenodd\" fill-opacity=\"1\" /><path clip-path=\"url(#clip620)\" d=\"M 0 0 M133.524 1040.97 Q129.913 1040.97 128.084 1044.54 Q126.279 1048.08 126.279 1055.21 Q126.279 1062.32 128.084 1065.88 Q129.913 1069.42 133.524 1069.42 Q137.158 1069.42 138.964 1065.88 Q140.793 1062.32 140.793 1055.21 Q140.793 1048.08 138.964 1044.54 Q137.158 1040.97 133.524 1040.97 M133.524 1037.27 Q139.334 1037.27 142.39 1041.88 Q145.469 1046.46 145.469 1055.21 Q145.469 1063.94 142.39 1068.54 Q139.334 1073.13 133.524 1073.13 Q127.714 1073.13 124.635 1068.54 Q121.58 1063.94 121.58 1055.21 Q121.58 1046.46 124.635 1041.88 Q127.714 1037.27 133.524 1037.27 Z\" fill=\"#000000\" fill-rule=\"evenodd\" fill-opacity=\"1\" /><path clip-path=\"url(#clip620)\" d=\"M 0 0 M102.135 956.849 L118.455 956.849 L118.455 960.784 L96.5105 960.784 L96.5105 956.849 Q99.1725 954.095 103.756 949.465 Q108.362 944.812 109.543 943.47 Q111.788 940.946 112.668 939.21 Q113.571 937.451 113.571 935.761 Q113.571 933.007 111.626 931.271 Q109.705 929.535 106.603 929.535 Q104.404 929.535 101.95 930.298 Q99.5197 931.062 96.7419 932.613 L96.7419 927.891 Q99.566 926.757 102.02 926.178 Q104.473 925.599 106.51 925.599 Q111.881 925.599 115.075 928.285 Q118.27 930.97 118.27 935.46 Q118.27 937.59 117.459 939.511 Q116.672 941.409 114.566 944.002 Q113.987 944.673 110.885 947.891 Q107.784 951.085 102.135 956.849 Z\" fill=\"#000000\" fill-rule=\"evenodd\" fill-opacity=\"1\" /><path clip-path=\"url(#clip620)\" d=\"M 0 0 M133.524 929.303 Q129.913 929.303 128.084 932.868 Q126.279 936.409 126.279 943.539 Q126.279 950.646 128.084 954.21 Q129.913 957.752 133.524 957.752 Q137.158 957.752 138.964 954.21 Q140.793 950.646 140.793 943.539 Q140.793 936.409 138.964 932.868 Q137.158 929.303 133.524 929.303 M133.524 925.599 Q139.334 925.599 142.39 930.206 Q145.469 934.789 145.469 943.539 Q145.469 952.266 142.39 956.872 Q139.334 961.456 133.524 961.456 Q127.714 961.456 124.635 956.872 Q121.58 952.266 121.58 943.539 Q121.58 934.789 124.635 930.206 Q127.714 925.599 133.524 925.599 Z\" fill=\"#000000\" fill-rule=\"evenodd\" fill-opacity=\"1\" /><polyline clip-path=\"url(#clip624)\" style=\"stroke:#009af9; stroke-width:4; stroke-opacity:1; fill:none\" points=\"\n",
       "  197.726,1468.36 213.424,1439.2 229.123,1411.99 244.821,1386.65 260.52,1363.12 276.219,1341.33 291.917,1321.22 307.616,1302.72 323.314,1285.75 339.013,1270.26 \n",
       "  354.711,1256.18 370.41,1243.44 386.108,1231.97 401.807,1221.71 417.505,1212.59 433.204,1204.53 448.902,1197.49 464.601,1191.38 480.299,1186.14 495.998,1181.71 \n",
       "  511.696,1178.01 527.395,1174.99 543.093,1172.56 558.792,1170.68 574.49,1169.26 590.189,1168.24 605.888,1167.56 621.586,1167.15 637.285,1166.94 652.983,1166.86 \n",
       "  668.682,1166.85 684.38,1166.83 700.079,1166.76 715.777,1166.54 731.476,1166.13 747.174,1165.45 762.873,1164.43 778.571,1163.02 794.27,1161.13 809.968,1158.71 \n",
       "  825.667,1155.68 841.365,1151.98 857.064,1147.55 872.762,1142.31 888.461,1136.2 904.159,1129.16 919.858,1121.11 935.557,1111.98 951.255,1101.72 966.954,1090.25 \n",
       "  982.652,1077.51 998.351,1063.43 1014.05,1047.94 1029.75,1030.98 1045.45,1012.47 1061.14,992.36 1076.84,970.573 1092.54,947.044 1108.24,921.706 1123.94,894.492 \n",
       "  1139.64,865.335 \n",
       "  \"/>\n",
       "<path clip-path=\"url(#clip620)\" d=\"\n",
       "M1354.33 1486.45 L2352.76 1486.45 L2352.76 847.244 L1354.33 847.244  Z\n",
       "  \" fill=\"#ffffff\" fill-rule=\"evenodd\" fill-opacity=\"1\"/>\n",
       "<defs>\n",
       "  <clipPath id=\"clip625\">\n",
       "    <rect x=\"1354\" y=\"847\" width=\"999\" height=\"640\"/>\n",
       "  </clipPath>\n",
       "</defs>\n",
       "<polyline clip-path=\"url(#clip625)\" style=\"stroke:#000000; stroke-width:2; stroke-opacity:0.1; fill:none\" points=\"\n",
       "  1382.59,1486.45 1382.59,847.244 \n",
       "  \"/>\n",
       "<polyline clip-path=\"url(#clip625)\" style=\"stroke:#000000; stroke-width:2; stroke-opacity:0.1; fill:none\" points=\"\n",
       "  1539.57,1486.45 1539.57,847.244 \n",
       "  \"/>\n",
       "<polyline clip-path=\"url(#clip625)\" style=\"stroke:#000000; stroke-width:2; stroke-opacity:0.1; fill:none\" points=\"\n",
       "  1696.56,1486.45 1696.56,847.244 \n",
       "  \"/>\n",
       "<polyline clip-path=\"url(#clip625)\" style=\"stroke:#000000; stroke-width:2; stroke-opacity:0.1; fill:none\" points=\"\n",
       "  1853.54,1486.45 1853.54,847.244 \n",
       "  \"/>\n",
       "<polyline clip-path=\"url(#clip625)\" style=\"stroke:#000000; stroke-width:2; stroke-opacity:0.1; fill:none\" points=\"\n",
       "  2010.53,1486.45 2010.53,847.244 \n",
       "  \"/>\n",
       "<polyline clip-path=\"url(#clip625)\" style=\"stroke:#000000; stroke-width:2; stroke-opacity:0.1; fill:none\" points=\"\n",
       "  2167.51,1486.45 2167.51,847.244 \n",
       "  \"/>\n",
       "<polyline clip-path=\"url(#clip625)\" style=\"stroke:#000000; stroke-width:2; stroke-opacity:0.1; fill:none\" points=\"\n",
       "  2324.5,1486.45 2324.5,847.244 \n",
       "  \"/>\n",
       "<polyline clip-path=\"url(#clip625)\" style=\"stroke:#000000; stroke-width:2; stroke-opacity:0.1; fill:none\" points=\"\n",
       "  1354.33,1468.36 2352.76,1468.36 \n",
       "  \"/>\n",
       "<polyline clip-path=\"url(#clip625)\" style=\"stroke:#000000; stroke-width:2; stroke-opacity:0.1; fill:none\" points=\"\n",
       "  1354.33,1319.46 2352.76,1319.46 \n",
       "  \"/>\n",
       "<polyline clip-path=\"url(#clip625)\" style=\"stroke:#000000; stroke-width:2; stroke-opacity:0.1; fill:none\" points=\"\n",
       "  1354.33,1170.57 2352.76,1170.57 \n",
       "  \"/>\n",
       "<polyline clip-path=\"url(#clip625)\" style=\"stroke:#000000; stroke-width:2; stroke-opacity:0.1; fill:none\" points=\"\n",
       "  1354.33,1021.67 2352.76,1021.67 \n",
       "  \"/>\n",
       "<polyline clip-path=\"url(#clip625)\" style=\"stroke:#000000; stroke-width:2; stroke-opacity:0.1; fill:none\" points=\"\n",
       "  1354.33,872.779 2352.76,872.779 \n",
       "  \"/>\n",
       "<polyline clip-path=\"url(#clip620)\" style=\"stroke:#000000; stroke-width:4; stroke-opacity:1; fill:none\" points=\"\n",
       "  1354.33,1486.45 2352.76,1486.45 \n",
       "  \"/>\n",
       "<polyline clip-path=\"url(#clip620)\" style=\"stroke:#000000; stroke-width:4; stroke-opacity:1; fill:none\" points=\"\n",
       "  1354.33,1486.45 1354.33,847.244 \n",
       "  \"/>\n",
       "<polyline clip-path=\"url(#clip620)\" style=\"stroke:#000000; stroke-width:4; stroke-opacity:1; fill:none\" points=\"\n",
       "  1382.59,1486.45 1382.59,1478.78 \n",
       "  \"/>\n",
       "<polyline clip-path=\"url(#clip620)\" style=\"stroke:#000000; stroke-width:4; stroke-opacity:1; fill:none\" points=\"\n",
       "  1539.57,1486.45 1539.57,1478.78 \n",
       "  \"/>\n",
       "<polyline clip-path=\"url(#clip620)\" style=\"stroke:#000000; stroke-width:4; stroke-opacity:1; fill:none\" points=\"\n",
       "  1696.56,1486.45 1696.56,1478.78 \n",
       "  \"/>\n",
       "<polyline clip-path=\"url(#clip620)\" style=\"stroke:#000000; stroke-width:4; stroke-opacity:1; fill:none\" points=\"\n",
       "  1853.54,1486.45 1853.54,1478.78 \n",
       "  \"/>\n",
       "<polyline clip-path=\"url(#clip620)\" style=\"stroke:#000000; stroke-width:4; stroke-opacity:1; fill:none\" points=\"\n",
       "  2010.53,1486.45 2010.53,1478.78 \n",
       "  \"/>\n",
       "<polyline clip-path=\"url(#clip620)\" style=\"stroke:#000000; stroke-width:4; stroke-opacity:1; fill:none\" points=\"\n",
       "  2167.51,1486.45 2167.51,1478.78 \n",
       "  \"/>\n",
       "<polyline clip-path=\"url(#clip620)\" style=\"stroke:#000000; stroke-width:4; stroke-opacity:1; fill:none\" points=\"\n",
       "  2324.5,1486.45 2324.5,1478.78 \n",
       "  \"/>\n",
       "<polyline clip-path=\"url(#clip620)\" style=\"stroke:#000000; stroke-width:4; stroke-opacity:1; fill:none\" points=\"\n",
       "  1354.33,1468.36 1366.31,1468.36 \n",
       "  \"/>\n",
       "<polyline clip-path=\"url(#clip620)\" style=\"stroke:#000000; stroke-width:4; stroke-opacity:1; fill:none\" points=\"\n",
       "  1354.33,1319.46 1366.31,1319.46 \n",
       "  \"/>\n",
       "<polyline clip-path=\"url(#clip620)\" style=\"stroke:#000000; stroke-width:4; stroke-opacity:1; fill:none\" points=\"\n",
       "  1354.33,1170.57 1366.31,1170.57 \n",
       "  \"/>\n",
       "<polyline clip-path=\"url(#clip620)\" style=\"stroke:#000000; stroke-width:4; stroke-opacity:1; fill:none\" points=\"\n",
       "  1354.33,1021.67 1366.31,1021.67 \n",
       "  \"/>\n",
       "<polyline clip-path=\"url(#clip620)\" style=\"stroke:#000000; stroke-width:4; stroke-opacity:1; fill:none\" points=\"\n",
       "  1354.33,872.779 1366.31,872.779 \n",
       "  \"/>\n",
       "<path clip-path=\"url(#clip620)\" d=\"M 0 0 M1354.57 1523.09 L1384.24 1523.09 L1384.24 1527.03 L1354.57 1527.03 L1354.57 1523.09 Z\" fill=\"#000000\" fill-rule=\"evenodd\" fill-opacity=\"1\" /><path clip-path=\"url(#clip620)\" d=\"M 0 0 M1403.48 1521.29 Q1406.83 1522 1408.71 1524.27 Q1410.61 1526.54 1410.61 1529.87 Q1410.61 1534.99 1407.09 1537.79 Q1403.57 1540.59 1397.09 1540.59 Q1394.91 1540.59 1392.6 1540.15 Q1390.31 1539.73 1387.85 1538.88 L1387.85 1534.36 Q1389.8 1535.5 1392.11 1536.08 Q1394.43 1536.66 1396.95 1536.66 Q1401.35 1536.66 1403.64 1534.92 Q1405.96 1533.18 1405.96 1529.87 Q1405.96 1526.82 1403.8 1525.11 Q1401.67 1523.37 1397.85 1523.37 L1393.83 1523.37 L1393.83 1519.53 L1398.04 1519.53 Q1401.49 1519.53 1403.32 1518.16 Q1405.14 1516.77 1405.14 1514.18 Q1405.14 1511.52 1403.25 1510.11 Q1401.37 1508.67 1397.85 1508.67 Q1395.93 1508.67 1393.73 1509.09 Q1391.53 1509.5 1388.89 1510.38 L1388.89 1506.22 Q1391.56 1505.48 1393.87 1505.11 Q1396.21 1504.73 1398.27 1504.73 Q1403.59 1504.73 1406.7 1507.17 Q1409.8 1509.57 1409.8 1513.69 Q1409.8 1516.56 1408.15 1518.55 Q1406.51 1520.52 1403.48 1521.29 Z\" fill=\"#000000\" fill-rule=\"evenodd\" fill-opacity=\"1\" /><path clip-path=\"url(#clip620)\" d=\"M 0 0 M1512.03 1523.09 L1541.7 1523.09 L1541.7 1527.03 L1512.03 1527.03 L1512.03 1523.09 Z\" fill=\"#000000\" fill-rule=\"evenodd\" fill-opacity=\"1\" /><path clip-path=\"url(#clip620)\" d=\"M 0 0 M1550.8 1535.98 L1567.12 1535.98 L1567.12 1539.92 L1545.17 1539.92 L1545.17 1535.98 Q1547.84 1533.23 1552.42 1528.6 Q1557.03 1523.95 1558.21 1522.61 Q1560.45 1520.08 1561.33 1518.35 Q1562.23 1516.59 1562.23 1514.9 Q1562.23 1512.14 1560.29 1510.41 Q1558.37 1508.67 1555.27 1508.67 Q1553.07 1508.67 1550.61 1509.43 Q1548.18 1510.2 1545.41 1511.75 L1545.41 1507.03 Q1548.23 1505.89 1550.68 1505.31 Q1553.14 1504.73 1555.17 1504.73 Q1560.54 1504.73 1563.74 1507.42 Q1566.93 1510.11 1566.93 1514.6 Q1566.93 1516.73 1566.12 1518.65 Q1565.34 1520.54 1563.23 1523.14 Q1562.65 1523.81 1559.55 1527.03 Q1556.45 1530.22 1550.8 1535.98 Z\" fill=\"#000000\" fill-rule=\"evenodd\" fill-opacity=\"1\" /><path clip-path=\"url(#clip620)\" d=\"M 0 0 M1668.83 1523.09 L1698.5 1523.09 L1698.5 1527.03 L1668.83 1527.03 L1668.83 1523.09 Z\" fill=\"#000000\" fill-rule=\"evenodd\" fill-opacity=\"1\" /><path clip-path=\"url(#clip620)\" d=\"M 0 0 M1704.38 1535.98 L1712.02 1535.98 L1712.02 1509.62 L1703.71 1511.29 L1703.71 1507.03 L1711.97 1505.36 L1716.65 1505.36 L1716.65 1535.98 L1724.29 1535.98 L1724.29 1539.92 L1704.38 1539.92 L1704.38 1535.98 Z\" fill=\"#000000\" fill-rule=\"evenodd\" fill-opacity=\"1\" /><path clip-path=\"url(#clip620)\" d=\"M 0 0 M1853.54 1508.44 Q1849.93 1508.44 1848.1 1512 Q1846.3 1515.55 1846.3 1522.67 Q1846.3 1529.78 1848.1 1533.35 Q1849.93 1536.89 1853.54 1536.89 Q1857.18 1536.89 1858.98 1533.35 Q1860.81 1529.78 1860.81 1522.67 Q1860.81 1515.55 1858.98 1512 Q1857.18 1508.44 1853.54 1508.44 M1853.54 1504.73 Q1859.35 1504.73 1862.41 1509.34 Q1865.49 1513.92 1865.49 1522.67 Q1865.49 1531.4 1862.41 1536.01 Q1859.35 1540.59 1853.54 1540.59 Q1847.73 1540.59 1844.65 1536.01 Q1841.6 1531.4 1841.6 1522.67 Q1841.6 1513.92 1844.65 1509.34 Q1847.73 1504.73 1853.54 1504.73 Z\" fill=\"#000000\" fill-rule=\"evenodd\" fill-opacity=\"1\" /><path clip-path=\"url(#clip620)\" d=\"M 0 0 M2000.91 1535.98 L2008.55 1535.98 L2008.55 1509.62 L2000.24 1511.29 L2000.24 1507.03 L2008.5 1505.36 L2013.18 1505.36 L2013.18 1535.98 L2020.82 1535.98 L2020.82 1539.92 L2000.91 1539.92 L2000.91 1535.98 Z\" fill=\"#000000\" fill-rule=\"evenodd\" fill-opacity=\"1\" /><path clip-path=\"url(#clip620)\" d=\"M 0 0 M2162.17 1535.98 L2178.49 1535.98 L2178.49 1539.92 L2156.54 1539.92 L2156.54 1535.98 Q2159.2 1533.23 2163.79 1528.6 Q2168.39 1523.95 2169.57 1522.61 Q2171.82 1520.08 2172.7 1518.35 Q2173.6 1516.59 2173.6 1514.9 Q2173.6 1512.14 2171.66 1510.41 Q2169.74 1508.67 2166.63 1508.67 Q2164.43 1508.67 2161.98 1509.43 Q2159.55 1510.2 2156.77 1511.75 L2156.77 1507.03 Q2159.6 1505.89 2162.05 1505.31 Q2164.5 1504.73 2166.54 1504.73 Q2171.91 1504.73 2175.11 1507.42 Q2178.3 1510.11 2178.3 1514.6 Q2178.3 1516.73 2177.49 1518.65 Q2176.7 1520.54 2174.6 1523.14 Q2174.02 1523.81 2170.92 1527.03 Q2167.81 1530.22 2162.17 1535.98 Z\" fill=\"#000000\" fill-rule=\"evenodd\" fill-opacity=\"1\" /><path clip-path=\"url(#clip620)\" d=\"M 0 0 M2328.75 1521.29 Q2332.1 1522 2333.98 1524.27 Q2335.88 1526.54 2335.88 1529.87 Q2335.88 1534.99 2332.36 1537.79 Q2328.84 1540.59 2322.36 1540.59 Q2320.18 1540.59 2317.87 1540.15 Q2315.57 1539.73 2313.12 1538.88 L2313.12 1534.36 Q2315.07 1535.5 2317.38 1536.08 Q2319.7 1536.66 2322.22 1536.66 Q2326.62 1536.66 2328.91 1534.92 Q2331.22 1533.18 2331.22 1529.87 Q2331.22 1526.82 2329.07 1525.11 Q2326.94 1523.37 2323.12 1523.37 L2319.09 1523.37 L2319.09 1519.53 L2323.31 1519.53 Q2326.76 1519.53 2328.58 1518.16 Q2330.41 1516.77 2330.41 1514.18 Q2330.41 1511.52 2328.51 1510.11 Q2326.64 1508.67 2323.12 1508.67 Q2321.2 1508.67 2319 1509.09 Q2316.8 1509.5 2314.16 1510.38 L2314.16 1506.22 Q2316.82 1505.48 2319.14 1505.11 Q2321.48 1504.73 2323.54 1504.73 Q2328.86 1504.73 2331.96 1507.17 Q2335.07 1509.57 2335.07 1513.69 Q2335.07 1516.56 2333.42 1518.55 Q2331.78 1520.52 2328.75 1521.29 Z\" fill=\"#000000\" fill-rule=\"evenodd\" fill-opacity=\"1\" /><path clip-path=\"url(#clip620)\" d=\"M 0 0 M1318.39 1454.16 Q1314.77 1454.16 1312.95 1457.72 Q1311.14 1461.26 1311.14 1468.39 Q1311.14 1475.5 1312.95 1479.06 Q1314.77 1482.6 1318.39 1482.6 Q1322.02 1482.6 1323.83 1479.06 Q1325.65 1475.5 1325.65 1468.39 Q1325.65 1461.26 1323.83 1457.72 Q1322.02 1454.16 1318.39 1454.16 M1318.39 1450.45 Q1324.2 1450.45 1327.25 1455.06 Q1330.33 1459.64 1330.33 1468.39 Q1330.33 1477.12 1327.25 1481.73 Q1324.2 1486.31 1318.39 1486.31 Q1312.58 1486.31 1309.5 1481.73 Q1306.44 1477.12 1306.44 1468.39 Q1306.44 1459.64 1309.5 1455.06 Q1312.58 1450.45 1318.39 1450.45 Z\" fill=\"#000000\" fill-rule=\"evenodd\" fill-opacity=\"1\" /><path clip-path=\"url(#clip620)\" d=\"M 0 0 M1287 1332.81 L1303.32 1332.81 L1303.32 1336.74 L1281.37 1336.74 L1281.37 1332.81 Q1284.03 1330.05 1288.62 1325.42 Q1293.22 1320.77 1294.4 1319.43 Q1296.65 1316.9 1297.53 1315.17 Q1298.43 1313.41 1298.43 1311.72 Q1298.43 1308.97 1296.49 1307.23 Q1294.57 1305.49 1291.46 1305.49 Q1289.27 1305.49 1286.81 1306.26 Q1284.38 1307.02 1281.6 1308.57 L1281.6 1303.85 Q1284.43 1302.72 1286.88 1302.14 Q1289.33 1301.56 1291.37 1301.56 Q1296.74 1301.56 1299.94 1304.24 Q1303.13 1306.93 1303.13 1311.42 Q1303.13 1313.55 1302.32 1315.47 Q1301.53 1317.37 1299.43 1319.96 Q1298.85 1320.63 1295.75 1323.85 Q1292.64 1327.04 1287 1332.81 Z\" fill=\"#000000\" fill-rule=\"evenodd\" fill-opacity=\"1\" /><path clip-path=\"url(#clip620)\" d=\"M 0 0 M1318.39 1305.26 Q1314.77 1305.26 1312.95 1308.83 Q1311.14 1312.37 1311.14 1319.5 Q1311.14 1326.6 1312.95 1330.17 Q1314.77 1333.71 1318.39 1333.71 Q1322.02 1333.71 1323.83 1330.17 Q1325.65 1326.6 1325.65 1319.5 Q1325.65 1312.37 1323.83 1308.83 Q1322.02 1305.26 1318.39 1305.26 M1318.39 1301.56 Q1324.2 1301.56 1327.25 1306.16 Q1330.33 1310.75 1330.33 1319.5 Q1330.33 1328.22 1327.25 1332.83 Q1324.2 1337.41 1318.39 1337.41 Q1312.58 1337.41 1309.5 1332.83 Q1306.44 1328.22 1306.44 1319.5 Q1306.44 1310.75 1309.5 1306.16 Q1312.58 1301.56 1318.39 1301.56 Z\" fill=\"#000000\" fill-rule=\"evenodd\" fill-opacity=\"1\" /><path clip-path=\"url(#clip620)\" d=\"M 0 0 M1293.73 1157.36 L1281.93 1175.81 L1293.73 1175.81 L1293.73 1157.36 M1292.51 1153.29 L1298.39 1153.29 L1298.39 1175.81 L1303.32 1175.81 L1303.32 1179.7 L1298.39 1179.7 L1298.39 1187.85 L1293.73 1187.85 L1293.73 1179.7 L1278.13 1179.7 L1278.13 1175.19 L1292.51 1153.29 Z\" fill=\"#000000\" fill-rule=\"evenodd\" fill-opacity=\"1\" /><path clip-path=\"url(#clip620)\" d=\"M 0 0 M1318.39 1156.37 Q1314.77 1156.37 1312.95 1159.93 Q1311.14 1163.47 1311.14 1170.6 Q1311.14 1177.71 1312.95 1181.27 Q1314.77 1184.82 1318.39 1184.82 Q1322.02 1184.82 1323.83 1181.27 Q1325.65 1177.71 1325.65 1170.6 Q1325.65 1163.47 1323.83 1159.93 Q1322.02 1156.37 1318.39 1156.37 M1318.39 1152.66 Q1324.2 1152.66 1327.25 1157.27 Q1330.33 1161.85 1330.33 1170.6 Q1330.33 1179.33 1327.25 1183.94 Q1324.2 1188.52 1318.39 1188.52 Q1312.58 1188.52 1309.5 1183.94 Q1306.44 1179.33 1306.44 1170.6 Q1306.44 1161.85 1309.5 1157.27 Q1312.58 1152.66 1318.39 1152.66 Z\" fill=\"#000000\" fill-rule=\"evenodd\" fill-opacity=\"1\" /><path clip-path=\"url(#clip620)\" d=\"M 0 0 M1291.79 1019.81 Q1288.64 1019.81 1286.79 1021.96 Q1284.96 1024.12 1284.96 1027.87 Q1284.96 1031.59 1286.79 1033.77 Q1288.64 1035.92 1291.79 1035.92 Q1294.94 1035.92 1296.77 1033.77 Q1298.62 1031.59 1298.62 1027.87 Q1298.62 1024.12 1296.77 1021.96 Q1294.94 1019.81 1291.79 1019.81 M1301.07 1005.16 L1301.07 1009.42 Q1299.31 1008.58 1297.51 1008.14 Q1295.72 1007.7 1293.96 1007.7 Q1289.33 1007.7 1286.88 1010.83 Q1284.45 1013.95 1284.1 1020.27 Q1285.47 1018.26 1287.53 1017.19 Q1289.59 1016.11 1292.07 1016.11 Q1297.27 1016.11 1300.28 1019.28 Q1303.32 1022.43 1303.32 1027.87 Q1303.32 1033.19 1300.17 1036.41 Q1297.02 1039.63 1291.79 1039.63 Q1285.79 1039.63 1282.62 1035.04 Q1279.45 1030.44 1279.45 1021.71 Q1279.45 1013.51 1283.34 1008.65 Q1287.23 1003.77 1293.78 1003.77 Q1295.54 1003.77 1297.32 1004.12 Q1299.13 1004.46 1301.07 1005.16 Z\" fill=\"#000000\" fill-rule=\"evenodd\" fill-opacity=\"1\" /><path clip-path=\"url(#clip620)\" d=\"M 0 0 M1318.39 1007.47 Q1314.77 1007.47 1312.95 1011.04 Q1311.14 1014.58 1311.14 1021.71 Q1311.14 1028.82 1312.95 1032.38 Q1314.77 1035.92 1318.39 1035.92 Q1322.02 1035.92 1323.83 1032.38 Q1325.65 1028.82 1325.65 1021.71 Q1325.65 1014.58 1323.83 1011.04 Q1322.02 1007.47 1318.39 1007.47 M1318.39 1003.77 Q1324.2 1003.77 1327.25 1008.38 Q1330.33 1012.96 1330.33 1021.71 Q1330.33 1030.44 1327.25 1035.04 Q1324.2 1039.63 1318.39 1039.63 Q1312.58 1039.63 1309.5 1035.04 Q1306.44 1030.44 1306.44 1021.71 Q1306.44 1012.96 1309.5 1008.38 Q1312.58 1003.77 1318.39 1003.77 Z\" fill=\"#000000\" fill-rule=\"evenodd\" fill-opacity=\"1\" /><path clip-path=\"url(#clip620)\" d=\"M 0 0 M1291.46 873.648 Q1288.13 873.648 1286.21 875.43 Q1284.31 877.212 1284.31 880.337 Q1284.31 883.462 1286.21 885.245 Q1288.13 887.027 1291.46 887.027 Q1294.8 887.027 1296.72 885.245 Q1298.64 883.439 1298.64 880.337 Q1298.64 877.212 1296.72 875.43 Q1294.82 873.648 1291.46 873.648 M1286.79 871.657 Q1283.78 870.916 1282.09 868.856 Q1280.42 866.796 1280.42 863.833 Q1280.42 859.689 1283.36 857.282 Q1286.33 854.874 1291.46 854.874 Q1296.63 854.874 1299.57 857.282 Q1302.51 859.689 1302.51 863.833 Q1302.51 866.796 1300.82 868.856 Q1299.15 870.916 1296.16 871.657 Q1299.54 872.444 1301.42 874.735 Q1303.32 877.027 1303.32 880.337 Q1303.32 885.36 1300.24 888.046 Q1297.18 890.731 1291.46 890.731 Q1285.75 890.731 1282.67 888.046 Q1279.61 885.36 1279.61 880.337 Q1279.61 877.027 1281.51 874.735 Q1283.41 872.444 1286.79 871.657 M1285.08 864.273 Q1285.08 866.958 1286.74 868.462 Q1288.43 869.967 1291.46 869.967 Q1294.47 869.967 1296.16 868.462 Q1297.88 866.958 1297.88 864.273 Q1297.88 861.587 1296.16 860.083 Q1294.47 858.578 1291.46 858.578 Q1288.43 858.578 1286.74 860.083 Q1285.08 861.587 1285.08 864.273 Z\" fill=\"#000000\" fill-rule=\"evenodd\" fill-opacity=\"1\" /><path clip-path=\"url(#clip620)\" d=\"M 0 0 M1318.39 858.578 Q1314.77 858.578 1312.95 862.143 Q1311.14 865.685 1311.14 872.814 Q1311.14 879.921 1312.95 883.485 Q1314.77 887.027 1318.39 887.027 Q1322.02 887.027 1323.83 883.485 Q1325.65 879.921 1325.65 872.814 Q1325.65 865.685 1323.83 862.143 Q1322.02 858.578 1318.39 858.578 M1318.39 854.874 Q1324.2 854.874 1327.25 859.481 Q1330.33 864.064 1330.33 872.814 Q1330.33 881.541 1327.25 886.147 Q1324.2 890.731 1318.39 890.731 Q1312.58 890.731 1309.5 886.147 Q1306.44 881.541 1306.44 872.814 Q1306.44 864.064 1309.5 859.481 Q1312.58 854.874 1318.39 854.874 Z\" fill=\"#000000\" fill-rule=\"evenodd\" fill-opacity=\"1\" /><polyline clip-path=\"url(#clip625)\" style=\"stroke:#009af9; stroke-width:4; stroke-opacity:1; fill:none\" points=\"\n",
       "  1382.59,865.335 1398.29,941.806 1413.98,1010.76 1429.68,1072.71 1445.38,1128.15 1461.08,1177.55 1476.78,1221.36 1492.48,1260.02 1508.18,1293.96 1523.87,1323.57 \n",
       "  1539.57,1349.24 1555.27,1371.34 1570.97,1390.21 1586.67,1406.18 1602.37,1419.57 1618.06,1430.67 1633.76,1439.76 1649.46,1447.09 1665.16,1452.92 1680.86,1457.46 \n",
       "  1696.56,1460.91 1712.26,1463.47 1727.95,1465.31 1743.65,1466.57 1759.35,1467.39 1775.05,1467.89 1790.75,1468.17 1806.45,1468.3 1822.15,1468.35 1837.84,1468.36 \n",
       "  1853.54,1468.36 1869.24,1468.36 1884.94,1468.35 1900.64,1468.3 1916.34,1468.17 1932.04,1467.89 1947.73,1467.39 1963.43,1466.57 1979.13,1465.31 1994.83,1463.47 \n",
       "  2010.53,1460.91 2026.23,1457.46 2041.93,1452.92 2057.62,1447.09 2073.32,1439.76 2089.02,1430.67 2104.72,1419.57 2120.42,1406.18 2136.12,1390.21 2151.81,1371.34 \n",
       "  2167.51,1349.24 2183.21,1323.57 2198.91,1293.96 2214.61,1260.02 2230.31,1221.36 2246.01,1177.55 2261.7,1128.15 2277.4,1072.71 2293.1,1010.76 2308.8,941.806 \n",
       "  2324.5,865.335 \n",
       "  \"/>\n",
       "</svg>\n"
      ]
     },
     "execution_count": 15,
     "metadata": {},
     "output_type": "execute_result"
    }
   ],
   "source": [
    "x = -3:0.1:3\n",
    "\n",
    "p1 = plot(x, x)\n",
    "p2 = plot(x, x.^2)\n",
    "p3 = plot(x, x.^3)\n",
    "p4 = plot(x, x.^4)\n",
    "\n",
    "plot(p1, p2, p3, p4, layout=(2,2), legend=false)"
   ]
  },
  {
   "cell_type": "markdown",
   "metadata": {},
   "source": [
    "## Multiple Dispatch"
   ]
  },
  {
   "cell_type": "markdown",
   "metadata": {},
   "source": [
    "Multiple dispatch makes software:\n",
    "* fast\n",
    "* extensible\n",
    "* programmable\n",
    "* fun to play with\n",
    "\n",
    "Note: [Multiple Dispatch vs Method Overloading](https://softwareengineering.stackexchange.com/questions/125084/multiple-dispatch-vs-function-overloading)"
   ]
  },
  {
   "cell_type": "code",
   "execution_count": 16,
   "metadata": {},
   "outputs": [
    {
     "data": {
      "text/html": [
       "# 207 methods for generic function <b>+</b>:<ul><li> +(a::<b>BigFloat</b>, b::<b>BigFloat</b>, c::<b>BigFloat</b>, d::<b>BigFloat</b>, e::<b>BigFloat</b>) in Base.MPFR at <a href=\"https://github.com/JuliaLang/julia/tree/697e782ab86bfcdd7fd15550241fe162c51d9f98/base/mpfr.jl#L548\" target=\"_blank\">mpfr.jl:548</a></li> <li> +(a::<b>BigFloat</b>, b::<b>BigFloat</b>, c::<b>BigFloat</b>, d::<b>BigFloat</b>) in Base.MPFR at <a href=\"https://github.com/JuliaLang/julia/tree/697e782ab86bfcdd7fd15550241fe162c51d9f98/base/mpfr.jl#L541\" target=\"_blank\">mpfr.jl:541</a></li> <li> +(a::<b>BigFloat</b>, b::<b>BigFloat</b>, c::<b>BigFloat</b>) in Base.MPFR at <a href=\"https://github.com/JuliaLang/julia/tree/697e782ab86bfcdd7fd15550241fe162c51d9f98/base/mpfr.jl#L535\" target=\"_blank\">mpfr.jl:535</a></li> <li> +(x::<b>BigFloat</b>, c::<b>BigInt</b>) in Base.MPFR at <a href=\"https://github.com/JuliaLang/julia/tree/697e782ab86bfcdd7fd15550241fe162c51d9f98/base/mpfr.jl#L394\" target=\"_blank\">mpfr.jl:394</a></li> <li> +(x::<b>BigFloat</b>, y::<b>BigFloat</b>) in Base.MPFR at <a href=\"https://github.com/JuliaLang/julia/tree/697e782ab86bfcdd7fd15550241fe162c51d9f98/base/mpfr.jl#L363\" target=\"_blank\">mpfr.jl:363</a></li> <li> +(x::<b>BigFloat</b>, c::<b>Union{UInt16, UInt32, UInt8}</b>) in Base.MPFR at <a href=\"https://github.com/JuliaLang/julia/tree/697e782ab86bfcdd7fd15550241fe162c51d9f98/base/mpfr.jl#L370\" target=\"_blank\">mpfr.jl:370</a></li> <li> +(x::<b>BigFloat</b>, c::<b>Union{Int16, Int32, Int8}</b>) in Base.MPFR at <a href=\"https://github.com/JuliaLang/julia/tree/697e782ab86bfcdd7fd15550241fe162c51d9f98/base/mpfr.jl#L378\" target=\"_blank\">mpfr.jl:378</a></li> <li> +(x::<b>BigFloat</b>, c::<b>Union{Float16, Float32, Float64}</b>) in Base.MPFR at <a href=\"https://github.com/JuliaLang/julia/tree/697e782ab86bfcdd7fd15550241fe162c51d9f98/base/mpfr.jl#L386\" target=\"_blank\">mpfr.jl:386</a></li> <li> +(a::<b>Pkg.Resolve.VersionWeight</b>, b::<b>Pkg.Resolve.VersionWeight</b>) in Pkg.Resolve at <a href=\"file://D:/buildbot/worker/package_win64/build/usr/share/julia/stdlib/v1.5/Pkg/src/Resolve/versionweights.jl\" target=\"_blank\">C:\\Users\\HP\\AppData\\Local\\Programs\\Julia 1.5.1\\share\\julia\\stdlib\\v1.5\\Pkg\\src\\Resolve\\versionweights.jl:22</a></li> <li> +(a::<b>Pkg.Resolve.FieldValue</b>, b::<b>Pkg.Resolve.FieldValue</b>) in Pkg.Resolve at <a href=\"file://D:/buildbot/worker/package_win64/build/usr/share/julia/stdlib/v1.5/Pkg/src/Resolve/fieldvalues.jl\" target=\"_blank\">C:\\Users\\HP\\AppData\\Local\\Programs\\Julia 1.5.1\\share\\julia\\stdlib\\v1.5\\Pkg\\src\\Resolve\\fieldvalues.jl:43</a></li> <li> +(x::<b>Float32</b>, y::<b>Float32</b>) in Base at <a href=\"https://github.com/JuliaLang/julia/tree/697e782ab86bfcdd7fd15550241fe162c51d9f98/base/float.jl#L400\" target=\"_blank\">float.jl:400</a></li> <li> +(x::<b>Float64</b>, y::<b>Float64</b>) in Base at <a href=\"https://github.com/JuliaLang/julia/tree/697e782ab86bfcdd7fd15550241fe162c51d9f98/base/float.jl#L401\" target=\"_blank\">float.jl:401</a></li> <li> +(c::<b>BigInt</b>, x::<b>BigFloat</b>) in Base.MPFR at <a href=\"https://github.com/JuliaLang/julia/tree/697e782ab86bfcdd7fd15550241fe162c51d9f98/base/mpfr.jl#L399\" target=\"_blank\">mpfr.jl:399</a></li> <li> +(a::<b>BigInt</b>, b::<b>BigInt</b>, c::<b>BigInt</b>, d::<b>BigInt</b>, e::<b>BigInt</b>) in Base.GMP at <a href=\"https://github.com/JuliaLang/julia/tree/697e782ab86bfcdd7fd15550241fe162c51d9f98/base/gmp.jl#L518\" target=\"_blank\">gmp.jl:518</a></li> <li> +(a::<b>BigInt</b>, b::<b>BigInt</b>, c::<b>BigInt</b>, d::<b>BigInt</b>) in Base.GMP at <a href=\"https://github.com/JuliaLang/julia/tree/697e782ab86bfcdd7fd15550241fe162c51d9f98/base/gmp.jl#L517\" target=\"_blank\">gmp.jl:517</a></li> <li> +(a::<b>BigInt</b>, b::<b>BigInt</b>, c::<b>BigInt</b>) in Base.GMP at <a href=\"https://github.com/JuliaLang/julia/tree/697e782ab86bfcdd7fd15550241fe162c51d9f98/base/gmp.jl#L516\" target=\"_blank\">gmp.jl:516</a></li> <li> +(x::<b>BigInt</b>, y::<b>BigInt</b>) in Base.GMP at <a href=\"https://github.com/JuliaLang/julia/tree/697e782ab86bfcdd7fd15550241fe162c51d9f98/base/gmp.jl#L476\" target=\"_blank\">gmp.jl:476</a></li> <li> +(x::<b>BigInt</b>, c::<b>Union{UInt16, UInt32, UInt8}</b>) in Base.GMP at <a href=\"https://github.com/JuliaLang/julia/tree/697e782ab86bfcdd7fd15550241fe162c51d9f98/base/gmp.jl#L524\" target=\"_blank\">gmp.jl:524</a></li> <li> +(x::<b>BigInt</b>, c::<b>Union{Int16, Int32, Int8}</b>) in Base.GMP at <a href=\"https://github.com/JuliaLang/julia/tree/697e782ab86bfcdd7fd15550241fe162c51d9f98/base/gmp.jl#L530\" target=\"_blank\">gmp.jl:530</a></li> <li> +(x::<b>Dates.CompoundPeriod</b>, y::<b>Dates.CompoundPeriod</b>) in Dates at <a href=\"file://D:/buildbot/worker/package_win64/build/usr/share/julia/stdlib/v1.5/Dates/src/periods.jl\" target=\"_blank\">C:\\Users\\HP\\AppData\\Local\\Programs\\Julia 1.5.1\\share\\julia\\stdlib\\v1.5\\Dates\\src\\periods.jl:347</a></li> <li> +(x::<b>Dates.CompoundPeriod</b>, y::<b>Dates.Period</b>) in Dates at <a href=\"file://D:/buildbot/worker/package_win64/build/usr/share/julia/stdlib/v1.5/Dates/src/periods.jl\" target=\"_blank\">C:\\Users\\HP\\AppData\\Local\\Programs\\Julia 1.5.1\\share\\julia\\stdlib\\v1.5\\Dates\\src\\periods.jl:345</a></li> <li> +(x::<b>Dates.CompoundPeriod</b>, y::<b>Dates.TimeType</b>) in Dates at <a href=\"file://D:/buildbot/worker/package_win64/build/usr/share/julia/stdlib/v1.5/Dates/src/periods.jl\" target=\"_blank\">C:\\Users\\HP\\AppData\\Local\\Programs\\Julia 1.5.1\\share\\julia\\stdlib\\v1.5\\Dates\\src\\periods.jl:375</a></li> <li> +(x::<b>Bool</b>, z::<b>Complex{Bool}</b>) in Base at <a href=\"https://github.com/JuliaLang/julia/tree/697e782ab86bfcdd7fd15550241fe162c51d9f98/base/complex.jl#L286\" target=\"_blank\">complex.jl:286</a></li> <li> +(x::<b>Bool</b>, y::<b>Bool</b>) in Base at <a href=\"https://github.com/JuliaLang/julia/tree/697e782ab86bfcdd7fd15550241fe162c51d9f98/base/bool.jl#L96\" target=\"_blank\">bool.jl:96</a></li> <li> +(x::<b>Bool</b>) in Base at <a href=\"https://github.com/JuliaLang/julia/tree/697e782ab86bfcdd7fd15550241fe162c51d9f98/base/bool.jl#L93\" target=\"_blank\">bool.jl:93</a></li> <li> +(x::<b>Bool</b>, y::<b>T</b>)<i> where T<:AbstractFloat</i> in Base at <a href=\"https://github.com/JuliaLang/julia/tree/697e782ab86bfcdd7fd15550241fe162c51d9f98/base/bool.jl#L103\" target=\"_blank\">bool.jl:103</a></li> <li> +(x::<b>Bool</b>, z::<b>Complex</b>) in Base at <a href=\"https://github.com/JuliaLang/julia/tree/697e782ab86bfcdd7fd15550241fe162c51d9f98/base/complex.jl#L293\" target=\"_blank\">complex.jl:293</a></li> <li> +(::<b>Missing</b>, ::<b>Missing</b>) in Base at <a href=\"https://github.com/JuliaLang/julia/tree/697e782ab86bfcdd7fd15550241fe162c51d9f98/base/missing.jl#L114\" target=\"_blank\">missing.jl:114</a></li> <li> +(::<b>Missing</b>) in Base at <a href=\"https://github.com/JuliaLang/julia/tree/697e782ab86bfcdd7fd15550241fe162c51d9f98/base/missing.jl#L100\" target=\"_blank\">missing.jl:100</a></li> <li> +(::<b>Missing</b>, ::<b>Number</b>) in Base at <a href=\"https://github.com/JuliaLang/julia/tree/697e782ab86bfcdd7fd15550241fe162c51d9f98/base/missing.jl#L115\" target=\"_blank\">missing.jl:115</a></li> <li> +(level::<b>Base.CoreLogging.LogLevel</b>, inc::<b>Integer</b>) in Base.CoreLogging at <a href=\"https://github.com/JuliaLang/julia/tree/697e782ab86bfcdd7fd15550241fe162c51d9f98/base/logging.jl#L116\" target=\"_blank\">logging.jl:116</a></li> <li> +(z::<b>Complex{Bool}</b>, x::<b>Bool</b>) in Base at <a href=\"https://github.com/JuliaLang/julia/tree/697e782ab86bfcdd7fd15550241fe162c51d9f98/base/complex.jl#L287\" target=\"_blank\">complex.jl:287</a></li> <li> +(z::<b>Complex{Bool}</b>, x::<b>Real</b>) in Base at <a href=\"https://github.com/JuliaLang/julia/tree/697e782ab86bfcdd7fd15550241fe162c51d9f98/base/complex.jl#L301\" target=\"_blank\">complex.jl:301</a></li> <li> +(x::<b>Dates.Date</b>, y::<b>Dates.Day</b>) in Dates at <a href=\"file://D:/buildbot/worker/package_win64/build/usr/share/julia/stdlib/v1.5/Dates/src/arithmetic.jl\" target=\"_blank\">C:\\Users\\HP\\AppData\\Local\\Programs\\Julia 1.5.1\\share\\julia\\stdlib\\v1.5\\Dates\\src\\arithmetic.jl:74</a></li> <li> +(x::<b>Dates.Date</b>, y::<b>Dates.Week</b>) in Dates at <a href=\"file://D:/buildbot/worker/package_win64/build/usr/share/julia/stdlib/v1.5/Dates/src/arithmetic.jl\" target=\"_blank\">C:\\Users\\HP\\AppData\\Local\\Programs\\Julia 1.5.1\\share\\julia\\stdlib\\v1.5\\Dates\\src\\arithmetic.jl:72</a></li> <li> +(dt::<b>Dates.Date</b>, z::<b>Dates.Month</b>) in Dates at <a href=\"file://D:/buildbot/worker/package_win64/build/usr/share/julia/stdlib/v1.5/Dates/src/arithmetic.jl\" target=\"_blank\">C:\\Users\\HP\\AppData\\Local\\Programs\\Julia 1.5.1\\share\\julia\\stdlib\\v1.5\\Dates\\src\\arithmetic.jl:54</a></li> <li> +(dt::<b>Dates.Date</b>, y::<b>Dates.Year</b>) in Dates at <a href=\"file://D:/buildbot/worker/package_win64/build/usr/share/julia/stdlib/v1.5/Dates/src/arithmetic.jl\" target=\"_blank\">C:\\Users\\HP\\AppData\\Local\\Programs\\Julia 1.5.1\\share\\julia\\stdlib\\v1.5\\Dates\\src\\arithmetic.jl:27</a></li> <li> +(dt::<b>Dates.Date</b>, t::<b>Dates.Time</b>) in Dates at <a href=\"file://D:/buildbot/worker/package_win64/build/usr/share/julia/stdlib/v1.5/Dates/src/arithmetic.jl\" target=\"_blank\">C:\\Users\\HP\\AppData\\Local\\Programs\\Julia 1.5.1\\share\\julia\\stdlib\\v1.5\\Dates\\src\\arithmetic.jl:19</a></li> <li> +(t::<b>Dates.Time</b>, dt::<b>Dates.Date</b>) in Dates at <a href=\"file://D:/buildbot/worker/package_win64/build/usr/share/julia/stdlib/v1.5/Dates/src/arithmetic.jl\" target=\"_blank\">C:\\Users\\HP\\AppData\\Local\\Programs\\Julia 1.5.1\\share\\julia\\stdlib\\v1.5\\Dates\\src\\arithmetic.jl:20</a></li> <li> +(x::<b>Dates.Time</b>, y::<b>Dates.TimePeriod</b>) in Dates at <a href=\"file://D:/buildbot/worker/package_win64/build/usr/share/julia/stdlib/v1.5/Dates/src/arithmetic.jl\" target=\"_blank\">C:\\Users\\HP\\AppData\\Local\\Programs\\Julia 1.5.1\\share\\julia\\stdlib\\v1.5\\Dates\\src\\arithmetic.jl:78</a></li> <li> +(dt::<b>Dates.DateTime</b>, z::<b>Dates.Month</b>) in Dates at <a href=\"file://D:/buildbot/worker/package_win64/build/usr/share/julia/stdlib/v1.5/Dates/src/arithmetic.jl\" target=\"_blank\">C:\\Users\\HP\\AppData\\Local\\Programs\\Julia 1.5.1\\share\\julia\\stdlib\\v1.5\\Dates\\src\\arithmetic.jl:47</a></li> <li> +(dt::<b>Dates.DateTime</b>, y::<b>Dates.Year</b>) in Dates at <a href=\"file://D:/buildbot/worker/package_win64/build/usr/share/julia/stdlib/v1.5/Dates/src/arithmetic.jl\" target=\"_blank\">C:\\Users\\HP\\AppData\\Local\\Programs\\Julia 1.5.1\\share\\julia\\stdlib\\v1.5\\Dates\\src\\arithmetic.jl:23</a></li> <li> +(x::<b>Dates.DateTime</b>, y::<b>Dates.Period</b>) in Dates at <a href=\"file://D:/buildbot/worker/package_win64/build/usr/share/julia/stdlib/v1.5/Dates/src/arithmetic.jl\" target=\"_blank\">C:\\Users\\HP\\AppData\\Local\\Programs\\Julia 1.5.1\\share\\julia\\stdlib\\v1.5\\Dates\\src\\arithmetic.jl:76</a></li> <li> +(a::<b>Float16</b>, b::<b>Float16</b>) in Base at <a href=\"https://github.com/JuliaLang/julia/tree/697e782ab86bfcdd7fd15550241fe162c51d9f98/base/float.jl#L398\" target=\"_blank\">float.jl:398</a></li> <li> +(B::<b>BitArray{2}</b>, J::<b>LinearAlgebra.UniformScaling</b>) in LinearAlgebra at <a href=\"file://D:/buildbot/worker/package_win64/build/usr/share/julia/stdlib/v1.5/LinearAlgebra/src/uniformscaling.jl\" target=\"_blank\">C:\\Users\\HP\\AppData\\Local\\Programs\\Julia 1.5.1\\share\\julia\\stdlib\\v1.5\\LinearAlgebra\\src\\uniformscaling.jl:117</a></li> <li> +(y::<b>AbstractFloat</b>, x::<b>Bool</b>) in Base at <a href=\"https://github.com/JuliaLang/julia/tree/697e782ab86bfcdd7fd15550241fe162c51d9f98/base/bool.jl#L106\" target=\"_blank\">bool.jl:106</a></li> <li> +(x::<b>T</b>, y::<b>T</b>)<i> where T<:Union{Int128, Int16, Int32, Int64, Int8, UInt128, UInt16, UInt32, UInt64, UInt8}</i> in Base at <a href=\"https://github.com/JuliaLang/julia/tree/697e782ab86bfcdd7fd15550241fe162c51d9f98/base/int.jl#L86\" target=\"_blank\">int.jl:86</a></li> <li> +(c::<b>Union{UInt16, UInt32, UInt8}</b>, x::<b>BigInt</b>) in Base.GMP at <a href=\"https://github.com/JuliaLang/julia/tree/697e782ab86bfcdd7fd15550241fe162c51d9f98/base/gmp.jl#L525\" target=\"_blank\">gmp.jl:525</a></li> <li> +(c::<b>Union{Int16, Int32, Int8}</b>, x::<b>BigInt</b>) in Base.GMP at <a href=\"https://github.com/JuliaLang/julia/tree/697e782ab86bfcdd7fd15550241fe162c51d9f98/base/gmp.jl#L531\" target=\"_blank\">gmp.jl:531</a></li> <li> +(x::<b>GeometryTypes.OffsetInteger{O,T} where T<:Integer</b>, y::<b>GeometryTypes.OffsetInteger{O,T} where T<:Integer</b>)<i> where O</i> in GeometryTypes at <a href=\"file://C:/Users/HP/.julia/packages/GeometryTypes/gpBFp/src/faces.jl\" target=\"_blank\">C:\\Users\\HP\\.julia\\packages\\GeometryTypes\\gpBFp\\src\\faces.jl:31</a></li> <li> +(x::<b>GeometryBasics.OffsetInteger{O,T} where T<:Integer</b>, y::<b>GeometryBasics.OffsetInteger{O,T} where T<:Integer</b>)<i> where O</i> in GeometryBasics at <a href=\"file://C:/Users/HP/.julia/packages/GeometryBasics/CMxB4/src/offsetintegers.jl\" target=\"_blank\">C:\\Users\\HP\\.julia\\packages\\GeometryBasics\\CMxB4\\src\\offsetintegers.jl:54</a></li> <li> +(a::<b>Integer</b>, b::<b>Integer</b>) in Base at <a href=\"https://github.com/JuliaLang/julia/tree/697e782ab86bfcdd7fd15550241fe162c51d9f98/base/int.jl#L918\" target=\"_blank\">int.jl:918</a></li> <li> +(x::<b>Integer</b>, y::<b>Ptr</b>) in Base at <a href=\"https://github.com/JuliaLang/julia/tree/697e782ab86bfcdd7fd15550241fe162c51d9f98/base/pointer.jl#L161\" target=\"_blank\">pointer.jl:161</a></li> <li> +(z::<b>Complex</b>) in Base at <a href=\"https://github.com/JuliaLang/julia/tree/697e782ab86bfcdd7fd15550241fe162c51d9f98/base/complex.jl#L273\" target=\"_blank\">complex.jl:273</a></li> <li> +(z::<b>Complex</b>, w::<b>Complex</b>) in Base at <a href=\"https://github.com/JuliaLang/julia/tree/697e782ab86bfcdd7fd15550241fe162c51d9f98/base/complex.jl#L275\" target=\"_blank\">complex.jl:275</a></li> <li> +(z::<b>Complex</b>, x::<b>Bool</b>) in Base at <a href=\"https://github.com/JuliaLang/julia/tree/697e782ab86bfcdd7fd15550241fe162c51d9f98/base/complex.jl#L294\" target=\"_blank\">complex.jl:294</a></li> <li> +(x::<b>Rational</b>) in Base at <a href=\"https://github.com/JuliaLang/julia/tree/697e782ab86bfcdd7fd15550241fe162c51d9f98/base/rational.jl#L266\" target=\"_blank\">rational.jl:266</a></li> <li> +(x::<b>Real</b>, z::<b>Complex{Bool}</b>) in Base at <a href=\"https://github.com/JuliaLang/julia/tree/697e782ab86bfcdd7fd15550241fe162c51d9f98/base/complex.jl#L300\" target=\"_blank\">complex.jl:300</a></li> <li> +(x::<b>Real</b>, z::<b>Complex</b>) in Base at <a href=\"https://github.com/JuliaLang/julia/tree/697e782ab86bfcdd7fd15550241fe162c51d9f98/base/complex.jl#L312\" target=\"_blank\">complex.jl:312</a></li> <li> +(z::<b>Complex</b>, x::<b>Real</b>) in Base at <a href=\"https://github.com/JuliaLang/julia/tree/697e782ab86bfcdd7fd15550241fe162c51d9f98/base/complex.jl#L313\" target=\"_blank\">complex.jl:313</a></li> <li> +(x::<b>Rational</b>, y::<b>Rational</b>) in Base at <a href=\"https://github.com/JuliaLang/julia/tree/697e782ab86bfcdd7fd15550241fe162c51d9f98/base/rational.jl#L282\" target=\"_blank\">rational.jl:282</a></li> <li> +(x::<b>Rational</b>, y::<b>Integer</b>) in Base at <a href=\"https://github.com/JuliaLang/julia/tree/697e782ab86bfcdd7fd15550241fe162c51d9f98/base/rational.jl#L287\" target=\"_blank\">rational.jl:287</a></li> <li> +(y::<b>Integer</b>, x::<b>Rational</b>) in Base at <a href=\"https://github.com/JuliaLang/julia/tree/697e782ab86bfcdd7fd15550241fe162c51d9f98/base/rational.jl#L294\" target=\"_blank\">rational.jl:294</a></li> <li> +(x::<b>Integer</b>, y::<b>AbstractChar</b>) in Base at <a href=\"https://github.com/JuliaLang/julia/tree/697e782ab86bfcdd7fd15550241fe162c51d9f98/base/char.jl#L224\" target=\"_blank\">char.jl:224</a></li> <li> +(c::<b>Union{UInt16, UInt32, UInt8}</b>, x::<b>BigFloat</b>) in Base.MPFR at <a href=\"https://github.com/JuliaLang/julia/tree/697e782ab86bfcdd7fd15550241fe162c51d9f98/base/mpfr.jl#L375\" target=\"_blank\">mpfr.jl:375</a></li> <li> +(c::<b>Union{Int16, Int32, Int8}</b>, x::<b>BigFloat</b>) in Base.MPFR at <a href=\"https://github.com/JuliaLang/julia/tree/697e782ab86bfcdd7fd15550241fe162c51d9f98/base/mpfr.jl#L383\" target=\"_blank\">mpfr.jl:383</a></li> <li> +(c::<b>Union{Float16, Float32, Float64}</b>, x::<b>BigFloat</b>) in Base.MPFR at <a href=\"https://github.com/JuliaLang/julia/tree/697e782ab86bfcdd7fd15550241fe162c51d9f98/base/mpfr.jl#L391\" target=\"_blank\">mpfr.jl:391</a></li> <li> +(x::<b>AbstractIrrational</b>, y::<b>AbstractIrrational</b>) in Base at <a href=\"https://github.com/JuliaLang/julia/tree/697e782ab86bfcdd7fd15550241fe162c51d9f98/base/irrationals.jl#L156\" target=\"_blank\">irrationals.jl:156</a></li> <li> +(x::<b>X</b>, y::<b>X</b>)<i> where X<:FixedPointNumbers.FixedPoint</i> in FixedPointNumbers at <a href=\"file://C:/Users/HP/.julia/packages/FixedPointNumbers/HAGk2/src/FixedPointNumbers.jl\" target=\"_blank\">C:\\Users\\HP\\.julia\\packages\\FixedPointNumbers\\HAGk2\\src\\FixedPointNumbers.jl:237</a></li> <li> +(x::<b>Number</b>) in Base at <a href=\"https://github.com/JuliaLang/julia/tree/697e782ab86bfcdd7fd15550241fe162c51d9f98/base/operators.jl#L513\" target=\"_blank\">operators.jl:513</a></li> <li> +(x::<b>T</b>, y::<b>T</b>)<i> where T<:Number</i> in Base at <a href=\"https://github.com/JuliaLang/julia/tree/697e782ab86bfcdd7fd15550241fe162c51d9f98/base/promotion.jl#L384\" target=\"_blank\">promotion.jl:384</a></li> <li> +(x::<b>Number</b>, y::<b>Number</b>) in Base at <a href=\"https://github.com/JuliaLang/julia/tree/697e782ab86bfcdd7fd15550241fe162c51d9f98/base/promotion.jl#L311\" target=\"_blank\">promotion.jl:311</a></li> <li> +(r1::<b>OrdinalRange</b>, r2::<b>OrdinalRange</b>) in Base at <a href=\"https://github.com/JuliaLang/julia/tree/697e782ab86bfcdd7fd15550241fe162c51d9f98/base/range.jl#L1055\" target=\"_blank\">range.jl:1055</a></li> <li> +(r1::<b>LinRange{T}</b>, r2::<b>LinRange{T}</b>)<i> where T</i> in Base at <a href=\"https://github.com/JuliaLang/julia/tree/697e782ab86bfcdd7fd15550241fe162c51d9f98/base/range.jl#L1062\" target=\"_blank\">range.jl:1062</a></li> <li> +(r1::<b>StepRangeLen{T,R,S} where S</b>, r2::<b>StepRangeLen{T,R,S} where S</b>)<i> where {R<:Base.TwicePrecision, T}</i> in Base at <a href=\"https://github.com/JuliaLang/julia/tree/697e782ab86bfcdd7fd15550241fe162c51d9f98/base/twiceprecision.jl#L577\" target=\"_blank\">twiceprecision.jl:577</a></li> <li> +(r1::<b>StepRangeLen{T,S,S1} where S1</b>, r2::<b>StepRangeLen{T,S,S1} where S1</b>)<i> where {T, S}</i> in Base at <a href=\"https://github.com/JuliaLang/julia/tree/697e782ab86bfcdd7fd15550241fe162c51d9f98/base/range.jl#L1078\" target=\"_blank\">range.jl:1078</a></li> <li> +(r1::<b>Union{LinRange, OrdinalRange, StepRangeLen}</b>, r2::<b>Union{LinRange, OrdinalRange, StepRangeLen}</b>) in Base at <a href=\"https://github.com/JuliaLang/julia/tree/697e782ab86bfcdd7fd15550241fe162c51d9f98/base/range.jl#L1071\" target=\"_blank\">range.jl:1071</a></li> <li> +(x::<b>Ptr</b>, y::<b>Integer</b>) in Base at <a href=\"https://github.com/JuliaLang/julia/tree/697e782ab86bfcdd7fd15550241fe162c51d9f98/base/pointer.jl#L159\" target=\"_blank\">pointer.jl:159</a></li> <li> +(x::<b>Base.TwicePrecision</b>, y::<b>Number</b>) in Base at <a href=\"https://github.com/JuliaLang/julia/tree/697e782ab86bfcdd7fd15550241fe162c51d9f98/base/twiceprecision.jl#L267\" target=\"_blank\">twiceprecision.jl:267</a></li> <li> +(x::<b>Number</b>, y::<b>Base.TwicePrecision</b>) in Base at <a href=\"https://github.com/JuliaLang/julia/tree/697e782ab86bfcdd7fd15550241fe162c51d9f98/base/twiceprecision.jl#L271\" target=\"_blank\">twiceprecision.jl:271</a></li> <li> +(x::<b>Base.TwicePrecision{T}</b>, y::<b>Base.TwicePrecision{T}</b>)<i> where T</i> in Base at <a href=\"https://github.com/JuliaLang/julia/tree/697e782ab86bfcdd7fd15550241fe162c51d9f98/base/twiceprecision.jl#L273\" target=\"_blank\">twiceprecision.jl:273</a></li> <li> +(x::<b>Base.TwicePrecision</b>, y::<b>Base.TwicePrecision</b>) in Base at <a href=\"https://github.com/JuliaLang/julia/tree/697e782ab86bfcdd7fd15550241fe162c51d9f98/base/twiceprecision.jl#L278\" target=\"_blank\">twiceprecision.jl:278</a></li> <li> +(A::<b>Array</b>, Bs::<b>Array...</b>) in Base at <a href=\"https://github.com/JuliaLang/julia/tree/697e782ab86bfcdd7fd15550241fe162c51d9f98/base/arraymath.jl#L43\" target=\"_blank\">arraymath.jl:43</a></li> <li> +(A::<b>BitArray</b>, B::<b>BitArray</b>) in Base at <a href=\"https://github.com/JuliaLang/julia/tree/697e782ab86bfcdd7fd15550241fe162c51d9f98/base/bitarray.jl#L1110\" target=\"_blank\">bitarray.jl:1110</a></li> <li> +(r::<b>AbstractRange{var\"#s826\"} where var\"#s826\"<:Dates.TimeType</b>, x::<b>Dates.Period</b>) in Dates at <a href=\"file://D:/buildbot/worker/package_win64/build/usr/share/julia/stdlib/v1.5/Dates/src/ranges.jl\" target=\"_blank\">C:\\Users\\HP\\AppData\\Local\\Programs\\Julia 1.5.1\\share\\julia\\stdlib\\v1.5\\Dates\\src\\ranges.jl:59</a></li> <li> +(A::<b>Array</b>, B::<b>SparseArrays.AbstractSparseMatrixCSC</b>) in SparseArrays at <a href=\"file://D:/buildbot/worker/package_win64/build/usr/share/julia/stdlib/v1.5/SparseArrays/src/sparsematrix.jl\" target=\"_blank\">C:\\Users\\HP\\AppData\\Local\\Programs\\Julia 1.5.1\\share\\julia\\stdlib\\v1.5\\SparseArrays\\src\\sparsematrix.jl:1683</a></li> <li> +(x::<b>StridedArray{var\"#s826\", N} where N where var\"#s826\"<:Union{Dates.CompoundPeriod, Dates.Period}</b>) in Dates at <a href=\"file://D:/buildbot/worker/package_win64/build/usr/share/julia/stdlib/v1.5/Dates/src/deprecated.jl\" target=\"_blank\">C:\\Users\\HP\\AppData\\Local\\Programs\\Julia 1.5.1\\share\\julia\\stdlib\\v1.5\\Dates\\src\\deprecated.jl:55</a></li> <li> +(x::<b>StridedArray{var\"#s826\", N} where N where var\"#s826\"<:Union{Dates.CompoundPeriod, Dates.Period}</b>, y::<b>Dates.TimeType</b>) in Dates at <a href=\"file://D:/buildbot/worker/package_win64/build/usr/share/julia/stdlib/v1.5/Dates/src/deprecated.jl\" target=\"_blank\">C:\\Users\\HP\\AppData\\Local\\Programs\\Julia 1.5.1\\share\\julia\\stdlib\\v1.5\\Dates\\src\\deprecated.jl:10</a></li> <li> +(X::<b>StridedArray{var\"#s826\", N} where N where var\"#s826\"<:Union{Dates.CompoundPeriod, Dates.Period}</b>, Y::<b>StridedArray{var\"#s825\", N} where N where var\"#s825\"<:Union{Dates.CompoundPeriod, Dates.Period}</b>) in Dates at <a href=\"file://D:/buildbot/worker/package_win64/build/usr/share/julia/stdlib/v1.5/Dates/src/deprecated.jl\" target=\"_blank\">C:\\Users\\HP\\AppData\\Local\\Programs\\Julia 1.5.1\\share\\julia\\stdlib\\v1.5\\Dates\\src\\deprecated.jl:62</a></li> <li> +(A::<b>LinearAlgebra.SymTridiagonal</b>, B::<b>LinearAlgebra.SymTridiagonal</b>) in LinearAlgebra at <a href=\"file://D:/buildbot/worker/package_win64/build/usr/share/julia/stdlib/v1.5/LinearAlgebra/src/tridiag.jl\" target=\"_blank\">C:\\Users\\HP\\AppData\\Local\\Programs\\Julia 1.5.1\\share\\julia\\stdlib\\v1.5\\LinearAlgebra\\src\\tridiag.jl:205</a></li> <li> +(A::<b>LinearAlgebra.Tridiagonal</b>, B::<b>LinearAlgebra.Tridiagonal</b>) in LinearAlgebra at <a href=\"file://D:/buildbot/worker/package_win64/build/usr/share/julia/stdlib/v1.5/LinearAlgebra/src/tridiag.jl\" target=\"_blank\">C:\\Users\\HP\\AppData\\Local\\Programs\\Julia 1.5.1\\share\\julia\\stdlib\\v1.5\\LinearAlgebra\\src\\tridiag.jl:732</a></li> <li> +(A::<b>LinearAlgebra.UpperTriangular</b>, B::<b>LinearAlgebra.UpperTriangular</b>) in LinearAlgebra at <a href=\"file://D:/buildbot/worker/package_win64/build/usr/share/julia/stdlib/v1.5/LinearAlgebra/src/triangular.jl\" target=\"_blank\">C:\\Users\\HP\\AppData\\Local\\Programs\\Julia 1.5.1\\share\\julia\\stdlib\\v1.5\\LinearAlgebra\\src\\triangular.jl:659</a></li> <li> +(A::<b>LinearAlgebra.LowerTriangular</b>, B::<b>LinearAlgebra.LowerTriangular</b>) in LinearAlgebra at <a href=\"file://D:/buildbot/worker/package_win64/build/usr/share/julia/stdlib/v1.5/LinearAlgebra/src/triangular.jl\" target=\"_blank\">C:\\Users\\HP\\AppData\\Local\\Programs\\Julia 1.5.1\\share\\julia\\stdlib\\v1.5\\LinearAlgebra\\src\\triangular.jl:660</a></li> <li> +(A::<b>LinearAlgebra.UpperTriangular</b>, B::<b>LinearAlgebra.UnitUpperTriangular</b>) in LinearAlgebra at <a href=\"file://D:/buildbot/worker/package_win64/build/usr/share/julia/stdlib/v1.5/LinearAlgebra/src/triangular.jl\" target=\"_blank\">C:\\Users\\HP\\AppData\\Local\\Programs\\Julia 1.5.1\\share\\julia\\stdlib\\v1.5\\LinearAlgebra\\src\\triangular.jl:661</a></li> <li> +(A::<b>LinearAlgebra.LowerTriangular</b>, B::<b>LinearAlgebra.UnitLowerTriangular</b>) in LinearAlgebra at <a href=\"file://D:/buildbot/worker/package_win64/build/usr/share/julia/stdlib/v1.5/LinearAlgebra/src/triangular.jl\" target=\"_blank\">C:\\Users\\HP\\AppData\\Local\\Programs\\Julia 1.5.1\\share\\julia\\stdlib\\v1.5\\LinearAlgebra\\src\\triangular.jl:662</a></li> <li> +(A::<b>LinearAlgebra.UnitUpperTriangular</b>, B::<b>LinearAlgebra.UpperTriangular</b>) in LinearAlgebra at <a href=\"file://D:/buildbot/worker/package_win64/build/usr/share/julia/stdlib/v1.5/LinearAlgebra/src/triangular.jl\" target=\"_blank\">C:\\Users\\HP\\AppData\\Local\\Programs\\Julia 1.5.1\\share\\julia\\stdlib\\v1.5\\LinearAlgebra\\src\\triangular.jl:663</a></li> <li> +(A::<b>LinearAlgebra.UnitLowerTriangular</b>, B::<b>LinearAlgebra.LowerTriangular</b>) in LinearAlgebra at <a href=\"file://D:/buildbot/worker/package_win64/build/usr/share/julia/stdlib/v1.5/LinearAlgebra/src/triangular.jl\" target=\"_blank\">C:\\Users\\HP\\AppData\\Local\\Programs\\Julia 1.5.1\\share\\julia\\stdlib\\v1.5\\LinearAlgebra\\src\\triangular.jl:664</a></li> <li> +(A::<b>LinearAlgebra.UnitUpperTriangular</b>, B::<b>LinearAlgebra.UnitUpperTriangular</b>) in LinearAlgebra at <a href=\"file://D:/buildbot/worker/package_win64/build/usr/share/julia/stdlib/v1.5/LinearAlgebra/src/triangular.jl\" target=\"_blank\">C:\\Users\\HP\\AppData\\Local\\Programs\\Julia 1.5.1\\share\\julia\\stdlib\\v1.5\\LinearAlgebra\\src\\triangular.jl:665</a></li> <li> +(A::<b>LinearAlgebra.UnitLowerTriangular</b>, B::<b>LinearAlgebra.UnitLowerTriangular</b>) in LinearAlgebra at <a href=\"file://D:/buildbot/worker/package_win64/build/usr/share/julia/stdlib/v1.5/LinearAlgebra/src/triangular.jl\" target=\"_blank\">C:\\Users\\HP\\AppData\\Local\\Programs\\Julia 1.5.1\\share\\julia\\stdlib\\v1.5\\LinearAlgebra\\src\\triangular.jl:666</a></li> <li> +(A::<b>LinearAlgebra.AbstractTriangular</b>, B::<b>LinearAlgebra.AbstractTriangular</b>) in LinearAlgebra at <a href=\"file://D:/buildbot/worker/package_win64/build/usr/share/julia/stdlib/v1.5/LinearAlgebra/src/triangular.jl\" target=\"_blank\">C:\\Users\\HP\\AppData\\Local\\Programs\\Julia 1.5.1\\share\\julia\\stdlib\\v1.5\\LinearAlgebra\\src\\triangular.jl:667</a></li> <li> +(A::<b>LinearAlgebra.Hermitian</b>, B::<b>LinearAlgebra.Hermitian</b>) in LinearAlgebra at <a href=\"file://D:/buildbot/worker/package_win64/build/usr/share/julia/stdlib/v1.5/LinearAlgebra/src/symmetric.jl\" target=\"_blank\">C:\\Users\\HP\\AppData\\Local\\Programs\\Julia 1.5.1\\share\\julia\\stdlib\\v1.5\\LinearAlgebra\\src\\symmetric.jl:466</a></li> <li> +(A::<b>LinearAlgebra.Symmetric</b>, B::<b>LinearAlgebra.Symmetric</b>) in LinearAlgebra at <a href=\"file://D:/buildbot/worker/package_win64/build/usr/share/julia/stdlib/v1.5/LinearAlgebra/src/symmetric.jl\" target=\"_blank\">C:\\Users\\HP\\AppData\\Local\\Programs\\Julia 1.5.1\\share\\julia\\stdlib\\v1.5\\LinearAlgebra\\src\\symmetric.jl:466</a></li> <li> +(A::<b>LinearAlgebra.Hermitian{var\"#s814\",var\"#s813\"} where var\"#s813\"<:(SparseArrays.AbstractSparseArray{Tv,Ti,2} where Ti where Tv) where var\"#s814\"</b>, B::<b>LinearAlgebra.Symmetric{var\"#s812\",var\"#s811\"} where var\"#s811\"<:(SparseArrays.AbstractSparseArray{Tv,Ti,2} where Ti where Tv) where var\"#s812\"<:Real</b>) in SparseArrays at <a href=\"file://D:/buildbot/worker/package_win64/build/usr/share/julia/stdlib/v1.5/SparseArrays/src/linalg.jl\" target=\"_blank\">C:\\Users\\HP\\AppData\\Local\\Programs\\Julia 1.5.1\\share\\julia\\stdlib\\v1.5\\SparseArrays\\src\\linalg.jl:24</a></li> <li> +(A::<b>LinearAlgebra.Hermitian</b>, B::<b>LinearAlgebra.Symmetric{var\"#s826\",S} where S<:(AbstractArray{var\"#s8261\",2} where var\"#s8261\"<:var\"#s826\") where var\"#s826\"<:Real</b>) in LinearAlgebra at <a href=\"file://D:/buildbot/worker/package_win64/build/usr/share/julia/stdlib/v1.5/LinearAlgebra/src/symmetric.jl\" target=\"_blank\">C:\\Users\\HP\\AppData\\Local\\Programs\\Julia 1.5.1\\share\\julia\\stdlib\\v1.5\\LinearAlgebra\\src\\symmetric.jl:480</a></li> <li> +(A::<b>LinearAlgebra.Symmetric{var\"#s818\",var\"#s817\"} where var\"#s817\"<:(SparseArrays.AbstractSparseArray{Tv,Ti,2} where Ti where Tv) where var\"#s818\"<:Real</b>, B::<b>LinearAlgebra.Hermitian{var\"#s816\",var\"#s815\"} where var\"#s815\"<:(SparseArrays.AbstractSparseArray{Tv,Ti,2} where Ti where Tv) where var\"#s816\"</b>) in SparseArrays at <a href=\"file://D:/buildbot/worker/package_win64/build/usr/share/julia/stdlib/v1.5/SparseArrays/src/linalg.jl\" target=\"_blank\">C:\\Users\\HP\\AppData\\Local\\Programs\\Julia 1.5.1\\share\\julia\\stdlib\\v1.5\\SparseArrays\\src\\linalg.jl:23</a></li> <li> +(A::<b>LinearAlgebra.Symmetric{var\"#s825\",S} where S<:(AbstractArray{var\"#s826\",2} where var\"#s826\"<:var\"#s825\") where var\"#s825\"<:Real</b>, B::<b>LinearAlgebra.Hermitian</b>) in LinearAlgebra at <a href=\"file://D:/buildbot/worker/package_win64/build/usr/share/julia/stdlib/v1.5/LinearAlgebra/src/symmetric.jl\" target=\"_blank\">C:\\Users\\HP\\AppData\\Local\\Programs\\Julia 1.5.1\\share\\julia\\stdlib\\v1.5\\LinearAlgebra\\src\\symmetric.jl:481</a></li> <li> +(Da::<b>LinearAlgebra.Diagonal</b>, Db::<b>LinearAlgebra.Diagonal</b>) in LinearAlgebra at <a href=\"file://D:/buildbot/worker/package_win64/build/usr/share/julia/stdlib/v1.5/LinearAlgebra/src/diagonal.jl\" target=\"_blank\">C:\\Users\\HP\\AppData\\Local\\Programs\\Julia 1.5.1\\share\\julia\\stdlib\\v1.5\\LinearAlgebra\\src\\diagonal.jl:156</a></li> <li> +(D::<b>LinearAlgebra.Diagonal</b>, S::<b>LinearAlgebra.Symmetric</b>) in LinearAlgebra at <a href=\"file://D:/buildbot/worker/package_win64/build/usr/share/julia/stdlib/v1.5/LinearAlgebra/src/diagonal.jl\" target=\"_blank\">C:\\Users\\HP\\AppData\\Local\\Programs\\Julia 1.5.1\\share\\julia\\stdlib\\v1.5\\LinearAlgebra\\src\\diagonal.jl:160</a></li> <li> +(S::<b>LinearAlgebra.Symmetric</b>, D::<b>LinearAlgebra.Diagonal</b>) in LinearAlgebra at <a href=\"file://D:/buildbot/worker/package_win64/build/usr/share/julia/stdlib/v1.5/LinearAlgebra/src/diagonal.jl\" target=\"_blank\">C:\\Users\\HP\\AppData\\Local\\Programs\\Julia 1.5.1\\share\\julia\\stdlib\\v1.5\\LinearAlgebra\\src\\diagonal.jl:163</a></li> <li> +(D::<b>LinearAlgebra.Diagonal{var\"#s826\",V} where V<:AbstractArray{var\"#s826\",1} where var\"#s826\"<:Real</b>, H::<b>LinearAlgebra.Hermitian</b>) in LinearAlgebra at <a href=\"file://D:/buildbot/worker/package_win64/build/usr/share/julia/stdlib/v1.5/LinearAlgebra/src/diagonal.jl\" target=\"_blank\">C:\\Users\\HP\\AppData\\Local\\Programs\\Julia 1.5.1\\share\\julia\\stdlib\\v1.5\\LinearAlgebra\\src\\diagonal.jl:166</a></li> <li> +(H::<b>LinearAlgebra.Hermitian</b>, D::<b>LinearAlgebra.Diagonal{var\"#s826\",V} where V<:AbstractArray{var\"#s826\",1} where var\"#s826\"<:Real</b>) in LinearAlgebra at <a href=\"file://D:/buildbot/worker/package_win64/build/usr/share/julia/stdlib/v1.5/LinearAlgebra/src/diagonal.jl\" target=\"_blank\">C:\\Users\\HP\\AppData\\Local\\Programs\\Julia 1.5.1\\share\\julia\\stdlib\\v1.5\\LinearAlgebra\\src\\diagonal.jl:169</a></li> <li> +(A::<b>LinearAlgebra.Bidiagonal</b>, B::<b>LinearAlgebra.Bidiagonal</b>) in LinearAlgebra at <a href=\"file://D:/buildbot/worker/package_win64/build/usr/share/julia/stdlib/v1.5/LinearAlgebra/src/bidiag.jl\" target=\"_blank\">C:\\Users\\HP\\AppData\\Local\\Programs\\Julia 1.5.1\\share\\julia\\stdlib\\v1.5\\LinearAlgebra\\src\\bidiag.jl:347</a></li> <li> +(UL::<b>LinearAlgebra.UnitUpperTriangular</b>, J::<b>LinearAlgebra.UniformScaling</b>) in LinearAlgebra at <a href=\"file://D:/buildbot/worker/package_win64/build/usr/share/julia/stdlib/v1.5/LinearAlgebra/src/uniformscaling.jl\" target=\"_blank\">C:\\Users\\HP\\AppData\\Local\\Programs\\Julia 1.5.1\\share\\julia\\stdlib\\v1.5\\LinearAlgebra\\src\\uniformscaling.jl:147</a></li> <li> +(UL::<b>LinearAlgebra.UnitLowerTriangular</b>, J::<b>LinearAlgebra.UniformScaling</b>) in LinearAlgebra at <a href=\"file://D:/buildbot/worker/package_win64/build/usr/share/julia/stdlib/v1.5/LinearAlgebra/src/uniformscaling.jl\" target=\"_blank\">C:\\Users\\HP\\AppData\\Local\\Programs\\Julia 1.5.1\\share\\julia\\stdlib\\v1.5\\LinearAlgebra\\src\\uniformscaling.jl:147</a></li> <li> +(A::<b>LinearAlgebra.Hermitian</b>, J::<b>LinearAlgebra.UniformScaling{var\"#s826\"} where var\"#s826\"<:Complex</b>) in LinearAlgebra at <a href=\"file://D:/buildbot/worker/package_win64/build/usr/share/julia/stdlib/v1.5/LinearAlgebra/src/uniformscaling.jl\" target=\"_blank\">C:\\Users\\HP\\AppData\\Local\\Programs\\Julia 1.5.1\\share\\julia\\stdlib\\v1.5\\LinearAlgebra\\src\\uniformscaling.jl:161</a></li> <li> +(H::<b>LinearAlgebra.UpperHessenberg</b>, J::<b>LinearAlgebra.UniformScaling</b>) in LinearAlgebra at <a href=\"file://D:/buildbot/worker/package_win64/build/usr/share/julia/stdlib/v1.5/LinearAlgebra/src/hessenberg.jl\" target=\"_blank\">C:\\Users\\HP\\AppData\\Local\\Programs\\Julia 1.5.1\\share\\julia\\stdlib\\v1.5\\LinearAlgebra\\src\\hessenberg.jl:106</a></li> <li> +(A::<b>LinearAlgebra.Tridiagonal{var\"#s826\",V} where V<:AbstractArray{var\"#s826\",1} where var\"#s826\"<:Number</b>, B::<b>LinearAlgebra.UniformScaling</b>) in LinearAlgebra at <a href=\"file://D:/buildbot/worker/package_win64/build/usr/share/julia/stdlib/v1.5/LinearAlgebra/src/special.jl\" target=\"_blank\">C:\\Users\\HP\\AppData\\Local\\Programs\\Julia 1.5.1\\share\\julia\\stdlib\\v1.5\\LinearAlgebra\\src\\special.jl:226</a></li> <li> +(A::<b>LinearAlgebra.SymTridiagonal{var\"#s826\",V} where V<:AbstractArray{var\"#s826\",1} where var\"#s826\"<:Number</b>, B::<b>LinearAlgebra.UniformScaling</b>) in LinearAlgebra at <a href=\"file://D:/buildbot/worker/package_win64/build/usr/share/julia/stdlib/v1.5/LinearAlgebra/src/special.jl\" target=\"_blank\">C:\\Users\\HP\\AppData\\Local\\Programs\\Julia 1.5.1\\share\\julia\\stdlib\\v1.5\\LinearAlgebra\\src\\special.jl:231</a></li> <li> +(A::<b>LinearAlgebra.Bidiagonal{var\"#s826\",V} where V<:AbstractArray{var\"#s826\",1} where var\"#s826\"<:Number</b>, B::<b>LinearAlgebra.UniformScaling</b>) in LinearAlgebra at <a href=\"file://D:/buildbot/worker/package_win64/build/usr/share/julia/stdlib/v1.5/LinearAlgebra/src/special.jl\" target=\"_blank\">C:\\Users\\HP\\AppData\\Local\\Programs\\Julia 1.5.1\\share\\julia\\stdlib\\v1.5\\LinearAlgebra\\src\\special.jl:236</a></li> <li> +(A::<b>LinearAlgebra.Diagonal{var\"#s826\",V} where V<:AbstractArray{var\"#s826\",1} where var\"#s826\"<:Number</b>, B::<b>LinearAlgebra.UniformScaling</b>) in LinearAlgebra at <a href=\"file://D:/buildbot/worker/package_win64/build/usr/share/julia/stdlib/v1.5/LinearAlgebra/src/special.jl\" target=\"_blank\">C:\\Users\\HP\\AppData\\Local\\Programs\\Julia 1.5.1\\share\\julia\\stdlib\\v1.5\\LinearAlgebra\\src\\special.jl:241</a></li> <li> +(A::<b>SparseArrays.AbstractSparseMatrixCSC</b>, J::<b>LinearAlgebra.UniformScaling</b>) in SparseArrays at <a href=\"file://D:/buildbot/worker/package_win64/build/usr/share/julia/stdlib/v1.5/SparseArrays/src/sparsematrix.jl\" target=\"_blank\">C:\\Users\\HP\\AppData\\Local\\Programs\\Julia 1.5.1\\share\\julia\\stdlib\\v1.5\\SparseArrays\\src\\sparsematrix.jl:3641</a></li> <li> +(a::<b>StaticArrays.StaticArray{Tuple{N,M},T,2} where T where M where N</b>, b::<b>LinearAlgebra.UniformScaling</b>) in StaticArrays at <a href=\"file://C:/Users/HP/.julia/packages/StaticArrays/l7lu2/src/linalg.jl\" target=\"_blank\">C:\\Users\\HP\\.julia\\packages\\StaticArrays\\l7lu2\\src\\linalg.jl:28</a></li> <li> +(A::<b>AbstractArray{T,2} where T</b>, J::<b>LinearAlgebra.UniformScaling</b>) in LinearAlgebra at <a href=\"file://D:/buildbot/worker/package_win64/build/usr/share/julia/stdlib/v1.5/LinearAlgebra/src/uniformscaling.jl\" target=\"_blank\">C:\\Users\\HP\\AppData\\Local\\Programs\\Julia 1.5.1\\share\\julia\\stdlib\\v1.5\\LinearAlgebra\\src\\uniformscaling.jl:180</a></li> <li> +(A::<b>LinearAlgebra.UpperHessenberg</b>, B::<b>LinearAlgebra.UpperHessenberg</b>) in LinearAlgebra at <a href=\"file://D:/buildbot/worker/package_win64/build/usr/share/julia/stdlib/v1.5/LinearAlgebra/src/hessenberg.jl\" target=\"_blank\">C:\\Users\\HP\\AppData\\Local\\Programs\\Julia 1.5.1\\share\\julia\\stdlib\\v1.5\\LinearAlgebra\\src\\hessenberg.jl:101</a></li> <li> +(A::<b>LinearAlgebra.UpperTriangular</b>, B::<b>LinearAlgebra.Bidiagonal</b>) in LinearAlgebra at <a href=\"file://D:/buildbot/worker/package_win64/build/usr/share/julia/stdlib/v1.5/LinearAlgebra/src/special.jl\" target=\"_blank\">C:\\Users\\HP\\AppData\\Local\\Programs\\Julia 1.5.1\\share\\julia\\stdlib\\v1.5\\LinearAlgebra\\src\\special.jl:86</a></li> <li> +(A::<b>LinearAlgebra.Bidiagonal</b>, B::<b>LinearAlgebra.UpperTriangular</b>) in LinearAlgebra at <a href=\"file://D:/buildbot/worker/package_win64/build/usr/share/julia/stdlib/v1.5/LinearAlgebra/src/special.jl\" target=\"_blank\">C:\\Users\\HP\\AppData\\Local\\Programs\\Julia 1.5.1\\share\\julia\\stdlib\\v1.5\\LinearAlgebra\\src\\special.jl:94</a></li> <li> +(A::<b>LinearAlgebra.UnitUpperTriangular</b>, B::<b>LinearAlgebra.Bidiagonal</b>) in LinearAlgebra at <a href=\"file://D:/buildbot/worker/package_win64/build/usr/share/julia/stdlib/v1.5/LinearAlgebra/src/special.jl\" target=\"_blank\">C:\\Users\\HP\\AppData\\Local\\Programs\\Julia 1.5.1\\share\\julia\\stdlib\\v1.5\\LinearAlgebra\\src\\special.jl:86</a></li> <li> +(A::<b>LinearAlgebra.Bidiagonal</b>, B::<b>LinearAlgebra.UnitUpperTriangular</b>) in LinearAlgebra at <a href=\"file://D:/buildbot/worker/package_win64/build/usr/share/julia/stdlib/v1.5/LinearAlgebra/src/special.jl\" target=\"_blank\">C:\\Users\\HP\\AppData\\Local\\Programs\\Julia 1.5.1\\share\\julia\\stdlib\\v1.5\\LinearAlgebra\\src\\special.jl:94</a></li> <li> +(A::<b>LinearAlgebra.LowerTriangular</b>, B::<b>LinearAlgebra.Bidiagonal</b>) in LinearAlgebra at <a href=\"file://D:/buildbot/worker/package_win64/build/usr/share/julia/stdlib/v1.5/LinearAlgebra/src/special.jl\" target=\"_blank\">C:\\Users\\HP\\AppData\\Local\\Programs\\Julia 1.5.1\\share\\julia\\stdlib\\v1.5\\LinearAlgebra\\src\\special.jl:86</a></li> <li> +(A::<b>LinearAlgebra.Bidiagonal</b>, B::<b>LinearAlgebra.LowerTriangular</b>) in LinearAlgebra at <a href=\"file://D:/buildbot/worker/package_win64/build/usr/share/julia/stdlib/v1.5/LinearAlgebra/src/special.jl\" target=\"_blank\">C:\\Users\\HP\\AppData\\Local\\Programs\\Julia 1.5.1\\share\\julia\\stdlib\\v1.5\\LinearAlgebra\\src\\special.jl:94</a></li> <li> +(A::<b>LinearAlgebra.UnitLowerTriangular</b>, B::<b>LinearAlgebra.Bidiagonal</b>) in LinearAlgebra at <a href=\"file://D:/buildbot/worker/package_win64/build/usr/share/julia/stdlib/v1.5/LinearAlgebra/src/special.jl\" target=\"_blank\">C:\\Users\\HP\\AppData\\Local\\Programs\\Julia 1.5.1\\share\\julia\\stdlib\\v1.5\\LinearAlgebra\\src\\special.jl:86</a></li> <li> +(A::<b>LinearAlgebra.Bidiagonal</b>, B::<b>LinearAlgebra.UnitLowerTriangular</b>) in LinearAlgebra at <a href=\"file://D:/buildbot/worker/package_win64/build/usr/share/julia/stdlib/v1.5/LinearAlgebra/src/special.jl\" target=\"_blank\">C:\\Users\\HP\\AppData\\Local\\Programs\\Julia 1.5.1\\share\\julia\\stdlib\\v1.5\\LinearAlgebra\\src\\special.jl:94</a></li> <li> +(A::<b>LinearAlgebra.Bidiagonal</b>, B::<b>LinearAlgebra.Diagonal</b>) in LinearAlgebra at <a href=\"file://D:/buildbot/worker/package_win64/build/usr/share/julia/stdlib/v1.5/LinearAlgebra/src/special.jl\" target=\"_blank\">C:\\Users\\HP\\AppData\\Local\\Programs\\Julia 1.5.1\\share\\julia\\stdlib\\v1.5\\LinearAlgebra\\src\\special.jl:115</a></li> <li> +(A::<b>LinearAlgebra.Diagonal</b>, B::<b>LinearAlgebra.Bidiagonal</b>) in LinearAlgebra at <a href=\"file://D:/buildbot/worker/package_win64/build/usr/share/julia/stdlib/v1.5/LinearAlgebra/src/special.jl\" target=\"_blank\">C:\\Users\\HP\\AppData\\Local\\Programs\\Julia 1.5.1\\share\\julia\\stdlib\\v1.5\\LinearAlgebra\\src\\special.jl:125</a></li> <li> +(A::<b>LinearAlgebra.Diagonal</b>, B::<b>LinearAlgebra.SymTridiagonal</b>) in LinearAlgebra at <a href=\"file://D:/buildbot/worker/package_win64/build/usr/share/julia/stdlib/v1.5/LinearAlgebra/src/special.jl\" target=\"_blank\">C:\\Users\\HP\\AppData\\Local\\Programs\\Julia 1.5.1\\share\\julia\\stdlib\\v1.5\\LinearAlgebra\\src\\special.jl:135</a></li> <li> +(A::<b>LinearAlgebra.SymTridiagonal</b>, B::<b>LinearAlgebra.Diagonal</b>) in LinearAlgebra at <a href=\"file://D:/buildbot/worker/package_win64/build/usr/share/julia/stdlib/v1.5/LinearAlgebra/src/special.jl\" target=\"_blank\">C:\\Users\\HP\\AppData\\Local\\Programs\\Julia 1.5.1\\share\\julia\\stdlib\\v1.5\\LinearAlgebra\\src\\special.jl:145</a></li> <li> +(A::<b>LinearAlgebra.Tridiagonal</b>, B::<b>LinearAlgebra.SymTridiagonal</b>) in LinearAlgebra at <a href=\"file://D:/buildbot/worker/package_win64/build/usr/share/julia/stdlib/v1.5/LinearAlgebra/src/special.jl\" target=\"_blank\">C:\\Users\\HP\\AppData\\Local\\Programs\\Julia 1.5.1\\share\\julia\\stdlib\\v1.5\\LinearAlgebra\\src\\special.jl:157</a></li> <li> +(A::<b>LinearAlgebra.SymTridiagonal</b>, B::<b>LinearAlgebra.Tridiagonal</b>) in LinearAlgebra at <a href=\"file://D:/buildbot/worker/package_win64/build/usr/share/julia/stdlib/v1.5/LinearAlgebra/src/special.jl\" target=\"_blank\">C:\\Users\\HP\\AppData\\Local\\Programs\\Julia 1.5.1\\share\\julia\\stdlib\\v1.5\\LinearAlgebra\\src\\special.jl:159</a></li> <li> +(A::<b>LinearAlgebra.Diagonal</b>, B::<b>LinearAlgebra.Tridiagonal</b>) in LinearAlgebra at <a href=\"file://D:/buildbot/worker/package_win64/build/usr/share/julia/stdlib/v1.5/LinearAlgebra/src/special.jl\" target=\"_blank\">C:\\Users\\HP\\AppData\\Local\\Programs\\Julia 1.5.1\\share\\julia\\stdlib\\v1.5\\LinearAlgebra\\src\\special.jl:163</a></li> <li> +(A::<b>LinearAlgebra.Tridiagonal</b>, B::<b>LinearAlgebra.Diagonal</b>) in LinearAlgebra at <a href=\"file://D:/buildbot/worker/package_win64/build/usr/share/julia/stdlib/v1.5/LinearAlgebra/src/special.jl\" target=\"_blank\">C:\\Users\\HP\\AppData\\Local\\Programs\\Julia 1.5.1\\share\\julia\\stdlib\\v1.5\\LinearAlgebra\\src\\special.jl:173</a></li> <li> +(A::<b>LinearAlgebra.Bidiagonal</b>, B::<b>LinearAlgebra.Tridiagonal</b>) in LinearAlgebra at <a href=\"file://D:/buildbot/worker/package_win64/build/usr/share/julia/stdlib/v1.5/LinearAlgebra/src/special.jl\" target=\"_blank\">C:\\Users\\HP\\AppData\\Local\\Programs\\Julia 1.5.1\\share\\julia\\stdlib\\v1.5\\LinearAlgebra\\src\\special.jl:183</a></li> <li> +(A::<b>LinearAlgebra.Tridiagonal</b>, B::<b>LinearAlgebra.Bidiagonal</b>) in LinearAlgebra at <a href=\"file://D:/buildbot/worker/package_win64/build/usr/share/julia/stdlib/v1.5/LinearAlgebra/src/special.jl\" target=\"_blank\">C:\\Users\\HP\\AppData\\Local\\Programs\\Julia 1.5.1\\share\\julia\\stdlib\\v1.5\\LinearAlgebra\\src\\special.jl:193</a></li> <li> +(A::<b>LinearAlgebra.Bidiagonal</b>, B::<b>LinearAlgebra.SymTridiagonal</b>) in LinearAlgebra at <a href=\"file://D:/buildbot/worker/package_win64/build/usr/share/julia/stdlib/v1.5/LinearAlgebra/src/special.jl\" target=\"_blank\">C:\\Users\\HP\\AppData\\Local\\Programs\\Julia 1.5.1\\share\\julia\\stdlib\\v1.5\\LinearAlgebra\\src\\special.jl:203</a></li> <li> +(A::<b>LinearAlgebra.SymTridiagonal</b>, B::<b>LinearAlgebra.Bidiagonal</b>) in LinearAlgebra at <a href=\"file://D:/buildbot/worker/package_win64/build/usr/share/julia/stdlib/v1.5/LinearAlgebra/src/special.jl\" target=\"_blank\">C:\\Users\\HP\\AppData\\Local\\Programs\\Julia 1.5.1\\share\\julia\\stdlib\\v1.5\\LinearAlgebra\\src\\special.jl:213</a></li> <li> +(A::<b>SparseArrays.AbstractSparseMatrixCSC</b>, B::<b>SparseArrays.AbstractSparseMatrixCSC</b>) in SparseArrays at <a href=\"file://D:/buildbot/worker/package_win64/build/usr/share/julia/stdlib/v1.5/SparseArrays/src/sparsematrix.jl\" target=\"_blank\">C:\\Users\\HP\\AppData\\Local\\Programs\\Julia 1.5.1\\share\\julia\\stdlib\\v1.5\\SparseArrays\\src\\sparsematrix.jl:1679</a></li> <li> +(A::<b>SparseArrays.AbstractSparseMatrixCSC</b>, B::<b>Array</b>) in SparseArrays at <a href=\"file://D:/buildbot/worker/package_win64/build/usr/share/julia/stdlib/v1.5/SparseArrays/src/sparsematrix.jl\" target=\"_blank\">C:\\Users\\HP\\AppData\\Local\\Programs\\Julia 1.5.1\\share\\julia\\stdlib\\v1.5\\SparseArrays\\src\\sparsematrix.jl:1682</a></li> <li> +(x::<b>SparseArrays.AbstractSparseArray{Tv,Ti,1} where Ti where Tv</b>, y::<b>SparseArrays.AbstractSparseArray{Tv,Ti,1} where Ti where Tv</b>) in SparseArrays at <a href=\"file://D:/buildbot/worker/package_win64/build/usr/share/julia/stdlib/v1.5/SparseArrays/src/sparsevector.jl\" target=\"_blank\">C:\\Users\\HP\\AppData\\Local\\Programs\\Julia 1.5.1\\share\\julia\\stdlib\\v1.5\\SparseArrays\\src\\sparsevector.jl:1302</a></li> <li> +(A::<b>SparseArrays.AbstractSparseArray{Tv,Ti,2} where Ti where Tv</b>, B::<b>LinearAlgebra.Hermitian{var\"#s826\",var\"#s825\"} where var\"#s825\"<:(SparseArrays.AbstractSparseArray{Tv,Ti,2} where Ti where Tv) where var\"#s826\"</b>) in SparseArrays at <a href=\"file://D:/buildbot/worker/package_win64/build/usr/share/julia/stdlib/v1.5/SparseArrays/src/linalg.jl\" target=\"_blank\">C:\\Users\\HP\\AppData\\Local\\Programs\\Julia 1.5.1\\share\\julia\\stdlib\\v1.5\\SparseArrays\\src\\linalg.jl:12</a></li> <li> +(A::<b>LinearAlgebra.Hermitian{var\"#s824\",var\"#s823\"} where var\"#s823\"<:(SparseArrays.AbstractSparseArray{Tv,Ti,2} where Ti where Tv) where var\"#s824\"</b>, B::<b>SparseArrays.AbstractSparseArray{Tv,Ti,2} where Ti where Tv</b>) in SparseArrays at <a href=\"file://D:/buildbot/worker/package_win64/build/usr/share/julia/stdlib/v1.5/SparseArrays/src/linalg.jl\" target=\"_blank\">C:\\Users\\HP\\AppData\\Local\\Programs\\Julia 1.5.1\\share\\julia\\stdlib\\v1.5\\SparseArrays\\src\\linalg.jl:13</a></li> <li> +(A::<b>SparseArrays.AbstractSparseArray{Tv,Ti,2} where Ti where Tv</b>, B::<b>LinearAlgebra.Hermitian</b>) in SparseArrays at <a href=\"file://D:/buildbot/worker/package_win64/build/usr/share/julia/stdlib/v1.5/SparseArrays/src/linalg.jl\" target=\"_blank\">C:\\Users\\HP\\AppData\\Local\\Programs\\Julia 1.5.1\\share\\julia\\stdlib\\v1.5\\SparseArrays\\src\\linalg.jl:15</a></li> <li> +(A::<b>LinearAlgebra.Hermitian</b>, B::<b>SparseArrays.AbstractSparseArray{Tv,Ti,2} where Ti where Tv</b>) in SparseArrays at <a href=\"file://D:/buildbot/worker/package_win64/build/usr/share/julia/stdlib/v1.5/SparseArrays/src/linalg.jl\" target=\"_blank\">C:\\Users\\HP\\AppData\\Local\\Programs\\Julia 1.5.1\\share\\julia\\stdlib\\v1.5\\SparseArrays\\src\\linalg.jl:16</a></li> <li> +(A::<b>SparseArrays.AbstractSparseArray{Tv,Ti,2} where Ti where Tv</b>, B::<b>LinearAlgebra.Symmetric{var\"#s826\",var\"#s825\"} where var\"#s825\"<:(SparseArrays.AbstractSparseArray{Tv,Ti,2} where Ti where Tv) where var\"#s826\"</b>) in SparseArrays at <a href=\"file://D:/buildbot/worker/package_win64/build/usr/share/julia/stdlib/v1.5/SparseArrays/src/linalg.jl\" target=\"_blank\">C:\\Users\\HP\\AppData\\Local\\Programs\\Julia 1.5.1\\share\\julia\\stdlib\\v1.5\\SparseArrays\\src\\linalg.jl:12</a></li> <li> +(A::<b>LinearAlgebra.Symmetric{var\"#s824\",var\"#s823\"} where var\"#s823\"<:(SparseArrays.AbstractSparseArray{Tv,Ti,2} where Ti where Tv) where var\"#s824\"</b>, B::<b>SparseArrays.AbstractSparseArray{Tv,Ti,2} where Ti where Tv</b>) in SparseArrays at <a href=\"file://D:/buildbot/worker/package_win64/build/usr/share/julia/stdlib/v1.5/SparseArrays/src/linalg.jl\" target=\"_blank\">C:\\Users\\HP\\AppData\\Local\\Programs\\Julia 1.5.1\\share\\julia\\stdlib\\v1.5\\SparseArrays\\src\\linalg.jl:13</a></li> <li> +(A::<b>SparseArrays.AbstractSparseArray{Tv,Ti,2} where Ti where Tv</b>, B::<b>LinearAlgebra.Symmetric</b>) in SparseArrays at <a href=\"file://D:/buildbot/worker/package_win64/build/usr/share/julia/stdlib/v1.5/SparseArrays/src/linalg.jl\" target=\"_blank\">C:\\Users\\HP\\AppData\\Local\\Programs\\Julia 1.5.1\\share\\julia\\stdlib\\v1.5\\SparseArrays\\src\\linalg.jl:15</a></li> <li> +(A::<b>LinearAlgebra.Symmetric</b>, B::<b>SparseArrays.AbstractSparseArray{Tv,Ti,2} where Ti where Tv</b>) in SparseArrays at <a href=\"file://D:/buildbot/worker/package_win64/build/usr/share/julia/stdlib/v1.5/SparseArrays/src/linalg.jl\" target=\"_blank\">C:\\Users\\HP\\AppData\\Local\\Programs\\Julia 1.5.1\\share\\julia\\stdlib\\v1.5\\SparseArrays\\src\\linalg.jl:16</a></li> <li> +(A::<b>LinearAlgebra.Symmetric{var\"#s826\",var\"#s825\"} where var\"#s825\"<:(SparseArrays.AbstractSparseArray{Tv,Ti,2} where Ti where Tv) where var\"#s826\"</b>, B::<b>LinearAlgebra.Hermitian{var\"#s824\",var\"#s823\"} where var\"#s823\"<:(SparseArrays.AbstractSparseArray{Tv,Ti,2} where Ti where Tv) where var\"#s824\"</b>) in SparseArrays at <a href=\"file://D:/buildbot/worker/package_win64/build/usr/share/julia/stdlib/v1.5/SparseArrays/src/linalg.jl\" target=\"_blank\">C:\\Users\\HP\\AppData\\Local\\Programs\\Julia 1.5.1\\share\\julia\\stdlib\\v1.5\\SparseArrays\\src\\linalg.jl:21</a></li> <li> +(A::<b>LinearAlgebra.Hermitian{var\"#s822\",var\"#s821\"} where var\"#s821\"<:(SparseArrays.AbstractSparseArray{Tv,Ti,2} where Ti where Tv) where var\"#s822\"</b>, B::<b>LinearAlgebra.Symmetric{var\"#s820\",var\"#s819\"} where var\"#s819\"<:(SparseArrays.AbstractSparseArray{Tv,Ti,2} where Ti where Tv) where var\"#s820\"</b>) in SparseArrays at <a href=\"file://D:/buildbot/worker/package_win64/build/usr/share/julia/stdlib/v1.5/SparseArrays/src/linalg.jl\" target=\"_blank\">C:\\Users\\HP\\AppData\\Local\\Programs\\Julia 1.5.1\\share\\julia\\stdlib\\v1.5\\SparseArrays\\src\\linalg.jl:22</a></li> <li> +(a::<b>StaticArrays.StaticArray</b>, b::<b>StaticArrays.StaticArray</b>) in StaticArrays at <a href=\"file://C:/Users/HP/.julia/packages/StaticArrays/l7lu2/src/linalg.jl\" target=\"_blank\">C:\\Users\\HP\\.julia\\packages\\StaticArrays\\l7lu2\\src\\linalg.jl:11</a></li> <li> +(a::<b>StaticArrays.StaticArray</b>, b::<b>AbstractArray</b>) in StaticArrays at <a href=\"file://C:/Users/HP/.julia/packages/StaticArrays/l7lu2/src/linalg.jl\" target=\"_blank\">C:\\Users\\HP\\.julia\\packages\\StaticArrays\\l7lu2\\src\\linalg.jl:13</a></li> <li> +(a::<b>StaticArrays.SHermitianCompact</b>, b::<b>Number</b>) in StaticArrays at <a href=\"file://C:\\Users\\HP\\AppData\\Local\\Programs\\Julia 1.5.1\\bin\\..\\share\\julia\\base\\deprecated.jl\" target=\"_blank\">deprecated.jl:70</a></li> <li> +(a::<b>StaticArrays.StaticArray</b>, b::<b>Number</b>) in StaticArrays at <a href=\"file://C:\\Users\\HP\\AppData\\Local\\Programs\\Julia 1.5.1\\bin\\..\\share\\julia\\base\\deprecated.jl\" target=\"_blank\">deprecated.jl:70</a></li> <li> +(x::<b>AbstractArray{var\"#s91\",N} where N where var\"#s91\"<:Number</b>) in Base at <a href=\"https://github.com/JuliaLang/julia/tree/697e782ab86bfcdd7fd15550241fe162c51d9f98/base/abstractarraymath.jl#L97\" target=\"_blank\">abstractarraymath.jl:97</a></li> <li> +(a::<b>AbstractArray</b>, b::<b>StaticArrays.StaticArray</b>) in StaticArrays at <a href=\"file://C:/Users/HP/.julia/packages/StaticArrays/l7lu2/src/linalg.jl\" target=\"_blank\">C:\\Users\\HP\\.julia\\packages\\StaticArrays\\l7lu2\\src\\linalg.jl:12</a></li> <li> +(A::<b>AbstractArray</b>, B::<b>AbstractArray</b>) in Base at <a href=\"https://github.com/JuliaLang/julia/tree/697e782ab86bfcdd7fd15550241fe162c51d9f98/base/arraymath.jl#L37\" target=\"_blank\">arraymath.jl:37</a></li> <li> +(x::<b>T</b>, y::<b>Integer</b>)<i> where T<:AbstractChar</i> in Base at <a href=\"https://github.com/JuliaLang/julia/tree/697e782ab86bfcdd7fd15550241fe162c51d9f98/base/char.jl#L223\" target=\"_blank\">char.jl:223</a></li> <li> +(index1::<b>CartesianIndex{N}</b>, index2::<b>CartesianIndex{N}</b>)<i> where N</i> in Base.IteratorsMD at <a href=\"https://github.com/JuliaLang/julia/tree/697e782ab86bfcdd7fd15550241fe162c51d9f98/base/multidimensional.jl#L113\" target=\"_blank\">multidimensional.jl:113</a></li> <li> +(::<b>Number</b>, ::<b>Missing</b>) in Base at <a href=\"https://github.com/JuliaLang/julia/tree/697e782ab86bfcdd7fd15550241fe162c51d9f98/base/missing.jl#L116\" target=\"_blank\">missing.jl:116</a></li> <li> +(x::<b>P</b>, y::<b>P</b>)<i> where P<:Dates.Period</i> in Dates at <a href=\"file://D:/buildbot/worker/package_win64/build/usr/share/julia/stdlib/v1.5/Dates/src/periods.jl\" target=\"_blank\">C:\\Users\\HP\\AppData\\Local\\Programs\\Julia 1.5.1\\share\\julia\\stdlib\\v1.5\\Dates\\src\\periods.jl:78</a></li> <li> +(x::<b>Dates.Period</b>, y::<b>Dates.Period</b>) in Dates at <a href=\"file://D:/buildbot/worker/package_win64/build/usr/share/julia/stdlib/v1.5/Dates/src/periods.jl\" target=\"_blank\">C:\\Users\\HP\\AppData\\Local\\Programs\\Julia 1.5.1\\share\\julia\\stdlib\\v1.5\\Dates\\src\\periods.jl:344</a></li> <li> +(y::<b>Dates.Period</b>, x::<b>Dates.CompoundPeriod</b>) in Dates at <a href=\"file://D:/buildbot/worker/package_win64/build/usr/share/julia/stdlib/v1.5/Dates/src/periods.jl\" target=\"_blank\">C:\\Users\\HP\\AppData\\Local\\Programs\\Julia 1.5.1\\share\\julia\\stdlib\\v1.5\\Dates\\src\\periods.jl:346</a></li> <li> +(x::<b>Union{Dates.CompoundPeriod, Dates.Period}</b>) in Dates at <a href=\"file://D:/buildbot/worker/package_win64/build/usr/share/julia/stdlib/v1.5/Dates/src/periods.jl\" target=\"_blank\">C:\\Users\\HP\\AppData\\Local\\Programs\\Julia 1.5.1\\share\\julia\\stdlib\\v1.5\\Dates\\src\\periods.jl:355</a></li> <li> +(x::<b>Dates.TimeType</b>) in Dates at <a href=\"file://D:/buildbot/worker/package_win64/build/usr/share/julia/stdlib/v1.5/Dates/src/arithmetic.jl\" target=\"_blank\">C:\\Users\\HP\\AppData\\Local\\Programs\\Julia 1.5.1\\share\\julia\\stdlib\\v1.5\\Dates\\src\\arithmetic.jl:8</a></li> <li> +(a::<b>Dates.TimeType</b>, b::<b>Dates.Period</b>, c::<b>Dates.Period</b>) in Dates at <a href=\"file://D:/buildbot/worker/package_win64/build/usr/share/julia/stdlib/v1.5/Dates/src/periods.jl\" target=\"_blank\">C:\\Users\\HP\\AppData\\Local\\Programs\\Julia 1.5.1\\share\\julia\\stdlib\\v1.5\\Dates\\src\\periods.jl:366</a></li> <li> +(a::<b>Dates.TimeType</b>, b::<b>Dates.Period</b>, c::<b>Dates.Period</b>, d::<b>Dates.Period...</b>) in Dates at <a href=\"file://D:/buildbot/worker/package_win64/build/usr/share/julia/stdlib/v1.5/Dates/src/periods.jl\" target=\"_blank\">C:\\Users\\HP\\AppData\\Local\\Programs\\Julia 1.5.1\\share\\julia\\stdlib\\v1.5\\Dates\\src\\periods.jl:367</a></li> <li> +(x::<b>Dates.TimeType</b>, y::<b>Dates.CompoundPeriod</b>) in Dates at <a href=\"file://D:/buildbot/worker/package_win64/build/usr/share/julia/stdlib/v1.5/Dates/src/periods.jl\" target=\"_blank\">C:\\Users\\HP\\AppData\\Local\\Programs\\Julia 1.5.1\\share\\julia\\stdlib\\v1.5\\Dates\\src\\periods.jl:369</a></li> <li> +(x::<b>Dates.Instant</b>) in Dates at <a href=\"file://D:/buildbot/worker/package_win64/build/usr/share/julia/stdlib/v1.5/Dates/src/arithmetic.jl\" target=\"_blank\">C:\\Users\\HP\\AppData\\Local\\Programs\\Julia 1.5.1\\share\\julia\\stdlib\\v1.5\\Dates\\src\\arithmetic.jl:4</a></li> <li> +(y::<b>Dates.Period</b>, x::<b>Dates.TimeType</b>) in Dates at <a href=\"file://D:/buildbot/worker/package_win64/build/usr/share/julia/stdlib/v1.5/Dates/src/arithmetic.jl\" target=\"_blank\">C:\\Users\\HP\\AppData\\Local\\Programs\\Julia 1.5.1\\share\\julia\\stdlib\\v1.5\\Dates\\src\\arithmetic.jl:80</a></li> <li> +(x::<b>Dates.Period</b>, r::<b>AbstractRange{var\"#s826\"} where var\"#s826\"<:Dates.TimeType</b>) in Dates at <a href=\"file://D:/buildbot/worker/package_win64/build/usr/share/julia/stdlib/v1.5/Dates/src/ranges.jl\" target=\"_blank\">C:\\Users\\HP\\AppData\\Local\\Programs\\Julia 1.5.1\\share\\julia\\stdlib\\v1.5\\Dates\\src\\ranges.jl:58</a></li> <li> +(x::<b>AbstractArray{var\"#s826\",N} where N where var\"#s826\"<:Dates.TimeType</b>, y::<b>Union{Dates.CompoundPeriod, Dates.Period}</b>) in Dates at <a href=\"file://D:/buildbot/worker/package_win64/build/usr/share/julia/stdlib/v1.5/Dates/src/deprecated.jl\" target=\"_blank\">C:\\Users\\HP\\AppData\\Local\\Programs\\Julia 1.5.1\\share\\julia\\stdlib\\v1.5\\Dates\\src\\deprecated.jl:6</a></li> <li> +(y::<b>Union{Dates.CompoundPeriod, Dates.Period}</b>, x::<b>AbstractArray{var\"#s826\",N} where N where var\"#s826\"<:Dates.TimeType</b>) in Dates at <a href=\"file://D:/buildbot/worker/package_win64/build/usr/share/julia/stdlib/v1.5/Dates/src/deprecated.jl\" target=\"_blank\">C:\\Users\\HP\\AppData\\Local\\Programs\\Julia 1.5.1\\share\\julia\\stdlib\\v1.5\\Dates\\src\\deprecated.jl:14</a></li> <li> +(y::<b>Dates.TimeType</b>, x::<b>StridedArray{var\"#s826\", N} where N where var\"#s826\"<:Union{Dates.CompoundPeriod, Dates.Period}</b>) in Dates at <a href=\"file://D:/buildbot/worker/package_win64/build/usr/share/julia/stdlib/v1.5/Dates/src/deprecated.jl\" target=\"_blank\">C:\\Users\\HP\\AppData\\Local\\Programs\\Julia 1.5.1\\share\\julia\\stdlib\\v1.5\\Dates\\src\\deprecated.jl:18</a></li> <li> +(J::<b>LinearAlgebra.UniformScaling</b>, x::<b>Number</b>) in LinearAlgebra at <a href=\"file://D:/buildbot/worker/package_win64/build/usr/share/julia/stdlib/v1.5/LinearAlgebra/src/uniformscaling.jl\" target=\"_blank\">C:\\Users\\HP\\AppData\\Local\\Programs\\Julia 1.5.1\\share\\julia\\stdlib\\v1.5\\LinearAlgebra\\src\\uniformscaling.jl:111</a></li> <li> +(x::<b>Number</b>, J::<b>LinearAlgebra.UniformScaling</b>) in LinearAlgebra at <a href=\"file://D:/buildbot/worker/package_win64/build/usr/share/julia/stdlib/v1.5/LinearAlgebra/src/uniformscaling.jl\" target=\"_blank\">C:\\Users\\HP\\AppData\\Local\\Programs\\Julia 1.5.1\\share\\julia\\stdlib\\v1.5\\LinearAlgebra\\src\\uniformscaling.jl:112</a></li> <li> +(J1::<b>LinearAlgebra.UniformScaling</b>, J2::<b>LinearAlgebra.UniformScaling</b>) in LinearAlgebra at <a href=\"file://D:/buildbot/worker/package_win64/build/usr/share/julia/stdlib/v1.5/LinearAlgebra/src/uniformscaling.jl\" target=\"_blank\">C:\\Users\\HP\\AppData\\Local\\Programs\\Julia 1.5.1\\share\\julia\\stdlib\\v1.5\\LinearAlgebra\\src\\uniformscaling.jl:116</a></li> <li> +(J::<b>LinearAlgebra.UniformScaling</b>, B::<b>BitArray{2}</b>) in LinearAlgebra at <a href=\"file://D:/buildbot/worker/package_win64/build/usr/share/julia/stdlib/v1.5/LinearAlgebra/src/uniformscaling.jl\" target=\"_blank\">C:\\Users\\HP\\AppData\\Local\\Programs\\Julia 1.5.1\\share\\julia\\stdlib\\v1.5\\LinearAlgebra\\src\\uniformscaling.jl:118</a></li> <li> +(A::<b>LinearAlgebra.UniformScaling</b>, B::<b>LinearAlgebra.Tridiagonal{var\"#s826\",V} where V<:AbstractArray{var\"#s826\",1} where var\"#s826\"<:Number</b>) in LinearAlgebra at <a href=\"file://D:/buildbot/worker/package_win64/build/usr/share/julia/stdlib/v1.5/LinearAlgebra/src/special.jl\" target=\"_blank\">C:\\Users\\HP\\AppData\\Local\\Programs\\Julia 1.5.1\\share\\julia\\stdlib\\v1.5\\LinearAlgebra\\src\\special.jl:245</a></li> <li> +(A::<b>LinearAlgebra.UniformScaling</b>, B::<b>LinearAlgebra.SymTridiagonal{var\"#s826\",V} where V<:AbstractArray{var\"#s826\",1} where var\"#s826\"<:Number</b>) in LinearAlgebra at <a href=\"file://D:/buildbot/worker/package_win64/build/usr/share/julia/stdlib/v1.5/LinearAlgebra/src/special.jl\" target=\"_blank\">C:\\Users\\HP\\AppData\\Local\\Programs\\Julia 1.5.1\\share\\julia\\stdlib\\v1.5\\LinearAlgebra\\src\\special.jl:250</a></li> <li> +(A::<b>LinearAlgebra.UniformScaling</b>, B::<b>LinearAlgebra.Bidiagonal{var\"#s826\",V} where V<:AbstractArray{var\"#s826\",1} where var\"#s826\"<:Number</b>) in LinearAlgebra at <a href=\"file://D:/buildbot/worker/package_win64/build/usr/share/julia/stdlib/v1.5/LinearAlgebra/src/special.jl\" target=\"_blank\">C:\\Users\\HP\\AppData\\Local\\Programs\\Julia 1.5.1\\share\\julia\\stdlib\\v1.5\\LinearAlgebra\\src\\special.jl:255</a></li> <li> +(A::<b>LinearAlgebra.UniformScaling</b>, B::<b>LinearAlgebra.Diagonal{var\"#s826\",V} where V<:AbstractArray{var\"#s826\",1} where var\"#s826\"<:Number</b>) in LinearAlgebra at <a href=\"file://D:/buildbot/worker/package_win64/build/usr/share/julia/stdlib/v1.5/LinearAlgebra/src/special.jl\" target=\"_blank\">C:\\Users\\HP\\AppData\\Local\\Programs\\Julia 1.5.1\\share\\julia\\stdlib\\v1.5\\LinearAlgebra\\src\\special.jl:260</a></li> <li> +(a::<b>LinearAlgebra.UniformScaling</b>, b::<b>StaticArrays.StaticArray{Tuple{N,M},T,2} where T where M where N</b>) in StaticArrays at <a href=\"file://C:/Users/HP/.julia/packages/StaticArrays/l7lu2/src/linalg.jl\" target=\"_blank\">C:\\Users\\HP\\.julia\\packages\\StaticArrays\\l7lu2\\src\\linalg.jl:29</a></li> <li> +(J::<b>LinearAlgebra.UniformScaling</b>, A::<b>AbstractArray{T,2} where T</b>) in LinearAlgebra at <a href=\"file://D:/buildbot/worker/package_win64/build/usr/share/julia/stdlib/v1.5/LinearAlgebra/src/uniformscaling.jl\" target=\"_blank\">C:\\Users\\HP\\AppData\\Local\\Programs\\Julia 1.5.1\\share\\julia\\stdlib\\v1.5\\LinearAlgebra\\src\\uniformscaling.jl:119</a></li> <li> +(F::<b>LinearAlgebra.Hessenberg</b>, J::<b>LinearAlgebra.UniformScaling</b>) in LinearAlgebra at <a href=\"file://D:/buildbot/worker/package_win64/build/usr/share/julia/stdlib/v1.5/LinearAlgebra/src/hessenberg.jl\" target=\"_blank\">C:\\Users\\HP\\AppData\\Local\\Programs\\Julia 1.5.1\\share\\julia\\stdlib\\v1.5\\LinearAlgebra\\src\\hessenberg.jl:559</a></li> <li> +(J::<b>LinearAlgebra.UniformScaling</b>, F::<b>LinearAlgebra.Hessenberg</b>) in LinearAlgebra at <a href=\"file://D:/buildbot/worker/package_win64/build/usr/share/julia/stdlib/v1.5/LinearAlgebra/src/hessenberg.jl\" target=\"_blank\">C:\\Users\\HP\\AppData\\Local\\Programs\\Julia 1.5.1\\share\\julia\\stdlib\\v1.5\\LinearAlgebra\\src\\hessenberg.jl:560</a></li> <li> +(a::<b>Number</b>, b::<b>StaticArrays.SHermitianCompact</b>) in StaticArrays at <a href=\"file://C:\\Users\\HP\\AppData\\Local\\Programs\\Julia 1.5.1\\bin\\..\\share\\julia\\base\\deprecated.jl\" target=\"_blank\">deprecated.jl:70</a></li> <li> +(a::<b>Number</b>, b::<b>StaticArrays.StaticArray</b>) in StaticArrays at <a href=\"file://C:\\Users\\HP\\AppData\\Local\\Programs\\Julia 1.5.1\\bin\\..\\share\\julia\\base\\deprecated.jl\" target=\"_blank\">deprecated.jl:70</a></li> <li> +(a::<b>C</b>, b::<b>C</b>)<i> where C<:Union{LMS, XYZ}</i> in Colors at <a href=\"file://C:/Users/HP/.julia/packages/Colors/kc2v8/src/algorithms.jl\" target=\"_blank\">C:\\Users\\HP\\.julia\\packages\\Colors\\kc2v8\\src\\algorithms.jl:4</a></li> <li> +(a::<b>Measures.Length{U,T} where T</b>, b::<b>Measures.Length{U,T} where T</b>)<i> where U</i> in Measures at <a href=\"file://C:/Users/HP/.julia/packages/Measures/0Zkai/src/length.jl\" target=\"_blank\">C:\\Users\\HP\\.julia\\packages\\Measures\\0Zkai\\src\\length.jl:28</a></li> <li> +(a::<b>Measures.Measure</b>, b::<b>Measures.Measure</b>) in Measures at <a href=\"file://C:/Users/HP/.julia/packages/Measures/0Zkai/src/operations.jl\" target=\"_blank\">C:\\Users\\HP\\.julia\\packages\\Measures\\0Zkai\\src\\operations.jl:41</a></li> <li> +(a::<b>Tuple{Vararg{Measures.Measure,N}}</b>, b::<b>Tuple{Vararg{Measures.Measure,N}}</b>)<i> where N</i> in Measures at <a href=\"file://C:/Users/HP/.julia/packages/Measures/0Zkai/src/point.jl\" target=\"_blank\">C:\\Users\\HP\\.julia\\packages\\Measures\\0Zkai\\src\\point.jl:21</a></li> <li> +(a::<b>Tuple{Vararg{Measures.Measure,N}} where N</b>, b::<b>Tuple{Vararg{Measures.Measure,N}} where N</b>) in Measures at <a href=\"file://C:/Users/HP/.julia/packages/Measures/0Zkai/src/point.jl\" target=\"_blank\">C:\\Users\\HP\\.julia\\packages\\Measures\\0Zkai\\src\\point.jl:15</a></li> <li> +(h::<b>GeometryTypes.HyperRectangle{N,T}</b>, move::<b>GeometryTypes.Vec{N,T} where T</b>)<i> where {N, T}</i> in GeometryTypes at <a href=\"file://C:/Users/HP/.julia/packages/GeometryTypes/gpBFp/src/hyperrectangles.jl\" target=\"_blank\">C:\\Users\\HP\\.julia\\packages\\GeometryTypes\\gpBFp\\src\\hyperrectangles.jl:201</a></li> <li> +(h::<b>GeometryTypes.SimpleRectangle{T}</b>, move::<b>GeometryTypes.Vec{2,T} where T</b>)<i> where T</i> in GeometryTypes at <a href=\"file://C:/Users/HP/.julia/packages/GeometryTypes/gpBFp/src/hyperrectangles.jl\" target=\"_blank\">C:\\Users\\HP\\.julia\\packages\\GeometryTypes\\gpBFp\\src\\hyperrectangles.jl:208</a></li> <li> +(h::<b>GeometryBasics.HyperRectangle{N,T}</b>, move::<b>Number</b>)<i> where {N, T}</i> in GeometryBasics at <a href=\"file://C:/Users/HP/.julia/packages/GeometryBasics/CMxB4/src/rectangles.jl\" target=\"_blank\">C:\\Users\\HP\\.julia\\packages\\GeometryBasics\\CMxB4\\src\\rectangles.jl:272</a></li> <li> +(h::<b>GeometryBasics.HyperRectangle{N,T}</b>, move::<b>StaticArrays.StaticArray{Tuple{N},T,1} where T</b>)<i> where {N, T}</i> in GeometryBasics at <a href=\"file://C:/Users/HP/.julia/packages/GeometryBasics/CMxB4/src/rectangles.jl\" target=\"_blank\">C:\\Users\\HP\\.julia\\packages\\GeometryBasics\\CMxB4\\src\\rectangles.jl:279</a></li> <li> +(bb1::<b>Measures.BoundingBox</b>, bb2::<b>Measures.BoundingBox</b>) in Plots at <a href=\"file://C:/Users/HP/.julia/packages/Plots/M1wcx/src/layouts.jl\" target=\"_blank\">C:\\Users\\HP\\.julia\\packages\\Plots\\M1wcx\\src\\layouts.jl:47</a></li> <li> +(l1::<b>Lazy.List</b>, ls::<b>Lazy.List...</b>) in Lazy at <a href=\"file://C:/Users/HP/.julia/packages/Lazy/mAoZN/src/Lazy.jl\" target=\"_blank\">C:\\Users\\HP\\.julia\\packages\\Lazy\\mAoZN\\src\\Lazy.jl:20</a></li> <li> +(a, b, c, xs...) in Base at <a href=\"https://github.com/JuliaLang/julia/tree/697e782ab86bfcdd7fd15550241fe162c51d9f98/base/operators.jl#L538\" target=\"_blank\">operators.jl:538</a></li> </ul>"
      ],
      "text/plain": [
       "# 207 methods for generic function \"+\":\n",
       "[1] +(a::BigFloat, b::BigFloat, c::BigFloat, d::BigFloat, e::BigFloat) in Base.MPFR at mpfr.jl:548\n",
       "[2] +(a::BigFloat, b::BigFloat, c::BigFloat, d::BigFloat) in Base.MPFR at mpfr.jl:541\n",
       "[3] +(a::BigFloat, b::BigFloat, c::BigFloat) in Base.MPFR at mpfr.jl:535\n",
       "[4] +(x::BigFloat, c::BigInt) in Base.MPFR at mpfr.jl:394\n",
       "[5] +(x::BigFloat, y::BigFloat) in Base.MPFR at mpfr.jl:363\n",
       "[6] +(x::BigFloat, c::Union{UInt16, UInt32, UInt8}) in Base.MPFR at mpfr.jl:370\n",
       "[7] +(x::BigFloat, c::Union{Int16, Int32, Int8}) in Base.MPFR at mpfr.jl:378\n",
       "[8] +(x::BigFloat, c::Union{Float16, Float32, Float64}) in Base.MPFR at mpfr.jl:386\n",
       "[9] +(a::Pkg.Resolve.VersionWeight, b::Pkg.Resolve.VersionWeight) in Pkg.Resolve at C:\\Users\\HP\\AppData\\Local\\Programs\\Julia 1.5.1\\share\\julia\\stdlib\\v1.5\\Pkg\\src\\Resolve\\versionweights.jl:22\n",
       "[10] +(a::Pkg.Resolve.FieldValue, b::Pkg.Resolve.FieldValue) in Pkg.Resolve at C:\\Users\\HP\\AppData\\Local\\Programs\\Julia 1.5.1\\share\\julia\\stdlib\\v1.5\\Pkg\\src\\Resolve\\fieldvalues.jl:43\n",
       "[11] +(x::Float32, y::Float32) in Base at float.jl:400\n",
       "[12] +(x::Float64, y::Float64) in Base at float.jl:401\n",
       "[13] +(c::BigInt, x::BigFloat) in Base.MPFR at mpfr.jl:399\n",
       "[14] +(a::BigInt, b::BigInt, c::BigInt, d::BigInt, e::BigInt) in Base.GMP at gmp.jl:518\n",
       "[15] +(a::BigInt, b::BigInt, c::BigInt, d::BigInt) in Base.GMP at gmp.jl:517\n",
       "[16] +(a::BigInt, b::BigInt, c::BigInt) in Base.GMP at gmp.jl:516\n",
       "[17] +(x::BigInt, y::BigInt) in Base.GMP at gmp.jl:476\n",
       "[18] +(x::BigInt, c::Union{UInt16, UInt32, UInt8}) in Base.GMP at gmp.jl:524\n",
       "[19] +(x::BigInt, c::Union{Int16, Int32, Int8}) in Base.GMP at gmp.jl:530\n",
       "[20] +(x::Dates.CompoundPeriod, y::Dates.CompoundPeriod) in Dates at C:\\Users\\HP\\AppData\\Local\\Programs\\Julia 1.5.1\\share\\julia\\stdlib\\v1.5\\Dates\\src\\periods.jl:347\n",
       "[21] +(x::Dates.CompoundPeriod, y::Dates.Period) in Dates at C:\\Users\\HP\\AppData\\Local\\Programs\\Julia 1.5.1\\share\\julia\\stdlib\\v1.5\\Dates\\src\\periods.jl:345\n",
       "[22] +(x::Dates.CompoundPeriod, y::Dates.TimeType) in Dates at C:\\Users\\HP\\AppData\\Local\\Programs\\Julia 1.5.1\\share\\julia\\stdlib\\v1.5\\Dates\\src\\periods.jl:375\n",
       "[23] +(x::Bool, z::Complex{Bool}) in Base at complex.jl:286\n",
       "[24] +(x::Bool, y::Bool) in Base at bool.jl:96\n",
       "[25] +(x::Bool) in Base at bool.jl:93\n",
       "[26] +(x::Bool, y::T) where T<:AbstractFloat in Base at bool.jl:103\n",
       "[27] +(x::Bool, z::Complex) in Base at complex.jl:293\n",
       "[28] +(::Missing, ::Missing) in Base at missing.jl:114\n",
       "[29] +(::Missing) in Base at missing.jl:100\n",
       "[30] +(::Missing, ::Number) in Base at missing.jl:115\n",
       "[31] +(level::Base.CoreLogging.LogLevel, inc::Integer) in Base.CoreLogging at logging.jl:116\n",
       "[32] +(z::Complex{Bool}, x::Bool) in Base at complex.jl:287\n",
       "[33] +(z::Complex{Bool}, x::Real) in Base at complex.jl:301\n",
       "[34] +(x::Dates.Date, y::Dates.Day) in Dates at C:\\Users\\HP\\AppData\\Local\\Programs\\Julia 1.5.1\\share\\julia\\stdlib\\v1.5\\Dates\\src\\arithmetic.jl:74\n",
       "[35] +(x::Dates.Date, y::Dates.Week) in Dates at C:\\Users\\HP\\AppData\\Local\\Programs\\Julia 1.5.1\\share\\julia\\stdlib\\v1.5\\Dates\\src\\arithmetic.jl:72\n",
       "[36] +(dt::Dates.Date, z::Dates.Month) in Dates at C:\\Users\\HP\\AppData\\Local\\Programs\\Julia 1.5.1\\share\\julia\\stdlib\\v1.5\\Dates\\src\\arithmetic.jl:54\n",
       "[37] +(dt::Dates.Date, y::Dates.Year) in Dates at C:\\Users\\HP\\AppData\\Local\\Programs\\Julia 1.5.1\\share\\julia\\stdlib\\v1.5\\Dates\\src\\arithmetic.jl:27\n",
       "[38] +(dt::Dates.Date, t::Dates.Time) in Dates at C:\\Users\\HP\\AppData\\Local\\Programs\\Julia 1.5.1\\share\\julia\\stdlib\\v1.5\\Dates\\src\\arithmetic.jl:19\n",
       "[39] +(t::Dates.Time, dt::Dates.Date) in Dates at C:\\Users\\HP\\AppData\\Local\\Programs\\Julia 1.5.1\\share\\julia\\stdlib\\v1.5\\Dates\\src\\arithmetic.jl:20\n",
       "[40] +(x::Dates.Time, y::Dates.TimePeriod) in Dates at C:\\Users\\HP\\AppData\\Local\\Programs\\Julia 1.5.1\\share\\julia\\stdlib\\v1.5\\Dates\\src\\arithmetic.jl:78\n",
       "[41] +(dt::Dates.DateTime, z::Dates.Month) in Dates at C:\\Users\\HP\\AppData\\Local\\Programs\\Julia 1.5.1\\share\\julia\\stdlib\\v1.5\\Dates\\src\\arithmetic.jl:47\n",
       "[42] +(dt::Dates.DateTime, y::Dates.Year) in Dates at C:\\Users\\HP\\AppData\\Local\\Programs\\Julia 1.5.1\\share\\julia\\stdlib\\v1.5\\Dates\\src\\arithmetic.jl:23\n",
       "[43] +(x::Dates.DateTime, y::Dates.Period) in Dates at C:\\Users\\HP\\AppData\\Local\\Programs\\Julia 1.5.1\\share\\julia\\stdlib\\v1.5\\Dates\\src\\arithmetic.jl:76\n",
       "[44] +(a::Float16, b::Float16) in Base at float.jl:398\n",
       "[45] +(B::BitArray{2}, J::LinearAlgebra.UniformScaling) in LinearAlgebra at C:\\Users\\HP\\AppData\\Local\\Programs\\Julia 1.5.1\\share\\julia\\stdlib\\v1.5\\LinearAlgebra\\src\\uniformscaling.jl:117\n",
       "[46] +(y::AbstractFloat, x::Bool) in Base at bool.jl:106\n",
       "[47] +(x::T, y::T) where T<:Union{Int128, Int16, Int32, Int64, Int8, UInt128, UInt16, UInt32, UInt64, UInt8} in Base at int.jl:86\n",
       "[48] +(c::Union{UInt16, UInt32, UInt8}, x::BigInt) in Base.GMP at gmp.jl:525\n",
       "[49] +(c::Union{Int16, Int32, Int8}, x::BigInt) in Base.GMP at gmp.jl:531\n",
       "[50] +(x::GeometryTypes.OffsetInteger{O,T} where T<:Integer, y::GeometryTypes.OffsetInteger{O,T} where T<:Integer) where O in GeometryTypes at C:\\Users\\HP\\.julia\\packages\\GeometryTypes\\gpBFp\\src\\faces.jl:31\n",
       "[51] +(x::GeometryBasics.OffsetInteger{O,T} where T<:Integer, y::GeometryBasics.OffsetInteger{O,T} where T<:Integer) where O in GeometryBasics at C:\\Users\\HP\\.julia\\packages\\GeometryBasics\\CMxB4\\src\\offsetintegers.jl:54\n",
       "[52] +(a::Integer, b::Integer) in Base at int.jl:918\n",
       "[53] +(x::Integer, y::Ptr) in Base at pointer.jl:161\n",
       "[54] +(z::Complex) in Base at complex.jl:273\n",
       "[55] +(z::Complex, w::Complex) in Base at complex.jl:275\n",
       "[56] +(z::Complex, x::Bool) in Base at complex.jl:294\n",
       "[57] +(x::Rational) in Base at rational.jl:266\n",
       "[58] +(x::Real, z::Complex{Bool}) in Base at complex.jl:300\n",
       "[59] +(x::Real, z::Complex) in Base at complex.jl:312\n",
       "[60] +(z::Complex, x::Real) in Base at complex.jl:313\n",
       "[61] +(x::Rational, y::Rational) in Base at rational.jl:282\n",
       "[62] +(x::Rational, y::Integer) in Base at rational.jl:287\n",
       "[63] +(y::Integer, x::Rational) in Base at rational.jl:294\n",
       "[64] +(x::Integer, y::AbstractChar) in Base at char.jl:224\n",
       "[65] +(c::Union{UInt16, UInt32, UInt8}, x::BigFloat) in Base.MPFR at mpfr.jl:375\n",
       "[66] +(c::Union{Int16, Int32, Int8}, x::BigFloat) in Base.MPFR at mpfr.jl:383\n",
       "[67] +(c::Union{Float16, Float32, Float64}, x::BigFloat) in Base.MPFR at mpfr.jl:391\n",
       "[68] +(x::AbstractIrrational, y::AbstractIrrational) in Base at irrationals.jl:156\n",
       "[69] +(x::X, y::X) where X<:FixedPointNumbers.FixedPoint in FixedPointNumbers at C:\\Users\\HP\\.julia\\packages\\FixedPointNumbers\\HAGk2\\src\\FixedPointNumbers.jl:237\n",
       "[70] +(x::Number) in Base at operators.jl:513\n",
       "[71] +(x::T, y::T) where T<:Number in Base at promotion.jl:384\n",
       "[72] +(x::Number, y::Number) in Base at promotion.jl:311\n",
       "[73] +(r1::OrdinalRange, r2::OrdinalRange) in Base at range.jl:1055\n",
       "[74] +(r1::LinRange{T}, r2::LinRange{T}) where T in Base at range.jl:1062\n",
       "[75] +(r1::StepRangeLen{T,R,S} where S, r2::StepRangeLen{T,R,S} where S) where {R<:Base.TwicePrecision, T} in Base at twiceprecision.jl:577\n",
       "[76] +(r1::StepRangeLen{T,S,S1} where S1, r2::StepRangeLen{T,S,S1} where S1) where {T, S} in Base at range.jl:1078\n",
       "[77] +(r1::Union{LinRange, OrdinalRange, StepRangeLen}, r2::Union{LinRange, OrdinalRange, StepRangeLen}) in Base at range.jl:1071\n",
       "[78] +(x::Ptr, y::Integer) in Base at pointer.jl:159\n",
       "[79] +(x::Base.TwicePrecision, y::Number) in Base at twiceprecision.jl:267\n",
       "[80] +(x::Number, y::Base.TwicePrecision) in Base at twiceprecision.jl:271\n",
       "[81] +(x::Base.TwicePrecision{T}, y::Base.TwicePrecision{T}) where T in Base at twiceprecision.jl:273\n",
       "[82] +(x::Base.TwicePrecision, y::Base.TwicePrecision) in Base at twiceprecision.jl:278\n",
       "[83] +(A::Array, Bs::Array...) in Base at arraymath.jl:43\n",
       "[84] +(A::BitArray, B::BitArray) in Base at bitarray.jl:1110\n",
       "[85] +(r::AbstractRange{var\"#s826\"} where var\"#s826\"<:Dates.TimeType, x::Dates.Period) in Dates at C:\\Users\\HP\\AppData\\Local\\Programs\\Julia 1.5.1\\share\\julia\\stdlib\\v1.5\\Dates\\src\\ranges.jl:59\n",
       "[86] +(A::Array, B::SparseArrays.AbstractSparseMatrixCSC) in SparseArrays at C:\\Users\\HP\\AppData\\Local\\Programs\\Julia 1.5.1\\share\\julia\\stdlib\\v1.5\\SparseArrays\\src\\sparsematrix.jl:1683\n",
       "[87] +(x::StridedArray{var\"#s826\", N} where N where var\"#s826\"<:Union{Dates.CompoundPeriod, Dates.Period}) in Dates at C:\\Users\\HP\\AppData\\Local\\Programs\\Julia 1.5.1\\share\\julia\\stdlib\\v1.5\\Dates\\src\\deprecated.jl:55\n",
       "[88] +(x::StridedArray{var\"#s826\", N} where N where var\"#s826\"<:Union{Dates.CompoundPeriod, Dates.Period}, y::Dates.TimeType) in Dates at C:\\Users\\HP\\AppData\\Local\\Programs\\Julia 1.5.1\\share\\julia\\stdlib\\v1.5\\Dates\\src\\deprecated.jl:10\n",
       "[89] +(X::StridedArray{var\"#s826\", N} where N where var\"#s826\"<:Union{Dates.CompoundPeriod, Dates.Period}, Y::StridedArray{var\"#s825\", N} where N where var\"#s825\"<:Union{Dates.CompoundPeriod, Dates.Period}) in Dates at C:\\Users\\HP\\AppData\\Local\\Programs\\Julia 1.5.1\\share\\julia\\stdlib\\v1.5\\Dates\\src\\deprecated.jl:62\n",
       "[90] +(A::LinearAlgebra.SymTridiagonal, B::LinearAlgebra.SymTridiagonal) in LinearAlgebra at C:\\Users\\HP\\AppData\\Local\\Programs\\Julia 1.5.1\\share\\julia\\stdlib\\v1.5\\LinearAlgebra\\src\\tridiag.jl:205\n",
       "[91] +(A::LinearAlgebra.Tridiagonal, B::LinearAlgebra.Tridiagonal) in LinearAlgebra at C:\\Users\\HP\\AppData\\Local\\Programs\\Julia 1.5.1\\share\\julia\\stdlib\\v1.5\\LinearAlgebra\\src\\tridiag.jl:732\n",
       "[92] +(A::LinearAlgebra.UpperTriangular, B::LinearAlgebra.UpperTriangular) in LinearAlgebra at C:\\Users\\HP\\AppData\\Local\\Programs\\Julia 1.5.1\\share\\julia\\stdlib\\v1.5\\LinearAlgebra\\src\\triangular.jl:659\n",
       "[93] +(A::LinearAlgebra.LowerTriangular, B::LinearAlgebra.LowerTriangular) in LinearAlgebra at C:\\Users\\HP\\AppData\\Local\\Programs\\Julia 1.5.1\\share\\julia\\stdlib\\v1.5\\LinearAlgebra\\src\\triangular.jl:660\n",
       "[94] +(A::LinearAlgebra.UpperTriangular, B::LinearAlgebra.UnitUpperTriangular) in LinearAlgebra at C:\\Users\\HP\\AppData\\Local\\Programs\\Julia 1.5.1\\share\\julia\\stdlib\\v1.5\\LinearAlgebra\\src\\triangular.jl:661\n",
       "[95] +(A::LinearAlgebra.LowerTriangular, B::LinearAlgebra.UnitLowerTriangular) in LinearAlgebra at C:\\Users\\HP\\AppData\\Local\\Programs\\Julia 1.5.1\\share\\julia\\stdlib\\v1.5\\LinearAlgebra\\src\\triangular.jl:662\n",
       "[96] +(A::LinearAlgebra.UnitUpperTriangular, B::LinearAlgebra.UpperTriangular) in LinearAlgebra at C:\\Users\\HP\\AppData\\Local\\Programs\\Julia 1.5.1\\share\\julia\\stdlib\\v1.5\\LinearAlgebra\\src\\triangular.jl:663\n",
       "[97] +(A::LinearAlgebra.UnitLowerTriangular, B::LinearAlgebra.LowerTriangular) in LinearAlgebra at C:\\Users\\HP\\AppData\\Local\\Programs\\Julia 1.5.1\\share\\julia\\stdlib\\v1.5\\LinearAlgebra\\src\\triangular.jl:664\n",
       "[98] +(A::LinearAlgebra.UnitUpperTriangular, B::LinearAlgebra.UnitUpperTriangular) in LinearAlgebra at C:\\Users\\HP\\AppData\\Local\\Programs\\Julia 1.5.1\\share\\julia\\stdlib\\v1.5\\LinearAlgebra\\src\\triangular.jl:665\n",
       "[99] +(A::LinearAlgebra.UnitLowerTriangular, B::LinearAlgebra.UnitLowerTriangular) in LinearAlgebra at C:\\Users\\HP\\AppData\\Local\\Programs\\Julia 1.5.1\\share\\julia\\stdlib\\v1.5\\LinearAlgebra\\src\\triangular.jl:666\n",
       "[100] +(A::LinearAlgebra.AbstractTriangular, B::LinearAlgebra.AbstractTriangular) in LinearAlgebra at C:\\Users\\HP\\AppData\\Local\\Programs\\Julia 1.5.1\\share\\julia\\stdlib\\v1.5\\LinearAlgebra\\src\\triangular.jl:667\n",
       "[101] +(A::LinearAlgebra.Hermitian, B::LinearAlgebra.Hermitian) in LinearAlgebra at C:\\Users\\HP\\AppData\\Local\\Programs\\Julia 1.5.1\\share\\julia\\stdlib\\v1.5\\LinearAlgebra\\src\\symmetric.jl:466\n",
       "[102] +(A::LinearAlgebra.Symmetric, B::LinearAlgebra.Symmetric) in LinearAlgebra at C:\\Users\\HP\\AppData\\Local\\Programs\\Julia 1.5.1\\share\\julia\\stdlib\\v1.5\\LinearAlgebra\\src\\symmetric.jl:466\n",
       "[103] +(A::LinearAlgebra.Hermitian{var\"#s814\",var\"#s813\"} where var\"#s813\"<:(SparseArrays.AbstractSparseArray{Tv,Ti,2} where Ti where Tv) where var\"#s814\", B::LinearAlgebra.Symmetric{var\"#s812\",var\"#s811\"} where var\"#s811\"<:(SparseArrays.AbstractSparseArray{Tv,Ti,2} where Ti where Tv) where var\"#s812\"<:Real) in SparseArrays at C:\\Users\\HP\\AppData\\Local\\Programs\\Julia 1.5.1\\share\\julia\\stdlib\\v1.5\\SparseArrays\\src\\linalg.jl:24\n",
       "[104] +(A::LinearAlgebra.Hermitian, B::LinearAlgebra.Symmetric{var\"#s826\",S} where S<:(AbstractArray{var\"#s8261\",2} where var\"#s8261\"<:var\"#s826\") where var\"#s826\"<:Real) in LinearAlgebra at C:\\Users\\HP\\AppData\\Local\\Programs\\Julia 1.5.1\\share\\julia\\stdlib\\v1.5\\LinearAlgebra\\src\\symmetric.jl:480\n",
       "[105] +(A::LinearAlgebra.Symmetric{var\"#s818\",var\"#s817\"} where var\"#s817\"<:(SparseArrays.AbstractSparseArray{Tv,Ti,2} where Ti where Tv) where var\"#s818\"<:Real, B::LinearAlgebra.Hermitian{var\"#s816\",var\"#s815\"} where var\"#s815\"<:(SparseArrays.AbstractSparseArray{Tv,Ti,2} where Ti where Tv) where var\"#s816\") in SparseArrays at C:\\Users\\HP\\AppData\\Local\\Programs\\Julia 1.5.1\\share\\julia\\stdlib\\v1.5\\SparseArrays\\src\\linalg.jl:23\n",
       "[106] +(A::LinearAlgebra.Symmetric{var\"#s825\",S} where S<:(AbstractArray{var\"#s826\",2} where var\"#s826\"<:var\"#s825\") where var\"#s825\"<:Real, B::LinearAlgebra.Hermitian) in LinearAlgebra at C:\\Users\\HP\\AppData\\Local\\Programs\\Julia 1.5.1\\share\\julia\\stdlib\\v1.5\\LinearAlgebra\\src\\symmetric.jl:481\n",
       "[107] +(Da::LinearAlgebra.Diagonal, Db::LinearAlgebra.Diagonal) in LinearAlgebra at C:\\Users\\HP\\AppData\\Local\\Programs\\Julia 1.5.1\\share\\julia\\stdlib\\v1.5\\LinearAlgebra\\src\\diagonal.jl:156\n",
       "[108] +(D::LinearAlgebra.Diagonal, S::LinearAlgebra.Symmetric) in LinearAlgebra at C:\\Users\\HP\\AppData\\Local\\Programs\\Julia 1.5.1\\share\\julia\\stdlib\\v1.5\\LinearAlgebra\\src\\diagonal.jl:160\n",
       "[109] +(S::LinearAlgebra.Symmetric, D::LinearAlgebra.Diagonal) in LinearAlgebra at C:\\Users\\HP\\AppData\\Local\\Programs\\Julia 1.5.1\\share\\julia\\stdlib\\v1.5\\LinearAlgebra\\src\\diagonal.jl:163\n",
       "[110] +(D::LinearAlgebra.Diagonal{var\"#s826\",V} where V<:AbstractArray{var\"#s826\",1} where var\"#s826\"<:Real, H::LinearAlgebra.Hermitian) in LinearAlgebra at C:\\Users\\HP\\AppData\\Local\\Programs\\Julia 1.5.1\\share\\julia\\stdlib\\v1.5\\LinearAlgebra\\src\\diagonal.jl:166\n",
       "[111] +(H::LinearAlgebra.Hermitian, D::LinearAlgebra.Diagonal{var\"#s826\",V} where V<:AbstractArray{var\"#s826\",1} where var\"#s826\"<:Real) in LinearAlgebra at C:\\Users\\HP\\AppData\\Local\\Programs\\Julia 1.5.1\\share\\julia\\stdlib\\v1.5\\LinearAlgebra\\src\\diagonal.jl:169\n",
       "[112] +(A::LinearAlgebra.Bidiagonal, B::LinearAlgebra.Bidiagonal) in LinearAlgebra at C:\\Users\\HP\\AppData\\Local\\Programs\\Julia 1.5.1\\share\\julia\\stdlib\\v1.5\\LinearAlgebra\\src\\bidiag.jl:347\n",
       "[113] +(UL::LinearAlgebra.UnitUpperTriangular, J::LinearAlgebra.UniformScaling) in LinearAlgebra at C:\\Users\\HP\\AppData\\Local\\Programs\\Julia 1.5.1\\share\\julia\\stdlib\\v1.5\\LinearAlgebra\\src\\uniformscaling.jl:147\n",
       "[114] +(UL::LinearAlgebra.UnitLowerTriangular, J::LinearAlgebra.UniformScaling) in LinearAlgebra at C:\\Users\\HP\\AppData\\Local\\Programs\\Julia 1.5.1\\share\\julia\\stdlib\\v1.5\\LinearAlgebra\\src\\uniformscaling.jl:147\n",
       "[115] +(A::LinearAlgebra.Hermitian, J::LinearAlgebra.UniformScaling{var\"#s826\"} where var\"#s826\"<:Complex) in LinearAlgebra at C:\\Users\\HP\\AppData\\Local\\Programs\\Julia 1.5.1\\share\\julia\\stdlib\\v1.5\\LinearAlgebra\\src\\uniformscaling.jl:161\n",
       "[116] +(H::LinearAlgebra.UpperHessenberg, J::LinearAlgebra.UniformScaling) in LinearAlgebra at C:\\Users\\HP\\AppData\\Local\\Programs\\Julia 1.5.1\\share\\julia\\stdlib\\v1.5\\LinearAlgebra\\src\\hessenberg.jl:106\n",
       "[117] +(A::LinearAlgebra.Tridiagonal{var\"#s826\",V} where V<:AbstractArray{var\"#s826\",1} where var\"#s826\"<:Number, B::LinearAlgebra.UniformScaling) in LinearAlgebra at C:\\Users\\HP\\AppData\\Local\\Programs\\Julia 1.5.1\\share\\julia\\stdlib\\v1.5\\LinearAlgebra\\src\\special.jl:226\n",
       "[118] +(A::LinearAlgebra.SymTridiagonal{var\"#s826\",V} where V<:AbstractArray{var\"#s826\",1} where var\"#s826\"<:Number, B::LinearAlgebra.UniformScaling) in LinearAlgebra at C:\\Users\\HP\\AppData\\Local\\Programs\\Julia 1.5.1\\share\\julia\\stdlib\\v1.5\\LinearAlgebra\\src\\special.jl:231\n",
       "[119] +(A::LinearAlgebra.Bidiagonal{var\"#s826\",V} where V<:AbstractArray{var\"#s826\",1} where var\"#s826\"<:Number, B::LinearAlgebra.UniformScaling) in LinearAlgebra at C:\\Users\\HP\\AppData\\Local\\Programs\\Julia 1.5.1\\share\\julia\\stdlib\\v1.5\\LinearAlgebra\\src\\special.jl:236\n",
       "[120] +(A::LinearAlgebra.Diagonal{var\"#s826\",V} where V<:AbstractArray{var\"#s826\",1} where var\"#s826\"<:Number, B::LinearAlgebra.UniformScaling) in LinearAlgebra at C:\\Users\\HP\\AppData\\Local\\Programs\\Julia 1.5.1\\share\\julia\\stdlib\\v1.5\\LinearAlgebra\\src\\special.jl:241\n",
       "[121] +(A::SparseArrays.AbstractSparseMatrixCSC, J::LinearAlgebra.UniformScaling) in SparseArrays at C:\\Users\\HP\\AppData\\Local\\Programs\\Julia 1.5.1\\share\\julia\\stdlib\\v1.5\\SparseArrays\\src\\sparsematrix.jl:3641\n",
       "[122] +(a::StaticArrays.StaticArray{Tuple{N,M},T,2} where T where M where N, b::LinearAlgebra.UniformScaling) in StaticArrays at C:\\Users\\HP\\.julia\\packages\\StaticArrays\\l7lu2\\src\\linalg.jl:28\n",
       "[123] +(A::AbstractArray{T,2} where T, J::LinearAlgebra.UniformScaling) in LinearAlgebra at C:\\Users\\HP\\AppData\\Local\\Programs\\Julia 1.5.1\\share\\julia\\stdlib\\v1.5\\LinearAlgebra\\src\\uniformscaling.jl:180\n",
       "[124] +(A::LinearAlgebra.UpperHessenberg, B::LinearAlgebra.UpperHessenberg) in LinearAlgebra at C:\\Users\\HP\\AppData\\Local\\Programs\\Julia 1.5.1\\share\\julia\\stdlib\\v1.5\\LinearAlgebra\\src\\hessenberg.jl:101\n",
       "[125] +(A::LinearAlgebra.UpperTriangular, B::LinearAlgebra.Bidiagonal) in LinearAlgebra at C:\\Users\\HP\\AppData\\Local\\Programs\\Julia 1.5.1\\share\\julia\\stdlib\\v1.5\\LinearAlgebra\\src\\special.jl:86\n",
       "[126] +(A::LinearAlgebra.Bidiagonal, B::LinearAlgebra.UpperTriangular) in LinearAlgebra at C:\\Users\\HP\\AppData\\Local\\Programs\\Julia 1.5.1\\share\\julia\\stdlib\\v1.5\\LinearAlgebra\\src\\special.jl:94\n",
       "[127] +(A::LinearAlgebra.UnitUpperTriangular, B::LinearAlgebra.Bidiagonal) in LinearAlgebra at C:\\Users\\HP\\AppData\\Local\\Programs\\Julia 1.5.1\\share\\julia\\stdlib\\v1.5\\LinearAlgebra\\src\\special.jl:86\n",
       "[128] +(A::LinearAlgebra.Bidiagonal, B::LinearAlgebra.UnitUpperTriangular) in LinearAlgebra at C:\\Users\\HP\\AppData\\Local\\Programs\\Julia 1.5.1\\share\\julia\\stdlib\\v1.5\\LinearAlgebra\\src\\special.jl:94\n",
       "[129] +(A::LinearAlgebra.LowerTriangular, B::LinearAlgebra.Bidiagonal) in LinearAlgebra at C:\\Users\\HP\\AppData\\Local\\Programs\\Julia 1.5.1\\share\\julia\\stdlib\\v1.5\\LinearAlgebra\\src\\special.jl:86\n",
       "[130] +(A::LinearAlgebra.Bidiagonal, B::LinearAlgebra.LowerTriangular) in LinearAlgebra at C:\\Users\\HP\\AppData\\Local\\Programs\\Julia 1.5.1\\share\\julia\\stdlib\\v1.5\\LinearAlgebra\\src\\special.jl:94\n",
       "[131] +(A::LinearAlgebra.UnitLowerTriangular, B::LinearAlgebra.Bidiagonal) in LinearAlgebra at C:\\Users\\HP\\AppData\\Local\\Programs\\Julia 1.5.1\\share\\julia\\stdlib\\v1.5\\LinearAlgebra\\src\\special.jl:86\n",
       "[132] +(A::LinearAlgebra.Bidiagonal, B::LinearAlgebra.UnitLowerTriangular) in LinearAlgebra at C:\\Users\\HP\\AppData\\Local\\Programs\\Julia 1.5.1\\share\\julia\\stdlib\\v1.5\\LinearAlgebra\\src\\special.jl:94\n",
       "[133] +(A::LinearAlgebra.Bidiagonal, B::LinearAlgebra.Diagonal) in LinearAlgebra at C:\\Users\\HP\\AppData\\Local\\Programs\\Julia 1.5.1\\share\\julia\\stdlib\\v1.5\\LinearAlgebra\\src\\special.jl:115\n",
       "[134] +(A::LinearAlgebra.Diagonal, B::LinearAlgebra.Bidiagonal) in LinearAlgebra at C:\\Users\\HP\\AppData\\Local\\Programs\\Julia 1.5.1\\share\\julia\\stdlib\\v1.5\\LinearAlgebra\\src\\special.jl:125\n",
       "[135] +(A::LinearAlgebra.Diagonal, B::LinearAlgebra.SymTridiagonal) in LinearAlgebra at C:\\Users\\HP\\AppData\\Local\\Programs\\Julia 1.5.1\\share\\julia\\stdlib\\v1.5\\LinearAlgebra\\src\\special.jl:135\n",
       "[136] +(A::LinearAlgebra.SymTridiagonal, B::LinearAlgebra.Diagonal) in LinearAlgebra at C:\\Users\\HP\\AppData\\Local\\Programs\\Julia 1.5.1\\share\\julia\\stdlib\\v1.5\\LinearAlgebra\\src\\special.jl:145\n",
       "[137] +(A::LinearAlgebra.Tridiagonal, B::LinearAlgebra.SymTridiagonal) in LinearAlgebra at C:\\Users\\HP\\AppData\\Local\\Programs\\Julia 1.5.1\\share\\julia\\stdlib\\v1.5\\LinearAlgebra\\src\\special.jl:157\n",
       "[138] +(A::LinearAlgebra.SymTridiagonal, B::LinearAlgebra.Tridiagonal) in LinearAlgebra at C:\\Users\\HP\\AppData\\Local\\Programs\\Julia 1.5.1\\share\\julia\\stdlib\\v1.5\\LinearAlgebra\\src\\special.jl:159\n",
       "[139] +(A::LinearAlgebra.Diagonal, B::LinearAlgebra.Tridiagonal) in LinearAlgebra at C:\\Users\\HP\\AppData\\Local\\Programs\\Julia 1.5.1\\share\\julia\\stdlib\\v1.5\\LinearAlgebra\\src\\special.jl:163\n",
       "[140] +(A::LinearAlgebra.Tridiagonal, B::LinearAlgebra.Diagonal) in LinearAlgebra at C:\\Users\\HP\\AppData\\Local\\Programs\\Julia 1.5.1\\share\\julia\\stdlib\\v1.5\\LinearAlgebra\\src\\special.jl:173\n",
       "[141] +(A::LinearAlgebra.Bidiagonal, B::LinearAlgebra.Tridiagonal) in LinearAlgebra at C:\\Users\\HP\\AppData\\Local\\Programs\\Julia 1.5.1\\share\\julia\\stdlib\\v1.5\\LinearAlgebra\\src\\special.jl:183\n",
       "[142] +(A::LinearAlgebra.Tridiagonal, B::LinearAlgebra.Bidiagonal) in LinearAlgebra at C:\\Users\\HP\\AppData\\Local\\Programs\\Julia 1.5.1\\share\\julia\\stdlib\\v1.5\\LinearAlgebra\\src\\special.jl:193\n",
       "[143] +(A::LinearAlgebra.Bidiagonal, B::LinearAlgebra.SymTridiagonal) in LinearAlgebra at C:\\Users\\HP\\AppData\\Local\\Programs\\Julia 1.5.1\\share\\julia\\stdlib\\v1.5\\LinearAlgebra\\src\\special.jl:203\n",
       "[144] +(A::LinearAlgebra.SymTridiagonal, B::LinearAlgebra.Bidiagonal) in LinearAlgebra at C:\\Users\\HP\\AppData\\Local\\Programs\\Julia 1.5.1\\share\\julia\\stdlib\\v1.5\\LinearAlgebra\\src\\special.jl:213\n",
       "[145] +(A::SparseArrays.AbstractSparseMatrixCSC, B::SparseArrays.AbstractSparseMatrixCSC) in SparseArrays at C:\\Users\\HP\\AppData\\Local\\Programs\\Julia 1.5.1\\share\\julia\\stdlib\\v1.5\\SparseArrays\\src\\sparsematrix.jl:1679\n",
       "[146] +(A::SparseArrays.AbstractSparseMatrixCSC, B::Array) in SparseArrays at C:\\Users\\HP\\AppData\\Local\\Programs\\Julia 1.5.1\\share\\julia\\stdlib\\v1.5\\SparseArrays\\src\\sparsematrix.jl:1682\n",
       "[147] +(x::SparseArrays.AbstractSparseArray{Tv,Ti,1} where Ti where Tv, y::SparseArrays.AbstractSparseArray{Tv,Ti,1} where Ti where Tv) in SparseArrays at C:\\Users\\HP\\AppData\\Local\\Programs\\Julia 1.5.1\\share\\julia\\stdlib\\v1.5\\SparseArrays\\src\\sparsevector.jl:1302\n",
       "[148] +(A::SparseArrays.AbstractSparseArray{Tv,Ti,2} where Ti where Tv, B::LinearAlgebra.Hermitian{var\"#s826\",var\"#s825\"} where var\"#s825\"<:(SparseArrays.AbstractSparseArray{Tv,Ti,2} where Ti where Tv) where var\"#s826\") in SparseArrays at C:\\Users\\HP\\AppData\\Local\\Programs\\Julia 1.5.1\\share\\julia\\stdlib\\v1.5\\SparseArrays\\src\\linalg.jl:12\n",
       "[149] +(A::LinearAlgebra.Hermitian{var\"#s824\",var\"#s823\"} where var\"#s823\"<:(SparseArrays.AbstractSparseArray{Tv,Ti,2} where Ti where Tv) where var\"#s824\", B::SparseArrays.AbstractSparseArray{Tv,Ti,2} where Ti where Tv) in SparseArrays at C:\\Users\\HP\\AppData\\Local\\Programs\\Julia 1.5.1\\share\\julia\\stdlib\\v1.5\\SparseArrays\\src\\linalg.jl:13\n",
       "[150] +(A::SparseArrays.AbstractSparseArray{Tv,Ti,2} where Ti where Tv, B::LinearAlgebra.Hermitian) in SparseArrays at C:\\Users\\HP\\AppData\\Local\\Programs\\Julia 1.5.1\\share\\julia\\stdlib\\v1.5\\SparseArrays\\src\\linalg.jl:15\n",
       "[151] +(A::LinearAlgebra.Hermitian, B::SparseArrays.AbstractSparseArray{Tv,Ti,2} where Ti where Tv) in SparseArrays at C:\\Users\\HP\\AppData\\Local\\Programs\\Julia 1.5.1\\share\\julia\\stdlib\\v1.5\\SparseArrays\\src\\linalg.jl:16\n",
       "[152] +(A::SparseArrays.AbstractSparseArray{Tv,Ti,2} where Ti where Tv, B::LinearAlgebra.Symmetric{var\"#s826\",var\"#s825\"} where var\"#s825\"<:(SparseArrays.AbstractSparseArray{Tv,Ti,2} where Ti where Tv) where var\"#s826\") in SparseArrays at C:\\Users\\HP\\AppData\\Local\\Programs\\Julia 1.5.1\\share\\julia\\stdlib\\v1.5\\SparseArrays\\src\\linalg.jl:12\n",
       "[153] +(A::LinearAlgebra.Symmetric{var\"#s824\",var\"#s823\"} where var\"#s823\"<:(SparseArrays.AbstractSparseArray{Tv,Ti,2} where Ti where Tv) where var\"#s824\", B::SparseArrays.AbstractSparseArray{Tv,Ti,2} where Ti where Tv) in SparseArrays at C:\\Users\\HP\\AppData\\Local\\Programs\\Julia 1.5.1\\share\\julia\\stdlib\\v1.5\\SparseArrays\\src\\linalg.jl:13\n",
       "[154] +(A::SparseArrays.AbstractSparseArray{Tv,Ti,2} where Ti where Tv, B::LinearAlgebra.Symmetric) in SparseArrays at C:\\Users\\HP\\AppData\\Local\\Programs\\Julia 1.5.1\\share\\julia\\stdlib\\v1.5\\SparseArrays\\src\\linalg.jl:15\n",
       "[155] +(A::LinearAlgebra.Symmetric, B::SparseArrays.AbstractSparseArray{Tv,Ti,2} where Ti where Tv) in SparseArrays at C:\\Users\\HP\\AppData\\Local\\Programs\\Julia 1.5.1\\share\\julia\\stdlib\\v1.5\\SparseArrays\\src\\linalg.jl:16\n",
       "[156] +(A::LinearAlgebra.Symmetric{var\"#s826\",var\"#s825\"} where var\"#s825\"<:(SparseArrays.AbstractSparseArray{Tv,Ti,2} where Ti where Tv) where var\"#s826\", B::LinearAlgebra.Hermitian{var\"#s824\",var\"#s823\"} where var\"#s823\"<:(SparseArrays.AbstractSparseArray{Tv,Ti,2} where Ti where Tv) where var\"#s824\") in SparseArrays at C:\\Users\\HP\\AppData\\Local\\Programs\\Julia 1.5.1\\share\\julia\\stdlib\\v1.5\\SparseArrays\\src\\linalg.jl:21\n",
       "[157] +(A::LinearAlgebra.Hermitian{var\"#s822\",var\"#s821\"} where var\"#s821\"<:(SparseArrays.AbstractSparseArray{Tv,Ti,2} where Ti where Tv) where var\"#s822\", B::LinearAlgebra.Symmetric{var\"#s820\",var\"#s819\"} where var\"#s819\"<:(SparseArrays.AbstractSparseArray{Tv,Ti,2} where Ti where Tv) where var\"#s820\") in SparseArrays at C:\\Users\\HP\\AppData\\Local\\Programs\\Julia 1.5.1\\share\\julia\\stdlib\\v1.5\\SparseArrays\\src\\linalg.jl:22\n",
       "[158] +(a::StaticArrays.StaticArray, b::StaticArrays.StaticArray) in StaticArrays at C:\\Users\\HP\\.julia\\packages\\StaticArrays\\l7lu2\\src\\linalg.jl:11\n",
       "[159] +(a::StaticArrays.StaticArray, b::AbstractArray) in StaticArrays at C:\\Users\\HP\\.julia\\packages\\StaticArrays\\l7lu2\\src\\linalg.jl:13\n",
       "[160] +(a::StaticArrays.SHermitianCompact, b::Number) in StaticArrays at deprecated.jl:70\n",
       "[161] +(a::StaticArrays.StaticArray, b::Number) in StaticArrays at deprecated.jl:70\n",
       "[162] +(x::AbstractArray{var\"#s91\",N} where N where var\"#s91\"<:Number) in Base at abstractarraymath.jl:97\n",
       "[163] +(a::AbstractArray, b::StaticArrays.StaticArray) in StaticArrays at C:\\Users\\HP\\.julia\\packages\\StaticArrays\\l7lu2\\src\\linalg.jl:12\n",
       "[164] +(A::AbstractArray, B::AbstractArray) in Base at arraymath.jl:37\n",
       "[165] +(x::T, y::Integer) where T<:AbstractChar in Base at char.jl:223\n",
       "[166] +(index1::CartesianIndex{N}, index2::CartesianIndex{N}) where N in Base.IteratorsMD at multidimensional.jl:113\n",
       "[167] +(::Number, ::Missing) in Base at missing.jl:116\n",
       "[168] +(x::P, y::P) where P<:Dates.Period in Dates at C:\\Users\\HP\\AppData\\Local\\Programs\\Julia 1.5.1\\share\\julia\\stdlib\\v1.5\\Dates\\src\\periods.jl:78\n",
       "[169] +(x::Dates.Period, y::Dates.Period) in Dates at C:\\Users\\HP\\AppData\\Local\\Programs\\Julia 1.5.1\\share\\julia\\stdlib\\v1.5\\Dates\\src\\periods.jl:344\n",
       "[170] +(y::Dates.Period, x::Dates.CompoundPeriod) in Dates at C:\\Users\\HP\\AppData\\Local\\Programs\\Julia 1.5.1\\share\\julia\\stdlib\\v1.5\\Dates\\src\\periods.jl:346\n",
       "[171] +(x::Union{Dates.CompoundPeriod, Dates.Period}) in Dates at C:\\Users\\HP\\AppData\\Local\\Programs\\Julia 1.5.1\\share\\julia\\stdlib\\v1.5\\Dates\\src\\periods.jl:355\n",
       "[172] +(x::Dates.TimeType) in Dates at C:\\Users\\HP\\AppData\\Local\\Programs\\Julia 1.5.1\\share\\julia\\stdlib\\v1.5\\Dates\\src\\arithmetic.jl:8\n",
       "[173] +(a::Dates.TimeType, b::Dates.Period, c::Dates.Period) in Dates at C:\\Users\\HP\\AppData\\Local\\Programs\\Julia 1.5.1\\share\\julia\\stdlib\\v1.5\\Dates\\src\\periods.jl:366\n",
       "[174] +(a::Dates.TimeType, b::Dates.Period, c::Dates.Period, d::Dates.Period...) in Dates at C:\\Users\\HP\\AppData\\Local\\Programs\\Julia 1.5.1\\share\\julia\\stdlib\\v1.5\\Dates\\src\\periods.jl:367\n",
       "[175] +(x::Dates.TimeType, y::Dates.CompoundPeriod) in Dates at C:\\Users\\HP\\AppData\\Local\\Programs\\Julia 1.5.1\\share\\julia\\stdlib\\v1.5\\Dates\\src\\periods.jl:369\n",
       "[176] +(x::Dates.Instant) in Dates at C:\\Users\\HP\\AppData\\Local\\Programs\\Julia 1.5.1\\share\\julia\\stdlib\\v1.5\\Dates\\src\\arithmetic.jl:4\n",
       "[177] +(y::Dates.Period, x::Dates.TimeType) in Dates at C:\\Users\\HP\\AppData\\Local\\Programs\\Julia 1.5.1\\share\\julia\\stdlib\\v1.5\\Dates\\src\\arithmetic.jl:80\n",
       "[178] +(x::Dates.Period, r::AbstractRange{var\"#s826\"} where var\"#s826\"<:Dates.TimeType) in Dates at C:\\Users\\HP\\AppData\\Local\\Programs\\Julia 1.5.1\\share\\julia\\stdlib\\v1.5\\Dates\\src\\ranges.jl:58\n",
       "[179] +(x::AbstractArray{var\"#s826\",N} where N where var\"#s826\"<:Dates.TimeType, y::Union{Dates.CompoundPeriod, Dates.Period}) in Dates at C:\\Users\\HP\\AppData\\Local\\Programs\\Julia 1.5.1\\share\\julia\\stdlib\\v1.5\\Dates\\src\\deprecated.jl:6\n",
       "[180] +(y::Union{Dates.CompoundPeriod, Dates.Period}, x::AbstractArray{var\"#s826\",N} where N where var\"#s826\"<:Dates.TimeType) in Dates at C:\\Users\\HP\\AppData\\Local\\Programs\\Julia 1.5.1\\share\\julia\\stdlib\\v1.5\\Dates\\src\\deprecated.jl:14\n",
       "[181] +(y::Dates.TimeType, x::StridedArray{var\"#s826\", N} where N where var\"#s826\"<:Union{Dates.CompoundPeriod, Dates.Period}) in Dates at C:\\Users\\HP\\AppData\\Local\\Programs\\Julia 1.5.1\\share\\julia\\stdlib\\v1.5\\Dates\\src\\deprecated.jl:18\n",
       "[182] +(J::LinearAlgebra.UniformScaling, x::Number) in LinearAlgebra at C:\\Users\\HP\\AppData\\Local\\Programs\\Julia 1.5.1\\share\\julia\\stdlib\\v1.5\\LinearAlgebra\\src\\uniformscaling.jl:111\n",
       "[183] +(x::Number, J::LinearAlgebra.UniformScaling) in LinearAlgebra at C:\\Users\\HP\\AppData\\Local\\Programs\\Julia 1.5.1\\share\\julia\\stdlib\\v1.5\\LinearAlgebra\\src\\uniformscaling.jl:112\n",
       "[184] +(J1::LinearAlgebra.UniformScaling, J2::LinearAlgebra.UniformScaling) in LinearAlgebra at C:\\Users\\HP\\AppData\\Local\\Programs\\Julia 1.5.1\\share\\julia\\stdlib\\v1.5\\LinearAlgebra\\src\\uniformscaling.jl:116\n",
       "[185] +(J::LinearAlgebra.UniformScaling, B::BitArray{2}) in LinearAlgebra at C:\\Users\\HP\\AppData\\Local\\Programs\\Julia 1.5.1\\share\\julia\\stdlib\\v1.5\\LinearAlgebra\\src\\uniformscaling.jl:118\n",
       "[186] +(A::LinearAlgebra.UniformScaling, B::LinearAlgebra.Tridiagonal{var\"#s826\",V} where V<:AbstractArray{var\"#s826\",1} where var\"#s826\"<:Number) in LinearAlgebra at C:\\Users\\HP\\AppData\\Local\\Programs\\Julia 1.5.1\\share\\julia\\stdlib\\v1.5\\LinearAlgebra\\src\\special.jl:245\n",
       "[187] +(A::LinearAlgebra.UniformScaling, B::LinearAlgebra.SymTridiagonal{var\"#s826\",V} where V<:AbstractArray{var\"#s826\",1} where var\"#s826\"<:Number) in LinearAlgebra at C:\\Users\\HP\\AppData\\Local\\Programs\\Julia 1.5.1\\share\\julia\\stdlib\\v1.5\\LinearAlgebra\\src\\special.jl:250\n",
       "[188] +(A::LinearAlgebra.UniformScaling, B::LinearAlgebra.Bidiagonal{var\"#s826\",V} where V<:AbstractArray{var\"#s826\",1} where var\"#s826\"<:Number) in LinearAlgebra at C:\\Users\\HP\\AppData\\Local\\Programs\\Julia 1.5.1\\share\\julia\\stdlib\\v1.5\\LinearAlgebra\\src\\special.jl:255\n",
       "[189] +(A::LinearAlgebra.UniformScaling, B::LinearAlgebra.Diagonal{var\"#s826\",V} where V<:AbstractArray{var\"#s826\",1} where var\"#s826\"<:Number) in LinearAlgebra at C:\\Users\\HP\\AppData\\Local\\Programs\\Julia 1.5.1\\share\\julia\\stdlib\\v1.5\\LinearAlgebra\\src\\special.jl:260\n",
       "[190] +(a::LinearAlgebra.UniformScaling, b::StaticArrays.StaticArray{Tuple{N,M},T,2} where T where M where N) in StaticArrays at C:\\Users\\HP\\.julia\\packages\\StaticArrays\\l7lu2\\src\\linalg.jl:29\n",
       "[191] +(J::LinearAlgebra.UniformScaling, A::AbstractArray{T,2} where T) in LinearAlgebra at C:\\Users\\HP\\AppData\\Local\\Programs\\Julia 1.5.1\\share\\julia\\stdlib\\v1.5\\LinearAlgebra\\src\\uniformscaling.jl:119\n",
       "[192] +(F::LinearAlgebra.Hessenberg, J::LinearAlgebra.UniformScaling) in LinearAlgebra at C:\\Users\\HP\\AppData\\Local\\Programs\\Julia 1.5.1\\share\\julia\\stdlib\\v1.5\\LinearAlgebra\\src\\hessenberg.jl:559\n",
       "[193] +(J::LinearAlgebra.UniformScaling, F::LinearAlgebra.Hessenberg) in LinearAlgebra at C:\\Users\\HP\\AppData\\Local\\Programs\\Julia 1.5.1\\share\\julia\\stdlib\\v1.5\\LinearAlgebra\\src\\hessenberg.jl:560\n",
       "[194] +(a::Number, b::StaticArrays.SHermitianCompact) in StaticArrays at deprecated.jl:70\n",
       "[195] +(a::Number, b::StaticArrays.StaticArray) in StaticArrays at deprecated.jl:70\n",
       "[196] +(a::C, b::C) where C<:Union{LMS, XYZ} in Colors at C:\\Users\\HP\\.julia\\packages\\Colors\\kc2v8\\src\\algorithms.jl:4\n",
       "[197] +(a::Measures.Length{U,T} where T, b::Measures.Length{U,T} where T) where U in Measures at C:\\Users\\HP\\.julia\\packages\\Measures\\0Zkai\\src\\length.jl:28\n",
       "[198] +(a::Measures.Measure, b::Measures.Measure) in Measures at C:\\Users\\HP\\.julia\\packages\\Measures\\0Zkai\\src\\operations.jl:41\n",
       "[199] +(a::Tuple{Vararg{Measures.Measure,N}}, b::Tuple{Vararg{Measures.Measure,N}}) where N in Measures at C:\\Users\\HP\\.julia\\packages\\Measures\\0Zkai\\src\\point.jl:21\n",
       "[200] +(a::Tuple{Vararg{Measures.Measure,N}} where N, b::Tuple{Vararg{Measures.Measure,N}} where N) in Measures at C:\\Users\\HP\\.julia\\packages\\Measures\\0Zkai\\src\\point.jl:15\n",
       "[201] +(h::GeometryTypes.HyperRectangle{N,T}, move::GeometryTypes.Vec{N,T} where T) where {N, T} in GeometryTypes at C:\\Users\\HP\\.julia\\packages\\GeometryTypes\\gpBFp\\src\\hyperrectangles.jl:201\n",
       "[202] +(h::GeometryTypes.SimpleRectangle{T}, move::GeometryTypes.Vec{2,T} where T) where T in GeometryTypes at C:\\Users\\HP\\.julia\\packages\\GeometryTypes\\gpBFp\\src\\hyperrectangles.jl:208\n",
       "[203] +(h::GeometryBasics.HyperRectangle{N,T}, move::Number) where {N, T} in GeometryBasics at C:\\Users\\HP\\.julia\\packages\\GeometryBasics\\CMxB4\\src\\rectangles.jl:272\n",
       "[204] +(h::GeometryBasics.HyperRectangle{N,T}, move::StaticArrays.StaticArray{Tuple{N},T,1} where T) where {N, T} in GeometryBasics at C:\\Users\\HP\\.julia\\packages\\GeometryBasics\\CMxB4\\src\\rectangles.jl:279\n",
       "[205] +(bb1::Measures.BoundingBox, bb2::Measures.BoundingBox) in Plots at C:\\Users\\HP\\.julia\\packages\\Plots\\M1wcx\\src\\layouts.jl:47\n",
       "[206] +(l1::Lazy.List, ls::Lazy.List...) in Lazy at C:\\Users\\HP\\.julia\\packages\\Lazy\\mAoZN\\src\\Lazy.jl:20\n",
       "[207] +(a, b, c, xs...) in Base at operators.jl:538"
      ]
     },
     "execution_count": 16,
     "metadata": {},
     "output_type": "execute_result"
    }
   ],
   "source": [
    "methods(+)"
   ]
  },
  {
   "cell_type": "code",
   "execution_count": 17,
   "metadata": {},
   "outputs": [
    {
     "data": {
      "text/html": [
       "+(x::<b>T</b>, y::<b>T</b>)<i> where T<:Union{Int128, Int16, Int32, Int64, Int8, UInt128, UInt16, UInt32, UInt64, UInt8}</i> in Base at <a href=\"https://github.com/JuliaLang/julia/tree/697e782ab86bfcdd7fd15550241fe162c51d9f98/base/int.jl#L86\" target=\"_blank\">int.jl:86</a>"
      ],
      "text/plain": [
       "+(x::T, y::T) where T<:Union{Int128, Int16, Int32, Int64, Int8, UInt128, UInt16, UInt32, UInt64, UInt8} in Base at int.jl:86"
      ]
     },
     "execution_count": 17,
     "metadata": {},
     "output_type": "execute_result"
    }
   ],
   "source": [
    "@which 3 + 3"
   ]
  },
  {
   "cell_type": "code",
   "execution_count": 18,
   "metadata": {},
   "outputs": [
    {
     "data": {
      "text/html": [
       "+(x::<b>Float64</b>, y::<b>Float64</b>) in Base at <a href=\"https://github.com/JuliaLang/julia/tree/697e782ab86bfcdd7fd15550241fe162c51d9f98/base/float.jl#L401\" target=\"_blank\">float.jl:401</a>"
      ],
      "text/plain": [
       "+(x::Float64, y::Float64) in Base at float.jl:401"
      ]
     },
     "execution_count": 18,
     "metadata": {},
     "output_type": "execute_result"
    }
   ],
   "source": [
    "@which 3.0 + 3.0"
   ]
  },
  {
   "cell_type": "code",
   "execution_count": 19,
   "metadata": {},
   "outputs": [
    {
     "data": {
      "text/html": [
       "+(x::<b>Number</b>, y::<b>Number</b>) in Base at <a href=\"https://github.com/JuliaLang/julia/tree/697e782ab86bfcdd7fd15550241fe162c51d9f98/base/promotion.jl#L311\" target=\"_blank\">promotion.jl:311</a>"
      ],
      "text/plain": [
       "+(x::Number, y::Number) in Base at promotion.jl:311"
      ]
     },
     "execution_count": 19,
     "metadata": {},
     "output_type": "execute_result"
    }
   ],
   "source": [
    "@which 3 + 3.0"
   ]
  },
  {
   "cell_type": "code",
   "execution_count": 21,
   "metadata": {},
   "outputs": [
    {
     "data": {
      "text/html": [
       "*(s1::<b>Union{AbstractChar, AbstractString}</b>, ss::<b>Union{AbstractChar, AbstractString}...</b>) in Base at <a href=\"https://github.com/JuliaLang/julia/tree/697e782ab86bfcdd7fd15550241fe162c51d9f98/base/strings/basic.jl#L251\" target=\"_blank\">strings/basic.jl:251</a>"
      ],
      "text/plain": [
       "*(s1::Union{AbstractChar, AbstractString}, ss::Union{AbstractChar, AbstractString}...) in Base at strings/basic.jl:251"
      ]
     },
     "execution_count": 21,
     "metadata": {},
     "output_type": "execute_result"
    }
   ],
   "source": [
    "@which \"Hello\" * \"World\""
   ]
  },
  {
   "cell_type": "code",
   "execution_count": 22,
   "metadata": {},
   "outputs": [
    {
     "data": {
      "text/html": [
       "*(x::<b>T</b>, y::<b>T</b>)<i> where T<:Union{Int128, Int16, Int32, Int64, Int8, UInt128, UInt16, UInt32, UInt64, UInt8}</i> in Base at <a href=\"https://github.com/JuliaLang/julia/tree/697e782ab86bfcdd7fd15550241fe162c51d9f98/base/int.jl#L87\" target=\"_blank\">int.jl:87</a>"
      ],
      "text/plain": [
       "*(x::T, y::T) where T<:Union{Int128, Int16, Int32, Int64, Int8, UInt128, UInt16, UInt32, UInt64, UInt8} in Base at int.jl:87"
      ]
     },
     "execution_count": 22,
     "metadata": {},
     "output_type": "execute_result"
    }
   ],
   "source": [
    "@which 3*3"
   ]
  },
  {
   "cell_type": "code",
   "execution_count": 23,
   "metadata": {},
   "outputs": [],
   "source": [
    "import Base: +"
   ]
  },
  {
   "cell_type": "code",
   "execution_count": 24,
   "metadata": {},
   "outputs": [
    {
     "data": {
      "text/plain": [
       "+ (generic function with 208 methods)"
      ]
     },
     "execution_count": 24,
     "metadata": {},
     "output_type": "execute_result"
    }
   ],
   "source": [
    "+(x::String, y::String) = string(x, y)"
   ]
  },
  {
   "cell_type": "code",
   "execution_count": 25,
   "metadata": {},
   "outputs": [
    {
     "data": {
      "text/plain": [
       "\"hello world\""
      ]
     },
     "execution_count": 25,
     "metadata": {},
     "output_type": "execute_result"
    }
   ],
   "source": [
    "\"hello \" + \"world\""
   ]
  },
  {
   "cell_type": "code",
   "execution_count": 26,
   "metadata": {},
   "outputs": [
    {
     "data": {
      "text/html": [
       "+(x::<b>String</b>, y::<b>String</b>) in Main at In[24]:1"
      ],
      "text/plain": [
       "+(x::String, y::String) in Main at In[24]:1"
      ]
     },
     "execution_count": 26,
     "metadata": {},
     "output_type": "execute_result"
    }
   ],
   "source": [
    "@which \"hello \" + \"world\""
   ]
  },
  {
   "cell_type": "code",
   "execution_count": 32,
   "metadata": {},
   "outputs": [
    {
     "data": {
      "text/plain": [
       "foo (generic function with 4 methods)"
      ]
     },
     "execution_count": 32,
     "metadata": {},
     "output_type": "execute_result"
    }
   ],
   "source": [
    "foo(x, y) = println(\"duck-typed foo\")\n",
    "foo(x::Int64, y::Float64) = print(\"with int and float\")\n",
    "foo(x::Int64, y::Int64) = print(\"both ints\")\n",
    "foo(x::Float64, y::Float64) = print(\"both floats\")"
   ]
  },
  {
   "cell_type": "code",
   "execution_count": 28,
   "metadata": {},
   "outputs": [
    {
     "name": "stdout",
     "output_type": "stream",
     "text": [
      "both ints"
     ]
    }
   ],
   "source": [
    "foo(1, 1)"
   ]
  },
  {
   "cell_type": "code",
   "execution_count": 29,
   "metadata": {},
   "outputs": [
    {
     "name": "stdout",
     "output_type": "stream",
     "text": [
      "both floats"
     ]
    }
   ],
   "source": [
    "foo(1.0, 1.0)"
   ]
  },
  {
   "cell_type": "code",
   "execution_count": 30,
   "metadata": {},
   "outputs": [
    {
     "name": "stdout",
     "output_type": "stream",
     "text": [
      "with int and float"
     ]
    }
   ],
   "source": [
    "foo(1, 1.0)"
   ]
  },
  {
   "cell_type": "code",
   "execution_count": 33,
   "metadata": {},
   "outputs": [
    {
     "name": "stdout",
     "output_type": "stream",
     "text": [
      "duck-typed foo\n"
     ]
    }
   ],
   "source": [
    "foo(true, false)"
   ]
  },
  {
   "cell_type": "code",
   "execution_count": 39,
   "metadata": {},
   "outputs": [
    {
     "data": {
      "text/plain": [
       "a (generic function with 1 method)"
      ]
     },
     "execution_count": 39,
     "metadata": {},
     "output_type": "execute_result"
    }
   ],
   "source": [
    "a(x::Int64, y::Int64) = x + y"
   ]
  },
  {
   "cell_type": "markdown",
   "metadata": {},
   "source": [
    "## Basic Linear Algebra"
   ]
  },
  {
   "cell_type": "code",
   "execution_count": 42,
   "metadata": {},
   "outputs": [
    {
     "data": {
      "text/plain": [
       "3×3 Array{Int64,2}:\n",
       " 1  3  2\n",
       " 2  2  2\n",
       " 4  1  3"
      ]
     },
     "execution_count": 42,
     "metadata": {},
     "output_type": "execute_result"
    }
   ],
   "source": [
    "A = rand(1:4,3,3)"
   ]
  },
  {
   "cell_type": "code",
   "execution_count": 43,
   "metadata": {},
   "outputs": [
    {
     "data": {
      "text/plain": [
       "3×6 Array{Int64,2}:\n",
       " 1  3  2  1  3  2\n",
       " 2  2  2  2  2  2\n",
       " 4  1  3  4  1  3"
      ]
     },
     "execution_count": 43,
     "metadata": {},
     "output_type": "execute_result"
    }
   ],
   "source": [
    "B = A\n",
    "C = copy(A)\n",
    "[B C]"
   ]
  },
  {
   "cell_type": "code",
   "execution_count": 44,
   "metadata": {},
   "outputs": [
    {
     "data": {
      "text/plain": [
       "3×6 Array{Int64,2}:\n",
       " 17  3  2  1  3  2\n",
       "  2  2  2  2  2  2\n",
       "  4  1  3  4  1  3"
      ]
     },
     "execution_count": 44,
     "metadata": {},
     "output_type": "execute_result"
    }
   ],
   "source": [
    "A[1] = 17\n",
    "[B C]"
   ]
  },
  {
   "cell_type": "code",
   "execution_count": 45,
   "metadata": {},
   "outputs": [
    {
     "data": {
      "text/plain": [
       "3-element Array{Float64,1}:\n",
       " 1.0\n",
       " 1.0\n",
       " 1.0"
      ]
     },
     "execution_count": 45,
     "metadata": {},
     "output_type": "execute_result"
    }
   ],
   "source": [
    "x = ones(3)"
   ]
  },
  {
   "cell_type": "code",
   "execution_count": 46,
   "metadata": {},
   "outputs": [
    {
     "data": {
      "text/plain": [
       "3-element Array{Float64,1}:\n",
       " 22.0\n",
       "  6.0\n",
       "  8.0"
      ]
     },
     "execution_count": 46,
     "metadata": {},
     "output_type": "execute_result"
    }
   ],
   "source": [
    "b = A*x"
   ]
  },
  {
   "cell_type": "code",
   "execution_count": 47,
   "metadata": {},
   "outputs": [
    {
     "data": {
      "text/plain": [
       "3×3 Array{Int64,2}:\n",
       " 34  5  6\n",
       "  5  4  3\n",
       "  6  3  6"
      ]
     },
     "execution_count": 47,
     "metadata": {},
     "output_type": "execute_result"
    }
   ],
   "source": [
    "Asym = A + A'"
   ]
  },
  {
   "cell_type": "markdown",
   "metadata": {},
   "source": [
    "`A'` -> Conjugate Transpose\n",
    "`A.'` -> Transpose"
   ]
  },
  {
   "cell_type": "code",
   "execution_count": 48,
   "metadata": {},
   "outputs": [
    {
     "data": {
      "text/plain": [
       "3×3 Array{Int64,2}:\n",
       " 309  59  50\n",
       "  59  14  13\n",
       "  50  13  17"
      ]
     },
     "execution_count": 48,
     "metadata": {},
     "output_type": "execute_result"
    }
   ],
   "source": [
    "Apd = A'A # We donot need the * operatro here. Julia is able to infer this on its own"
   ]
  },
  {
   "cell_type": "code",
   "execution_count": 49,
   "metadata": {},
   "outputs": [
    {
     "data": {
      "text/plain": [
       "3×3 Array{Int64,2}:\n",
       " 309  59  50\n",
       "  59  14  13\n",
       "  50  13  17"
      ]
     },
     "execution_count": 49,
     "metadata": {},
     "output_type": "execute_result"
    }
   ],
   "source": [
    "Apd = A'A"
   ]
  },
  {
   "cell_type": "markdown",
   "metadata": {},
   "source": [
    "### Solving Linear Equations\n",
    "\n",
    "The problem `Ax = b` for square `A` is solved by the `\\` function"
   ]
  },
  {
   "cell_type": "code",
   "execution_count": 50,
   "metadata": {},
   "outputs": [
    {
     "data": {
      "text/plain": [
       "3-element Array{Float64,1}:\n",
       " 1.0\n",
       " 1.0\n",
       " 1.0"
      ]
     },
     "execution_count": 50,
     "metadata": {},
     "output_type": "execute_result"
    }
   ],
   "source": [
    "A\\b"
   ]
  },
  {
   "cell_type": "code",
   "execution_count": 51,
   "metadata": {},
   "outputs": [
    {
     "data": {
      "text/plain": [
       "3-element Array{Float64,1}:\n",
       " 22.0\n",
       "  6.0\n",
       "  8.0"
      ]
     },
     "execution_count": 51,
     "metadata": {},
     "output_type": "execute_result"
    }
   ],
   "source": []
  },
  {
   "cell_type": "markdown",
   "metadata": {},
   "source": [
    "#### Overdetermined systems\n",
    "\n",
    "When A is tall the \\ function calculates the least squares solution"
   ]
  },
  {
   "cell_type": "code",
   "execution_count": 52,
   "metadata": {},
   "outputs": [
    {
     "data": {
      "text/plain": [
       "3×2 Array{Int64,2}:\n",
       " 17  3\n",
       "  2  2\n",
       "  4  1"
      ]
     },
     "metadata": {},
     "output_type": "display_data"
    },
    {
     "data": {
      "text/plain": [
       "2-element Array{Float64,1}:\n",
       " 0.9207100591715979\n",
       " 2.262721893491124"
      ]
     },
     "execution_count": 52,
     "metadata": {},
     "output_type": "execute_result"
    }
   ],
   "source": [
    "# Keep all rows and only the first 2 columns of A\n",
    "Atall = A[:,1:2]\n",
    "display(Atall)\n",
    "Atall\\b"
   ]
  },
  {
   "cell_type": "markdown",
   "metadata": {},
   "source": [
    "The \\ function also works for rank deficient least squares problems. In this case, the least squares solution is not unique and Julia returns the answer with the smallest norm."
   ]
  },
  {
   "cell_type": "code",
   "execution_count": 53,
   "metadata": {},
   "outputs": [
    {
     "data": {
      "text/plain": [
       "3×3 Array{Float64,2}:\n",
       " -0.717471  1.04617   0.738313\n",
       "  0.66162   0.712994  0.318386\n",
       "  0.104007  0.367225  0.270643"
      ]
     },
     "execution_count": 53,
     "metadata": {},
     "output_type": "execute_result"
    }
   ],
   "source": [
    "A = randn(3, 3)"
   ]
  },
  {
   "cell_type": "code",
   "execution_count": 55,
   "metadata": {},
   "outputs": [
    {
     "data": {
      "text/plain": [
       "2-element Array{Float64,1}:\n",
       " -5.700361988499122\n",
       " -5.70036198849912"
      ]
     },
     "execution_count": 55,
     "metadata": {},
     "output_type": "execute_result"
    }
   ],
   "source": [
    "[A[:,1] A[:,1]]\\b"
   ]
  },
  {
   "cell_type": "markdown",
   "metadata": {},
   "source": [
    "#### Underdetermined systems"
   ]
  },
  {
   "cell_type": "markdown",
   "metadata": {},
   "source": [
    "when A is short the \\ function returns the minimum norm solution"
   ]
  },
  {
   "cell_type": "code",
   "execution_count": 56,
   "metadata": {},
   "outputs": [
    {
     "data": {
      "text/plain": [
       "2×3 Array{Float64,2}:\n",
       " -0.717471  1.04617   0.738313\n",
       "  0.66162   0.712994  0.318386"
      ]
     },
     "metadata": {},
     "output_type": "display_data"
    },
    {
     "data": {
      "text/plain": [
       "3-element Array{Float64,1}:\n",
       " -6.584744982151386\n",
       " 11.10090276152782\n",
       "  7.669054983099331"
      ]
     },
     "execution_count": 56,
     "metadata": {},
     "output_type": "execute_result"
    }
   ],
   "source": [
    "Ashort = A[1:2, :]\n",
    "display(Ashort)\n",
    "Ashort\\b[1:2]"
   ]
  }
 ],
 "metadata": {
  "kernelspec": {
   "display_name": "Julia 1.5.1",
   "language": "julia",
   "name": "julia-1.5"
  },
  "language_info": {
   "file_extension": ".jl",
   "mimetype": "application/julia",
   "name": "julia",
   "version": "1.5.1"
  }
 },
 "nbformat": 4,
 "nbformat_minor": 4
}
